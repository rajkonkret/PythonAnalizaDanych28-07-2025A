{
  "nbformat": 4,
  "nbformat_minor": 0,
  "metadata": {
    "colab": {
      "provenance": [],
      "authorship_tag": "ABX9TyOYUlsG77xMLzHrs3xT4WOf",
      "include_colab_link": true
    },
    "kernelspec": {
      "name": "python3",
      "display_name": "Python 3"
    },
    "language_info": {
      "name": "python"
    }
  },
  "cells": [
    {
      "cell_type": "markdown",
      "metadata": {
        "id": "view-in-github",
        "colab_type": "text"
      },
      "source": [
        "<a href=\"https://colab.research.google.com/github/rajkonkret/PythonAnalizaDanych28-07-2025A/blob/master/zad1_colab.ipynb\" target=\"_parent\"><img src=\"https://colab.research.google.com/assets/colab-badge.svg\" alt=\"Open In Colab\"/></a>"
      ]
    },
    {
      "cell_type": "markdown",
      "source": [
        "Początek programu **Pogrubiony tekst** \\\n",
        " <br>\n",
        "nowa linia\n",
        "# Nowa sekcja\n",
        "## Nowa sekcja\n"
      ],
      "metadata": {
        "id": "VRpMhmOUGY8H"
      }
    },
    {
      "cell_type": "code",
      "execution_count": 1,
      "metadata": {
        "id": "apnIcnPEDAMN",
        "colab": {
          "base_uri": "https://localhost:8080/"
        },
        "outputId": "d2bddf51-d917-4646-a73f-96f27c25b2d3"
      },
      "outputs": [
        {
          "output_type": "stream",
          "name": "stdout",
          "text": [
            "witaj w notatniku...\n"
          ]
        }
      ],
      "source": [
        "print(\"witaj w notatniku...\")"
      ]
    },
    {
      "cell_type": "code",
      "source": [
        "a=5\n",
        "b=6"
      ],
      "metadata": {
        "id": "Vxf-8gQXI_d8"
      },
      "execution_count": 2,
      "outputs": []
    },
    {
      "cell_type": "code",
      "source": [
        "a, b"
      ],
      "metadata": {
        "colab": {
          "base_uri": "https://localhost:8080/"
        },
        "id": "FAC5-4xRJEy0",
        "outputId": "b890881c-7fcf-4212-eaa5-66a3b65c220d"
      },
      "execution_count": 3,
      "outputs": [
        {
          "output_type": "execute_result",
          "data": {
            "text/plain": [
              "(5, 6)"
            ]
          },
          "metadata": {},
          "execution_count": 3
        }
      ]
    },
    {
      "cell_type": "code",
      "source": [
        "print(a, b)"
      ],
      "metadata": {
        "colab": {
          "base_uri": "https://localhost:8080/"
        },
        "id": "-v_1-h2OJNR9",
        "outputId": "ea568356-7693-4aa4-f407-18c1a77da828"
      },
      "execution_count": 4,
      "outputs": [
        {
          "output_type": "stream",
          "name": "stdout",
          "text": [
            "5 6\n"
          ]
        }
      ]
    },
    {
      "cell_type": "code",
      "source": [
        "c=9"
      ],
      "metadata": {
        "id": "seq_O5uCJR6N"
      },
      "execution_count": null,
      "outputs": []
    },
    {
      "cell_type": "markdown",
      "source": [
        "Celowo nie uruchamiam wiersza c=9 by wygenerować błąd"
      ],
      "metadata": {
        "id": "cuNN9zPFJZjd"
      }
    },
    {
      "cell_type": "code",
      "source": [
        "print(c)"
      ],
      "metadata": {
        "colab": {
          "base_uri": "https://localhost:8080/",
          "height": 141
        },
        "id": "bXv1h5amJTCV",
        "outputId": "85a44dae-6db8-4f49-f20f-f81c76618ae4"
      },
      "execution_count": 5,
      "outputs": [
        {
          "output_type": "error",
          "ename": "NameError",
          "evalue": "name 'c' is not defined",
          "traceback": [
            "\u001b[0;31m---------------------------------------------------------------------------\u001b[0m",
            "\u001b[0;31mNameError\u001b[0m                                 Traceback (most recent call last)",
            "\u001b[0;32m/tmp/ipython-input-5-2743823995.py\u001b[0m in \u001b[0;36m<cell line: 0>\u001b[0;34m()\u001b[0m\n\u001b[0;32m----> 1\u001b[0;31m \u001b[0mprint\u001b[0m\u001b[0;34m(\u001b[0m\u001b[0mc\u001b[0m\u001b[0;34m)\u001b[0m\u001b[0;34m\u001b[0m\u001b[0;34m\u001b[0m\u001b[0m\n\u001b[0m",
            "\u001b[0;31mNameError\u001b[0m: name 'c' is not defined"
          ]
        }
      ]
    },
    {
      "cell_type": "markdown",
      "source": [
        "# Biblioteka Numpy\n",
        "Napisana w C do szybkich operacji na danych tablicowych\n",
        "Podstawowy element: ndarray"
      ],
      "metadata": {
        "id": "VuTBWMT8KeZk"
      }
    },
    {
      "cell_type": "code",
      "source": [
        "!pip install numpy\n",
        "# !pip install numpy==2.2.0"
      ],
      "metadata": {
        "colab": {
          "base_uri": "https://localhost:8080/"
        },
        "id": "4P4gXJ81LRwB",
        "outputId": "7c34fb34-58cf-4e36-973c-eb7ffedd9ab6"
      },
      "execution_count": 6,
      "outputs": [
        {
          "output_type": "stream",
          "name": "stdout",
          "text": [
            "Requirement already satisfied: numpy in /usr/local/lib/python3.11/dist-packages (2.0.2)\n"
          ]
        }
      ]
    },
    {
      "cell_type": "code",
      "source": [
        "import numpy as np"
      ],
      "metadata": {
        "id": "pNe7Gl09NCsa"
      },
      "execution_count": 7,
      "outputs": []
    },
    {
      "cell_type": "code",
      "source": [
        "lista = [2, 3, 4, 6, 8, 10]\n",
        "lista"
      ],
      "metadata": {
        "colab": {
          "base_uri": "https://localhost:8080/"
        },
        "id": "-rEgWFWmNTcz",
        "outputId": "6c933e7b-d4ec-4240-fe49-5d5e05a74ac0"
      },
      "execution_count": 8,
      "outputs": [
        {
          "output_type": "execute_result",
          "data": {
            "text/plain": [
              "[2, 3, 4, 6, 8, 10]"
            ]
          },
          "metadata": {},
          "execution_count": 8
        }
      ]
    },
    {
      "cell_type": "code",
      "source": [
        "a = np.array(lista)\n",
        "a"
      ],
      "metadata": {
        "colab": {
          "base_uri": "https://localhost:8080/"
        },
        "id": "OQAphvsYNdsU",
        "outputId": "6fdc6ede-ff76-4b78-a71e-33889ab18290"
      },
      "execution_count": 9,
      "outputs": [
        {
          "output_type": "execute_result",
          "data": {
            "text/plain": [
              "array([ 2,  3,  4,  6,  8, 10])"
            ]
          },
          "metadata": {},
          "execution_count": 9
        }
      ]
    },
    {
      "cell_type": "code",
      "source": [
        "print(a)"
      ],
      "metadata": {
        "colab": {
          "base_uri": "https://localhost:8080/"
        },
        "id": "A4s8hjK6NniN",
        "outputId": "58212926-be8a-4520-9002-fd867f990094"
      },
      "execution_count": 10,
      "outputs": [
        {
          "output_type": "stream",
          "name": "stdout",
          "text": [
            "[ 2  3  4  6  8 10]\n"
          ]
        }
      ]
    },
    {
      "cell_type": "code",
      "source": [
        "print(a.dtype)"
      ],
      "metadata": {
        "colab": {
          "base_uri": "https://localhost:8080/"
        },
        "id": "xaZfL1ieN0Fl",
        "outputId": "7714b7ed-8dc1-4f77-b6ae-b662cab93a56"
      },
      "execution_count": 12,
      "outputs": [
        {
          "output_type": "stream",
          "name": "stdout",
          "text": [
            "int64\n"
          ]
        }
      ]
    },
    {
      "cell_type": "code",
      "source": [
        "print(type(a))"
      ],
      "metadata": {
        "colab": {
          "base_uri": "https://localhost:8080/"
        },
        "id": "g9kk7cgCOuvC",
        "outputId": "1eef91bc-f584-4429-e40a-0be9973a7aa6"
      },
      "execution_count": 13,
      "outputs": [
        {
          "output_type": "stream",
          "name": "stdout",
          "text": [
            "<class 'numpy.ndarray'>\n"
          ]
        }
      ]
    },
    {
      "cell_type": "code",
      "source": [
        "print(a.shape)"
      ],
      "metadata": {
        "colab": {
          "base_uri": "https://localhost:8080/"
        },
        "id": "VChHJcdbOyL5",
        "outputId": "0a2e7130-8dec-4e52-e1ea-44ecfb4c3293"
      },
      "execution_count": 14,
      "outputs": [
        {
          "output_type": "stream",
          "name": "stdout",
          "text": [
            "(6,)\n"
          ]
        }
      ]
    },
    {
      "cell_type": "code",
      "source": [
        "p = np.zeros((3,3))\n",
        "p"
      ],
      "metadata": {
        "colab": {
          "base_uri": "https://localhost:8080/"
        },
        "id": "rfy6vdodPGeS",
        "outputId": "1e97af9f-2978-47ef-cbfe-d92c35110d48"
      },
      "execution_count": 16,
      "outputs": [
        {
          "output_type": "execute_result",
          "data": {
            "text/plain": [
              "array([[0., 0., 0.],\n",
              "       [0., 0., 0.],\n",
              "       [0., 0., 0.]])"
            ]
          },
          "metadata": {},
          "execution_count": 16
        }
      ]
    },
    {
      "cell_type": "code",
      "source": [
        "print(p.dtype)"
      ],
      "metadata": {
        "colab": {
          "base_uri": "https://localhost:8080/"
        },
        "id": "tlaiabQ0PWcj",
        "outputId": "095a6a49-4582-48d7-eb9c-91b3d8de053b"
      },
      "execution_count": 17,
      "outputs": [
        {
          "output_type": "stream",
          "name": "stdout",
          "text": [
            "float64\n"
          ]
        }
      ]
    },
    {
      "cell_type": "code",
      "source": [
        "q = np.ones((2,2))\n",
        "print(q)\n",
        "q.dtype"
      ],
      "metadata": {
        "colab": {
          "base_uri": "https://localhost:8080/"
        },
        "id": "NzXgr5C9PjuE",
        "outputId": "795debf1-a9a1-4165-f87e-85e5203cd698"
      },
      "execution_count": 19,
      "outputs": [
        {
          "output_type": "stream",
          "name": "stdout",
          "text": [
            "[[1. 1.]\n",
            " [1. 1.]]\n"
          ]
        },
        {
          "output_type": "execute_result",
          "data": {
            "text/plain": [
              "dtype('float64')"
            ]
          },
          "metadata": {},
          "execution_count": 19
        }
      ]
    },
    {
      "cell_type": "code",
      "source": [
        "r = np.full((2,2), 4.)\n",
        "print(r)\n",
        "print(r.dtype)"
      ],
      "metadata": {
        "colab": {
          "base_uri": "https://localhost:8080/"
        },
        "id": "N6Se9J4CQQPJ",
        "outputId": "e0f62afc-2fb3-4928-9684-f71ef7cdd194"
      },
      "execution_count": 21,
      "outputs": [
        {
          "output_type": "stream",
          "name": "stdout",
          "text": [
            "[[4. 4.]\n",
            " [4. 4.]]\n",
            "float64\n"
          ]
        }
      ]
    },
    {
      "cell_type": "code",
      "source": [
        "r = np.full((2,2), 4)\n",
        "print(r)\n",
        "print(r.dtype)"
      ],
      "metadata": {
        "colab": {
          "base_uri": "https://localhost:8080/"
        },
        "id": "RDVo2cj6Qevg",
        "outputId": "acda7842-603d-4395-b4c0-95fd27b304d0"
      },
      "execution_count": 22,
      "outputs": [
        {
          "output_type": "stream",
          "name": "stdout",
          "text": [
            "[[4 4]\n",
            " [4 4]]\n",
            "int64\n"
          ]
        }
      ]
    },
    {
      "cell_type": "code",
      "source": [
        "s = np.eye(4)\n",
        "print(s)\n",
        "print(s.dtype)"
      ],
      "metadata": {
        "colab": {
          "base_uri": "https://localhost:8080/"
        },
        "id": "jFoOLrU8Qloo",
        "outputId": "4f39de6e-2ee3-4279-8062-de3c63ea30f3"
      },
      "execution_count": 23,
      "outputs": [
        {
          "output_type": "stream",
          "name": "stdout",
          "text": [
            "[[1. 0. 0. 0.]\n",
            " [0. 1. 0. 0.]\n",
            " [0. 0. 1. 0.]\n",
            " [0. 0. 0. 1.]]\n",
            "float64\n"
          ]
        }
      ]
    },
    {
      "cell_type": "code",
      "source": [
        "t = np.random.random((3,3))\n",
        "print(t)\n",
        "print(t.dtype)"
      ],
      "metadata": {
        "colab": {
          "base_uri": "https://localhost:8080/"
        },
        "id": "HxEmLBZiRGli",
        "outputId": "1bdc1e08-b28b-4aef-b1c7-3b08ba10a17d"
      },
      "execution_count": 24,
      "outputs": [
        {
          "output_type": "stream",
          "name": "stdout",
          "text": [
            "[[0.51647585 0.54053196 0.30428362]\n",
            " [0.05629795 0.03438452 0.82724417]\n",
            " [0.0748482  0.86887027 0.30770933]]\n",
            "float64\n"
          ]
        }
      ]
    },
    {
      "cell_type": "code",
      "source": [
        "lista2 = [[5,6], [7,8]]\n",
        "b = np.array(lista2)\n",
        "print(lista2)\n",
        "print(b)"
      ],
      "metadata": {
        "colab": {
          "base_uri": "https://localhost:8080/"
        },
        "id": "Ri3YpQD7SIYF",
        "outputId": "1513730c-f022-420d-cbb4-b2abe2453b5a"
      },
      "execution_count": 25,
      "outputs": [
        {
          "output_type": "stream",
          "name": "stdout",
          "text": [
            "[[5, 6], [7, 8]]\n",
            "[[5 6]\n",
            " [7 8]]\n"
          ]
        }
      ]
    },
    {
      "cell_type": "markdown",
      "source": [
        "ravel() - spłaszczenie"
      ],
      "metadata": {
        "id": "jVczS1zYSzuO"
      }
    },
    {
      "cell_type": "code",
      "source": [
        "print(b.ravel())"
      ],
      "metadata": {
        "colab": {
          "base_uri": "https://localhost:8080/"
        },
        "id": "Bc1wxrghS2hf",
        "outputId": "471f62ed-fdb6-4d14-8388-8cd94d2bb7d4"
      },
      "execution_count": 26,
      "outputs": [
        {
          "output_type": "stream",
          "name": "stdout",
          "text": [
            "[5 6 7 8]\n"
          ]
        }
      ]
    },
    {
      "cell_type": "code",
      "source": [
        "print(b[0])"
      ],
      "metadata": {
        "colab": {
          "base_uri": "https://localhost:8080/"
        },
        "id": "dqkk_sx8TEBP",
        "outputId": "0b9034ee-4a72-40e8-9168-1d5081d3f89d"
      },
      "execution_count": 27,
      "outputs": [
        {
          "output_type": "stream",
          "name": "stdout",
          "text": [
            "[5 6]\n"
          ]
        }
      ]
    },
    {
      "cell_type": "code",
      "source": [
        "print(b[0,0])\n",
        "print(b[0,1])"
      ],
      "metadata": {
        "colab": {
          "base_uri": "https://localhost:8080/"
        },
        "id": "7T_8G9XGTSHA",
        "outputId": "377b0371-42e7-438d-b17b-2eebfc5b4e64"
      },
      "execution_count": 28,
      "outputs": [
        {
          "output_type": "stream",
          "name": "stdout",
          "text": [
            "5\n",
            "6\n"
          ]
        }
      ]
    },
    {
      "cell_type": "code",
      "source": [
        "print(np.float64(21))"
      ],
      "metadata": {
        "colab": {
          "base_uri": "https://localhost:8080/"
        },
        "id": "7UVeCeiqXhfL",
        "outputId": "c014ee10-3deb-4782-9477-c92535f367dc"
      },
      "execution_count": 30,
      "outputs": [
        {
          "output_type": "stream",
          "name": "stdout",
          "text": [
            "21.0\n"
          ]
        }
      ]
    },
    {
      "cell_type": "code",
      "source": [
        "print(np.int64(22.0))"
      ],
      "metadata": {
        "colab": {
          "base_uri": "https://localhost:8080/"
        },
        "id": "dVO6rgpnXn6K",
        "outputId": "09057d48-8f82-4c85-d055-47b9f1e5577b"
      },
      "execution_count": 31,
      "outputs": [
        {
          "output_type": "stream",
          "name": "stdout",
          "text": [
            "22\n"
          ]
        }
      ]
    },
    {
      "cell_type": "code",
      "source": [
        "print(np.float64(0.1) + np.float64(0.2))"
      ],
      "metadata": {
        "colab": {
          "base_uri": "https://localhost:8080/"
        },
        "id": "FBa53MCsXzpy",
        "outputId": "a5bd1ba7-06b6-43bc-cc98-4dabb6fe0716"
      },
      "execution_count": 32,
      "outputs": [
        {
          "output_type": "stream",
          "name": "stdout",
          "text": [
            "0.30000000000000004\n"
          ]
        }
      ]
    },
    {
      "cell_type": "code",
      "source": [
        "print(np.float32(0.1) + np.float32(0.2))"
      ],
      "metadata": {
        "colab": {
          "base_uri": "https://localhost:8080/"
        },
        "id": "Wk3M04o_Y3xl",
        "outputId": "d300b6f6-b151-48ba-cc60-cf1551a1e3bc"
      },
      "execution_count": 33,
      "outputs": [
        {
          "output_type": "stream",
          "name": "stdout",
          "text": [
            "0.3\n"
          ]
        }
      ]
    },
    {
      "cell_type": "code",
      "source": [
        "print(np.bool(21))"
      ],
      "metadata": {
        "colab": {
          "base_uri": "https://localhost:8080/"
        },
        "id": "m0BcPw5VZhmO",
        "outputId": "df2c4b26-2158-4ab1-9eea-eab34489f3a5"
      },
      "execution_count": 34,
      "outputs": [
        {
          "output_type": "stream",
          "name": "stdout",
          "text": [
            "True\n"
          ]
        }
      ]
    },
    {
      "cell_type": "code",
      "source": [
        "print(np.float64(True))"
      ],
      "metadata": {
        "colab": {
          "base_uri": "https://localhost:8080/"
        },
        "id": "mElM0ozVZ1I-",
        "outputId": "d6656985-a41a-4014-81e5-58fd043f5ff8"
      },
      "execution_count": 35,
      "outputs": [
        {
          "output_type": "stream",
          "name": "stdout",
          "text": [
            "1.0\n"
          ]
        }
      ]
    },
    {
      "cell_type": "code",
      "source": [
        "arr = np.arange(1, 11, dtype=np.float64)\n",
        "arr"
      ],
      "metadata": {
        "colab": {
          "base_uri": "https://localhost:8080/"
        },
        "id": "PsloEkTdaLnO",
        "outputId": "83f1e836-e1db-48db-bb70-39e4e864e490"
      },
      "execution_count": 36,
      "outputs": [
        {
          "output_type": "execute_result",
          "data": {
            "text/plain": [
              "array([ 1.,  2.,  3.,  4.,  5.,  6.,  7.,  8.,  9., 10.])"
            ]
          },
          "metadata": {},
          "execution_count": 36
        }
      ]
    },
    {
      "cell_type": "code",
      "source": [
        "print(arr.dtype)"
      ],
      "metadata": {
        "colab": {
          "base_uri": "https://localhost:8080/"
        },
        "id": "MPP4LNfHapI_",
        "outputId": "85d8d475-8921-47cd-8f03-a611d8ba40ba"
      },
      "execution_count": 37,
      "outputs": [
        {
          "output_type": "stream",
          "name": "stdout",
          "text": [
            "float64\n"
          ]
        }
      ]
    },
    {
      "cell_type": "markdown",
      "source": [
        "reshape() - zmiana kształtu"
      ],
      "metadata": {
        "id": "r_yRiYnsasyf"
      }
    },
    {
      "cell_type": "code",
      "source": [
        "arr = np.arange(12)\n",
        "arr"
      ],
      "metadata": {
        "colab": {
          "base_uri": "https://localhost:8080/"
        },
        "id": "3SEjnCRDa6QH",
        "outputId": "432245e6-a051-4750-dadc-78143a088fb6"
      },
      "execution_count": 38,
      "outputs": [
        {
          "output_type": "execute_result",
          "data": {
            "text/plain": [
              "array([ 0,  1,  2,  3,  4,  5,  6,  7,  8,  9, 10, 11])"
            ]
          },
          "metadata": {},
          "execution_count": 38
        }
      ]
    },
    {
      "cell_type": "code",
      "source": [
        "new_arr = arr.reshape(4,3)\n",
        "new_arr"
      ],
      "metadata": {
        "colab": {
          "base_uri": "https://localhost:8080/"
        },
        "id": "5IDq_2dubGIX",
        "outputId": "753dc2f1-cf07-476d-8608-93b4560fbff9"
      },
      "execution_count": 39,
      "outputs": [
        {
          "output_type": "execute_result",
          "data": {
            "text/plain": [
              "array([[ 0,  1,  2],\n",
              "       [ 3,  4,  5],\n",
              "       [ 6,  7,  8],\n",
              "       [ 9, 10, 11]])"
            ]
          },
          "metadata": {},
          "execution_count": 39
        }
      ]
    },
    {
      "cell_type": "code",
      "source": [
        "arr2 = np.arange(13)\n",
        "new_arr2 = arr2.reshape(4,3)\n",
        "new_arr2"
      ],
      "metadata": {
        "colab": {
          "base_uri": "https://localhost:8080/",
          "height": 176
        },
        "id": "gLCCecFGbdeI",
        "outputId": "96dec1ba-dea8-4458-a71b-a362872a87b1"
      },
      "execution_count": 40,
      "outputs": [
        {
          "output_type": "error",
          "ename": "ValueError",
          "evalue": "cannot reshape array of size 13 into shape (4,3)",
          "traceback": [
            "\u001b[0;31m---------------------------------------------------------------------------\u001b[0m",
            "\u001b[0;31mValueError\u001b[0m                                Traceback (most recent call last)",
            "\u001b[0;32m/tmp/ipython-input-40-2087782273.py\u001b[0m in \u001b[0;36m<cell line: 0>\u001b[0;34m()\u001b[0m\n\u001b[1;32m      1\u001b[0m \u001b[0marr2\u001b[0m \u001b[0;34m=\u001b[0m \u001b[0mnp\u001b[0m\u001b[0;34m.\u001b[0m\u001b[0marange\u001b[0m\u001b[0;34m(\u001b[0m\u001b[0;36m13\u001b[0m\u001b[0;34m)\u001b[0m\u001b[0;34m\u001b[0m\u001b[0;34m\u001b[0m\u001b[0m\n\u001b[0;32m----> 2\u001b[0;31m \u001b[0mnew_arr2\u001b[0m \u001b[0;34m=\u001b[0m \u001b[0marr2\u001b[0m\u001b[0;34m.\u001b[0m\u001b[0mreshape\u001b[0m\u001b[0;34m(\u001b[0m\u001b[0;36m4\u001b[0m\u001b[0;34m,\u001b[0m\u001b[0;36m3\u001b[0m\u001b[0;34m)\u001b[0m\u001b[0;34m\u001b[0m\u001b[0;34m\u001b[0m\u001b[0m\n\u001b[0m\u001b[1;32m      3\u001b[0m \u001b[0mnew_arr2\u001b[0m\u001b[0;34m\u001b[0m\u001b[0;34m\u001b[0m\u001b[0m\n",
            "\u001b[0;31mValueError\u001b[0m: cannot reshape array of size 13 into shape (4,3)"
          ]
        }
      ]
    },
    {
      "cell_type": "code",
      "source": [
        "new_arr  = arr.reshape(3,4)\n",
        "new_arr"
      ],
      "metadata": {
        "colab": {
          "base_uri": "https://localhost:8080/"
        },
        "id": "liN4dImLblrI",
        "outputId": "3d207ae3-9d02-49fb-e276-76f90d1bcb54"
      },
      "execution_count": 42,
      "outputs": [
        {
          "output_type": "execute_result",
          "data": {
            "text/plain": [
              "array([[ 0,  1,  2,  3],\n",
              "       [ 4,  5,  6,  7],\n",
              "       [ 8,  9, 10, 11]])"
            ]
          },
          "metadata": {},
          "execution_count": 42
        }
      ]
    },
    {
      "cell_type": "code",
      "source": [
        "new_arr = arr.reshape(3,3)\n",
        "new_arr"
      ],
      "metadata": {
        "colab": {
          "base_uri": "https://localhost:8080/",
          "height": 159
        },
        "id": "cSIy86QycXlb",
        "outputId": "eb5cbf8a-f55e-4110-ca17-c65e603a2710"
      },
      "execution_count": 43,
      "outputs": [
        {
          "output_type": "error",
          "ename": "ValueError",
          "evalue": "cannot reshape array of size 12 into shape (3,3)",
          "traceback": [
            "\u001b[0;31m---------------------------------------------------------------------------\u001b[0m",
            "\u001b[0;31mValueError\u001b[0m                                Traceback (most recent call last)",
            "\u001b[0;32m/tmp/ipython-input-43-80985250.py\u001b[0m in \u001b[0;36m<cell line: 0>\u001b[0;34m()\u001b[0m\n\u001b[0;32m----> 1\u001b[0;31m \u001b[0mnew_arr\u001b[0m \u001b[0;34m=\u001b[0m \u001b[0marr\u001b[0m\u001b[0;34m.\u001b[0m\u001b[0mreshape\u001b[0m\u001b[0;34m(\u001b[0m\u001b[0;36m3\u001b[0m\u001b[0;34m,\u001b[0m\u001b[0;36m3\u001b[0m\u001b[0;34m)\u001b[0m\u001b[0;34m\u001b[0m\u001b[0;34m\u001b[0m\u001b[0m\n\u001b[0m\u001b[1;32m      2\u001b[0m \u001b[0mnew_arr\u001b[0m\u001b[0;34m\u001b[0m\u001b[0;34m\u001b[0m\u001b[0m\n",
            "\u001b[0;31mValueError\u001b[0m: cannot reshape array of size 12 into shape (3,3)"
          ]
        }
      ]
    },
    {
      "cell_type": "code",
      "source": [
        "new_arr = arr.reshape(3, -1) # -1 - dopasuje wymiar automatycznie\n",
        "new_arr"
      ],
      "metadata": {
        "colab": {
          "base_uri": "https://localhost:8080/"
        },
        "id": "hUFmoQ2vceEh",
        "outputId": "5a23ed48-112c-4378-83f4-d0cffd761cb6"
      },
      "execution_count": 52,
      "outputs": [
        {
          "output_type": "execute_result",
          "data": {
            "text/plain": [
              "array([[ 0,  1,  2,  3],\n",
              "       [ 4,  5,  6,  7],\n",
              "       [ 8,  9, 10, 11]])"
            ]
          },
          "metadata": {},
          "execution_count": 52
        }
      ]
    },
    {
      "cell_type": "code",
      "source": [
        "new_arr = arr.reshape(-1,2,2)\n",
        "new_arr"
      ],
      "metadata": {
        "colab": {
          "base_uri": "https://localhost:8080/"
        },
        "id": "l0_BGTV3cqz5",
        "outputId": "06ea6909-b931-42c3-f217-d830cc293d90"
      },
      "execution_count": 47,
      "outputs": [
        {
          "output_type": "execute_result",
          "data": {
            "text/plain": [
              "array([[[ 0,  1],\n",
              "        [ 2,  3]],\n",
              "\n",
              "       [[ 4,  5],\n",
              "        [ 6,  7]],\n",
              "\n",
              "       [[ 8,  9],\n",
              "        [10, 11]]])"
            ]
          },
          "metadata": {},
          "execution_count": 47
        }
      ]
    },
    {
      "cell_type": "markdown",
      "source": [
        "ravel() - zwraca widok, operacja na nowym widoku \"tablicy\" wpływają na zmiany oryginalnej tablicy"
      ],
      "metadata": {
        "id": "IWi-_tvLdNdR"
      }
    },
    {
      "cell_type": "code",
      "source": [
        "print(new_arr.ravel())"
      ],
      "metadata": {
        "colab": {
          "base_uri": "https://localhost:8080/"
        },
        "id": "RO37BsH8dMYq",
        "outputId": "6efd5918-ec9d-4ac8-ffeb-b9feede5ea96"
      },
      "execution_count": 48,
      "outputs": [
        {
          "output_type": "stream",
          "name": "stdout",
          "text": [
            "[ 0  1  2  3  4  5  6  7  8  9 10 11]\n"
          ]
        }
      ]
    },
    {
      "cell_type": "markdown",
      "source": [
        "flatten() - spłaszcza, ale robi kopię\\\n",
        "zmiany nie wpływają na oryginalną tablicę"
      ],
      "metadata": {
        "id": "Bu1m3aH6eFkS"
      }
    },
    {
      "cell_type": "code",
      "source": [
        "print(new_arr.flatten())"
      ],
      "metadata": {
        "colab": {
          "base_uri": "https://localhost:8080/"
        },
        "id": "AHvh6L7wd5P6",
        "outputId": "276bf790-befa-4f11-e13a-b00e1482accd"
      },
      "execution_count": 49,
      "outputs": [
        {
          "output_type": "stream",
          "name": "stdout",
          "text": [
            "[ 0  1  2  3  4  5  6  7  8  9 10 11]\n"
          ]
        }
      ]
    },
    {
      "cell_type": "code",
      "source": [
        "flat = new_arr.flatten()\n",
        "rav = new_arr.ravel()"
      ],
      "metadata": {
        "id": "dFlO9UXxeVvr"
      },
      "execution_count": 54,
      "outputs": []
    },
    {
      "cell_type": "code",
      "source": [
        "flat[0] = 999\n",
        "rav[1] = 888"
      ],
      "metadata": {
        "id": "iUe39ncFeeWr"
      },
      "execution_count": 55,
      "outputs": []
    },
    {
      "cell_type": "code",
      "source": [
        "new_arr"
      ],
      "metadata": {
        "colab": {
          "base_uri": "https://localhost:8080/"
        },
        "id": "89D9V6Eaeily",
        "outputId": "10333754-fcbd-49c8-edd0-3c4ec70b1953"
      },
      "execution_count": 56,
      "outputs": [
        {
          "output_type": "execute_result",
          "data": {
            "text/plain": [
              "array([[  0, 888,   2,   3],\n",
              "       [  4,   5,   6,   7],\n",
              "       [  8,   9,  10,  11]])"
            ]
          },
          "metadata": {},
          "execution_count": 56
        }
      ]
    },
    {
      "cell_type": "markdown",
      "source": [
        "transpose() - zamienia osie"
      ],
      "metadata": {
        "id": "RfWD0gSze9UL"
      }
    },
    {
      "cell_type": "code",
      "source": [
        "print(new_arr.transpose())"
      ],
      "metadata": {
        "colab": {
          "base_uri": "https://localhost:8080/"
        },
        "id": "1gpBXuLNfBMT",
        "outputId": "97d39545-a1c9-416f-89ed-c51d80a2fd1e"
      },
      "execution_count": 57,
      "outputs": [
        {
          "output_type": "stream",
          "name": "stdout",
          "text": [
            "[[  0   4   8]\n",
            " [888   5   9]\n",
            " [  2   6  10]\n",
            " [  3   7  11]]\n"
          ]
        }
      ]
    },
    {
      "cell_type": "markdown",
      "source": [
        "resize() - zmienia rozmiar tablicy\\\n",
        "zmienia oryginalna tablice (inplace)\\\n",
        "brakujące elementy wypełnia zerami"
      ],
      "metadata": {
        "id": "AnbHVPmQfUZr"
      }
    },
    {
      "cell_type": "code",
      "source": [
        "new_arr.resize(1,12)\n",
        "print(new_arr)"
      ],
      "metadata": {
        "colab": {
          "base_uri": "https://localhost:8080/"
        },
        "id": "qXD5bdtCfkfz",
        "outputId": "dc0323e7-90cf-4025-a76f-8e40c1afd72c"
      },
      "execution_count": 58,
      "outputs": [
        {
          "output_type": "stream",
          "name": "stdout",
          "text": [
            "[[  0 888   2   3   4   5   6   7   8   9  10  11]]\n"
          ]
        }
      ]
    },
    {
      "cell_type": "code",
      "source": [
        "arr1 = np.arange(1, 10).reshape(3, 3)\n",
        "print(arr1)"
      ],
      "metadata": {
        "colab": {
          "base_uri": "https://localhost:8080/"
        },
        "id": "nfoH4ASUf7Xs",
        "outputId": "508a1e9a-2acd-43db-9586-6d97ba023408"
      },
      "execution_count": 59,
      "outputs": [
        {
          "output_type": "stream",
          "name": "stdout",
          "text": [
            "[[1 2 3]\n",
            " [4 5 6]\n",
            " [7 8 9]]\n"
          ]
        }
      ]
    },
    {
      "cell_type": "code",
      "source": [
        "print(np.__version__)"
      ],
      "metadata": {
        "colab": {
          "base_uri": "https://localhost:8080/"
        },
        "id": "yAUYDZiTgKUk",
        "outputId": "589707b7-460d-4b3d-8609-708231bbdf86"
      },
      "execution_count": 60,
      "outputs": [
        {
          "output_type": "stream",
          "name": "stdout",
          "text": [
            "2.0.2\n"
          ]
        }
      ]
    },
    {
      "cell_type": "markdown",
      "source": [
        "broadcasting - wykonanie operacji na wszystkich elementach tablicy"
      ],
      "metadata": {
        "id": "zb_qO70kgfik"
      }
    },
    {
      "cell_type": "code",
      "source": [
        "lista1 = [1,2,3]\n",
        "print(2 * lista1)"
      ],
      "metadata": {
        "colab": {
          "base_uri": "https://localhost:8080/"
        },
        "id": "_CmiTi9jglc0",
        "outputId": "0e1e9d5d-aee5-4dab-c647-6d9558c8147a"
      },
      "execution_count": 61,
      "outputs": [
        {
          "output_type": "stream",
          "name": "stdout",
          "text": [
            "[1, 2, 3, 1, 2, 3]\n"
          ]
        }
      ]
    },
    {
      "cell_type": "code",
      "source": [
        "arr2 = 2 * arr1 # kazdy element listy zostanie przemnożony\n",
        "arr2"
      ],
      "metadata": {
        "colab": {
          "base_uri": "https://localhost:8080/"
        },
        "id": "2gh1dmXRg0UM",
        "outputId": "1726d45e-3816-45bc-cac9-3f04593fa0aa"
      },
      "execution_count": 62,
      "outputs": [
        {
          "output_type": "execute_result",
          "data": {
            "text/plain": [
              "array([[ 2,  4,  6],\n",
              "       [ 8, 10, 12],\n",
              "       [14, 16, 18]])"
            ]
          },
          "metadata": {},
          "execution_count": 62
        }
      ]
    },
    {
      "cell_type": "code",
      "source": [
        "arrx = arr1 + arr2\n",
        "arrx"
      ],
      "metadata": {
        "colab": {
          "base_uri": "https://localhost:8080/"
        },
        "id": "PVFj-6WZhHU0",
        "outputId": "697e01b9-5b53-4876-fdf2-0d4411dbf933"
      },
      "execution_count": 63,
      "outputs": [
        {
          "output_type": "execute_result",
          "data": {
            "text/plain": [
              "array([[ 3,  6,  9],\n",
              "       [12, 15, 18],\n",
              "       [21, 24, 27]])"
            ]
          },
          "metadata": {},
          "execution_count": 63
        }
      ]
    },
    {
      "cell_type": "markdown",
      "source": [
        "hstack() - skleja horyzontalnie"
      ],
      "metadata": {
        "id": "AcY5bfrThjEd"
      }
    },
    {
      "cell_type": "code",
      "source": [
        "arr3 = np.hstack((arr1, arr2))\n",
        "print(arr3)"
      ],
      "metadata": {
        "colab": {
          "base_uri": "https://localhost:8080/"
        },
        "id": "UVYK6Kr_hYV9",
        "outputId": "11a7b4f5-6cd1-44e8-ef75-8f6b48e51d40"
      },
      "execution_count": 64,
      "outputs": [
        {
          "output_type": "stream",
          "name": "stdout",
          "text": [
            "[[ 1  2  3  2  4  6]\n",
            " [ 4  5  6  8 10 12]\n",
            " [ 7  8  9 14 16 18]]\n"
          ]
        }
      ]
    },
    {
      "cell_type": "markdown",
      "source": [
        "vstack() - skleja pionowo"
      ],
      "metadata": {
        "id": "XT-bIVvGh7su"
      }
    },
    {
      "cell_type": "code",
      "source": [
        "arr4 = np.vstack((arr1, arr2))\n",
        "print(arr4)"
      ],
      "metadata": {
        "colab": {
          "base_uri": "https://localhost:8080/"
        },
        "id": "4Ewvq73yhv0V",
        "outputId": "da737fcf-0fe7-4f61-c3c7-1a0c1b63674c"
      },
      "execution_count": 66,
      "outputs": [
        {
          "output_type": "stream",
          "name": "stdout",
          "text": [
            "[[ 1  2  3]\n",
            " [ 4  5  6]\n",
            " [ 7  8  9]\n",
            " [ 2  4  6]\n",
            " [ 8 10 12]\n",
            " [14 16 18]]\n"
          ]
        }
      ]
    },
    {
      "cell_type": "markdown",
      "source": [
        "concatenate() - łączy we wskazenej osi"
      ],
      "metadata": {
        "id": "gf3S6Ln-iDTl"
      }
    },
    {
      "cell_type": "code",
      "source": [
        "arr5 = np.concatenate((arr1, arr2), axis=0)\n",
        "arr5"
      ],
      "metadata": {
        "colab": {
          "base_uri": "https://localhost:8080/"
        },
        "id": "LLoHnSoZiHIV",
        "outputId": "2810dd4e-2623-40cf-dc50-6b42550c4998"
      },
      "execution_count": 67,
      "outputs": [
        {
          "output_type": "execute_result",
          "data": {
            "text/plain": [
              "array([[ 1,  2,  3],\n",
              "       [ 4,  5,  6],\n",
              "       [ 7,  8,  9],\n",
              "       [ 2,  4,  6],\n",
              "       [ 8, 10, 12],\n",
              "       [14, 16, 18]])"
            ]
          },
          "metadata": {},
          "execution_count": 67
        }
      ]
    },
    {
      "cell_type": "code",
      "source": [
        "arr6 = np.concatenate((arr1, arr2), axis=1)\n",
        "arr6"
      ],
      "metadata": {
        "colab": {
          "base_uri": "https://localhost:8080/"
        },
        "id": "LsG2NiX6iO0W",
        "outputId": "f634995f-589b-4ccb-8501-ac5276b195a5"
      },
      "execution_count": 68,
      "outputs": [
        {
          "output_type": "execute_result",
          "data": {
            "text/plain": [
              "array([[ 1,  2,  3,  2,  4,  6],\n",
              "       [ 4,  5,  6,  8, 10, 12],\n",
              "       [ 7,  8,  9, 14, 16, 18]])"
            ]
          },
          "metadata": {},
          "execution_count": 68
        }
      ]
    },
    {
      "cell_type": "code",
      "source": [
        "arre1 = np.array([1,2,3])\n",
        "print(arre1)\n",
        "arre2 = np.array([4,5,6])\n",
        "print(arre2)"
      ],
      "metadata": {
        "colab": {
          "base_uri": "https://localhost:8080/"
        },
        "id": "FCocCW7piZP2",
        "outputId": "6e0c563d-60a4-47ca-9977-9d38e4bbe466"
      },
      "execution_count": 69,
      "outputs": [
        {
          "output_type": "stream",
          "name": "stdout",
          "text": [
            "[1 2 3]\n",
            "[4 5 6]\n"
          ]
        }
      ]
    },
    {
      "cell_type": "code",
      "source": [
        "np.concatenate((arre1, arre2), axis=0)"
      ],
      "metadata": {
        "colab": {
          "base_uri": "https://localhost:8080/"
        },
        "id": "qLZO9gDfipM-",
        "outputId": "3b181092-24ff-420c-8823-de752854e17f"
      },
      "execution_count": 71,
      "outputs": [
        {
          "output_type": "execute_result",
          "data": {
            "text/plain": [
              "array([1, 2, 3, 4, 5, 6])"
            ]
          },
          "metadata": {},
          "execution_count": 71
        }
      ]
    },
    {
      "cell_type": "code",
      "source": [
        "np.concatenate((arre1, arre2), axis=1)"
      ],
      "metadata": {
        "colab": {
          "base_uri": "https://localhost:8080/",
          "height": 141
        },
        "id": "BVre6rUbjBQm",
        "outputId": "17ae6e17-3353-4254-958a-c1a5fef26103"
      },
      "execution_count": 72,
      "outputs": [
        {
          "output_type": "error",
          "ename": "AxisError",
          "evalue": "axis 1 is out of bounds for array of dimension 1",
          "traceback": [
            "\u001b[0;31m---------------------------------------------------------------------------\u001b[0m",
            "\u001b[0;31mAxisError\u001b[0m                                 Traceback (most recent call last)",
            "\u001b[0;32m/tmp/ipython-input-72-2396421753.py\u001b[0m in \u001b[0;36m<cell line: 0>\u001b[0;34m()\u001b[0m\n\u001b[0;32m----> 1\u001b[0;31m \u001b[0mnp\u001b[0m\u001b[0;34m.\u001b[0m\u001b[0mconcatenate\u001b[0m\u001b[0;34m(\u001b[0m\u001b[0;34m(\u001b[0m\u001b[0marre1\u001b[0m\u001b[0;34m,\u001b[0m \u001b[0marre2\u001b[0m\u001b[0;34m)\u001b[0m\u001b[0;34m,\u001b[0m \u001b[0maxis\u001b[0m\u001b[0;34m=\u001b[0m\u001b[0;36m1\u001b[0m\u001b[0;34m)\u001b[0m\u001b[0;34m\u001b[0m\u001b[0;34m\u001b[0m\u001b[0m\n\u001b[0m",
            "\u001b[0;31mAxisError\u001b[0m: axis 1 is out of bounds for array of dimension 1"
          ]
        }
      ]
    },
    {
      "cell_type": "code",
      "source": [
        "print(arr1)\n",
        "print(arr2)"
      ],
      "metadata": {
        "colab": {
          "base_uri": "https://localhost:8080/"
        },
        "id": "JOukwVUUjXO-",
        "outputId": "6291f5ed-fe1e-4d05-93b6-91608c5889ea"
      },
      "execution_count": 73,
      "outputs": [
        {
          "output_type": "stream",
          "name": "stdout",
          "text": [
            "[[1 2 3]\n",
            " [4 5 6]\n",
            " [7 8 9]]\n",
            "[[ 2  4  6]\n",
            " [ 8 10 12]\n",
            " [14 16 18]]\n"
          ]
        }
      ]
    },
    {
      "cell_type": "markdown",
      "source": [
        "dstack() - łączy jako kolumny"
      ],
      "metadata": {
        "id": "U-AD1OrJjq5G"
      }
    },
    {
      "cell_type": "code",
      "source": [
        "arr7 = np.dstack((arr1, arr2))\n",
        "arr7"
      ],
      "metadata": {
        "colab": {
          "base_uri": "https://localhost:8080/"
        },
        "id": "JOQe8CVUjc72",
        "outputId": "828bceb5-36ee-468f-b0d4-9448fbfc75fa"
      },
      "execution_count": 75,
      "outputs": [
        {
          "output_type": "execute_result",
          "data": {
            "text/plain": [
              "array([[[ 1,  2],\n",
              "        [ 2,  4],\n",
              "        [ 3,  6]],\n",
              "\n",
              "       [[ 4,  8],\n",
              "        [ 5, 10],\n",
              "        [ 6, 12]],\n",
              "\n",
              "       [[ 7, 14],\n",
              "        [ 8, 16],\n",
              "        [ 9, 18]]])"
            ]
          },
          "metadata": {},
          "execution_count": 75
        }
      ]
    },
    {
      "cell_type": "code",
      "source": [
        "arr8 = np.arange(4,7)\n",
        "print(arr8)\n",
        "ar9 = 2 * arr8\n",
        "ar9"
      ],
      "metadata": {
        "colab": {
          "base_uri": "https://localhost:8080/"
        },
        "id": "ouoNQl3sj1du",
        "outputId": "fbb11d60-6799-4289-b693-3e786c2498d1"
      },
      "execution_count": 77,
      "outputs": [
        {
          "output_type": "stream",
          "name": "stdout",
          "text": [
            "[4 5 6]\n"
          ]
        },
        {
          "output_type": "execute_result",
          "data": {
            "text/plain": [
              "array([ 8, 10, 12])"
            ]
          },
          "metadata": {},
          "execution_count": 77
        }
      ]
    },
    {
      "cell_type": "code",
      "source": [
        "arr_col_stack = np.column_stack((arr8, ar9))\n",
        "print(arr_col_stack)"
      ],
      "metadata": {
        "colab": {
          "base_uri": "https://localhost:8080/"
        },
        "id": "XJCEJO_TkFmG",
        "outputId": "22a4a5dc-9cc2-46e1-ba3c-86ab241b62b0"
      },
      "execution_count": 78,
      "outputs": [
        {
          "output_type": "stream",
          "name": "stdout",
          "text": [
            "[[ 4  8]\n",
            " [ 5 10]\n",
            " [ 6 12]]\n"
          ]
        }
      ]
    },
    {
      "cell_type": "code",
      "source": [
        "arr_row_stack = np.row_stack((arr8, ar9))\n",
        "print(arr_row_stack)"
      ],
      "metadata": {
        "colab": {
          "base_uri": "https://localhost:8080/"
        },
        "id": "xMzL3VnPkSvu",
        "outputId": "54b43c4d-e1da-4be5-bb3f-60649ed1e09a"
      },
      "execution_count": 79,
      "outputs": [
        {
          "output_type": "stream",
          "name": "stdout",
          "text": [
            "[[ 4  5  6]\n",
            " [ 8 10 12]]\n"
          ]
        },
        {
          "output_type": "stream",
          "name": "stderr",
          "text": [
            "/tmp/ipython-input-79-2319927613.py:1: DeprecationWarning: `row_stack` alias is deprecated. Use `np.vstack` directly.\n",
            "  arr_row_stack = np.row_stack((arr8, ar9))\n"
          ]
        }
      ]
    },
    {
      "cell_type": "code",
      "source": [
        "arr10 = np.arange(1,10).reshape(3,3)\n",
        "print(arr10)"
      ],
      "metadata": {
        "colab": {
          "base_uri": "https://localhost:8080/"
        },
        "id": "PApnoesTlDp_",
        "outputId": "c6cbac04-2398-478f-dddf-9519295900c7"
      },
      "execution_count": 80,
      "outputs": [
        {
          "output_type": "stream",
          "name": "stdout",
          "text": [
            "[[1 2 3]\n",
            " [4 5 6]\n",
            " [7 8 9]]\n"
          ]
        }
      ]
    },
    {
      "cell_type": "code",
      "source": [
        "arr_spli = np.hsplit(arr10, 3)\n",
        "print(arr_spli)"
      ],
      "metadata": {
        "colab": {
          "base_uri": "https://localhost:8080/"
        },
        "id": "CiBiu_2JlMI_",
        "outputId": "37ccd615-54d6-4491-fa95-e75f95a0650f"
      },
      "execution_count": 81,
      "outputs": [
        {
          "output_type": "stream",
          "name": "stdout",
          "text": [
            "[array([[1],\n",
            "       [4],\n",
            "       [7]]), array([[2],\n",
            "       [5],\n",
            "       [8]]), array([[3],\n",
            "       [6],\n",
            "       [9]])]\n"
          ]
        }
      ]
    },
    {
      "cell_type": "code",
      "source": [
        "arr_v_split = np.vsplit(arr10, 3)\n",
        "print(arr_v_split)"
      ],
      "metadata": {
        "colab": {
          "base_uri": "https://localhost:8080/"
        },
        "id": "qjAqBoYClafv",
        "outputId": "bcf5a110-d23c-4b78-f663-57e65017e5dd"
      },
      "execution_count": 82,
      "outputs": [
        {
          "output_type": "stream",
          "name": "stdout",
          "text": [
            "[array([[1, 2, 3]]), array([[4, 5, 6]]), array([[7, 8, 9]])]\n"
          ]
        }
      ]
    },
    {
      "cell_type": "code",
      "source": [
        "arr11 = np.arange(1, 10).reshape(3,3)\n",
        "print(\"Tablica w typie integer:\", arr11.dtype)"
      ],
      "metadata": {
        "colab": {
          "base_uri": "https://localhost:8080/"
        },
        "id": "Ww3EOXA6lqTf",
        "outputId": "25e2a172-881e-4241-961b-3f0abea8dd82"
      },
      "execution_count": 84,
      "outputs": [
        {
          "output_type": "stream",
          "name": "stdout",
          "text": [
            "Tablica w typie integer: int64\n"
          ]
        }
      ]
    },
    {
      "cell_type": "code",
      "source": [
        "arr12 = arr11.astype(float)\n",
        "print(\"Zmieniony typ na:\", arr12.dtype)"
      ],
      "metadata": {
        "colab": {
          "base_uri": "https://localhost:8080/"
        },
        "id": "ntPavZ_ul9X3",
        "outputId": "7ab69d06-4d0d-4343-debe-13f5685fc708"
      },
      "execution_count": 85,
      "outputs": [
        {
          "output_type": "stream",
          "name": "stdout",
          "text": [
            "Zmieniony typ na: float64\n"
          ]
        }
      ]
    },
    {
      "cell_type": "code",
      "source": [
        "list1 = arr11.tolist()\n",
        "print(list1)\n",
        "print(type(list1))"
      ],
      "metadata": {
        "colab": {
          "base_uri": "https://localhost:8080/"
        },
        "id": "FS4DkipAmHtv",
        "outputId": "a5d086ad-e431-41aa-df76-f67cb752e7d5"
      },
      "execution_count": 86,
      "outputs": [
        {
          "output_type": "stream",
          "name": "stdout",
          "text": [
            "[[1, 2, 3], [4, 5, 6], [7, 8, 9]]\n",
            "<class 'list'>\n"
          ]
        }
      ]
    },
    {
      "cell_type": "code",
      "source": [
        "arr13 = np.arange(1,5).reshape(2,2)\n",
        "arr13"
      ],
      "metadata": {
        "colab": {
          "base_uri": "https://localhost:8080/"
        },
        "id": "2Ts1ldrTmtfv",
        "outputId": "4cf74d7c-0269-43cf-aaa2-5bc336c6d4b6"
      },
      "execution_count": 87,
      "outputs": [
        {
          "output_type": "execute_result",
          "data": {
            "text/plain": [
              "array([[1, 2],\n",
              "       [3, 4]])"
            ]
          },
          "metadata": {},
          "execution_count": 87
        }
      ]
    },
    {
      "cell_type": "code",
      "source": [
        "arr_copy = arr13.copy()\n",
        "arr_view = arr13.view()\n",
        "arr_no_copy = arr13"
      ],
      "metadata": {
        "id": "yuzdsmLmm4C3"
      },
      "execution_count": 88,
      "outputs": []
    },
    {
      "cell_type": "code",
      "source": [
        "print(\"Pierwotna tablica\", id(arr13))\n",
        "print(\"Kopia głeboka\", id(arr_copy))\n",
        "print(\"Kopia płytka\", id(arr_view))\n",
        "print(\"Referencja:\", id(arr_no_copy))"
      ],
      "metadata": {
        "colab": {
          "base_uri": "https://localhost:8080/"
        },
        "id": "tLIR0YQcnGAy",
        "outputId": "a76515e9-b343-477a-d44a-fd9c5d105c41"
      },
      "execution_count": 89,
      "outputs": [
        {
          "output_type": "stream",
          "name": "stdout",
          "text": [
            "Pierwotna tablica 137103599318864\n",
            "Kopia głeboka 137103605410928\n",
            "Kopia płytka 137103599317328\n",
            "Referencja: 137103599318864\n"
          ]
        }
      ]
    },
    {
      "cell_type": "code",
      "source": [
        "arr13[1] = [99, 100]"
      ],
      "metadata": {
        "id": "lL0ERlvlnzZg"
      },
      "execution_count": 91,
      "outputs": []
    },
    {
      "cell_type": "code",
      "source": [
        "print(\"widok:\", arr_view)"
      ],
      "metadata": {
        "colab": {
          "base_uri": "https://localhost:8080/"
        },
        "id": "p1Kdv0cvn3AQ",
        "outputId": "235a4913-3701-4cda-c95b-d2ea5711713d"
      },
      "execution_count": 92,
      "outputs": [
        {
          "output_type": "stream",
          "name": "stdout",
          "text": [
            "widok: [[  1   2]\n",
            " [ 99 100]]\n"
          ]
        }
      ]
    },
    {
      "cell_type": "code",
      "source": [
        "print(\"Kopia:\", arr_copy)"
      ],
      "metadata": {
        "colab": {
          "base_uri": "https://localhost:8080/"
        },
        "id": "Wws80ZCOn8KY",
        "outputId": "fd6575de-a116-49cf-8585-15cdc1085d28"
      },
      "execution_count": 93,
      "outputs": [
        {
          "output_type": "stream",
          "name": "stdout",
          "text": [
            "Kopia: [[1 2]\n",
            " [3 4]]\n"
          ]
        }
      ]
    },
    {
      "cell_type": "code",
      "source": [
        "arr14 = np.arange(0, 10)\n",
        "print(arr14)\n",
        "print(arr14[3:6])\n",
        "print(arr14[2:7:2]) # co drugi"
      ],
      "metadata": {
        "colab": {
          "base_uri": "https://localhost:8080/"
        },
        "id": "JgdurjEErVmQ",
        "outputId": "075906fa-0f04-443e-f887-7134471da407"
      },
      "execution_count": 94,
      "outputs": [
        {
          "output_type": "stream",
          "name": "stdout",
          "text": [
            "[0 1 2 3 4 5 6 7 8 9]\n",
            "[3 4 5]\n",
            "[2 4 6]\n"
          ]
        }
      ]
    },
    {
      "cell_type": "code",
      "source": [
        "arr15 = np.arange(21, 41, 2)\n",
        "print(arr15)"
      ],
      "metadata": {
        "colab": {
          "base_uri": "https://localhost:8080/"
        },
        "id": "d3nurg-9rpwR",
        "outputId": "3d602b64-58cb-41c2-da75-50a9a2829a76"
      },
      "execution_count": 95,
      "outputs": [
        {
          "output_type": "stream",
          "name": "stdout",
          "text": [
            "[21 23 25 27 29 31 33 35 37 39]\n"
          ]
        }
      ]
    },
    {
      "cell_type": "code",
      "source": [
        "print(arr15[arr15 > 30 ])"
      ],
      "metadata": {
        "colab": {
          "base_uri": "https://localhost:8080/"
        },
        "id": "FjM1iIporysq",
        "outputId": "5866e560-c53a-4cad-96d1-3e2d57c5c37d"
      },
      "execution_count": 97,
      "outputs": [
        {
          "output_type": "stream",
          "name": "stdout",
          "text": [
            "[31 33 35 37 39]\n"
          ]
        }
      ]
    },
    {
      "cell_type": "code",
      "source": [
        "arr16 = np.arange(1,21).reshape(5,4)\n",
        "print(arr16)"
      ],
      "metadata": {
        "colab": {
          "base_uri": "https://localhost:8080/"
        },
        "id": "rGlcY0cnr1iJ",
        "outputId": "37de54d1-83ff-4827-fd34-c39d720b5e8c"
      },
      "execution_count": 98,
      "outputs": [
        {
          "output_type": "stream",
          "name": "stdout",
          "text": [
            "[[ 1  2  3  4]\n",
            " [ 5  6  7  8]\n",
            " [ 9 10 11 12]\n",
            " [13 14 15 16]\n",
            " [17 18 19 20]]\n"
          ]
        }
      ]
    },
    {
      "cell_type": "code",
      "source": [
        "print(arr16[1:3, [1,2]])\n",
        "slicer = [1,2]\n",
        "# arr[col, row]"
      ],
      "metadata": {
        "colab": {
          "base_uri": "https://localhost:8080/"
        },
        "id": "NcKmvXfJsV9h",
        "outputId": "c2ac53c4-60cd-4244-9c50-7422e0df4e92"
      },
      "execution_count": 99,
      "outputs": [
        {
          "output_type": "stream",
          "name": "stdout",
          "text": [
            "[[ 6  7]\n",
            " [10 11]]\n"
          ]
        }
      ]
    },
    {
      "cell_type": "code",
      "source": [
        "arr17 = np.arange(1,5).reshape(2, 2)\n",
        "arr18 = np.arange(5,9).reshape(2, 2)\n",
        "print(arr17 + arr18)"
      ],
      "metadata": {
        "colab": {
          "base_uri": "https://localhost:8080/"
        },
        "id": "6TF678Brta4a",
        "outputId": "70b15cd4-699e-4746-da34-19b3eb2be181"
      },
      "execution_count": 100,
      "outputs": [
        {
          "output_type": "stream",
          "name": "stdout",
          "text": [
            "[[ 6  8]\n",
            " [10 12]]\n"
          ]
        }
      ]
    },
    {
      "cell_type": "markdown",
      "source": [
        "wczytanie csv"
      ],
      "metadata": {
        "id": "0XKQeNS9v_rI"
      }
    },
    {
      "cell_type": "code",
      "source": [
        "input_stock_price_array = np.genfromtxt(\n",
        "    '/content/AAPL_stock_price_example.csv',\n",
        "    delimiter=\",\", names=True, usecols=(1))"
      ],
      "metadata": {
        "id": "n3V8-0WiwReg"
      },
      "execution_count": 102,
      "outputs": []
    },
    {
      "cell_type": "code",
      "source": [
        "print(input_stock_price_array.size)"
      ],
      "metadata": {
        "colab": {
          "base_uri": "https://localhost:8080/"
        },
        "id": "zoFUVs2ev_P5",
        "outputId": "236f4098-7fc7-4ca2-fc50-ecba34eade56"
      },
      "execution_count": 103,
      "outputs": [
        {
          "output_type": "stream",
          "name": "stdout",
          "text": [
            "229\n"
          ]
        }
      ]
    },
    {
      "cell_type": "code",
      "source": [
        "print(input_stock_price_array[:5])"
      ],
      "metadata": {
        "colab": {
          "base_uri": "https://localhost:8080/"
        },
        "id": "wlOtkBlGxJ7p",
        "outputId": "e3d009d6-caa4-4e7b-8903-700cc7c6c66a"
      },
      "execution_count": 104,
      "outputs": [
        {
          "output_type": "stream",
          "name": "stdout",
          "text": [
            "[(157.919998,) (142.190002,) (148.259995,) (147.929993,) (150.75    ,)]\n"
          ]
        }
      ]
    },
    {
      "cell_type": "code",
      "source": [
        "sorted_stock_price = np.sort(input_stock_price_array)[::-1]\n",
        "print(sorted_stock_price[0])"
      ],
      "metadata": {
        "colab": {
          "base_uri": "https://localhost:8080/"
        },
        "id": "qCm-VrjNxln5",
        "outputId": "7486abbe-8170-4916-bfe0-8d5d72003a75"
      },
      "execution_count": 106,
      "outputs": [
        {
          "output_type": "stream",
          "name": "stdout",
          "text": [
            "(267.100006,)\n"
          ]
        }
      ]
    },
    {
      "cell_type": "code",
      "source": [
        "temp_array = []\n",
        "with open('/content/AAPL_stock_price_example.csv', \"r\") as input_file:\n",
        "    all_lines = input_file.readlines()\n",
        "    for each_line in all_lines:\n",
        "        for value_from_line in each_line.rsplit(',')[1:]:\n",
        "            clean_value = value_from_line.replace(\"\\n\", \"\")\n",
        "            temp_array.append(clean_value)"
      ],
      "metadata": {
        "id": "TDNe_8e3yL1h"
      },
      "execution_count": 107,
      "outputs": []
    },
    {
      "cell_type": "code",
      "source": [
        "print(temp_array[:5])"
      ],
      "metadata": {
        "colab": {
          "base_uri": "https://localhost:8080/"
        },
        "id": "Y9ChW3N-zCso",
        "outputId": "afbc869e-8a69-4db0-932f-8e06dd1a28a9"
      },
      "execution_count": 108,
      "outputs": [
        {
          "output_type": "stream",
          "name": "stdout",
          "text": [
            "['Close', '157.919998', '142.190002', '148.259995', '147.929993']\n"
          ]
        }
      ]
    },
    {
      "cell_type": "code",
      "source": [
        "print(len(temp_array))"
      ],
      "metadata": {
        "colab": {
          "base_uri": "https://localhost:8080/"
        },
        "id": "cOwVJCPEzKHJ",
        "outputId": "261aa5d5-6073-41b3-876a-316f0b363262"
      },
      "execution_count": 109,
      "outputs": [
        {
          "output_type": "stream",
          "name": "stdout",
          "text": [
            "230\n"
          ]
        }
      ]
    },
    {
      "cell_type": "code",
      "source": [
        "temp_array = np.delete(temp_array, 0)\n",
        "print(temp_array.size)"
      ],
      "metadata": {
        "colab": {
          "base_uri": "https://localhost:8080/"
        },
        "id": "A4zvQ-giz16p",
        "outputId": "af9c2306-5b45-4299-bc4e-dc5af1cf7d4b"
      },
      "execution_count": 110,
      "outputs": [
        {
          "output_type": "stream",
          "name": "stdout",
          "text": [
            "229\n"
          ]
        }
      ]
    },
    {
      "cell_type": "code",
      "source": [
        "print(temp_array.dtype)"
      ],
      "metadata": {
        "colab": {
          "base_uri": "https://localhost:8080/"
        },
        "id": "T8AWybMFz-px",
        "outputId": "f9a83e43-98c2-44ed-b37c-2f59d4c2be31"
      },
      "execution_count": 111,
      "outputs": [
        {
          "output_type": "stream",
          "name": "stdout",
          "text": [
            "<U10\n"
          ]
        }
      ]
    },
    {
      "cell_type": "markdown",
      "source": [
        "<U10 \\\n",
        "typ tekstowy"
      ],
      "metadata": {
        "id": "9hngdfZw0mB5"
      }
    },
    {
      "cell_type": "code",
      "source": [
        "input_stack_price = temp_array.astype(float)"
      ],
      "metadata": {
        "id": "K1rMvc_d0qbw"
      },
      "execution_count": 112,
      "outputs": []
    },
    {
      "cell_type": "code",
      "source": [
        "input_stack_price[:5]"
      ],
      "metadata": {
        "colab": {
          "base_uri": "https://localhost:8080/"
        },
        "id": "Zkb67JXK0wpI",
        "outputId": "63ed687f-d5ba-4a83-e0f0-7424a512d9f2"
      },
      "execution_count": 113,
      "outputs": [
        {
          "output_type": "execute_result",
          "data": {
            "text/plain": [
              "array([157.919998, 142.190002, 148.259995, 147.929993, 150.75    ])"
            ]
          },
          "metadata": {},
          "execution_count": 113
        }
      ]
    },
    {
      "cell_type": "code",
      "source": [
        "sorted_stock_price2 = np.sort(input_stack_price)[::-1]\n",
        "print(sorted_stock_price2[0])"
      ],
      "metadata": {
        "colab": {
          "base_uri": "https://localhost:8080/"
        },
        "id": "QE4_T3Ka08QL",
        "outputId": "dfb345a2-59de-41e2-eb37-a121704d4a6c"
      },
      "execution_count": 116,
      "outputs": [
        {
          "output_type": "stream",
          "name": "stdout",
          "text": [
            "267.100006\n"
          ]
        }
      ]
    },
    {
      "cell_type": "markdown",
      "source": [
        "# Pandas"
      ],
      "metadata": {
        "id": "1z85BMQI3b2i"
      }
    },
    {
      "cell_type": "code",
      "source": [
        "!pip install pandas"
      ],
      "metadata": {
        "colab": {
          "base_uri": "https://localhost:8080/"
        },
        "id": "3tX18sU13e4Y",
        "outputId": "e4a74369-33ba-4c97-978f-fb840fe8e54e"
      },
      "execution_count": 117,
      "outputs": [
        {
          "output_type": "stream",
          "name": "stdout",
          "text": [
            "Requirement already satisfied: pandas in /usr/local/lib/python3.11/dist-packages (2.2.2)\n",
            "Requirement already satisfied: numpy>=1.23.2 in /usr/local/lib/python3.11/dist-packages (from pandas) (2.0.2)\n",
            "Requirement already satisfied: python-dateutil>=2.8.2 in /usr/local/lib/python3.11/dist-packages (from pandas) (2.9.0.post0)\n",
            "Requirement already satisfied: pytz>=2020.1 in /usr/local/lib/python3.11/dist-packages (from pandas) (2025.2)\n",
            "Requirement already satisfied: tzdata>=2022.7 in /usr/local/lib/python3.11/dist-packages (from pandas) (2025.2)\n",
            "Requirement already satisfied: six>=1.5 in /usr/local/lib/python3.11/dist-packages (from python-dateutil>=2.8.2->pandas) (1.17.0)\n"
          ]
        }
      ]
    },
    {
      "cell_type": "markdown",
      "source": [
        "słownik"
      ],
      "metadata": {
        "id": "oZbc2HpQ4LFQ"
      }
    },
    {
      "cell_type": "code",
      "source": [
        "product_data ={\n",
        "    \"product a\": [13, 20,0,10],\n",
        "    \"product b\": [10, 30,17,10],\n",
        "    \"product c\": [6, 9,10,0],\n",
        "\n",
        "}"
      ],
      "metadata": {
        "id": "Zt8Za7Fh3mMg"
      },
      "execution_count": 119,
      "outputs": []
    },
    {
      "cell_type": "code",
      "source": [
        "print(product_data)"
      ],
      "metadata": {
        "colab": {
          "base_uri": "https://localhost:8080/"
        },
        "id": "2JeDbw-j4CqX",
        "outputId": "c494599f-3463-477a-8f9b-0924566b8f76"
      },
      "execution_count": 120,
      "outputs": [
        {
          "output_type": "stream",
          "name": "stdout",
          "text": [
            "{'product a': [13, 20, 0, 10], 'product b': [10, 30, 17, 10], 'product c': [6, 9, 10, 0]}\n"
          ]
        }
      ]
    },
    {
      "cell_type": "code",
      "source": [
        "miasta = [\"Kielce\", 'Poznań', \"Warszawa\", \"Kraków\"]"
      ],
      "metadata": {
        "id": "TqAKoK1Q4Ozg"
      },
      "execution_count": 121,
      "outputs": []
    },
    {
      "cell_type": "code",
      "source": [
        "import pandas as pd"
      ],
      "metadata": {
        "id": "nDSb30Cb4U9Y"
      },
      "execution_count": 122,
      "outputs": []
    },
    {
      "cell_type": "code",
      "source": [
        "data = pd.DataFrame(product_data, index=miasta)\n",
        "print(data)"
      ],
      "metadata": {
        "colab": {
          "base_uri": "https://localhost:8080/"
        },
        "id": "RUFrCXi14p1I",
        "outputId": "15a2a695-d03c-48bf-8009-e1892d964310"
      },
      "execution_count": 124,
      "outputs": [
        {
          "output_type": "stream",
          "name": "stdout",
          "text": [
            "          product a  product b  product c\n",
            "Kielce           13         10          6\n",
            "Poznań           20         30          9\n",
            "Warszawa          0         17         10\n",
            "Kraków           10         10          0\n"
          ]
        }
      ]
    },
    {
      "cell_type": "code",
      "source": [
        "data"
      ],
      "metadata": {
        "colab": {
          "base_uri": "https://localhost:8080/",
          "height": 648
        },
        "id": "hVlpLDSj4--I",
        "outputId": "73b52ea1-6d9e-441d-ddb5-920712260845"
      },
      "execution_count": 126,
      "outputs": [
        {
          "output_type": "execute_result",
          "data": {
            "text/plain": [
              "          product a  product b  product c\n",
              "Kielce           13         10          6\n",
              "Poznań           20         30          9\n",
              "Warszawa          0         17         10\n",
              "Kraków           10         10          0"
            ],
            "text/html": [
              "\n",
              "  <div id=\"df-6f3a12a1-9426-4071-a843-1c48fa421c9d\" class=\"colab-df-container\">\n",
              "    <div>\n",
              "<style scoped>\n",
              "    .dataframe tbody tr th:only-of-type {\n",
              "        vertical-align: middle;\n",
              "    }\n",
              "\n",
              "    .dataframe tbody tr th {\n",
              "        vertical-align: top;\n",
              "    }\n",
              "\n",
              "    .dataframe thead th {\n",
              "        text-align: right;\n",
              "    }\n",
              "</style>\n",
              "<table border=\"1\" class=\"dataframe\">\n",
              "  <thead>\n",
              "    <tr style=\"text-align: right;\">\n",
              "      <th></th>\n",
              "      <th>product a</th>\n",
              "      <th>product b</th>\n",
              "      <th>product c</th>\n",
              "    </tr>\n",
              "  </thead>\n",
              "  <tbody>\n",
              "    <tr>\n",
              "      <th>Kielce</th>\n",
              "      <td>13</td>\n",
              "      <td>10</td>\n",
              "      <td>6</td>\n",
              "    </tr>\n",
              "    <tr>\n",
              "      <th>Poznań</th>\n",
              "      <td>20</td>\n",
              "      <td>30</td>\n",
              "      <td>9</td>\n",
              "    </tr>\n",
              "    <tr>\n",
              "      <th>Warszawa</th>\n",
              "      <td>0</td>\n",
              "      <td>17</td>\n",
              "      <td>10</td>\n",
              "    </tr>\n",
              "    <tr>\n",
              "      <th>Kraków</th>\n",
              "      <td>10</td>\n",
              "      <td>10</td>\n",
              "      <td>0</td>\n",
              "    </tr>\n",
              "  </tbody>\n",
              "</table>\n",
              "</div>\n",
              "    <div class=\"colab-df-buttons\">\n",
              "\n",
              "  <div class=\"colab-df-container\">\n",
              "    <button class=\"colab-df-convert\" onclick=\"convertToInteractive('df-6f3a12a1-9426-4071-a843-1c48fa421c9d')\"\n",
              "            title=\"Convert this dataframe to an interactive table.\"\n",
              "            style=\"display:none;\">\n",
              "\n",
              "  <svg xmlns=\"http://www.w3.org/2000/svg\" height=\"24px\" viewBox=\"0 -960 960 960\">\n",
              "    <path d=\"M120-120v-720h720v720H120Zm60-500h600v-160H180v160Zm220 220h160v-160H400v160Zm0 220h160v-160H400v160ZM180-400h160v-160H180v160Zm440 0h160v-160H620v160ZM180-180h160v-160H180v160Zm440 0h160v-160H620v160Z\"/>\n",
              "  </svg>\n",
              "    </button>\n",
              "\n",
              "  <style>\n",
              "    .colab-df-container {\n",
              "      display:flex;\n",
              "      gap: 12px;\n",
              "    }\n",
              "\n",
              "    .colab-df-convert {\n",
              "      background-color: #E8F0FE;\n",
              "      border: none;\n",
              "      border-radius: 50%;\n",
              "      cursor: pointer;\n",
              "      display: none;\n",
              "      fill: #1967D2;\n",
              "      height: 32px;\n",
              "      padding: 0 0 0 0;\n",
              "      width: 32px;\n",
              "    }\n",
              "\n",
              "    .colab-df-convert:hover {\n",
              "      background-color: #E2EBFA;\n",
              "      box-shadow: 0px 1px 2px rgba(60, 64, 67, 0.3), 0px 1px 3px 1px rgba(60, 64, 67, 0.15);\n",
              "      fill: #174EA6;\n",
              "    }\n",
              "\n",
              "    .colab-df-buttons div {\n",
              "      margin-bottom: 4px;\n",
              "    }\n",
              "\n",
              "    [theme=dark] .colab-df-convert {\n",
              "      background-color: #3B4455;\n",
              "      fill: #D2E3FC;\n",
              "    }\n",
              "\n",
              "    [theme=dark] .colab-df-convert:hover {\n",
              "      background-color: #434B5C;\n",
              "      box-shadow: 0px 1px 3px 1px rgba(0, 0, 0, 0.15);\n",
              "      filter: drop-shadow(0px 1px 2px rgba(0, 0, 0, 0.3));\n",
              "      fill: #FFFFFF;\n",
              "    }\n",
              "  </style>\n",
              "\n",
              "    <script>\n",
              "      const buttonEl =\n",
              "        document.querySelector('#df-6f3a12a1-9426-4071-a843-1c48fa421c9d button.colab-df-convert');\n",
              "      buttonEl.style.display =\n",
              "        google.colab.kernel.accessAllowed ? 'block' : 'none';\n",
              "\n",
              "      async function convertToInteractive(key) {\n",
              "        const element = document.querySelector('#df-6f3a12a1-9426-4071-a843-1c48fa421c9d');\n",
              "        const dataTable =\n",
              "          await google.colab.kernel.invokeFunction('convertToInteractive',\n",
              "                                                    [key], {});\n",
              "        if (!dataTable) return;\n",
              "\n",
              "        const docLinkHtml = 'Like what you see? Visit the ' +\n",
              "          '<a target=\"_blank\" href=https://colab.research.google.com/notebooks/data_table.ipynb>data table notebook</a>'\n",
              "          + ' to learn more about interactive tables.';\n",
              "        element.innerHTML = '';\n",
              "        dataTable['output_type'] = 'display_data';\n",
              "        await google.colab.output.renderOutput(dataTable, element);\n",
              "        const docLink = document.createElement('div');\n",
              "        docLink.innerHTML = docLinkHtml;\n",
              "        element.appendChild(docLink);\n",
              "      }\n",
              "    </script>\n",
              "  </div>\n",
              "\n",
              "\n",
              "    <div id=\"df-e952bb3e-8e0b-4284-bdbe-262f6bf26c9b\">\n",
              "      <button class=\"colab-df-quickchart\" onclick=\"quickchart('df-e952bb3e-8e0b-4284-bdbe-262f6bf26c9b')\"\n",
              "                title=\"Suggest charts\"\n",
              "                style=\"display:none;\">\n",
              "\n",
              "<svg xmlns=\"http://www.w3.org/2000/svg\" height=\"24px\"viewBox=\"0 0 24 24\"\n",
              "     width=\"24px\">\n",
              "    <g>\n",
              "        <path d=\"M19 3H5c-1.1 0-2 .9-2 2v14c0 1.1.9 2 2 2h14c1.1 0 2-.9 2-2V5c0-1.1-.9-2-2-2zM9 17H7v-7h2v7zm4 0h-2V7h2v10zm4 0h-2v-4h2v4z\"/>\n",
              "    </g>\n",
              "</svg>\n",
              "      </button>\n",
              "\n",
              "<style>\n",
              "  .colab-df-quickchart {\n",
              "      --bg-color: #E8F0FE;\n",
              "      --fill-color: #1967D2;\n",
              "      --hover-bg-color: #E2EBFA;\n",
              "      --hover-fill-color: #174EA6;\n",
              "      --disabled-fill-color: #AAA;\n",
              "      --disabled-bg-color: #DDD;\n",
              "  }\n",
              "\n",
              "  [theme=dark] .colab-df-quickchart {\n",
              "      --bg-color: #3B4455;\n",
              "      --fill-color: #D2E3FC;\n",
              "      --hover-bg-color: #434B5C;\n",
              "      --hover-fill-color: #FFFFFF;\n",
              "      --disabled-bg-color: #3B4455;\n",
              "      --disabled-fill-color: #666;\n",
              "  }\n",
              "\n",
              "  .colab-df-quickchart {\n",
              "    background-color: var(--bg-color);\n",
              "    border: none;\n",
              "    border-radius: 50%;\n",
              "    cursor: pointer;\n",
              "    display: none;\n",
              "    fill: var(--fill-color);\n",
              "    height: 32px;\n",
              "    padding: 0;\n",
              "    width: 32px;\n",
              "  }\n",
              "\n",
              "  .colab-df-quickchart:hover {\n",
              "    background-color: var(--hover-bg-color);\n",
              "    box-shadow: 0 1px 2px rgba(60, 64, 67, 0.3), 0 1px 3px 1px rgba(60, 64, 67, 0.15);\n",
              "    fill: var(--button-hover-fill-color);\n",
              "  }\n",
              "\n",
              "  .colab-df-quickchart-complete:disabled,\n",
              "  .colab-df-quickchart-complete:disabled:hover {\n",
              "    background-color: var(--disabled-bg-color);\n",
              "    fill: var(--disabled-fill-color);\n",
              "    box-shadow: none;\n",
              "  }\n",
              "\n",
              "  .colab-df-spinner {\n",
              "    border: 2px solid var(--fill-color);\n",
              "    border-color: transparent;\n",
              "    border-bottom-color: var(--fill-color);\n",
              "    animation:\n",
              "      spin 1s steps(1) infinite;\n",
              "  }\n",
              "\n",
              "  @keyframes spin {\n",
              "    0% {\n",
              "      border-color: transparent;\n",
              "      border-bottom-color: var(--fill-color);\n",
              "      border-left-color: var(--fill-color);\n",
              "    }\n",
              "    20% {\n",
              "      border-color: transparent;\n",
              "      border-left-color: var(--fill-color);\n",
              "      border-top-color: var(--fill-color);\n",
              "    }\n",
              "    30% {\n",
              "      border-color: transparent;\n",
              "      border-left-color: var(--fill-color);\n",
              "      border-top-color: var(--fill-color);\n",
              "      border-right-color: var(--fill-color);\n",
              "    }\n",
              "    40% {\n",
              "      border-color: transparent;\n",
              "      border-right-color: var(--fill-color);\n",
              "      border-top-color: var(--fill-color);\n",
              "    }\n",
              "    60% {\n",
              "      border-color: transparent;\n",
              "      border-right-color: var(--fill-color);\n",
              "    }\n",
              "    80% {\n",
              "      border-color: transparent;\n",
              "      border-right-color: var(--fill-color);\n",
              "      border-bottom-color: var(--fill-color);\n",
              "    }\n",
              "    90% {\n",
              "      border-color: transparent;\n",
              "      border-bottom-color: var(--fill-color);\n",
              "    }\n",
              "  }\n",
              "</style>\n",
              "\n",
              "      <script>\n",
              "        async function quickchart(key) {\n",
              "          const quickchartButtonEl =\n",
              "            document.querySelector('#' + key + ' button');\n",
              "          quickchartButtonEl.disabled = true;  // To prevent multiple clicks.\n",
              "          quickchartButtonEl.classList.add('colab-df-spinner');\n",
              "          try {\n",
              "            const charts = await google.colab.kernel.invokeFunction(\n",
              "                'suggestCharts', [key], {});\n",
              "          } catch (error) {\n",
              "            console.error('Error during call to suggestCharts:', error);\n",
              "          }\n",
              "          quickchartButtonEl.classList.remove('colab-df-spinner');\n",
              "          quickchartButtonEl.classList.add('colab-df-quickchart-complete');\n",
              "        }\n",
              "        (() => {\n",
              "          let quickchartButtonEl =\n",
              "            document.querySelector('#df-e952bb3e-8e0b-4284-bdbe-262f6bf26c9b button');\n",
              "          quickchartButtonEl.style.display =\n",
              "            google.colab.kernel.accessAllowed ? 'block' : 'none';\n",
              "        })();\n",
              "      </script>\n",
              "    </div>\n",
              "\n",
              "  <div id=\"id_2e1d571f-9dec-43a6-a7dc-c3fcb1bd8852\">\n",
              "    <style>\n",
              "      .colab-df-generate {\n",
              "        background-color: #E8F0FE;\n",
              "        border: none;\n",
              "        border-radius: 50%;\n",
              "        cursor: pointer;\n",
              "        display: none;\n",
              "        fill: #1967D2;\n",
              "        height: 32px;\n",
              "        padding: 0 0 0 0;\n",
              "        width: 32px;\n",
              "      }\n",
              "\n",
              "      .colab-df-generate:hover {\n",
              "        background-color: #E2EBFA;\n",
              "        box-shadow: 0px 1px 2px rgba(60, 64, 67, 0.3), 0px 1px 3px 1px rgba(60, 64, 67, 0.15);\n",
              "        fill: #174EA6;\n",
              "      }\n",
              "\n",
              "      [theme=dark] .colab-df-generate {\n",
              "        background-color: #3B4455;\n",
              "        fill: #D2E3FC;\n",
              "      }\n",
              "\n",
              "      [theme=dark] .colab-df-generate:hover {\n",
              "        background-color: #434B5C;\n",
              "        box-shadow: 0px 1px 3px 1px rgba(0, 0, 0, 0.15);\n",
              "        filter: drop-shadow(0px 1px 2px rgba(0, 0, 0, 0.3));\n",
              "        fill: #FFFFFF;\n",
              "      }\n",
              "    </style>\n",
              "    <button class=\"colab-df-generate\" onclick=\"generateWithVariable('data')\"\n",
              "            title=\"Generate code using this dataframe.\"\n",
              "            style=\"display:none;\">\n",
              "\n",
              "  <svg xmlns=\"http://www.w3.org/2000/svg\" height=\"24px\"viewBox=\"0 0 24 24\"\n",
              "       width=\"24px\">\n",
              "    <path d=\"M7,19H8.4L18.45,9,17,7.55,7,17.6ZM5,21V16.75L18.45,3.32a2,2,0,0,1,2.83,0l1.4,1.43a1.91,1.91,0,0,1,.58,1.4,1.91,1.91,0,0,1-.58,1.4L9.25,21ZM18.45,9,17,7.55Zm-12,3A5.31,5.31,0,0,0,4.9,8.1,5.31,5.31,0,0,0,1,6.5,5.31,5.31,0,0,0,4.9,4.9,5.31,5.31,0,0,0,6.5,1,5.31,5.31,0,0,0,8.1,4.9,5.31,5.31,0,0,0,12,6.5,5.46,5.46,0,0,0,6.5,12Z\"/>\n",
              "  </svg>\n",
              "    </button>\n",
              "    <script>\n",
              "      (() => {\n",
              "      const buttonEl =\n",
              "        document.querySelector('#id_2e1d571f-9dec-43a6-a7dc-c3fcb1bd8852 button.colab-df-generate');\n",
              "      buttonEl.style.display =\n",
              "        google.colab.kernel.accessAllowed ? 'block' : 'none';\n",
              "\n",
              "      buttonEl.onclick = () => {\n",
              "        google.colab.notebook.generateWithVariable('data');\n",
              "      }\n",
              "      })();\n",
              "    </script>\n",
              "  </div>\n",
              "\n",
              "    </div>\n",
              "  </div>\n"
            ],
            "application/vnd.google.colaboratory.intrinsic+json": {
              "type": "dataframe",
              "variable_name": "data",
              "summary": "{\n  \"name\": \"data\",\n  \"rows\": 4,\n  \"fields\": [\n    {\n      \"column\": \"product a\",\n      \"properties\": {\n        \"dtype\": \"number\",\n        \"std\": 8,\n        \"min\": 0,\n        \"max\": 20,\n        \"num_unique_values\": 4,\n        \"samples\": [\n          20,\n          10,\n          13\n        ],\n        \"semantic_type\": \"\",\n        \"description\": \"\"\n      }\n    },\n    {\n      \"column\": \"product b\",\n      \"properties\": {\n        \"dtype\": \"number\",\n        \"std\": 9,\n        \"min\": 10,\n        \"max\": 30,\n        \"num_unique_values\": 3,\n        \"samples\": [\n          10,\n          30,\n          17\n        ],\n        \"semantic_type\": \"\",\n        \"description\": \"\"\n      }\n    },\n    {\n      \"column\": \"product c\",\n      \"properties\": {\n        \"dtype\": \"number\",\n        \"std\": 4,\n        \"min\": 0,\n        \"max\": 10,\n        \"num_unique_values\": 4,\n        \"samples\": [\n          9,\n          0,\n          6\n        ],\n        \"semantic_type\": \"\",\n        \"description\": \"\"\n      }\n    }\n  ]\n}"
            }
          },
          "metadata": {},
          "execution_count": 126
        },
        {
          "output_type": "display_data",
          "data": {
            "text/plain": [
              "<google.colab._quickchart_helpers.SectionTitle at 0x7cb1de38f710>"
            ],
            "text/html": [
              "<h4 class=\"colab-quickchart-section-title\">Distributions</h4>\n",
              "<style>\n",
              "  .colab-quickchart-section-title {\n",
              "      clear: both;\n",
              "  }\n",
              "</style>"
            ]
          },
          "metadata": {}
        },
        {
          "output_type": "display_data",
          "data": {
            "text/plain": [
              "from matplotlib import pyplot as plt\n",
              "data['product a'].plot(kind='hist', bins=20, title='product a')\n",
              "plt.gca().spines[['top', 'right',]].set_visible(False)"
            ],
            "text/html": [
              "      <div class=\"colab-quickchart-chart-with-code\" id=\"chart-9f1ceafe-4f07-4ba2-a0e6-1d8a2a920d3f\">\n",
              "        <img style=\"width: 180px;\" src=\"data:image/png;base64,iVBORw0KGgoAAAANSUhEUgAAAioAAAGrCAYAAADuNLxTAAAAOnRFWHRTb2Z0d2FyZQBNYXRwbG90\n",
              "bGliIHZlcnNpb24zLjEwLjAsIGh0dHBzOi8vbWF0cGxvdGxpYi5vcmcvlHJYcgAAAAlwSFlzAAAP\n",
              "YQAAD2EBqD+naQAAIetJREFUeJzt3XtwVOXh//HPktitSkK4RTIJC4VcAIFEMBkaaAEdR+gPgwW1\n",
              "1qLcQqJFqYMdaURHoNZgLyrqUIJgKGWKKGDNgJfRgogShYhcDEKIAptiICiQAEIgm+f3B8N+2SaB\n",
              "BPeQZ8P7NbMz7NknJ8/h2aPv2T3suowxRgAAABZq1dwTAAAAaAihAgAArEWoAAAAaxEqAADAWoQK\n",
              "AACwFqECAACsRagAAABrESoAAMBahAoAALAWoQLAKnFxcVq0aFFzTwOAJQgVAC3WBx98IJfLpZqa\n",
              "muaeCoBLRKgACDqfz6fa2trmngaAFoBQAXBRQ4YM0YMPPqhRo0YpIiJC8fHxWrx4sf/xc69cvPrq\n",
              "q0pMTNQ111yjiooK7d+/X3fddZeuu+46XXfddfrVr36lb775xv9zx48f18SJE9W+fXvFxsZqzpw5\n",
              "Ab+3vldEFi1apLi4OP/9mpoaPfvss+rVq5ciIiIUFxenZ555Rl6vV8OHD5ckRUVFqXXr1nr66afr\n",
              "Pb7XX39d/fv3V9u2bdWhQwdlZGRoz549Qfm7A/DDECoAGmXhwoUaP368jhw5ohdeeEGZmZn6+OOP\n",
              "A8YsW7ZMhYWFqqqqUseOHTVixAiFhYWppKREu3btkjFGGRkZ8vl8kqSpU6fq888/19atW1VSUqIt\n",
              "W7bowIEDTZrXjBkzNHfuXC1atEiVlZXatm2bfv7zn8vj8ejtt9+WJB09elTHjx/XY489Vu8+IiIi\n",
              "9Morr+jbb7/Vzp07ZYzRPffccwl/SwCCzgDARQwePNiMGjUqYNtdd91lJkyYYIwxZu3atUaS2blz\n",
              "p//xDRs2GJfLZQ4fPuzf9u233xqXy2UKCwuNz+czbrfbFBQU+B8/evSocblcJj8/P2C/Z86c8Y/J\n",
              "z883sbGxxhhjamtrTevWrc3rr79e77zr+/nG2Lx5s5FkqqqqmvRzAIKPV1QANMpPfvKTOvfLysoa\n",
              "HFNWVqZ27dqpbdu2/m3t27dX27Zt5fV6dejQIVVXVwf8TJs2bdSuXbtGz+nbb7/V8ePHlZSU1NTD\n",
              "CbBu3TrdfPPNiomJUWRkpAYPHixJqqio+EH7BfDDESoAGmXv3r117p9/rYgktWr1f/9J6dy5s44c\n",
              "OaIjR474tx0+fFhHjhyRx+NRx44d5Xa7A/ZbWVkZMD4iIkKSdOLECf+2869x6dChg1q3bq2SkpJ6\n",
              "53z+fBpy+vRpjRgxQsOGDVNJSYmqqqq0bt06SZIx5qI/D8BZhAqARnnrrbe0evVq+Xw+vfPOO3rj\n",
              "jTc0fvz4BsenpaWpd+/eevDBB1VVVaXKykpNnjxZKSkpSk1NVatWrTRmzBjNmDFD+/fv14kTJ/TI\n",
              "I4/I5XL595GYmKiIiAjl5eWptrZWW7Zs0fz58/2Pu1wuPfTQQ8rJyVFRUZGMMTp8+LAKCwslSZ06\n",
              "dZIk7dq1q8F5nj59WidPnlTbtm0VERGhb775Ro8//vgP/esCECSECoBGmTBhghYuXKioqChNnjxZ\n",
              "8+bN089+9rMGx4eFhWnVqlWqrq5WfHy8EhISVFNTo4KCAoWFhUmSnnvuOfXp00d9+vRRYmKi+vTp\n",
              "448L6ewrKv/4xz80f/58RUZGKicnR1lZWQG/Z9asWcrMzNRvfvMbRUREqG/fvlq/fr2ks6Hz0EMP\n",
              "aejQoYqKitLs2bPrzLN169ZasGCBnnrqKbVu3VrDhw/XnXfeGYy/MgBB4DK8tgngIoYMGaJBgwbp\n",
              "qaeeau6pALjC8IoKAACwFqECAACsxVs/AADAWryiAgAArEWoAAAAaxEqAADAWoQKAACwVosIlf/9\n",
              "angAANAytIhQ2bdvX3NPAQAAOKBFhAoAAGiZCBUAAGAtQgUAAFiLUAEAANYiVAAAgLUIFQAAYC1C\n",
              "BQAAWItQAQAA1iJUAACAtQgVAABgLUIFAABYi1ABAADWcjRUpkyZoq5du8rlcmnLli0Njlu4cKES\n",
              "EhLUvXt3TZo0SWfOnHFyWgAAIEQ4Gip33HGHPvroI3Xp0qXBMXv27NETTzyh9evXq7S0VAcPHtT8\n",
              "+fOdnBYAAAgRjobKz3/+c8XFxV1wzPLly5WRkaFOnTrJ5XLp/vvv19KlSxscX11draqqqoCbz+cL\n",
              "9tQBAIAFwpt7Al6vN+AVl65du8rr9TY4Pjc3VzNnzgzYNmDAAEfm1vUPqx3ZryTtnf3/HNs30JI4\n",
              "dR6G4jnIf5NwIS31XAm5i2lzcnJUWVkZcEtLS2vuaQEAAAc0+ysqHo9HX331lf/+3r175fF4Ghzv\n",
              "drvldrsDtoWFhTk2PwAA0Hya/RWV0aNHq6CgQAcOHJAxRvPmzdPdd9/d3NMCAAAWcDRUsrOzFRcX\n",
              "p//+97+69dZbFR8fL0nKzMxUQUGBJKlbt26aOXOmBg4cqPj4eHXs2FHZ2dlOTgsAAIQIR9/6ycvL\n",
              "q3f7ggULAu5PmjRJkyZNcnIqAAAgBDX7Wz8AAAANIVQAAIC1CBUAAGAtQgUAAFiLUAEAANYiVAAA\n",
              "gLUIFQAAYC1CBQAAWItQAQAA1iJUAACAtQgVAABgLUIFAABYi1ABAADWIlQAAIC1CBUAAGAtQgUA\n",
              "AFiLUAEAANYiVAAAgLUIFQAAYC1CBQAAWItQAQAA1iJUAACAtQgVAABgLUIFAABYi1ABAADWIlQA\n",
              "AIC1CBUAAGAtQgUAAFiLUAEAANYiVAAAgLUIFQAAYC1CBQAAWItQAQAA1iJUAACAtQgVAABgLUIF\n",
              "AABYi1ABAADWIlQAAIC1CBUAAGAtQgUAAFiLUAEAANYiVAAAgLUIFQAAYC1CBQAAWItQAQAA1iJU\n",
              "AACAtQgVAABgLUIFAABYi1ABAADWIlQAAIC1CBUAAGAtQgUAAFiLUAEAANYiVAAAgLUIFQAAYC1C\n",
              "BQAAWItQAQAA1iJUAACAtQgVAABgLUIFAABYi1ABAADWcjRUdu/erfT0dCUmJio1NVXFxcV1xtTW\n",
              "1mrq1Knq1auX+vbtq6FDh6q0tNTJaQEAgBDhaKhkZ2crKytLJSUlmjZtmsaNG1dnTEFBgT7++GNt\n",
              "3bpV27Zt080336zHHnvMyWkBAIAQ4VioVFRUqKioSGPGjJEkjR49WmVlZXVeLXG5XKqurtapU6dk\n",
              "jFFVVZXi4uKcmhYAAAgh4U7tuKysTDExMQoPP/srXC6XPB6PvF6v4uPj/eNuu+02rV27Vp06dVJE\n",
              "RIRiY2O1bt26BvdbXV2t6urqgG0+n8+ZgwAAAM2q2S+mLSoq0hdffKH9+/frm2++0c0336z777+/\n",
              "wfG5ublq06ZNwG3jxo2XccYAAOBycSxUOnfurPLyctXU1EiSjDHyer3yeDwB4xYvXqybbrpJUVFR\n",
              "atWqlcaOHau1a9c2uN+cnBxVVlYG3NLS0pw6DAAA0IwcC5Xo6Gj169dPS5YskSStWLFCcXFxAW/7\n",
              "SFK3bt20Zs0anT59WpK0atUq9e7du8H9ut1uRUZGBtzCwsKcOgwAANCMHLtGRZLy8vI0btw4Pf30\n",
              "04qMjFR+fr4kKTMzUxkZGcrIyNDkyZP15ZdfKjk5WVdddZU6deqkefPmOTktAAAQIhwNlaSkJBUW\n",
              "FtbZvmDBAv+f3W63Xn75ZSenAQAAQlSzX0wLAADQEEIFAABYi1ABAADWIlQAAIC1CBUAAGAtQgUA\n",
              "AFiLUAEAANYiVAAAgLUIFQAAYC1CBQAAWItQAQAA1iJUAACAtQgVAABgLUIFAABYi1ABAADWIlQA\n",
              "AIC1CBUAAGAtQgUAAFiLUAEAANYiVAAAgLUIFQAAYC1CBQAAWItQAQAA1iJUAACAtQgVAABgLUIF\n",
              "AABYi1ABAADWIlQAAIC1CBUAAGAtQgUAAFiLUAEAANYiVAAAgLUIFQAAYC1CBQAAWItQAQAA1iJU\n",
              "AACAtQgVAABgLUIFAABYi1ABAADWIlQAAIC1CBUAAGAtQgUAAFiLUAEAANYiVAAAgLUIFQAAYC1C\n",
              "BQAAWItQAQAA1iJUAACAtQgVAABgLUIFAABYi1ABAADWIlQAAIC1CBUAAGAtQgUAAFiLUAEAANYi\n",
              "VAAAgLUIFQAAYC1CBQAAWItQAQAA1iJUAACAtQgVAABgLUIFAABYy9FQ2b17t9LT05WYmKjU1FQV\n",
              "FxfXO2779u0aMmSIevbsqZ49e2rlypVOTgsAAISIcCd3np2draysLI0bN07Lly/XuHHjtGnTpoAx\n",
              "33//vUaOHKnFixdr0KBB8vl8Onz4sJPTAgAAIcKxV1QqKipUVFSkMWPGSJJGjx6tsrIylZaWBoz7\n",
              "17/+pQEDBmjQoEGSpLCwMHXs2LHB/VZXV6uqqirg5vP5nDoMAADQjBwLlbKyMsXExCg8/OyLNi6X\n",
              "Sx6PR16vN2Dcjh075Ha7NWLECKWkpOi+++7ToUOHGtxvbm6u2rRpE3DbuHGjU4cBAACaUZND5d13\n",
              "3w3qBGpqavT+++8rLy9Pn3/+uWJjY/XAAw80OD4nJ0eVlZUBt7S0tKDOCQAA2KHJoTJr1iwlJSVp\n",
              "zpw5qqqqanBc586dVV5erpqaGkmSMUZer1cejydgnMfj0dChQxUbGyuXy6UxY8bok08+aXC/brdb\n",
              "kZGRAbewsLCmHgYAAAgBTQ6Vjz/+WK+++qq++OILJSYm6re//a127NhRZ1x0dLT69eunJUuWSJJW\n",
              "rFihuLg4xcfHB4y76667tGnTJn/0vPXWW0pOTr6UYwEAAC3MJV2jcsMNN+jll1/WO++8o1WrVqlv\n",
              "37665ZZbtH379oBxeXl5ysvLU2JiombPnq38/HxJUmZmpgoKCiSdfUXlscceU3p6uvr27as1a9Zo\n",
              "3rx5P/CwAABAS3BJ/zz5/fff14svvqjt27dr8uTJmjhxoj744AP98pe/DPhXPUlJSSosLKzz8wsW\n",
              "LAi4f++99+ree++9lKkAAIAWrMmh0rNnT3Xo0EFTpkzRqFGj/NeH3HHHHVq4cGHQJwgAAK5cTQ6V\n",
              "JUuWqH///vU+9vbbb//gCQEAAJzT5GtUPvvss4BPjv3uu+/08ssvB3VSAAAA0iWEyty5c9WuXTv/\n",
              "/fbt22vu3LlBnRQAAIB0CaFijKmzjY+wBwAATmhyqMTExOi1117z31+2bJliYmKCOikAAADpEi6m\n",
              "ff755zVy5Eg9+uijkqRrrrlGb775ZtAnBgAA0ORQ6dGjh3bs2KFdu3ZJOvtZKXyEPQAAcMIlfeCb\n",
              "y+VSVFSUampqtH//fkmq8x0+AAAAP1STQ2XRokWaMmWKrrrqKrVqdfYSF5fLpYqKiqBPDgAAXNma\n",
              "HCp//OMftWnTJiUlJTkxHwAAAL8m/6ufDh06ECkAAOCyaHKo3H777Xr++edVUVGhqqoq/w0AACDY\n",
              "mvzWz/Tp0yVJU6dOlcvlkjFGLpeLD30DAABB1+RQqa2tdWIeAAAAdTT5rR/p7BcT/vOf/5QkHT16\n",
              "VOXl5UGdFAAAgHSJX0o4YcIEzZgxQ9LZb0++5557gj0vAACApofK/Pnz9cknnygyMlKS1L17dx06\n",
              "dCjoEwMAAGhyqLjdbl199dUB28LDL+kDbgEAAC6oyaHSsWNHlZSUyOVySTr7SbV8fD4AAHDCJX17\n",
              "8q9//Wvt3LlTnTt3VmRkpFatWuXE3AAAwBWuyaESHx+vTz/9VLt27ZIxhm9PBgAAjmlyqHi9XknS\n",
              "tddeK0l8ezIAAHBMk0Olf//+/k+kPXXqlL7//nu1b9+eb08GAABB1+RQ+d9/irxy5Upt3bo1aBMC\n",
              "AAA455I+mfZ8o0aN0urVq4MxFwAAgABNfkXl/G9K9vl8+vTTT/n2ZAAA4Igmh0pUVJT/GpWwsDAl\n",
              "JCTohRdecGJuAADgCse3JwMAAGv94GtUAAAAnNLkV1RatWrl//j88xlj5HK55PP5gjIxAACAJofK\n",
              "rFmzdPLkST3wwAOSpHnz5unqq6/Www8/HOy5AQCAK1yTQ+WNN97QZ5995r//1FNPqX///po+fXpQ\n",
              "JwYAANDka1SOHTsW8Cm0FRUVOnbsWFAnBQAAIF3CKyqPPPKIkpOT9Ytf/EKS9M4772jGjBnBnhcA\n",
              "AEDTQyU7O1sDBw7U2rVrJUlTp07V9ddfH/SJAQAANDlUJKl9+/bq06ePhgwZopqaGp0+fVo/+tGP\n",
              "gj03AABwhWvyNSrLly/XgAEDNH78eElScXGxbr/99mDPCwAAoOmhkpubq82bNysqKkqSlJycrH37\n",
              "9gV7XgAAAE0PlbCwMLVv3z5gG2/7AAAAJzQ5VCIiInTw4EH/p9P+5z//Ubt27YI+MQAAgCZfTPvM\n",
              "M89o+PDh+vrrrzVo0CDt2bNHq1evdmJuAADgCtekUKmtrZXP59PatWu1YcMGGWOUnp7uv14FAAAg\n",
              "mJoUKq1atVJWVpa2bt2q4cOHOzUnAAAASZdwjUpCQoJKS0udmAsAAECAJl+jcvjwYaWkpCg9PV2t\n",
              "W7f2b1+5cmVQJwYAANDoUMnKytL8+fM1duxYZWRkqG3btk7OCwAAoPGhUlRUJEkaO3as+vXrp82b\n",
              "Nzs2KQAAAOkSrlGRJGNMsOcBAABQR6NfUTl58qS2b98uY4xOnTrl//M5ffv2dWSCAADgytWkUMnI\n",
              "yPDfP//PLpdLX3/9dXBnBgAArniNDpW9e/c6OA0AAIC6LukaFQAAgMuBUAEAANYiVAAAgLUIFQAA\n",
              "YC1CBQAAWItQAQAA1iJUAACAtQgVAABgLUIFAABYy9FQ2b17t9LT05WYmKjU1FQVFxc3ONYYo5tu\n",
              "uklRUVFOTgkAAIQQR0MlOztbWVlZKikp0bRp0zRu3LgGxz733HPq3r27k9MBAAAhxrFQqaioUFFR\n",
              "kcaMGSNJGj16tMrKylRaWlpnbHFxsf7973/rD3/4w0X3W11draqqqoCbz+cL+vwBAEDzcyxUysrK\n",
              "FBMTo/Dws9976HK55PF45PV6A8adOXNGkyZNUl5ensLCwi6639zcXLVp0ybgtnHjRkeOAQAANK9m\n",
              "v5h25syZGjVqlHr27Nmo8Tk5OaqsrAy4paWlOTxLAADQHMKd2nHnzp1VXl6umpoahYeHyxgjr9cr\n",
              "j8cTMG7dunXyer166aWXVFNTo6qqKnXt2lWbNm1Sx44d6+zX7XbL7XYHbGvMKzEAACD0OPaKSnR0\n",
              "tPr166clS5ZIklasWKG4uDjFx8cHjFu/fr327dunvXv36qOPPlJkZKT27t1bb6QAAIAri6Nv/eTl\n",
              "5SkvL0+JiYmaPXu28vPzJUmZmZkqKChw8lcDAIAWwLG3fiQpKSlJhYWFdbYvWLCg3vFdu3bV0aNH\n",
              "nZwSAAAIIc1+MS0AAEBDCBUAAGAtQgUAAFiLUAEAANYiVAAAgLUIFQAAYC1CBQAAWItQAQAA1iJU\n",
              "AACAtQgVAABgLUIFAABYi1ABAADWIlQAAIC1CBUAAGAtQgUAAFiLUAEAANYiVAAAgLUIFQAAYC1C\n",
              "BQAAWItQAQAA1iJUAACAtQgVAABgLUIFAABYi1ABAADWIlQAAIC1CBUAAGAtQgUAAFiLUAEAANYi\n",
              "VAAAgLUIFQAAYC1CBQAAWItQAQAA1iJUAACAtQgVAABgLUIFAABYi1ABAADWIlQAAIC1CBUAAGAt\n",
              "QgUAAFiLUAEAANYiVAAAgLUIFQAAYC1CBQAAWItQAQAA1iJUAACAtQgVAABgLUIFAABYi1ABAADW\n",
              "IlQAAIC1CBUAAGAtQgUAAFiLUAEAANYiVAAAgLUIFQAAYC1CBQAAWItQAQAA1iJUAACAtQgVAABg\n",
              "LUIFAABYi1ABAADWIlQAAIC1CBUAAGAtR0Nl9+7dSk9PV2JiolJTU1VcXFxnzJo1a5SWlqZevXrp\n",
              "+uuv16OPPqra2lonpwUAAEKEo6GSnZ2trKwslZSUaNq0aRo3blydMW3bttWrr76qHTt26LPPPtOG\n",
              "DRu0ePFiJ6cFAABChGOhUlFRoaKiIo0ZM0aSNHr0aJWVlam0tDRg3A033KBu3bpJkn784x8rJSVF\n",
              "e/fubXC/1dXVqqqqCrj5fD6nDgMAADQjx0KlrKxMMTExCg8PlyS5XC55PB55vd4Gf+bAgQNavny5\n",
              "RowY0eCY3NxctWnTJuC2cePGoM8fAAA0P2supq2qqtJtt92mRx99VDfeeGOD43JyclRZWRlwS0tL\n",
              "u4wzBQAAl0u4Uzvu3LmzysvLVVNTo/DwcBlj5PV65fF46ow9duyYhg0bppEjR2rq1KkX3K/b7Zbb\n",
              "7Q7YFhYWFtS5AwAAOzj2ikp0dLT69eunJUuWSJJWrFihuLg4xcfHB4w7fvy4hg0bpmHDhunxxx93\n",
              "ajoAACAEOfrWT15envLy8pSYmKjZs2crPz9fkpSZmamCggJJ0pw5c7Rx40atXLlSKSkpSklJ0Z/+\n",
              "9CcnpwUAAEKEY2/9SFJSUpIKCwvrbF+wYIH/z9OnT9f06dOdnAYAAAhR1lxMCwAA8L8IFQAAYC1C\n",
              "BQAAWItQAQAA1iJUAACAtQgVAABgLUIFAABYi1ABAADWIlQAAIC1CBUAAGAtQgUAAFiLUAEAANYi\n",
              "VAAAgLUIFQAAYC1CBQAAWItQAQAA1iJUAACAtQgVAABgLUIFAABYi1ABAADWIlQAAIC1CBUAAGAt\n",
              "QgUAAFiLUAEAANYiVAAAgLUIFQAAYC1CBQAAWItQAQAA1iJUAACAtQgVAABgLUIFAABYi1ABAADW\n",
              "IlQAAIC1CBUAAGAtQgUAAFiLUAEAANYiVAAAgLUIFQAAYC1CBQAAWItQAQAA1iJUAACAtQgVAABg\n",
              "LUIFAABYi1ABAADWIlQAAIC1CBUAAGAtQgUAAFiLUAEAANYiVAAAgLUIFQAAYC1CBQAAWItQAQAA\n",
              "1iJUAACAtQgVAABgLUIFAABYi1ABAADWIlQAAIC1CBUAAGAtQgUAAFiLUAEAANYiVAAAgLUcDZXd\n",
              "u3crPT1diYmJSk1NVXFxcb3jFi5cqISEBHXv3l2TJk3SmTNnnJwWAAAIEY6GSnZ2trKyslRSUqJp\n",
              "06Zp3Lhxdcbs2bNHTzzxhNavX6/S0lIdPHhQ8+fPd3JaAAAgRDgWKhUVFSoqKtKYMWMkSaNHj1ZZ\n",
              "WZlKS0sDxi1fvlwZGRnq1KmTXC6X7r//fi1durTB/VZXV6uqqirg5vP5nDoMAADQjMKd2nFZWZli\n",
              "YmIUHn72V7hcLnk8Hnm9XsXHx/vHeb1edenSxX+/a9eu8nq9De43NzdXM2fODNjWo0cPTZ06Najz\n",
              "9/l8itm4UWlpaQoLCwvqviVp6tT/BH2fTeXz+bTRwWNsbhxf6HPyPAzFc3CUg3Nx6u+jpT9PbTo+\n",
              "J54fPp9PP/3pU44dX5cuXfS73/3ugmMcCxWn5OTk1IkSt9stt9sd1N9TVVWlNm3a6N1331VkZGRQ\n",
              "922Lln6MHF/oa+nH2NKPT2r5x8jxOc+xUOncubPKy8tVU1Oj8PBwGWPk9Xrl8XgCxnk8Hn311Vf+\n",
              "+3v37q0z5nxORAkAALCTY9eoREdHq1+/flqyZIkkacWKFYqLiwt420c6e+1KQUGBDhw4IGOM5s2b\n",
              "p7vvvtupaQEAgBDi6L/6ycvLU15enhITEzV79mzl5+dLkjIzM1VQUCBJ6tatm2bOnKmBAwcqPj5e\n",
              "HTt2VHZ2tpPTAgAAIcLRa1SSkpJUWFhYZ/uCBQsC7k+aNEmTJk1ycipN5na79eSTT7bot5la+jFy\n",
              "fKGvpR9jSz8+qeUfI8fnPJcxxjTbbwcAALgAPkIfAABYi1ABAADWIlQAAIC1CBUAAGCtKz5UWvo3\n",
              "PJ86dUq33367EhMTlZycrFtuuaXO9y1JZz9oLywsTCkpKf7b+R/EZ7OuXbsqKSnJP+9ly5bVOy5U\n",
              "1/C7774LWJfExESFh4fr8OHDAeNCaQ2nTJmirl27yuVyacuWLf7tjT0fJbvXs77ja+y5KNm/lg2t\n",
              "X2PPRcnu9ZPqP8bGnouS/Wt4oedjRUWFhg0bpoSEBPXu3Vsffvhhg/tZtWqVevTooYSEBI0aNUpV\n",
              "VVXBn6y5wg0dOtTk5+cbY4x5/fXXzY033lhnzNdff21iYmJMeXm5qa2tNbfddpt56aWXLvNML83J\n",
              "kyfN6tWrTW1trTHGmBdffNEMHjy4zrg9e/aYNm3aXN7JBUmXLl3M559/fsExobyG/+svf/mLGTFi\n",
              "RJ3tobSG69atM2VlZXXWrjHnozH2r2d9x9fYc9EY+9eyofVrzLlojP3rZ0zDx3i+hs5FY+xfwws9\n",
              "H8ePH2+efPJJY4wxGzduNLGxseb06dN19nHs2DETHR1tvvzyS2OMMZMnTza///3vgz7XKzpUDh48\n",
              "aCIiIsyZM2eMMcbU1taa6667zuzevTtg3J///GeTnZ3tv7969WozcODAyzrXYNm0aZPp0qVLne22\n",
              "n1QX0pj/OLakNezRo4d544036mwPxTU8f+0aez4aEzrreaHnZkPnojGhs5aXGiqhsn7GXPiYGjoX\n",
              "jQmdNTzn/Ofjtddea8rLy/2Ppaammvfee6/Oz7z22mvm1ltv9d8vLi42sbGxQZ/bFf3Wz4W+4fl8\n",
              "Tf2GZ5vNmTNHI0eOrPexEydOKDU1Vf369dOsWbPk8/ku8+wu3X333ac+ffpo4sSJOnToUJ3HW8oa\n",
              "btiwQUeOHNGIESPqfTyU17Cx56PUMtbzQueiFLprebFzUWoZ63exc1EKrTU893z87rvvdObMGXXq\n",
              "1Mn/WEPrU986nvuOv2C6okPlSvP000+rtLRUubm5dR6LiYnR/v37tWnTJr3//vtav369/va3vzXD\n",
              "LJvuww8/1LZt27R582Z16NBBY8eObe4pOWbhwoW67777/P8zP18or+GV5kLnohS6a8m5+H9CaQ0v\n",
              "9nxsbld0qJz/Dc+SLvgNz/v27fPfv9g3PNvor3/9q1auXKm3335b11xzTZ3H3W63oqOjJUnt2rXT\n",
              "hAkTtH79+ss9zUtybi2uuuoqPfzww/XOuyWs4fHjx/Xaa69pwoQJ9T4eymsoNf58lEJ7PS92Lkqh\n",
              "u5aNORfPjQvV9ZMufi5KobOG//t8bN++vcLDw3XgwAH/mIbWp751PP9V0WC5okPlSvmG52effVZL\n",
              "ly7Ve++9p6ioqHrHVFRU+K+6r66u1sqVK3XDDTdcxllemhMnTujo0aP++0uXLq133qG+hpK0bNky\n",
              "JScnq0ePHvU+HqpreE5jz0cpdNezMeeiFJpr2dhzUQrd9TvnYueiFBpr2NDz8c4779S8efMkSZs2\n",
              "bdL+/fs1ePDgOj8/bNgwbd68WTt37pQkzZ0715l1DPpVLyFm586dZsCAASYhIcH079/fbNu2zRhj\n",
              "zMSJE82bb77pHzd//nzTrVs3061bNzNhwoR6r4C2UVlZmZFkunXrZpKTk01ycrJJS0szxhjzxBNP\n",
              "mL///e/GGGNWrFhhrr/+etO3b1/Tq1cv8+CDD5pTp04159Qb5auvvjIpKSmmT58+pnfv3iYjI8Ps\n",
              "2bPHGNNy1vCcn/70p+aVV14J2Baqa5iVlWViY2NNWFiYiY6ONt27dzfGNHw+GhNa61nf8V3oXDQm\n",
              "tNayvuO70LloTGitnzENP0eNqf9cNCa01vBCz8cDBw6YW265xcTHx5tevXqZNWvW+H/u/GM0xpg3\n",
              "33zTJCUlme7du5uRI0eao0ePBn2ufCkhAACw1hX91g8AALAboQIAAKxFqAAAAGsRKgAAwFqECgAA\n",
              "sBahAgAArEWoAAAAaxEqAADAWoQKAACwFqECAACs9f8BNlf5ho7j3/sAAAAASUVORK5CYII=\n",
              "\">\n",
              "      </div>\n",
              "      <script type=\"text/javascript\">\n",
              "        (() => {\n",
              "          const chartElement = document.getElementById(\"chart-9f1ceafe-4f07-4ba2-a0e6-1d8a2a920d3f\");\n",
              "          async function getCodeForChartHandler(event) {\n",
              "            const chartCodeResponse =  await google.colab.kernel.invokeFunction(\n",
              "                'getCodeForChart', [\"chart-9f1ceafe-4f07-4ba2-a0e6-1d8a2a920d3f\"], {});\n",
              "            const responseJson = chartCodeResponse.data['application/json'];\n",
              "            await google.colab.notebook.addCell(responseJson.code, 'code');\n",
              "          }\n",
              "          chartElement.onclick = getCodeForChartHandler;\n",
              "        })();\n",
              "      </script>\n",
              "      <style>\n",
              "        .colab-quickchart-chart-with-code  {\n",
              "            display: block;\n",
              "            float: left;\n",
              "            border: 1px solid transparent;\n",
              "        }\n",
              "\n",
              "        .colab-quickchart-chart-with-code:hover {\n",
              "            cursor: pointer;\n",
              "            border: 1px solid #aaa;\n",
              "        }\n",
              "      </style>"
            ]
          },
          "metadata": {}
        },
        {
          "output_type": "display_data",
          "data": {
            "text/plain": [
              "from matplotlib import pyplot as plt\n",
              "data['product b'].plot(kind='hist', bins=20, title='product b')\n",
              "plt.gca().spines[['top', 'right',]].set_visible(False)"
            ],
            "text/html": [
              "      <div class=\"colab-quickchart-chart-with-code\" id=\"chart-c7a84bb9-ed9c-4c00-9594-f8212a32c8d1\">\n",
              "        <img style=\"width: 180px;\" src=\"data:image/png;base64,iVBORw0KGgoAAAANSUhEUgAAAjEAAAGrCAYAAAAxesZMAAAAOnRFWHRTb2Z0d2FyZQBNYXRwbG90\n",
              "bGliIHZlcnNpb24zLjEwLjAsIGh0dHBzOi8vbWF0cGxvdGxpYi5vcmcvlHJYcgAAAAlwSFlzAAAP\n",
              "YQAAD2EBqD+naQAAKpFJREFUeJzt3X1UVPedx/HPCC4xhgdBERpEqjy4KvKQwBrN4/a4EmvQoLsx\n",
              "G5uIgriJdXtI14Q1ttEmwXarid09RohUa9zjQxQbVtf0xCZpsdqAMWhX1wdUBC2I9QGUKuHh7h8e\n",
              "Z53CoEMYmJ++X+fcc7j3/u5vvr/8xplP7tyZa7MsyxIAAIBhevV0AQAAAJ1BiAEAAEYixAAAACMR\n",
              "YgAAgJEIMQAAwEiEGAAAYCRCDAAAMBIhBgAAGIkQAwAAjESIAWCMsLAwrVmzplsfc8aMGZo+fXq3\n",
              "PiaA20OIAXBX+uyzz2Sz2dTc3NzTpQDoJEIMgG7V0tKi1tbWni4DwB2AEAPga3n88cc1d+5cpaWl\n",
              "ydfXV5GRkVq7dq19/40zHhs2bFB0dLTuvfde1dbW6syZM/qHf/gHDRw4UAMHDtQzzzyjP/7xj/bj\n",
              "rly5olmzZikoKEj333+/li9f7vC47Z1JWbNmjcLCwuzrzc3NWrZsmYYPHy5fX1+FhYXpxz/+sSor\n",
              "K/Xkk09KkgICAnTffffprbfecjrGr776ShkZGQoICFB4eLh+8pOffO3/bgC+PkIMgK+toKBA6enp\n",
              "unjxon72s58pIyNDv/vd7xzabNy4UXv27FF9fb0GDBigiRMnysvLS0ePHtWRI0dkWZZSU1PV0tIi\n",
              "ScrOztaXX36p/fv36+jRoyorK1NNTY1Ldb3++utasWKF1qxZo7q6Oh04cECPPvqowsPDtWPHDknS\n",
              "pUuXdOXKFf3rv/6r0362bt2qpKQknTt3Tps2bdKSJUv0n//5ny7+VwLQ1QgxAL62CRMm6KmnnpK3\n",
              "t7cmTJigp59+Wj//+c8d2ixZskRBQUHy8fFRSUmJ9u/frxUrVsjf318BAQF69913tW/fPpWWlqq1\n",
              "tVVr167VokWLFBYWpr59++qdd95x6WMoy7K0fPlyLVmyRMnJyerVq5cCAwP10EMPuTy+UaNGKSsr\n",
              "S71799bo0aOVmZnZZnwAuh8hBsDX9s1vfrPNelVVldM2VVVVCgwMVL9+/ezbgoKC1K9fP1VWVurc\n",
              "uXNqbGx0OMbf31+BgYG3XdOf/vQnXblyRTExMa4Op43bGR+A7keIAfC1VVRUtFm/+doUSerV6/9f\n",
              "bgYNGqSLFy/q4sWL9m0XLlzQxYsXFR4ergEDBsjHx8eh37q6Oof2vr6+kqSGhgb7tpuvqenfv7/u\n",
              "u+8+HT16tN2ab66nK8YHoPsRYgB8bf/93/+t7du3q6WlRR999JG2bt2q9PR0p+2Tk5M1cuRIzZ07\n",
              "V/X19aqrq9NLL72k+Ph4JSUlqVevXpo+fbpef/11nTlzRg0NDXr55Zdls9nsfURHR8vX11d5eXlq\n",
              "bW1VWVmZ8vPz7fttNpu++93vKicnR3v37pVlWbpw4YL27NkjSQoJCZEkHTly5Jbj279/v1atWqXm\n",
              "5maVlJTovffe63B8ALoHIQbA1zZz5kwVFBQoICBAL730klauXKlHHnnEaXsvLy9t27ZNjY2NioyM\n",
              "VFRUlJqbm1VUVCQvLy9J0ttvv63Y2FjFxsYqOjpasbGx9uAhXT8T84tf/EL5+fny8/NTTk6OZs+e\n",
              "7fA4ixcvVkZGhp577jn5+vpq1KhRKi4ulnQ9BH33u9/VE088oYCAAC1ZssRpvU8//bR+//vfq3//\n",
              "/poyZYq+//3v8wN4gAewWZZl9XQRAMz1+OOP6+GHH9Ybb7zR06UAuMtwJgYAABiJEAMAAIzEx0kA\n",
              "AMBInIkBAABGIsQAAAAjEWIAAICRCDEAAMBId3yIWb58eU+XAAAA3OCODzGnTp3q6RIAAIAb3PEh\n",
              "BgAA3JkIMQAAwEiEGAAAYCRCDAAAMBIhBgAAGIkQAwAAjESIAQAARiLEAAAAIxFiAACAkQgxAADA\n",
              "SIQYAABgJEIMAAAwkttCzLVr1zR58mRFR0crLi5O48aNU3l5ebttt23bpmHDhikqKkppaWmqr6+/\n",
              "rX0AAODu5dYzMbNnz9aRI0e0f/9+TZo0SRkZGW3aXLlyRbNmzdIvf/lLHTt2TN/4xjf0ox/96Jb7\n",
              "AADA3c1tIeaee+7RhAkTZLPZJEmjR49WRUVFm3Y7duxQQkKChg0bJkl68cUXtX79+lvua09jY6Pq\n",
              "6+sdlpaWli4eGQAA8ATe3fVAy5cv16RJk9psr6ys1ODBg+3rERERqq6uVnNzc4f7vL3blp6bm6tF\n",
              "ixY5bBs9enQXjuL/Rby63S39SlLFkm+7rW8AAO4U3XJh71tvvaXy8nLl5ua69XFycnJUV1fnsCQn\n",
              "J7v1MQEAQM9we4j56U9/qsLCQu3YsUP33ntvm/3h4eE6deqUfb2iokKhoaHy9vbucF97fHx85Ofn\n",
              "57B4eXl1/aAAAECPc2uIWbZsmdavX6+PP/5YAQEB7bZJSUnRvn37dPjwYUnSihUrNG3atFvuAwAA\n",
              "dze3XRNz+vRpvfzyyxoyZIieeOIJSdfPlHz++ef6wQ9+oG984xuaM2eOfH19tWrVKk2ePFnNzc0a\n",
              "OXKkfvGLX0hSh/sAAMDdzWZZltXTRbhTdna2li1b1uX9cmEvAAA9i1/sBQAARiLEAAAAIxFiAACA\n",
              "kQgxAADASIQYAABgJEIMAAAwEiEGAAAYiRADAACMRIgBAABGIsQAAAAjEWIAAICRCDEAAMBIhBgA\n",
              "AGAkQgwAADASIQYAABiJEAMAAIxEiAEAAEYixAAAACMRYgAAgJEIMQAAwEiEGAAAYCRCDAAAMBIh\n",
              "BgAAGIkQAwAAjESIAQAARiLEAAAAIxFiAACAkQgxAADASIQYAABgJEIMAAAwEiEGAAAYiRADAACM\n",
              "RIgBAABGIsQAAAAjEWIAAICR3Bpi5s2bp4iICNlsNpWVlbXbZvXq1YqPj7cv/fv3V1pamiSpoqJC\n",
              "Xl5eDvuPHz/uzpIBAIAhvN3Z+dSpUzV//nw9/PDDTtukp6crPT3dvj5y5Eg999xz9nVfX1+nAQgA\n",
              "ANy93BpiHn30UZfaf/7556qtrVVqamqnHq+xsVGNjY0O21paWjrVFwAA8GwedU1MQUGBvvOd76h3\n",
              "7972bQ0NDUpKSlJiYqIWL17cYSjJzc2Vv7+/w1JSUtIdpQMAgG7mMSGmoaFBGzZs0KxZs+zbQkND\n",
              "debMGZWWlmrnzp0qLi7W0qVLnfaRk5Ojuro6hyU5Obk7ygcAAN3MY0LMBx98oBEjRmj48OH2bT4+\n",
              "PgoODpYkBQYGaubMmSouLnbah4+Pj/z8/BwWLy8vt9cOAAC6n8eEmIKCAoezMJJUW1urpqYmSdev\n",
              "dyksLFRCQkJPlAcAADyMW0NMVlaWwsLCdPr0aY0fP16RkZGSpIyMDBUVFdnbHTlyRGVlZXrmmWcc\n",
              "jt+1a5cSEhIUFxenxMREhYSEaMGCBe4sGQAAGMJmWZbV00W4U3Z2tpYtW9bl/Ua8ur3L+7yhYsm3\n",
              "3dY3AAB3Co/5OAkAAMAVhBgAAGAkQgwAADASIQYAABiJEAMAAIxEiAEAAEYixAAAACMRYgAAgJEI\n",
              "MQAAwEiEGAAAYCRCDAAAMBIhBgAAGIkQAwAAjESIAQAARiLEAAAAIxFiAACAkQgxAADASIQYAABg\n",
              "JEIMAAAwEiEGAAAYiRADAACMRIgBAABGIsQAAAAjEWIAAICRCDEAAMBIhBgAAGAkQgwAADASIQYA\n",
              "ABiJEAMAAIxEiAEAAEYixAAAACMRYgAAgJEIMQAAwEiEGAAAYCRCDAAAMJJbQ8y8efMUEREhm82m\n",
              "srKydtt89tln6tOnj+Lj4+3L1atX7fsLCgoUFRWloUOHKjMzU01NTe4sGQAAGMKtIWbq1KnatWuX\n",
              "Bg8e3GG7mJgYlZWV2Zc+ffpIkk6ePKmFCxequLhY5eXlOnv2rPLz891ZMgAAMIRbQ8yjjz6qsLCw\n",
              "Th+/efNmpaamKiQkRDabTXPmzNH69eudtm9sbFR9fb3D0tLS0unHBwAAnssjrok5fvy4EhMTlZSU\n",
              "pBUrVti3V1ZWOpzFiYiIUGVlpdN+cnNz5e/v77CUlJS4tXYAANAzejzEJCYm6vTp09q3b5+2bt2q\n",
              "lStXatOmTZ3qKycnR3V1dQ5LcnJyF1cMAAA8QY+HGD8/P/n7+0uSwsLC9Oyzz6q4uFiSFB4erlOn\n",
              "TtnbVlRUKDw83GlfPj4+8vPzc1i8vLzcOwAAANAjejzEVFdXq7W1VZJ0+fJlbdu2TQkJCZKkKVOm\n",
              "qKioSDU1NbIsSytXrtS0adN6slwAAOAh3BpisrKyFBYWptOnT2v8+PGKjIyUJGVkZKioqEiStGXL\n",
              "FsXGxiouLk6jR4/WuHHjlJ6eLkkaMmSIFi1apLFjxyoyMlIDBgxQVlaWO0sGAACGsFmWZfV0Ee6U\n",
              "nZ2tZcuWdXm/Ea9u7/I+b6hY8m239Q0AwJ2ixz9OAgAA6AxCDAAAMBIhBgAAGIkQAwAAjESIAQAA\n",
              "RiLEAAAAIxFiAACAkQgxAADASIQYAABgJEIMAAAwEiEGAAAYiRADAACMRIgBAABGIsQAAAAjEWIA\n",
              "AICRCDEAAMBIhBgAAGAkQgwAADASIQYAABiJEAMAAIxEiAEAAEYixAAAACMRYgAAgJEIMQAAwEiE\n",
              "GAAAYCRCDAAAMBIhBgAAGIkQAwAAjESIAQAARiLEAAAAIxFiAACAkQgxAADASIQYAABgJEIMAAAw\n",
              "EiEGAAAYya0hZt68eYqIiJDNZlNZWVm7bT755BMlJydr+PDhGjFihObPn6/W1lZJUkVFhby8vBQf\n",
              "H29fjh8/7s6SAQCAIdwaYqZOnapdu3Zp8ODBTtv069dPGzZs0KFDh/TFF19o9+7dWrt2rX2/r6+v\n",
              "ysrK7MvQoUPdWTIAADCEtzs7f/TRR2/ZJiEhwf73Pffco/j4eFVUVHTq8RobG9XY2OiwraWlpVN9\n",
              "AQAAz+ZR18TU1NRo8+bNmjhxon1bQ0ODkpKSlJiYqMWLF3cYSnJzc+Xv7++wlJSUdEfpAACgm3lM\n",
              "iKmvr9dTTz2l+fPn68EHH5QkhYaG6syZMyotLdXOnTtVXFyspUuXOu0jJydHdXV1DktycnJ3DQEA\n",
              "AHQjjwgxly9fVkpKiiZNmqTs7Gz7dh8fHwUHB0uSAgMDNXPmTBUXFzvtx8fHR35+fg6Ll5eX2+sH\n",
              "AADdr8dDzJUrV5SSkqKUlBS99tprDvtqa2vV1NQk6fr1LoWFhQ7X0AAAgLuXW0NMVlaWwsLCdPr0\n",
              "aY0fP16RkZGSpIyMDBUVFUmSli9frpKSEhUWFtq/Rv3mm29Kknbt2qWEhATFxcUpMTFRISEhWrBg\n",
              "gTtLBgAAhrBZlmX1dBHulJ2drWXLlnV5vxGvbu/yPm+oWPJtt/UNAMCdosc/TgIAAOgMQgwAADAS\n",
              "IQYAABiJEAMAAIzkcoj51a9+5Y46AAAAXOJyiFm8eLFiYmK0fPly1dfXu6MmAACAW3I5xPzud7/T\n",
              "hg0b9D//8z+Kjo7Wiy++qEOHDrmjNgAAAKc6dU1MQkKC3nvvPX300Ufatm2bRo0apXHjxukPf/hD\n",
              "V9cHAADQrk6FmJ07d2rSpElKS0vTSy+9pJqaGmVlZenpp5/u6voAAADa5e3qAX/913+t/v37a968\n",
              "eUpLS7PfYHHq1KkqKCjo8gIBAADa43KIWbdunR544IF29+3YseNrFwQAAHA7XP446YsvvtCFCxfs\n",
              "6+fPn9d7773XpUUBAADcisshZsWKFQoMDLSvBwUFacWKFV1aFAAAwK24HGLau+l1S0tLlxQDAABw\n",
              "u1wOMaGhodq0aZN9fePGjQoNDe3SogAAAG7F5Qt733nnHU2aNEnz58+XJN1777368MMPu7wwAACA\n",
              "jrgcYoYNG6ZDhw7pyJEjkqSYmBj716wBAAC6i8shRpJsNpsCAgLU3NysM2fOSJLCw8O7tDAAAICO\n",
              "uBxi1qxZo3nz5ql3797q1ev6JTU2m021tbVdXhwAAIAzLoeYH/3oRyotLVVMTIw76gEAALgtLn87\n",
              "qX///gQYAADQ41wOMZMnT9Y777yj2tpa1dfX2xcAAIDu5PLHSQsWLJAkZWdny2azybIs2Ww2fvAO\n",
              "AAB0K5dDTGtrqzvqAAAAcInLHydJ128C+f7770uSLl26pOrq6i4tCgAA4FY6dQPImTNn6vXXX5d0\n",
              "/S7W//iP/9jVdQEAAHTI5RCTn5+v3//+9/Lz85MkDR06VOfOnevywgAAADricojx8fFRnz59HLZ5\n",
              "e3fqh38BAAA6zeUQM2DAAB09elQ2m03S9V/w5ZYDAACgu3XqLtbPPvusDh8+rEGDBsnPz0/btm1z\n",
              "R20AAABOuRxiIiMj9fnnn+vIkSOyLIu7WAMAgB7hcoiprKyUJPXt21eSuIs1AADoES6HmAceeMD+\n",
              "S73Xrl3Tn//8ZwUFBXEXawAA0K1cDjF/+XXqwsJC7d+/v8sKAgAAuB2d+sXem6WlpWn79u1dUQsA\n",
              "AMBtcznE3Hzn6osXL+qjjz5yehfrefPmKSIiQjabTWVlZU77LCgoUFRUlIYOHarMzEw1NTXd1j4A\n",
              "AHD3cjnEBAQEqF+/fgoICFBwcLCys7P1s5/9rN22U6dO1a5duzR48GCn/Z08eVILFy5UcXGxysvL\n",
              "dfbsWeXn599yHwAAuLu5HGJaW1vV0tKi1tZWNTU16dChQ0pJSWm37aOPPqqwsLAO+9u8ebNSU1MV\n",
              "EhIim82mOXPmaP369bfc157GxkaHM0X19fVqaWlxdYgAAMAAPX6/gMrKSoczNREREfavcXe0rz25\n",
              "ublatGiRw7bRo0d3ccVAz4l41X3Xn1Us+bbb+gbQs9z12tHTrxsun4np1auXvLy82iw3tveknJwc\n",
              "1dXVOSzJyck9WhMAAHAPl8/ELF68WFevXtU//dM/SZJWrlypPn366Hvf+16nCggPD9fx48ft6xUV\n",
              "FfYfzutoX3t8fHzk4+PjsK2ngxUAAHAPl8/EbN26VW+++abCwsIUFhamN954Q4WFherbt6/9V3xd\n",
              "MWXKFBUVFammpkaWZWnlypWaNm3aLfcBAIC7m8sh5vLlyw6/zltbW6vLly+32zYrK0thYWE6ffq0\n",
              "xo8fr8jISElSRkaGioqKJElDhgzRokWLNHbsWEVGRmrAgAHKysq65T4AAHB3c/njpJdffllxcXGa\n",
              "MGGCJOmjjz7S66+/3m7bvLy8drevWrXKYT0zM1OZmZnttu1oHwAAuHu5HGKysrI0duxYffrpp5Kk\n",
              "7OxsjRgxossLAwAA6EinvmIdFBSk2NhYPf7442pubtZXX32lv/qrv+rq2gAAAJxy+ZqYzZs3a/To\n",
              "0UpPT5ckHTx4UJMnT+7qugAAADrkcojJzc3Vvn37FBAQIEmKi4vTqVOnurouAACADrkcYry8vBQU\n",
              "FOSwjY+SAABAd3M5xPj6+urs2bOy2WySpF//+tcKDAzs8sIAAAA64vKFvT/+8Y/15JNP6sSJE3r4\n",
              "4Yd18uRJbd/uvvu5AAAAtMelEHPjDtaffvqpdu/eLcuyNGbMGPv1MQAAAN3FpRDTq1cvzZ49W/v3\n",
              "79eTTz7prpoAAABuyeVrYqKiolReXu6OWgAAAG6by9fEXLhwQfHx8RozZozuu+8++/bCwsIuLQwA\n",
              "AKAjtx1iZs+erfz8fL3wwgtKTU1Vv3793FkXAABAh247xOzdu1eS9MILLygxMVH79u1zW1EAAAC3\n",
              "4vI1MZJkWVZX1wEAAOCS2z4Tc/XqVf3hD3+QZVm6du2a/e8bRo0a5ZYCAQAA2uNSiElNTbWv3/y3\n",
              "zWbTiRMnurYyAACADtx2iKmoqHBjGQAAAK7p1DUxAAAAPY0QAwAAjESIAQAARiLEAAAAIxFiAACA\n",
              "kQgxAADASIQYAABgJEIMAAAwEiEGAAAYiRADAACMRIgBAABGIsQAAAAjEWIAAICRCDEAAMBIhBgA\n",
              "AGAkQgwAADASIQYAABiJEAMAAIzk1hBz7NgxjRkzRtHR0UpKStLBgwfbtFm9erXi4+PtS//+/ZWW\n",
              "liZJqqiokJeXl8P+48ePu7NkAABgCG93dp6VlaXZs2drxowZ2rx5s2bMmKHS0lKHNunp6UpPT7ev\n",
              "jxw5Us8995x93dfXV2VlZe4sEwAAGMhtZ2Jqa2u1d+9eTZ8+XZI0ZcoUVVVVqby83Okxn3/+uWpr\n",
              "a5Wamtqpx2xsbFR9fb3D0tLS0qm+AACAZ3NbiKmqqlJoaKi8va+f7LHZbAoPD1dlZaXTYwoKCvSd\n",
              "73xHvXv3tm9raGhQUlKSEhMTtXjx4g5DSW5urvz9/R2WkpKSrhsUAADwGB5zYW9DQ4M2bNigWbNm\n",
              "2beFhobqzJkzKi0t1c6dO1VcXKylS5c67SMnJ0d1dXUOS3JycneUDwAAupnbQsygQYNUXV2t5uZm\n",
              "SZJlWaqsrFR4eHi77T/44AONGDFCw4cPt2/z8fFRcHCwJCkwMFAzZ85UcXGx08f08fGRn5+fw+Ll\n",
              "5dWFowIAAJ7CbSEmODhYiYmJWrdunSRpy5YtCgsLU2RkZLvtCwoKHM7CSNevq2lqapJ0/XqXwsJC\n",
              "JSQkuKtkAABgELd+nJSXl6e8vDxFR0dryZIlWr16tSQpIyNDRUVF9nZHjhxRWVmZnnnmGYfjd+3a\n",
              "pYSEBMXFxSkxMVEhISFasGCBO0sGAACGcOtXrGNiYrRnz54221etWtWm3eXLl9u0S0tLs/9mDAAA\n",
              "wM085sJeAAAAVxBiAACAkQgxAADASIQYAABgJEIMAAAwEiEGAAAYiRADAACMRIgBAABGIsQAAAAj\n",
              "EWIAAICRCDEAAMBIhBgAAGAkQgwAADASIQYAABiJEAMAAIxEiAEAAEYixAAAACMRYgAAgJEIMQAA\n",
              "wEiEGAAAYCRCDAAAMBIhBgAAGIkQAwAAjESIAQAARiLEAAAAIxFiAACAkQgxAADASIQYAABgJEIM\n",
              "AAAwEiEGAAAYiRADAACMRIgBAABGIsQAAAAjEWIAAICRCDEAAMBIbg0xx44d05gxYxQdHa2kpCQd\n",
              "PHiwTZvPPvtMffr0UXx8vH25evWqfX9BQYGioqI0dOhQZWZmqqmpyZ0lAwAAQ7g1xGRlZWn27Nk6\n",
              "evSoXnnlFc2YMaPddjExMSorK7Mvffr0kSSdPHlSCxcuVHFxscrLy3X27Fnl5+e7s2QAAGAIt4WY\n",
              "2tpa7d27V9OnT5ckTZkyRVVVVSovL7/tPjZv3qzU1FSFhITIZrNpzpw5Wr9+vdP2jY2Nqq+vd1ha\n",
              "Wlq+9lgAAIDncVuIqaqqUmhoqLy9vSVJNptN4eHhqqysbNP2+PHjSkxMVFJSklasWGHfXllZqcGD\n",
              "B9vXIyIi2j3+htzcXPn7+zssJSUlXTgqAADgKXr8wt7ExESdPn1a+/bt09atW7Vy5Upt2rSpU33l\n",
              "5OSorq7OYUlOTu7iigEAgCdwW4gZNGiQqqur1dzcLEmyLEuVlZUKDw93aOfn5yd/f39JUlhYmJ59\n",
              "9lkVFxdLksLDw3Xq1Cl724qKijbH38zHx0d+fn4Oi5eXV1cPDQAAeAC3hZjg4GAlJiZq3bp1kqQt\n",
              "W7YoLCxMkZGRDu2qq6vV2toqSbp8+bK2bdumhIQESdevoykqKlJNTY0sy9LKlSs1bdo0d5UMAAAM\n",
              "4taPk/Ly8pSXl6fo6GgtWbJEq1evliRlZGSoqKhI0vVwExsbq7i4OI0ePVrjxo1Tenq6JGnIkCFa\n",
              "tGiRxo4dq8jISA0YMEBZWVnuLBkAABjC252dx8TEaM+ePW22r1q1yv733LlzNXfuXKd9ZGZmKjMz\n",
              "0y31AQAAc/X4hb0AAACdQYgBAABGIsQAAAAjEWIAAICRCDEAAMBIhBgAAGAkQgwAADASIQYAABiJ\n",
              "EAMAAIxEiAEAAEYixAAAACMRYgAAgJEIMQAAwEiEGAAAYCRCDAAAMBIhBgAAGIkQAwAAjESIAQAA\n",
              "RiLEAAAAIxFiAACAkQgxAADASIQYAABgJEIMAAAwEiEGAAAYiRADAACMRIgBAABGIsQAAAAjEWIA\n",
              "AICRCDEAAMBIhBgAAGAkQgwAADASIQYAABiJEAMAAIxEiAEAAEYixAAAACO5NcQcO3ZMY8aMUXR0\n",
              "tJKSknTw4ME2bT755BMlJydr+PDhGjFihObPn6/W1lZJUkVFhby8vBQfH29fjh8/7s6SAQCAIdwa\n",
              "YrKysjR79mwdPXpUr7zyimbMmNGmTb9+/bRhwwYdOnRIX3zxhXbv3q21a9fa9/v6+qqsrMy+DB06\n",
              "1J0lAwAAQ7gtxNTW1mrv3r2aPn26JGnKlCmqqqpSeXm5Q7uEhAQNGTJEknTPPfcoPj5eFRUVnXrM\n",
              "xsZG1dfXOywtLS1faxwAAMAzuS3EVFVVKTQ0VN7e3pIkm82m8PBwVVZWOj2mpqZGmzdv1sSJE+3b\n",
              "GhoalJSUpMTERC1evLjDUJKbmyt/f3+HpaSkpOsGBQAAPIbHXNhbX1+vp556SvPnz9eDDz4oSQoN\n",
              "DdWZM2dUWlqqnTt3qri4WEuXLnXaR05Ojurq6hyW5OTk7hoCAADoRm4LMYMGDVJ1dbWam5slSZZl\n",
              "qbKyUuHh4W3aXr58WSkpKZo0aZKys7Pt2318fBQcHCxJCgwM1MyZM1VcXOz0MX18fOTn5+eweHl5\n",
              "dfHIAACAJ3BbiAkODlZiYqLWrVsnSdqyZYvCwsIUGRnp0O7KlStKSUlRSkqKXnvtNYd9tbW1ampq\n",
              "knT9epfCwkIlJCS4q2QAAGAQt36clJeXp7y8PEVHR2vJkiVavXq1JCkjI0NFRUWSpOXLl6ukpESF\n",
              "hYX2r1G/+eabkqRdu3YpISFBcXFxSkxMVEhIiBYsWODOkgEAgCG83dl5TEyM9uzZ02b7qlWr7H8v\n",
              "WLDAaTBJS0tTWlqa2+oDAADm8pgLewEAAFxBiAEAAEYixAAAACMRYgAAgJEIMQAAwEiEGAAAYCRC\n",
              "DAAAMBIhBgAAGIkQAwAAjESIAQAARiLEAAAAIxFiAACAkQgxAADASIQYAABgJEIMAAAwEiEGAAAY\n",
              "iRADAACMRIgBAABGIsQAAAAjEWIAAICRCDEAAMBIhBgAAGAkQgwAADASIQYAABiJEAMAAIxEiAEA\n",
              "AEYixAAAACMRYgAAgJEIMQAAwEiEGAAAYCRCDAAAMBIhBgAAGIkQAwAAjESIAQAARiLEAAAAI7k1\n",
              "xBw7dkxjxoxRdHS0kpKSdPDgwXbbFRQUKCoqSkOHDlVmZqaamppuax8AALh7uTXEZGVlafbs2Tp6\n",
              "9KheeeUVzZgxo02bkydPauHChSouLlZ5ebnOnj2r/Pz8W+4DAAB3N7eFmNraWu3du1fTp0+XJE2Z\n",
              "MkVVVVUqLy93aLd582alpqYqJCRENptNc+bM0fr162+5rz2NjY2qr693WFpaWtw1RAAA0IO83dVx\n",
              "VVWVQkND5e19/SFsNpvCw8NVWVmpyMhIe7vKykoNHjzYvh4REaHKyspb7mtPbm6uFi1a5LBt2LBh\n",
              "ys7O7pIx3dDS0qLQkhIlJyfLy8urS/uWpOzsX3d5n65qaWlRiRvH2NNMHV/abbbrzPg84XnnClPn\n",
              "8Hbd6eOT7vwxetL4bve1wxUtLS166KE33Da+wYMH65//+Z87bOO2ENMTcnJy2gQWHx8f+fj4dOnj\n",
              "1NfXy9/fX7/61a/k5+fXpX17ijt9jIzPfHf6GO/08Ul3/hgZn/u5LcQMGjRI1dXVam5ulre3tyzL\n",
              "UmVlpcLDwx3ahYeH6/jx4/b1iooKe5uO9rXHHYEFAAB4JrddExMcHKzExEStW7dOkrRlyxaFhYU5\n",
              "fJQkXb9WpqioSDU1NbIsSytXrtS0adNuuQ8AANzd3PrtpLy8POXl5Sk6OlpLlizR6tWrJUkZGRkq\n",
              "KiqSJA0ZMkSLFi3S2LFjFRkZqQEDBigrK+uW+wAAwN3NrdfExMTEaM+ePW22r1q1ymE9MzNTmZmZ\n",
              "7fbR0b6e4uPjox/+8Id39EdXd/oYGZ/57vQx3unjk+78MTI+97NZlmX12KMDAAB0ErcdAAAARiLE\n",
              "AAAAIxFiAACAkQgxAADASISYm8ybN08RERGy2WwqKyuzb7/du3FLnn/X7fbGeO3aNU2ePFnR0dGK\n",
              "i4vTuHHj2tzj6oaKigp5eXkpPj7evtz8g4Q9zdkcRkREKCYmxl7zxo0bnfbhyXPY3vjOnz/vMB/R\n",
              "0dHy9vbWhQsX2hzv6fPX0XOxtrZWKSkpioqK0siRI/Xb3/7WaT/btm3TsGHDFBUVpbS0NNXX13fX\n",
              "EG6pozGmp6fbt48dO1alpaVO+7HZbIqNjbXPY3FxcXcNoUMdje/xxx/XN7/5TXvNb7/9ttN+PHUO\n",
              "Oxrf3/zN39jHNnLkSNlsNh04cKDdfjx1/m74u7/7O40aNUrx8fF65JFH9OWXX0rywPdDC3a/+c1v\n",
              "rKqqKmvw4MHWl19+ad/+xBNPWKtXr7Ysy7I++OAD68EHH2z3+BMnTlihoaFWdXW11draaj311FPW\n",
              "f/zHf3RD5bevvTFevXrV2r59u9Xa2mpZlmX9+7//u/XYY4+1e/zJkyctf3//7im2E5zN4V+uO+Pp\n",
              "c+hsfDf7t3/7N2vixInt7vP0+evouZienm798Ic/tCzLskpKSqz777/f+uqrr9r0cfnyZSs4ONj6\n",
              "3//9X8uyLOull16yvv/973dL/bejozF++OGHVlNTk2VZlvVf//Vf1uDBg532I8m6ePGim6t1XUfj\n",
              "e+yxx6ytW7fesg9PnsPbfb384IMPrJEjRzrtx1Pn74abayssLLRGjRplWZbnvR8SYtpx8xvE2bNn\n",
              "LV9fX/sLS2trqzVw4EDr2LFjbY77yU9+YmVlZdnXt2/fbo0dO7ZbanZVR2+CpaWlTl88Pf1N8IbO\n",
              "hhhT5rCj8QwbNszpG4Up83fDzc/Fvn37WtXV1fZ9SUlJ1scff9zmmE2bNlnjx4+3rx88eNC6//77\n",
              "3V5rZzn793bu3DnL29vb/trzlzz9TfCGm8d3uyHGpDl0Nn8pKSnW22+/7fQ4U+bPsixr9erVVlxc\n",
              "nEe+H/Jx0i10dDfuv+TqXbc91fLlyzVp0iSn+xsaGpSUlKTExEQtXrxYLS0t3Vhd5z3//POKjY3V\n",
              "rFmzdO7cuXbbmD6Hu3fv1sWLFzVx4kSnbUyavxvPxfPnz6upqUkhISH2fc7mpr05vHEfN0/k7N/b\n",
              "8uXLNWHCBPtrT3u+9a1vKS4uTtnZ2WpoaHBnmZ32l+N79dVXFRsbq2eeeUYnTpxo9xiT5rC9+auq\n",
              "qtJvfvMbTZ8+vcNjPX3+nn/+eQ0aNEgLFy7U+++/75Hvh4QYOHjrrbdUXl6u3NzcdveHhobqzJkz\n",
              "Ki0t1c6dO1VcXKylS5d2c5Wu++1vf6sDBw5o37596t+/v1544YWeLsktCgoK9Pzzzzt94zNp/m71\n",
              "XLwTOBvjunXrtGnTJuXn5zs99tSpU/riiy+0e/dunTt3Tv/yL//i7nJd9pfje//993X48GEdOHBA\n",
              "jzzySIdh2wTO5m/NmjWaOHGi+vfv7/RYE+Zv7dq1qqqq0htvvKFXXnmlp8tpFyHmFm6+G7ckp3fj\n",
              "lq7fdfvUqVP29VvdddvT/PSnP1VhYaF27Nihe++9t902Pj4+Cg4OliQFBgZq5syZHndBWntuzEPv\n",
              "3r31ve99z2nNJs/hlStXtGnTJs2cOdNpG1Pm7y+fi0FBQfL29lZNTY29jbO5aW8Ob/6/R0/h7N/b\n",
              "xo0btWjRIn388ccaOHCg0+NvjL1v37568cUXPW4e2xvfoEGDJF3/P/i5c+fqxIkTOn/+fJtjTZhD\n",
              "Z/NnWZZWr16tWbNmdXi8p8/fzV544QV9+umnCgsL87j3Q0LMLdzu3bgls++6vWzZMq1fv14ff/yx\n",
              "AgICnLarra21X2He2NiowsJCJSQkdFOVndPQ0KBLly7Z19evX++0ZpPncOPGjYqLi9OwYcOctjFh\n",
              "/pw9F//+7/9eK1eulCSVlpbqzJkzeuyxx9ocn5KSon379unw4cOSpBUrVnjcHDob46ZNm/Taa69p\n",
              "586dHb7gX7x4UX/+858lSa2trdq4caNHzWN742tubtbZs2ftbbZs2aKBAwcqKCiozfGePocdvV5+\n",
              "8sknam5u1rhx45we7+nzd+nSJf3xj3+0r//yl79UUFCQZ74fdvlVNgabPXu2df/991teXl5WcHCw\n",
              "NXToUMuyLOvw4cPW6NGjraioKOuBBx6wDhw4YD9m1qxZ1ocffmhfz8/Pt4YMGWINGTLEmjlzZrvf\n",
              "nuhJ7Y2xqqrKkmQNGTLEiouLs+Li4qzk5GT7MQsXLrTeffddy7Isa8uWLdaIESOsUaNGWcOHD7fm\n",
              "zp1rXbt2raeG00Z74zt+/LgVHx9vxcbGWiNHjrRSU1OtkydP2o8xaQ6dPUcty7Ieeugh6+c//3mb\n",
              "Y0yav46eizU1Nda4ceOsyMhIa/jw4dYnn3xiP+7mMVrW9W/5xMTEWEOHDrUmTZpkXbp0qdvH4kxH\n",
              "Y/T29rbCwsLs2+Pi4qw//elPlmVZ1rvvvmstXLjQsizL2r17txUbG2ufx+nTp1vnz5/vsTHdzNn4\n",
              "rly5Yj3wwAPWyJEjrVGjRll/+7d/a5WVldmPM2UOb/V6+eyzz1o/+MEP2hxnyvxZlmVVVFRYSUlJ\n",
              "9rn61re+Zf8igae9H3IDSAAAYCQ+TgIAAEYixAAAACMRYgAAgJEIMQAAwEiEGAAAYCRCDAAAMBIh\n",
              "BgAAGIkQAwAAjESIAQAARiLEAAAAI/0fyYAmQptDzgwAAAAASUVORK5CYII=\n",
              "\">\n",
              "      </div>\n",
              "      <script type=\"text/javascript\">\n",
              "        (() => {\n",
              "          const chartElement = document.getElementById(\"chart-c7a84bb9-ed9c-4c00-9594-f8212a32c8d1\");\n",
              "          async function getCodeForChartHandler(event) {\n",
              "            const chartCodeResponse =  await google.colab.kernel.invokeFunction(\n",
              "                'getCodeForChart', [\"chart-c7a84bb9-ed9c-4c00-9594-f8212a32c8d1\"], {});\n",
              "            const responseJson = chartCodeResponse.data['application/json'];\n",
              "            await google.colab.notebook.addCell(responseJson.code, 'code');\n",
              "          }\n",
              "          chartElement.onclick = getCodeForChartHandler;\n",
              "        })();\n",
              "      </script>\n",
              "      <style>\n",
              "        .colab-quickchart-chart-with-code  {\n",
              "            display: block;\n",
              "            float: left;\n",
              "            border: 1px solid transparent;\n",
              "        }\n",
              "\n",
              "        .colab-quickchart-chart-with-code:hover {\n",
              "            cursor: pointer;\n",
              "            border: 1px solid #aaa;\n",
              "        }\n",
              "      </style>"
            ]
          },
          "metadata": {}
        },
        {
          "output_type": "display_data",
          "data": {
            "text/plain": [
              "from matplotlib import pyplot as plt\n",
              "data['product c'].plot(kind='hist', bins=20, title='product c')\n",
              "plt.gca().spines[['top', 'right',]].set_visible(False)"
            ],
            "text/html": [
              "      <div class=\"colab-quickchart-chart-with-code\" id=\"chart-45662d0c-f0d3-49fb-a72a-ed75d182b181\">\n",
              "        <img style=\"width: 180px;\" src=\"data:image/png;base64,iVBORw0KGgoAAAANSUhEUgAAAioAAAGrCAYAAADuNLxTAAAAOnRFWHRTb2Z0d2FyZQBNYXRwbG90\n",
              "bGliIHZlcnNpb24zLjEwLjAsIGh0dHBzOi8vbWF0cGxvdGxpYi5vcmcvlHJYcgAAAAlwSFlzAAAP\n",
              "YQAAD2EBqD+naQAAH1hJREFUeJzt3X9QlWX+//HXDdSpVhBFTEY4ksIhLZUwGEMzrWm2+ha60rRt\n",
              "0UbFj1zNbWgml9x2tS2xmZ3K2mmFdDDXWWtTaxntx2xlrRWllJphiZh4yDAqlZOV5Dnc3z+czqez\n",
              "SHns3J4LfD5mzgzn5uLmfc4w8Jz73Jzbsm3bFgAAgIFioj0AAABATwgVAABgLEIFAAAYi1ABAADG\n",
              "IlQAAICxCBUAAGAsQgUAABiLUAEAAMYiVAAAgLEIFQBGSU1N1bJly6I9BgBDECoA+qzXXntNlmXJ\n",
              "7/dHexQAJ4hQARBxgUBAXV1d0R4DQB9AqAD4SZMnT9asWbM0ffp0xcfHKyMjQ8uXLw9+/vsjF089\n",
              "9ZQ8Ho/OOusstbe3a+/evbruuut09tln6+yzz9avf/1rffrpp8GvO3TokG677TYlJSVp6NChWrRo\n",
              "Ucj3PdYRkWXLlik1NTV43+/366GHHtKoUaMUHx+v1NRUPfjgg/J6vbryyislSYmJierXr58WLFhw\n",
              "zMfX0z4ARB+hAuC4LF26VLfccosOHDigRx99VCUlJXrzzTdD1jz99NOqr6+Xz+dTcnKyrr76asXG\n",
              "xqqpqUk7duyQbdsqKChQIBCQJFVUVGjz5s3aunWrmpqatGXLFu3bty+suebNm6fHH39cy5YtU0dH\n",
              "h95//31NmjRJbrdbL7zwgiTp4MGDOnTokO65556w9gHAADYA/IRLLrnEnj59esi26667zr711ltt\n",
              "27bt9evX25Lsjz76KPj5t956y7Ysy96/f39w2xdffGFblmXX19fbgUDAdrlcdl1dXfDzBw8etC3L\n",
              "smtra0P2e+TIkeCa2tpae+jQobZt23ZXV5fdr18/+5lnnjnm3Mf6+v/1U/sAEF0cUQFwXM4555xu\n",
              "91tbW3tc09raqoEDB2rAgAHBbUlJSRowYIC8Xq8+//xzdXZ2hnxN//79NXDgwOOe6YsvvtChQ4eU\n",
              "lZUV7sOJ6D4AOIdQAXBcWlpaut3/4bkikhQT83+/UtLS0nTgwAEdOHAguG3//v06cOCA3G63kpOT\n",
              "5XK5Qvbb0dERsj4+Pl6S9PXXXwe3/fAcl0GDBqlfv35qamo65sw/nKcnP7UPANFFqAA4Ls8//7zW\n",
              "rVunQCCgF198Uc8++6xuueWWHtfn5eXp/PPP16xZs+Tz+dTR0aGZM2cqOztbubm5iomJUVFRkebN\n",
              "m6e9e/fq66+/1l133SXLsoL78Hg8io+PV3V1tbq6urRlyxbV1NQEP29Zlu644w5VVlaqoaFBtm1r\n",
              "//79qq+vlyQNGTJEkrRjx44e5/ypfQCILkIFwHG59dZbtXTpUiUmJmrmzJlavHixLr744h7Xx8bG\n",
              "au3aters7FRGRoYyMzPl9/tVV1en2NhYSdLDDz+s0aNHa/To0fJ4PBo9enQwLqSjR1SefPJJ1dTU\n",
              "KCEhQZWVlSorKwv5Pvfdd59KSkp04403Kj4+XmPGjNGGDRskHQ2dO+64Q1OmTFFiYqIWLlx4zFl/\n",
              "bB8AosuybduO9hAAzDZ58mRNnDhR999/f7RHAXCK4YgKAAAwFqECAACMxUs/AADAWBxRAQAAxiJU\n",
              "AACAsQgVAABgLEIFAAAYq0+Eyv9eGh4AAPQNfSJU9uzZE+0RAACAA/pEqAAAgL6JUAEAAMYiVAAA\n",
              "gLEIFQAAYCxCBQAAGItQAQAAxiJUAACAsQgVAABgLEIFAAAYi1ABAADGIlQAAICxCBUAAGAsR0Nl\n",
              "9uzZSk9Pl2VZ2rJlS4/rli5dqszMTI0YMUKlpaU6cuSIk2MBAIBewtFQufbaa/XGG29o2LBhPa7Z\n",
              "vXu37r33Xm3YsEHNzc367LPPVFNT4+RYAACgl3A0VCZNmqTU1NQfXbNq1SoVFBRoyJAhsixLt99+\n",
              "u1auXNnj+s7OTvl8vpBbIBCI9OgAAMAAcdEewOv1hhxxSU9Pl9fr7XF9VVWV5s+fH7Jt/PjxjsyW\n",
              "/od1juxXkloW/j/H9g0gupz63cHvjd7Pyb8rTon2z12vO5m2srJSHR0dIbe8vLxojwUAABwQ9SMq\n",
              "brdbu3btCt5vaWmR2+3ucb3L5ZLL5QrZFhsb69h8AAAgeqJ+RKWwsFB1dXXat2+fbNvW4sWLdf31\n",
              "10d7LAAAYABHQ6W8vFypqan65JNP9Mtf/lIZGRmSpJKSEtXV1UmShg8frvnz52vChAnKyMhQcnKy\n",
              "ysvLnRwLAAD0Eo6+9FNdXX3M7UuWLAm5X1paqtLSUidHAQAAvVDUX/oBAADoCaECAACMRagAAABj\n",
              "ESoAAMBYhAoAADAWoQIAAIxFqAAAAGMRKgAAwFiECgAAMBahAgAAjEWoAAAAYxEqAADAWIQKAAAw\n",
              "FqECAACMRagAAABjESoAAMBYhAoAADAWoQIAAIxFqAAAAGMRKgAAwFiECgAAMBahAgAAjEWoAAAA\n",
              "YxEqAADAWIQKAAAwFqECAACMRagAAABjESoAAMBYhAoAADAWoQIAAIxFqAAAAGMRKgAAwFiECgAA\n",
              "MBahAgAAjEWoAAAAYxEqAADAWIQKAAAwFqECAACMRagAAABjESoAAMBYhAoAADAWoQIAAIxFqAAA\n",
              "AGMRKgAAwFiECgAAMBahAgAAjEWoAAAAYxEqAADAWIQKAAAwFqECAACMRagAAABjESoAAMBYhAoA\n",
              "ADAWoQIAAIxFqAAAAGMRKgAAwFiECgAAMBahAgAAjEWoAAAAYxEqAADAWIQKAAAwlqOhsnPnTuXn\n",
              "58vj8Sg3N1eNjY3d1nR1damiokKjRo3SmDFjNGXKFDU3Nzs5FgAA6CUcDZXy8nKVlZWpqalJc+bM\n",
              "UXFxcbc1dXV1evPNN7V161a9//77uuyyy3TPPfc4ORYAAOglHAuV9vZ2NTQ0qKioSJJUWFio1tbW\n",
              "bkdLLMtSZ2enDh8+LNu25fP5lJqa6tRYAACgF4lzasetra1KSUlRXNzRb2FZltxut7xerzIyMoLr\n",
              "rrnmGq1fv15DhgxRfHy8hg4dqtdff73H/XZ2dqqzszNkWyAQcOZBAACAqIr6ybQNDQ364IMPtHfv\n",
              "Xn366ae67LLLdPvtt/e4vqqqSv379w+5bdy48SRODAAAThbHQiUtLU1tbW3y+/2SJNu25fV65Xa7\n",
              "Q9YtX75cl156qRITExUTE6Obb75Z69ev73G/lZWV6ujoCLnl5eU59TAAAEAUORYqgwcPVk5Ojlas\n",
              "WCFJWr16tVJTU0Ne9pGk4cOH69VXX9V3330nSVq7dq3OP//8HvfrcrmUkJAQcouNjXXqYQAAgChy\n",
              "7BwVSaqurlZxcbEWLFighIQE1dbWSpJKSkpUUFCggoICzZw5Ux9++KHGjh2r0047TUOGDNHixYud\n",
              "HAsAAPQSjoZKVlaW6uvru21fsmRJ8GOXy6UnnnjCyTEAAEAvFfWTaQEAAHpCqAAAAGMRKgAAwFiE\n",
              "CgAAMBahAgAAjEWoAAAAYxEqAADAWIQKAAAwFqECAACMRagAAABjESoAAMBYhAoAADAWoQIAAIxF\n",
              "qAAAAGMRKgAAwFiECgAAMBahAgAAjEWoAAAAYxEqAADAWIQKAAAwFqECAACMRagAAABjESoAAMBY\n",
              "hAoAADAWoQIAAIxFqAAAAGMRKgAAwFiECgAAMBahAgAAjEWoAAAAYxEqAADAWIQKAAAwFqECAACM\n",
              "RagAAABjESoAAMBYhAoAADAWoQIAAIxFqAAAAGMRKgAAwFiECgAAMBahAgAAjEWoAAAAYxEqAADA\n",
              "WIQKAAAwFqECAACMRagAAABjESoAAMBYhAoAADAWoQIAAIxFqAAAAGMRKgAAwFiECgAAMBahAgAA\n",
              "jEWoAAAAYxEqAADAWIQKAAAwFqECAACMRagAAABjESoAAMBYhAoAADAWoQIAAIxFqAAAAGM5Gio7\n",
              "d+5Ufn6+PB6PcnNz1djYeMx127Zt0+TJkzVy5EiNHDlSa9ascXIsAADQS8Q5ufPy8nKVlZWpuLhY\n",
              "q1atUnFxsTZt2hSy5ptvvtHUqVO1fPlyTZw4UYFAQPv373dyLAAA0Es4dkSlvb1dDQ0NKioqkiQV\n",
              "FhaqtbVVzc3NIev++c9/avz48Zo4caIkKTY2VsnJyT3ut7OzUz6fL+QWCAScehgAACCKHAuV1tZW\n",
              "paSkKC7u6EEby7Lkdrvl9XpD1m3fvl0ul0tXX321srOz9dvf/laff/55j/utqqpS//79Q24bN250\n",
              "6mEAAIAoCjtUXnrppYgO4Pf79fLLL6u6ulqbN2/W0KFDNWPGjB7XV1ZWqqOjI+SWl5cX0ZkAAIAZ\n",
              "wg6V++67T1lZWVq0aJF8Pl+P69LS0tTW1ia/3y9Jsm1bXq9Xbrc7ZJ3b7daUKVM0dOhQWZaloqIi\n",
              "vf322z3u1+VyKSEhIeQWGxsb7sMAAAC9QNih8uabb+qpp57SBx98II/Ho9/97nfavn17t3WDBw9W\n",
              "Tk6OVqxYIUlavXq1UlNTlZGREbLuuuuu06ZNm4LR8/zzz2vs2LEn8lgAAEAfc0LnqFxwwQV64okn\n",
              "9OKLL2rt2rUaM2aMLr/8cm3bti1kXXV1taqrq+XxeLRw4ULV1tZKkkpKSlRXVyfp6BGVe+65R/n5\n",
              "+RozZoxeffVVLV68+Gc+LAAA0Bec0L8nv/zyy3rssce0bds2zZw5U7fddptee+01/epXvwr5r56s\n",
              "rCzV19d3+/olS5aE3L/pppt00003ncgoAACgDws7VEaOHKlBgwZp9uzZmj59evD8kGuvvVZLly6N\n",
              "+IAAAODUFXaorFixQuPGjTvm51544YWfPRAAAMD3wj5H5d133w1559gvv/xSTzzxRESHAgAAkE4g\n",
              "VB5//HENHDgweD8pKUmPP/54RIcCAACQTiBUbNvuto23sAcAAE4IO1RSUlL0r3/9K3j/6aefVkpK\n",
              "SkSHAgAAkE7gZNpHHnlEU6dO1d133y1JOuuss/Tvf/874oMBAACEHSrnnnuutm/frh07dkg6+l4p\n",
              "vIU9AABwwgm94ZtlWUpMTJTf79fevXslqds1fAAAAH6usENl2bJlmj17tk477TTFxBw9xcWyLLW3\n",
              "t0d8OAAAcGoLO1T+8pe/aNOmTcrKynJiHgAAgKCw/+tn0KBBRAoAADgpwg6VadOm6ZFHHlF7e7t8\n",
              "Pl/wBgAAEGlhv/Qzd+5cSVJFRYUsy5Jt27Isizd9AwAAERd2qHR1dTkxBwAAQDdhv/QjHb0w4T/+\n",
              "8Q9J0sGDB9XW1hbRoQAAAKQTvCjhrbfeqnnz5kk6evXkG264IdJzAQAAhB8qNTU1evvtt5WQkCBJ\n",
              "GjFihD7//POIDwYAABB2qLhcLp155pkh2+LiTugNbgEAAH5U2KGSnJyspqYmWZYl6eg71fL2+QAA\n",
              "wAkndPXk3/zmN/roo4+UlpamhIQErV271onZAADAKS7sUMnIyNA777yjHTt2yLZtrp4MAAAcE3ao\n",
              "eL1eSdIvfvELSeLqyQAAwDFhh8q4ceOC70h7+PBhffPNN0pKSuLqyQAAIOLCDpX//VfkNWvWaOvW\n",
              "rREbCAAA4Hsn9M60PzR9+nStW7cuErMAAACECPuIyg+vlBwIBPTOO+9w9WQAAOCIsEMlMTExeI5K\n",
              "bGysMjMz9eijjzoxGwAAOMVx9WQAAGCsn32OCgAAgFPCPqISExMTfPv8H7JtW5ZlKRAIRGQwAACA\n",
              "sEPlvvvu07fffqsZM2ZIkhYvXqwzzzxTd955Z6RnAwAAp7iwQ+XZZ5/Vu+++G7x///33a9y4cZo7\n",
              "d25EBwMAAAj7HJWvvvoq5F1o29vb9dVXX0V0KAAAAOkEjqjcddddGjt2rK666ipJ0osvvqh58+ZF\n",
              "ei4AAIDwQ6W8vFwTJkzQ+vXrJUkVFRU677zzIj4YAABA2KEiSUlJSRo9erQmT54sv9+v7777Tqef\n",
              "fnqkZwMAAKe4sM9RWbVqlcaPH69bbrlFktTY2Khp06ZFei4AAIDwQ6WqqkrvvfeeEhMTJUljx47V\n",
              "nj17Ij0XAABA+KESGxurpKSkkG287AMAAJwQdqjEx8frs88+C7477SuvvKKBAwdGfDAAAICwT6Z9\n",
              "8MEHdeWVV+rjjz/WxIkTtXv3bq1bt86J2QAAwCkurFDp6upSIBDQ+vXr9dZbb8m2beXn5wfPVwEA\n",
              "AIiksEIlJiZGZWVl2rp1q6688kqnZgIAAJB0AueoZGZmqrm52YlZAAAAQoR9jsr+/fuVnZ2t/Px8\n",
              "9evXL7h9zZo1ER0MAADguEOlrKxMNTU1uvnmm1VQUKABAwY4ORcAAMDxh0pDQ4Mk6eabb1ZOTo7e\n",
              "e+89x4YCAACQTuAcFUmybTvScwAAAHRz3EdUvv32W23btk22bevw4cPBj783ZswYRwYEAACnrrBC\n",
              "paCgIHj/hx9blqWPP/44spMBAIBT3nGHSktLi4NjAAAAdHdC56gAAACcDIQKAAAwFqECAACMRagA\n",
              "AABjESoAAMBYhAoAADAWoQIAAIxFqAAAAGMRKgAAwFiOhsrOnTuVn58vj8ej3NxcNTY29rjWtm1d\n",
              "eumlSkxMdHIkAADQizgaKuXl5SorK1NTU5PmzJmj4uLiHtc+/PDDGjFihJPjAACAXsaxUGlvb1dD\n",
              "Q4OKiookSYWFhWptbVVzc3O3tY2NjXruuef0hz/84Sf329nZKZ/PF3ILBAIRnx8AAESfY6HS2tqq\n",
              "lJQUxcUdve6hZVlyu93yer0h644cOaLS0lJVV1crNjb2J/dbVVWl/v37h9w2btzoyGMAAADRFfWT\n",
              "aefPn6/p06dr5MiRx7W+srJSHR0dIbe8vDyHpwQAANEQ59SO09LS1NbWJr/fr7i4ONm2La/XK7fb\n",
              "HbLu9ddfl9fr1d/+9jf5/X75fD6lp6dr06ZNSk5O7rZfl8sll8sVsu14jsQAAIDex7EjKoMHD1ZO\n",
              "To5WrFghSVq9erVSU1OVkZERsm7Dhg3as2ePWlpa9MYbbyghIUEtLS3HjBQAAHBqcfSln+rqalVX\n",
              "V8vj8WjhwoWqra2VJJWUlKiurs7Jbw0AAPoAx176kaSsrCzV19d3275kyZJjrk9PT9fBgwedHAkA\n",
              "APQiUT+ZFgAAoCeECgAAMBahAgAAjEWoAAAAYxEqAADAWIQKAAAwFqECAACMRagAAABjESoAAMBY\n",
              "hAoAADAWoQIAAIxFqAAAAGMRKgAAwFiECgAAMBahAgAAjEWoAAAAYxEqAADAWIQKAAAwFqECAACM\n",
              "RagAAABjESoAAMBYhAoAADAWoQIAAIxFqAAAAGMRKgAAwFiECgAAMBahAgAAjEWoAAAAYxEqAADA\n",
              "WIQKAAAwFqECAACMRagAAABjESoAAMBYhAoAADAWoQIAAIxFqAAAAGMRKgAAwFiECgAAMBahAgAA\n",
              "jEWoAAAAYxEqAADAWIQKAAAwFqECAACMRagAAABjESoAAMBYhAoAADAWoQIAAIxFqAAAAGMRKgAA\n",
              "wFiECgAAMBahAgAAjEWoAAAAYxEqAADAWIQKAAAwFqECAACMRagAAABjESoAAMBYhAoAADAWoQIA\n",
              "AIxFqAAAAGMRKgAAwFiECgAAMJajobJz507l5+fL4/EoNzdXjY2N3da8+uqrysvL06hRo3Teeefp\n",
              "7rvvVldXl5NjAQCAXsLRUCkvL1dZWZmampo0Z84cFRcXd1szYMAAPfXUU9q+fbveffddvfXWW1q+\n",
              "fLmTYwEAgF7CsVBpb29XQ0ODioqKJEmFhYVqbW1Vc3NzyLoLLrhAw4cPlySdccYZys7OVktLS4/7\n",
              "7ezslM/nC7kFAgGnHgYAAIgix0KltbVVKSkpiouLkyRZliW32y2v19vj1+zbt0+rVq3S1Vdf3eOa\n",
              "qqoq9e/fP+S2cePGiM8PAACiz5iTaX0+n6655hrdfffduvDCC3tcV1lZqY6OjpBbXl7eSZwUAACc\n",
              "LHFO7TgtLU1tbW3y+/2Ki4uTbdvyer1yu93d1n711Ve64oorNHXqVFVUVPzofl0ul1wuV8i22NjY\n",
              "iM4OAADM4NgRlcGDBysnJ0crVqyQJK1evVqpqanKyMgIWXfo0CFdccUVuuKKK/THP/7RqXEAAEAv\n",
              "5OhLP9XV1aqurpbH49HChQtVW1srSSopKVFdXZ0kadGiRdq4caPWrFmj7OxsZWdn64EHHnByLAAA\n",
              "0Es49tKPJGVlZam+vr7b9iVLlgQ/njt3rubOnevkGAAAoJcy5mRaAACA/0WoAAAAYxEqAADAWIQK\n",
              "AAAwFqECAACMRagAAABjESoAAMBYhAoAADAWoQIAAIxFqAAAAGMRKgAAwFiECgAAMBahAgAAjEWo\n",
              "AAAAYxEqAADAWIQKAAAwFqECAACMRagAAABjESoAAMBYhAoAADAWoQIAAIxFqAAAAGMRKgAAwFiE\n",
              "CgAAMBahAgAAjEWoAAAAYxEqAADAWIQKAAAwFqECAACMRagAAABjESoAAMBYhAoAADAWoQIAAIxF\n",
              "qAAAAGMRKgAAwFiECgAAMBahAgAAjEWoAAAAYxEqAADAWIQKAAAwFqECAACMRagAAABjESoAAMBY\n",
              "hAoAADAWoQIAAIxFqAAAAGMRKgAAwFiECgAAMBahAgAAjEWoAAAAYxEqAADAWIQKAAAwFqECAACM\n",
              "RagAAABjESoAAMBYhAoAADAWoQIAAIxFqAAAAGMRKgAAwFiECgAAMBahAgAAjOVoqOzcuVP5+fny\n",
              "eDzKzc1VY2PjMdctXbpUmZmZGjFihEpLS3XkyBEnxwIAAL2Eo6FSXl6usrIyNTU1ac6cOSouLu62\n",
              "Zvfu3br33nu1YcMGNTc367PPPlNNTY2TYwEAgF7CsVBpb29XQ0ODioqKJEmFhYVqbW1Vc3NzyLpV\n",
              "q1apoKBAQ4YMkWVZuv3227Vy5coe99vZ2SmfzxdyCwQCTj0MAAAQRXFO7bi1tVUpKSmKizv6LSzL\n",
              "ktvtltfrVUZGRnCd1+vVsGHDgvfT09Pl9Xp73G9VVZXmz58fsu3cc89VRUVFROcPBAJK2bhReXl5\n",
              "io2Njei+Jami4pWI77O3CgQC2ujgc42jeJ5PDid/d/B74//01p/n6dEeIEyBQEAXXXS/Y8/zsGHD\n",
              "9Pvf//5H1zgWKk6prKzsFiUul0sulyui38fn86l///566aWXlJCQENF9IxTP9cnB83xy8DyfHDzP\n",
              "J4cJz7NjoZKWlqa2tjb5/X7FxcXJtm15vV653e6QdW63W7t27Qreb2lp6bbmh5yIEgAAYCbHzlEZ\n",
              "PHiwcnJytGLFCknS6tWrlZqaGvKyj3T03JW6ujrt27dPtm1r8eLFuv76650aCwAA9CKO/tdPdXW1\n",
              "qqur5fF4tHDhQtXW1kqSSkpKVFdXJ0kaPny45s+frwkTJigjI0PJyckqLy93ciwAANBLOHqOSlZW\n",
              "lurr67ttX7JkScj90tJSlZaWOjlK2Fwul/785z/zMtNJwHN9cvA8nxw8zycHz/PJYcLzbNm2bUft\n",
              "uwMAAPwI3kIfAAAYi1ABAADGIlQAAICxCBUAAGAsQqUHx3vlZ5y4w4cPa9q0afJ4PBo7dqwuv/zy\n",
              "bteCQmTV1tbKsiw999xz0R6lT+rs7NSsWbOUmZmp0aNHB691hsh6/vnnlZOTo+zsbJ1//vl68skn\n",
              "oz1SnzB79mylp6fLsixt2bIluD3qfw9tHNOUKVPs2tpa27Zt+5lnnrEvvPDC6A7UB3377bf2unXr\n",
              "7K6uLtu2bfuxxx6zL7nkkugO1Yft3r3bvuiii+zx48fbzz77bLTH6ZPuvPNOe9asWcGf6ba2tihP\n",
              "1Pd0dXXZAwYMsLdu3Wrb9tGfa5fLZft8vihP1vu9/vrrdmtrqz1s2DB78+bNwe3R/nvIEZVjON4r\n",
              "P+PnOeOMM3TVVVfJsixJ0vjx49XS0hLdofqorq4ulZSU6LHHHuN9Jxzy9ddfa+nSpXrggQeCP9ND\n",
              "hgyJ8lR9k2VZOnjwoKSj16JJSkri5zoCJk2apNTU1JBtJvw9JFSO4ceu/AznLFq0SFOnTo32GH3S\n",
              "Qw89pAkTJmjcuHHRHqXP2rVrlwYOHKgFCxbowgsv1MUXX6xXXuFqx5FmWZaefvppTZ8+XcOGDdPE\n",
              "iRP15JNP6vTTT4/2aH2SCX8Pe93Vk9E3LViwQM3Nzfxid8AHH3yg1atX67///W+0R+nT/H6/9uzZ\n",
              "o1GjRmnhwoXavHmzLr/8cjU2Nurss8+O9nh9ht/v1/333681a9Zo0qRJ2rRpkwoKCrRt2zYNGjQo\n",
              "2uPBARxROYYfXvlZUo9XfkZk/PWvf9WaNWv0wgsv6Kyzzor2OH3Ohg0b1NLSoszMTKWnp+vtt99W\n",
              "WVmZ/v73v0d7tD7F7XYrJiZGN954oyTpggsu0DnnnKNt27ZFebK+ZcuWLfr00081adIkSVJubq5S\n",
              "U1O1efPmKE/WN5nw95BQOYbjvfIzfr6HHnpIK1eu1H/+8x8lJiZGe5w+acaMGWpra1NLS4taWlo0\n",
              "fvx41dTUaMaMGdEerU8ZNGiQLrvsMr300kuSpN27d2v37t0aOXJklCfrW77/w/nhhx9Kkpqbm7Vr\n",
              "1y5lZWVFebK+yYS/h1zrpwc7duxQcXGxvvzySyUkJKi2tlajR4+O9lh9yieffKK0tDQNHz5c8fHx\n",
              "ko5eAOudd96J8mR92+TJk3XnnXdq2rRp0R6lz/n4449122236YsvvlBMTIz+9Kc/qbCwMNpj9Tkr\n",
              "V67UggULFBMTo66uLlVWVuqGG26I9li9Xnl5udatW6d9+/YpKSlJ8fHxam5ujvrfQ0IFAAAYi5d+\n",
              "AACAsQgVAABgLEIFAAAYi1ABAADGIlQAAICxCBUAAGAsQgUAABiLUAEAAMYiVAAAgLEIFQAAYKz/\n",
              "D72u/DIdu11JAAAAAElFTkSuQmCC\n",
              "\">\n",
              "      </div>\n",
              "      <script type=\"text/javascript\">\n",
              "        (() => {\n",
              "          const chartElement = document.getElementById(\"chart-45662d0c-f0d3-49fb-a72a-ed75d182b181\");\n",
              "          async function getCodeForChartHandler(event) {\n",
              "            const chartCodeResponse =  await google.colab.kernel.invokeFunction(\n",
              "                'getCodeForChart', [\"chart-45662d0c-f0d3-49fb-a72a-ed75d182b181\"], {});\n",
              "            const responseJson = chartCodeResponse.data['application/json'];\n",
              "            await google.colab.notebook.addCell(responseJson.code, 'code');\n",
              "          }\n",
              "          chartElement.onclick = getCodeForChartHandler;\n",
              "        })();\n",
              "      </script>\n",
              "      <style>\n",
              "        .colab-quickchart-chart-with-code  {\n",
              "            display: block;\n",
              "            float: left;\n",
              "            border: 1px solid transparent;\n",
              "        }\n",
              "\n",
              "        .colab-quickchart-chart-with-code:hover {\n",
              "            cursor: pointer;\n",
              "            border: 1px solid #aaa;\n",
              "        }\n",
              "      </style>"
            ]
          },
          "metadata": {}
        },
        {
          "output_type": "display_data",
          "data": {
            "text/plain": [
              "<google.colab._quickchart_helpers.SectionTitle at 0x7cb1de63ab90>"
            ],
            "text/html": [
              "<h4 class=\"colab-quickchart-section-title\">2-d distributions</h4>\n",
              "<style>\n",
              "  .colab-quickchart-section-title {\n",
              "      clear: both;\n",
              "  }\n",
              "</style>"
            ]
          },
          "metadata": {}
        },
        {
          "output_type": "display_data",
          "data": {
            "text/plain": [
              "from matplotlib import pyplot as plt\n",
              "data.plot(kind='scatter', x='product a', y='product b', s=32, alpha=.8)\n",
              "plt.gca().spines[['top', 'right',]].set_visible(False)"
            ],
            "text/html": [
              "      <div class=\"colab-quickchart-chart-with-code\" id=\"chart-d5bac1cc-de92-4cbc-a410-c6b5c3192f31\">\n",
              "        <img style=\"width: 180px;\" src=\"data:image/png;base64,iVBORw0KGgoAAAANSUhEUgAAAjEAAAGkCAYAAADALHSZAAAAOnRFWHRTb2Z0d2FyZQBNYXRwbG90\n",
              "bGliIHZlcnNpb24zLjEwLjAsIGh0dHBzOi8vbWF0cGxvdGxpYi5vcmcvlHJYcgAAAAlwSFlzAAAP\n",
              "YQAAD2EBqD+naQAAK5dJREFUeJzt3X90VPWd//HXMBMmQiDILwFDEkMSc2pifmgAZUWppiClQAEX\n",
              "6lJUCISlam3c1rIWLLRL9gfGRVmNKKVVNAUhaxEP7hJ/QDhYQCFy5BTLAEkAgUSEBFIyZCb3+wdf\n",
              "Zx2TgQRnMvmE5+Oce07m3s/nzvvOZ668vL/GZlmWJQAAAMN0CXcBAAAAV4IQAwAAjESIAQAARiLE\n",
              "AAAAIxFiAACAkQgxAADASIQYAABgJEIMAAAwUqcPMcuWLQt3CQAAIAQ6fYiprKwMdwkAACAEOn2I\n",
              "AQAAnRMhBgAAGIkQAwAAjESIAQAARiLEAAAAIxFiAACAkQgxAADASIQYAABgJEIMAAAwEiEGAAAY\n",
              "iRADAADarKHRqy/OudXQ6A1bDY6wvTMAADBOzVm3Vv+5Qu98elLnG726JsKue1MHaPptceob5WzX\n",
              "WkJ6JOZ73/uebr75ZmVkZOiOO+7Qnj17JEkHDhzQ7bffruTkZGVnZ2vfvn0B17Fy5UolJSVpyJAh\n",
              "mj17thobG0NZMgAACKDmrFuPFO/RazuqVO/2yNHFpnq3R6t3VOrh1/foi3Pudq0npCFm7dq12rt3\n",
              "r8rLy5Wfn68HH3xQkpSXl6c5c+bor3/9q5544gnf/G86fPiwFixYoLKyMrlcLp08eVIrVqwIZckA\n",
              "ACCA1X+ukKv6rPpFOXVt967q7nTo2u5d1S/KKVf1Wa3+sLJd6wlpiOnVq5fv79raWtlsNlVXV+uj\n",
              "jz7S9OnTJUmTJ0/WkSNH5HK5mvVft26dxo8frwEDBshms2nu3LkqLi4O+H5ut1t1dXV+k9cbvnN1\n",
              "AAB0Fg2NXr3z6UlFOuxy2P3jg8PeRU6HXZv2nWjXa2RCfmHvjBkzNHjwYC1YsECvvvqqjhw5ooED\n",
              "B8rhuHg5js1mU2xsrKqqqpr1raqqUlxcnO91fHx8i+2+UlBQoOjoaL9p586dwd8oAACuMufcHp1v\n",
              "9Kqro+Xo4HR00fkLXp1ze9qtppCHmFdeeUVHjhzRb3/7Wz3xxBMhfa/58+ertrbWbxo6dGhI3xMA\n",
              "gKtBlNOhayLsuuBpanG529Oka7raFeVsv3uG2u0W6wceeEDvv/++YmJidPz4cXk8F5OaZVmqqqpS\n",
              "bGxssz6xsbGqrPy/82sVFRUttvuK0+lUz549/Sa73R78jQEA4CoTGWHXmNTr1ODxyuP1DzIeb5Pc\n",
              "Hq/uvWmAIiPa79/dkIWYM2fO6PPPP/e9fvPNN9WnTx/1799fWVlZWr16tSRp/fr1iomJUWJiYrN1\n",
              "TJ48WRs2bNCJEydkWZaKioo0bdq0UJUMAAAu4ce3xSuxfw/VnHPry/oLqnd79GX9BdWccyupfw9N\n",
              "vy3u8isJopAd86mtrdV9992n8+fPq0uXLurXr582btwom82mF198UQ8++KCWLFminj17atWqVb5+\n",
              "ubm5Gj9+vMaPH6+EhAQtWrRII0aMkCTdddddysvLC1XJAADgEvpGObX8/kyt/rBSm/ad0PkLXkVF\n",
              "OnTfTTFheU6MzbIsq13fsZ3l5+ersLAw3GUAANCpNDRevIg3yulo11NIX8cTewEAQJtFRtjDFl6+\n",
              "wm8nAQAAIxFiAACAkQgxAADASIQYAABgJEIMAAAwEiEGAAAYiRADAACMRIgBAABGIsQAAAAjEWIA\n",
              "AICRCDEAAMBIhBgAAGAkQgwAADASIQYAABiJEAMAAIxEiAEAAEYixAAAACMRYgAAgJEIMQAAwEiE\n",
              "GAAAYCRCDAAAMBIhBgAAGIkQAwAAjESIAQAARiLEAAAAIxFiAACAkQgxAADASIQYAABgJEIMAAAw\n",
              "EiEGAAAYiRADAACMRIgBAABGClmIaWho0MSJE5WcnKz09HTl5OTI5XJJkoYNG6aMjAxlZGQoNTVV\n",
              "NptNe/fubXE9NptNaWlpvvZlZWWhKhkAABjEEcqVz5kzR/fee69sNpuWL1+u3NxcffDBB9qxY4ev\n",
              "zbp167Ro0SLdfPPNAddTVlamXr16hbJUAABgmJAdiYmMjNTYsWNls9kkScOHD1dFRUWzditXrtSs\n",
              "WbOC8p5ut1t1dXV+k9frDcq6AQBAx9Ju18QsW7ZMEyZM8Jt35MgRbdmyRdOnT79k37vvvlvp6enK\n",
              "z89XfX19wHYFBQWKjo72m3bu3BmU+gEAQMfSLiFmyZIlcrlcKigo8Jv/+9//XuPGjVPfvn0D9q2s\n",
              "rNTHH3+s7du3q6amRj//+c8Dtp0/f75qa2v9pqFDhwZtOwAAQMcR0mtiJGnp0qUqKSlRaWmpunXr\n",
              "5ptvWZZWrVqlF1544ZL9Y2NjJUndu3fXvHnzNGfOnIBtnU6nnE6n3zy73f4tqgcAAB1VSI/EFBYW\n",
              "qri4WJs3b252Ye57770nj8ejnJycgP1Pnz6tv/3tb5KkpqYmrVmzRpmZmaEsGQAAGCJkR2KOHj2q\n",
              "xx9/XAkJCRo1apSki0dKvrozaeXKlXrooYfUpYt/jioqKtLnn3+uxYsXa//+/crLy5PNZpPH41FW\n",
              "VpaWLVsWqpIBAIBBbJZlWeEuIpTy8/NVWFgY7jIAAECQ8cReAABgJEIMAAAwEiEGAAAYiRADAACM\n",
              "RIgBAABGIsQAAAAjEWIAAICRCDEAAMBIhBgAAGAkQgwAADASIQYAABiJEAMAAIxEiAEAAEYixAAA\n",
              "ACMRYgAAgJEIMQAAwEiEGAAAYCRCDAAAMBIhBgAAGIkQAwAAjESIAQAARiLEAAAAIxFiAACAkQgx\n",
              "AADASIQYAABgJEIMAAAwEiEGAAAYiRADAACMRIgBAABGIsQAAAAjEWIAAICRCDEAAMBIhBgAAGCk\n",
              "kIWYhoYGTZw4UcnJyUpPT1dOTo5cLpck6a677tINN9ygjIwMZWRk6Jlnngm4no0bNyolJUVJSUma\n",
              "NGmS6urqQlUyAAAwSEiPxMyZM0efffaZPvnkE02YMEG5ubm+Zc8884zKy8tVXl6un/3sZy32P3fu\n",
              "nGbNmqU333xTBw4c0KBBg/Sb3/wmlCUDAABDhCzEREZGauzYsbLZbJKk4cOHq6Kiok3r2LRpkzIz\n",
              "M5WSkiJJmjdvnoqLiwO2d7vdqqur85u8Xu8VbwMAAOi42u2amGXLlmnChAm+17/85S+VlpamqVOn\n",
              "6tChQy32qaqqUlxcnO91fHy8jh8/Lo/H02L7goICRUdH+007d+4M7oYAAIAOoV1CzJIlS+RyuVRQ\n",
              "UCBJevXVV7V//37t3btXd9xxh8aNGxeU95k/f75qa2v9pqFDhwZl3QAAoGMJeYhZunSpSkpKtGnT\n",
              "JnXr1k2SNHjwYEmSzWbTww8/rEOHDunUqVPN+sbGxqqystL3uqKiQgMHDpTD4WjxvZxOp3r27Ok3\n",
              "2e32EGwVAAAIt5CGmMLCQhUXF2vz5s3q1auXJMnj8ejkyZO+NuvXr9d1112nPn36NOs/ZswY7d69\n",
              "W/v375ckPf/885o2bVooSwYAAIZo+ZBGEBw9elSPP/64EhISNGrUKEkXj5S89957+v73vy+3260u\n",
              "Xbqob9++2rBhg6/fwoULNWjQIM2dO1c9evTQyy+/rIkTJ8rj8Sg1NVV/+MMfQlUyAAAwiM2yLCvc\n",
              "RYRSfn6+CgsLw10GAAAIMp7YCwAAjESIAQAARiLEAAAAIxFiAACAkQgxAADASIQYAABgJEIMAAAw\n",
              "EiEGAAAYiRADAACMRIgBAABGIsQAAAAjEWIAAICRCDEAAMBIhBgAAGAkQgwAADASIQYAABiJEAMA\n",
              "AIxEiAEAAEYixAAAACMRYgAAgJEIMQAAwEiEGAAAYCRCDAAAMBIhBgAAGIkQAwAAjESIAQAARiLE\n",
              "AAAAIxFiAACAkQgxAADASIQYAABgJEIMAAAwEiEGAAAYiRADAACMFLIQ09DQoIkTJyo5OVnp6enK\n",
              "ycmRy+WSJD300EO++SNGjNCuXbsCrsdmsyktLU0ZGRnKyMhQWVlZqEoGAAAGcYRy5XPmzNG9994r\n",
              "m82m5cuXKzc3Vx988IF++MMf6qWXXpLD4dDGjRt13333qaKiIuB6ysrK1KtXr1CWCgAADBOyIzGR\n",
              "kZEaO3asbDabJGn48OG+oDJ+/Hg5HA7f/GPHjsnj8Xzr93S73aqrq/ObvF7vt14vAADoeNrtmphl\n",
              "y5ZpwoQJLc4fO3asL9S05O6771Z6erry8/NVX18fsF1BQYGio6P9pp07dwalfgAA0LG0S4hZsmSJ\n",
              "XC6XCgoK/OavXr1aa9eu1YoVKwL2rays1Mcff6zt27erpqZGP//5zwO2nT9/vmpra/2moUOHBm07\n",
              "AABAxxHSa2IkaenSpSopKVFpaam6devmm79mzRotWrRI7777rq677rqA/WNjYyVJ3bt317x58zRn\n",
              "zpyAbZ1Op5xOp988u93+LbcAAAB0RCE9ElNYWKji4mJt3rzZ78LctWvX6le/+pVKS0t9IaUlp0+f\n",
              "1t/+9jdJUlNTk9asWaPMzMxQlgwAAAxhsyzLCsWKjx49qsGDByshIUE9evSQdPFIyY4dOxQREaEB\n",
              "AwaoT58+vvbvvvuu+vTpo6KiIn3++edavHixPvzwQ+Xl5clms8nj8SgrK0vLli1T7969W11Hfn6+\n",
              "CgsLg759AAAgvEIWYjoKQgwAAJ0TT+wFAABGIsQAAAAjEWIAAICRCDEAAMBIhBgAAGAkQgwAADAS\n",
              "IQYAABiJEAMAAIxEiAEAAEYixAAAACMRYgAAgJEcbWnsdrv1zDPPqLS0VDabTffcc48ee+wxOZ3O\n",
              "UNUHAADQojaFmLlz5+rUqVN65JFHJEmrVq3SZ599pt/97nchKQ4AACCQNoWYDz/8UH/5y19ks9kk\n",
              "SePGjdNNN90UksIAAAAupU3XxPTp00fnz5/3vXa73erbt2/QiwIAALicVh2JefbZZyVJKSkpGjZs\n",
              "mP7+7/9ekrRu3TplZ2eHrjoAAIAAWhVi9uzZ4/v71ltv1aFDhyRJWVlZampqCk1lAAAAl9CqELNq\n",
              "1apQ1wEAANAmPCcGAAAYiRADAACMRIgBAABGalOI+e1vf9uqeQAAAKHWphBTUlLSqnkAAACh1qq7\n",
              "k/7nf/5H77zzjo4dO6b8/Hzf/Nra2pAVBgAAcCmtCjGRkZHq1auXunTpoujoaN/8wYMHa8GCBSEr\n",
              "DgAAIJBWhZg777xTd955pyZOnKj09PRQ1wQAAHBZbbom5rnnntOpU6d8r7/44gvl5eUFvSgAAIDL\n",
              "aVOI+fjjj9WnTx/f6759+2rXrl1BLwoAAOBy2hRiPB6P32vLsnThwoWgFgQAANAabQoxw4cP18MP\n",
              "P6zKykpVVFTokUce0fDhw0NVGwAAQEBtCjFPP/206uvrlZ2drWHDhsntduuZZ54JVW0AAAABteru\n",
              "pK/07NmTX7QGAAAdQptCzCuvvNLi/BkzZgSlGAAAgNZq0+mkt956yze98cYb+ulPf6ri4uIW2zY0\n",
              "NGjixIlKTk5Wenq6cnJy5HK5JEnV1dUaM2aMkpKSlJqaqq1btwZ8z40bNyolJUVJSUmaNGmS6urq\n",
              "2lIyAADopNoUYt544w3f9NZbb2n37t269tprA7afM2eOPvvsM33yySeaMGGCcnNzJUm//OUvNXz4\n",
              "cB04cECrVq3S/fffr8bGxmb9z507p1mzZunNN9/UgQMHNGjQIP3mN79p4yYCAIDOqE0h5ptuuOEG\n",
              "7du3r8VlkZGRGjt2rGw2m6SLdzZVVFRIktauXau5c+dKkrKzszVo0CBt2bKl2To2bdqkzMxMpaSk\n",
              "SJLmzZsX8MiPJLndbtXV1flNXq/322wiAADooNp0TcyGDRt8f3u9Xu3YsUNOp7NVfZctW6YJEybo\n",
              "1KlTamxs1IABA3zL4uPjVVVV1axPVVWV4uLi/NodP35cHo9HDkfz0gsKCrRo0SK/edwCDgBA59Sm\n",
              "EPP126kdDocSExO1Zs2ay/ZbsmSJXC6X3n33XZ0/f77tVbbS/Pnz/X5lWxI/UAkAQCfVphDz/vvv\n",
              "t/kNli5dqpKSEpWWlqpbt27q1q2bHA6HTpw44TsaU1FRodjY2GZ9Y2NjtXnzZt/riooKDRw4sMWj\n",
              "MJLkdDqbHRmy2+1trhkAAHR8rQoxl7p7SJJGjhzZ4vzCwkIVFxertLRUvXr18s2/7777VFRUpF//\n",
              "+tfatWuXjh07pjvvvLNZ/zFjxugnP/mJ9u/fr5SUFD3//POaNm1aa0oGAACdXKtCzOOPPy7p4nUw\n",
              "5eXlSkhIkM1m08GDB5WRkaHdu3c363P06FE9/vjjSkhI0KhRoyRdPFKyY8cO/du//Zt+/OMfKykp\n",
              "SV27dtXq1asVEREhSVq4cKEGDRqkuXPnqkePHnr55Zc1ceJEeTwepaam6g9/+EOwth0AABjMZlmW\n",
              "1drGM2fO1I9+9CPl5ORIkkpLS/XHP/5RL7/8csgK/Lby8/NVWFgY7jIAAECQtekW648++sgXYCTp\n",
              "nnvu0a5du4JeFAAAwOW0KcTY7Xa/i3u3bNmiLl2+1aNmAAAArkib7k76r//6L02bNk0RERGyLEte\n",
              "r7dVt1gDAAAEW5tCzO23366DBw9q//79kqSUlBTfBbkAAADtqU0hRpL27Nmj0tJSSRcf83/rrbcG\n",
              "vSgAAIDLadMFLStWrNCUKVNUXV2tmpoaTZ48uUPfmQQAADqvNh2JWb58uT7++GP169dPkvTP//zP\n",
              "uvvuu32/Tg0AANBe2nxr0VcB5pt/AwAAtKc2hZikpCQ9+eSTqqqqUlVVlRYsWKCkpKRQ1QYAABBQ\n",
              "m0JMUVGRDh48qKysLN1yyy1yuVx64YUXQlUbAABAQK2+Jsbr9Wrp0qX64x//GMp6AAAAWqXVR2K+\n",
              "+bReAACAcGrT6aSxY8fqX/7lX/T555+rrq7ONwEAALS3Nv2KdUu/k2Sz2eT1eoNaVDDxK9YAAHRO\n",
              "bXpOTFNTU6jqAAAAaJM2/+xAVVWVtm7dKpvNppEjR2rw4MGhqAsAAOCS2nRNzOuvv67MzEytX79e\n",
              "69atU1ZWFncrAQCAsGjTkZjFixfro48+0g033CBJqqio0JgxYzRt2rSQFAcAABBIm47EdOvWzRdg\n",
              "JCk+Pl7dunULelEAAACX06YQ8/3vf1+//vWvdfToUR05ckSLFy/WD37wA261BgAA7e5b32LtW1EH\n",
              "vdWaW6wBAOicuMUaAAAYqU2nkwAAADoKQgwAADASIQYAABiJEAMAAIxEiAEAAEYixAAAACMRYgAA\n",
              "gJEIMQAAwEiEGAAAYCRCDAAAMBIhBgAAGCmkIebRRx9VfHy8bDabysvLJUmnTp1SRkaGb0pOTpbD\n",
              "4dCXX37ZrH9FRYXsdrtf+4MHD4ayZAAAYIg2/QBkW02ZMkW/+MUv9Hd/93e+eX369PEFGklaunSp\n",
              "tmzZot69e7e4jh49evi1BwAAkEIcYkaOHHnZNitXrlRBQUFQ3s/tdsvtdvvN83q9QVk3AADoWMJ6\n",
              "Tcz27dt1+vRpjRs3LmCb+vp6ZWdnKysrS4sXL75kKCkoKFB0dLTftHPnzlCUDgAAwiysIWblypWa\n",
              "MWOGHI6WDwgNHDhQx44d065du1RaWqqysjI9/fTTAdc3f/581dbW+k1Dhw4NVfkAACCMwhZizp07\n",
              "p7Vr12rmzJkB2zidTvXv31+S1Lt3b82cOVNlZWWXbN+zZ0+/yW63B712AAAQfmELMWvWrFF6erpS\n",
              "UlICtqmurlZjY6Oki9e7lJSUKDMzs71KvKSGRq++OOdWQyPX3AAAEA4hvbA3Ly9Pb7/9tk6cOKHR\n",
              "o0erR48ecrlcki6eSpo9e3azPgsXLtSgQYM0d+5cbdu2TQsXLpTdbpfH49F3v/tdPfnkk6Es+bJq\n",
              "zrq1+s8VeufTkzrf6NU1EXbdmzpA02+LU98oZ1hrAwDgamKzLMsKdxGhlJ+fr8LCwqCsq+asW48U\n",
              "75Gr+qwiHXZ1dXTRBU+TGjxeJfbvoeX3ZxJkAABoJzyxtw1W/7lCruqz6hfl1LXdu6q706Fru3dV\n",
              "vyinXNVntfrDynCXCADAVYMQ00oNjV698+lJRTrsctj9PzaHvYucDrs27TvBNTIAALQTQkwrnXN7\n",
              "dL7Rq66Olj8yp6OLzl/w6pzb086VAQBwdSLEtFKU06FrIuy64Glqcbnb06RrutoV5QzptdIAAOD/\n",
              "I8S0UmSEXWNSr1ODxyuP1z/IeLxNcnu8uvemAYqM4Lk0AAC0Bw4btMGPb4vXjsOn5ao+K6fDLqej\n",
              "i9yeiwEmqX8PTb8tLtwlAgBw1eBITBv0jXJq+f2Zmj4sTlGRDnmaLEVFOjR9WJye4/ZqAADaFUdi\n",
              "2qhvlFOP5SRr7l1DdM7tUZTTwSkkAADCgBBzhSIj7IQXAADCiNNJAADASIQYAABgJEIMAAAwEiEG\n",
              "AAAYiRADAACMRIgBAABGIsQAAAAjEWIAAICRCDEAAMBIhBgAAGAkQgwAADASIQYAABiJEAMAAIxE\n",
              "iAEAAEYixAAAACMRYgAAgJEIMQAAwEiEGAAAYCRCDAAAMBIhBgAAGIkQAwAAjESIAQAARiLEAAAA\n",
              "IxFiAACAkUIaYh599FHFx8fLZrOpvLzcNz8+Pl433nijMjIylJGRoTVr1gRcx8qVK5WUlKQhQ4Zo\n",
              "9uzZamxsDGXJAADAECENMVOmTNG2bdsUFxfXbNmaNWtUXl6u8vJyTZ06tcX+hw8f1oIFC1RWViaX\n",
              "y6WTJ09qxYoVoSwZAAAYIqQhZuTIkYqJibni/uvWrdP48eM1YMAA2Ww2zZ07V8XFxQHbu91u1dXV\n",
              "+U1er/eK3x8AAHRcYbsmZsaMGUpLS9OsWbNUU1PTYpuqqiq/ozjx8fGqqqoKuM6CggJFR0f7TTt3\n",
              "7gx67QAAIPzCEmK2bt2qvXv3avfu3erbt68eeOCBoKx3/vz5qq2t9ZuGDh0alHUDAICOxRGON42N\n",
              "jZUkRURE6LHHHlNycnLAdgcPHvS9rqio8PVtidPplNPp9Jtnt9uDUDEAAOho2v1ITH19vc6cOeN7\n",
              "XVxcrMzMzBbbTp48WRs2bNCJEydkWZaKioo0bdq0dqoUAAB0ZCENMXl5eYqJidHRo0c1evRoJSYm\n",
              "6uTJkxo1apRuvvlmpaWlacuWLXrllVd8fXJzc7VhwwZJUkJCghYtWqQRI0YoMTFR/fr1U15eXihL\n",
              "BgAAhrBZlmWFu4hQys/PV2FhYbjLAAAAQcYTewEAgJEIMQAAwEiEGAAAYCRCDAAAMBIhBgAAGIkQ\n",
              "AwAAjESIAQAARiLEAAAAIxFiAACAkQgxAADASIQYAABgJEIMAAAwEiEGAAAYiRADAACMRIgBAABG\n",
              "IsQAAAAjEWIAAICRCDEAAMBIhBgAAGAkQgwAADASIQYAABiJEAMAAIxEiAEAAEYixAAAACMRYgAA\n",
              "gJEIMQAAwEiEGAAAYCRCDAAAMBIhBgAAGIkQAwAAjESIAQAARiLEAAAAIxFiAACAkUIaYh599FHF\n",
              "x8fLZrOpvLxcktTQ0KCJEycqOTlZ6enpysnJkcvlarF/RUWF7Ha7MjIyfNPBgwdDWTIAADBESEPM\n",
              "lClTtG3bNsXFxfnNnzNnjj777DN98sknmjBhgnJzcwOuo0ePHiovL/dNQ4YMCWXJAADAECENMSNH\n",
              "jlRMTIzfvMjISI0dO1Y2m02SNHz4cFVUVATl/dxut+rq6vwmr9cblHUDAICOJezXxCxbtkwTJkwI\n",
              "uLy+vl7Z2dnKysrS4sWLLxlKCgoKFB0d7Tft3LkzFGUDAIAwC2uIWbJkiVwulwoKClpcPnDgQB07\n",
              "dky7du1SaWmpysrK9PTTTwdc3/z581VbW+s3DR06NFTlAwCAMApbiFm6dKlKSkq0adMmdevWrcU2\n",
              "TqdT/fv3lyT17t1bM2fOVFlZWcB1Op1O9ezZ02+y2+0hqR8AAIRXWEJMYWGhiouLtXnzZvXq1Stg\n",
              "u+rqajU2Nkq6eL1LSUmJMjMz26lKAADQkYU0xOTl5SkmJkZHjx7V6NGjlZiYqKNHj+rxxx/XmTNn\n",
              "NGrUKGVkZGjYsGG+PgsXLlRRUZEkadu2bcrMzFR6erqysrI0YMAAPfnkk6EsGQAAGMJmWZYV7iJC\n",
              "KT8/X4WFheEuAwAABFnY704CAAC4EoQYAABgJEIMAAAwEiEGAAAYiRADAACMRIgBAABGIsQAAAAj\n",
              "EWIAAICRCDEAAMBIhBgAAGAkQgwAADASIQYAABiJEAMAAIxEiAEAAEYixAAAACMRYgAAgJEIMQAA\n",
              "wEiEGAAAYCRCDAAAMBIhBgAAGIkQAwAAjESIAQAARiLEAAAAIxFiAACAkQgxAADASIQYAABgJEIM\n",
              "AAAwEiEGAAAYiRADAACMRIgBAABGIsQAAAAjEWIAGKmh0asvzrnV0OgNdykdAp8HrkaOcBcAAG1R\n",
              "c9at1X+u0DufntT5Rq+uibDr3tQBmn5bnPpGOcNdXrvj88DVLKRHYh599FHFx8fLZrOpvLzcN//A\n",
              "gQO6/fbblZycrOzsbO3bty/gOlauXKmkpCQNGTJEs2fPVmNjYyhLBtCB1Zx165HiPXptR5Xq3R45\n",
              "uthU7/Zo9Y5KPfz6Hn1xzh3uEtsVnweudiENMVOmTNG2bdsUFxfnNz8vL09z5szRX//6Vz3xxBN6\n",
              "8MEHW+x/+PBhLViwQGVlZXK5XDp58qRWrFgRypIBdGCr/1whV/VZ9Yty6truXdXd6dC13buqX5RT\n",
              "ruqzWv1hZbhLbFd8HrjahTTEjBw5UjExMX7zqqur9dFHH2n69OmSpMmTJ+vIkSNyuVzN+q9bt07j\n",
              "x4/XgAEDZLPZNHfuXBUXFwd8P7fbrbq6Or/J6+X8MNAZNDR69c6nJxXpsMth9/9Pl8PeRU6HXZv2\n",
              "nbhqrgnh8wDCcGHvkSNHNHDgQDkcFy/Hsdlsio2NVVVVVbO2VVVVfkdx4uPjW2z3lYKCAkVHR/tN\n",
              "O3fuDP5GAGh359wenW/0qquj5f9sOR1ddP6CV+fcnnauLDz4PIBOdnfS/PnzVVtb6zcNHTo03GUB\n",
              "CIIop0PXRNh1wdPU4nK3p0nXdLUrynl13K/A5wGEIcQMHjxYx48fl8dz8f8OLMtSVVWVYmNjm7WN\n",
              "jY1VZeX/ndOtqKhosd1XnE6nevbs6TfZ7fbgbwSAdhcZYdeY1OvU4PHK4/X/h9vjbZLb49W9Nw1Q\n",
              "ZMTVsc/zeQBhCDH9+/dXVlaWVq9eLUlav369YmJilJiY2Kzt5MmTtWHDBp04cUKWZamoqEjTpk1r\n",
              "75IBdBA/vi1eif17qOacW1/WX1C926Mv6y+o5pxbSf17aPptcZdfSSfC54GrXUhDTF5enmJiYnT0\n",
              "6FGNHj3aF1RefPFFvfjii0pOTta//uu/atWqVb4+ubm52rBhgyQpISFBixYt0ogRI5SYmKh+/fop\n",
              "Ly8vlCUD6MD6Rjm1/P5MTR8Wp6hIhzxNlqIiHZo+LE7P3Z951T0Xhc8DVzubZVlWuIsIpfz8fBUW\n",
              "Foa7DABB1tB48aLVKKeDUybi88DViSu+ABgpMsLOP9Zfw+eBq1GnujsJAABcPQgxAADASIQYAABg\n",
              "JEIMAAAwEiEGAAAYiRADAACMRIgBAABGIsQAAAAjEWIAAICRCDEAAMBInf63kyZNmqT4+Pigr9fr\n",
              "9Wrnzp0aOnSo7PbO96hvts98nX0b2T7zdfZtZPu+nbi4OP30pz+9ZJtOH2JCpa6uTtHR0aqtrVXP\n",
              "nj3DXU7QsX3m6+zbyPaZr7NvI9sXepxOAgAARiLEAAAAIxFiAACAkQgxV8jpdOqpp56S0+kMdykh\n",
              "wfaZr7NvI9tnvs6+jWxf6HFhLwAAMBJHYgAAgJEIMQAAwEiEGAAAYCRCzCUcOHBAt99+u5KTk5Wd\n",
              "na19+/a12G7lypVKSkrSkCFDNHv2bDU2NrZzpVemoaFBEydOVHJystLT05WTkyOXy9WsXUVFhex2\n",
              "uzIyMnzTwYMHw1Bx28XHx+vGG2/01b1mzZoW25k6hqdOnfIbl+TkZDkcDn355Zd+7Uwaw0cffVTx\n",
              "8fGy2WwqLy/3zW/t/ih17PFsaftauy9KZoxloDFs7f4omTeGrd0XpY4/hpf6PlZXV2vMmDFKSkpS\n",
              "amqqtm7dGnA9GzduVEpKipKSkjRp0iTV1dUFv1gLAY0aNcpatWqVZVmW9cYbb1i33nprszaHDh2y\n",
              "Bg4caB0/ftxqamqyfvCDH1jLly9v50qvzPnz5623337bampqsizLsp577jnrzjvvbNbu8OHDVnR0\n",
              "dPsWFyRxcXHWnj17LtnG5DH8pv/4j/+wxo0b12y+SWO4ZcsW68iRI83GrjX7o2V1/PFsaftauy9a\n",
              "lhljGWgMW7M/WpaZY/hNgfZFy+r4Y3ip7+NDDz1kPfXUU5ZlWdbOnTut66+/3rpw4UKzdZw9e9bq\n",
              "37+/9Ze//MWyLMv6yU9+Yv3TP/1T0GslxARw8uRJq0ePHlZjY6NlWZbV1NRkXXfdddaBAwf82v37\n",
              "v/+7lZeX53v99ttvWyNGjGjXWoNl165dVlxcXLP5HX2Hu5TW/EezM41hSkqK9d///d/N5ps4hl8f\n",
              "u9buj5Zlznhe6rsZaF+0LLPG8kpDTGcYw0D7omWZNYaW5f997N69u3X8+HHfsuzsbGvz5s3N+qxd\n",
              "u9YaPXq07/W+ffus66+/Pui1cTopgCNHjmjgwIFyOBySJJvNptjYWFVVVfm1q6qqUlxcnO91fHx8\n",
              "szamWLZsmSZMmNDisvr6emVnZysrK0uLFy+W1+tt5+qu3IwZM5SWlqZZs2appqam2fLOMobbt2/X\n",
              "6dOnNW7cuBaXmzyGrd0fpc4xnpfaFyWzx/Jy+6Nk/hhebl+UzBrDr76Pp06dUmNjowYMGOBbFmhs\n",
              "WhrD48ePy+PxBLU2QgwkSUuWLJHL5VJBQUGzZQMHDtSxY8e0a9culZaWqqysTE8//XQYqmy7rVu3\n",
              "au/evdq9e7f69u2rBx54INwlhczKlSs1Y8YM3z/0X2fyGF5tLrUvSmaP5dWyP15qX5TMGsPLfR/D\n",
              "jRATwODBg/1So2VZqqqqUmxsrF+72NhYVVZW+l5XVFQ0a9PRLV26VCUlJdq0aZO6devWbLnT6VT/\n",
              "/v0lSb1799bMmTNVVlbW3mVeka/GIiIiQo899liLdXeGMTx37pzWrl2rmTNntrjc5DGUWr8/SmaP\n",
              "5+X2RcnssWzN/vhVO1PH8HL7omTOGH7z+9inTx85HA6dOHHC1ybQ2LQ0hl8/mhoshJgA+vfvr6ys\n",
              "LK1evVqStH79esXExCgxMdGv3eTJk7VhwwadOHFClmWpqKhI06ZNC0fJV6SwsFDFxcXavHmzevXq\n",
              "1WKb6upq350BbrdbJSUlyszMbMcqr0x9fb3OnDnje11cXNxi3aaPoSStWbNG6enpSklJaXG5qWP4\n",
              "ldbuj5K549mafVEydyxbuz9K5o6hdPl9UTJjDAN9H++77z4VFRVJknbt2qVjx47pzjvvbNZ/zJgx\n",
              "2r17t/bv3y9Jev7550MzhkG/yqYT2b9/vzV8+HArKSnJuuWWW6y9e/dalmVZs2bNsv70pz/52q1Y\n",
              "scJKSEiwEhISrJkzZ7Z4pXZHdOTIEUuSlZCQYKWnp1vp6enW0KFDLcuyrAULFlgvvPCCZVmWtX79\n",
              "euumm26ybr75Zus73/mO9fDDD1sNDQ3hLL1VDh48aGVkZFhpaWlWamqqNX78eOvw4cOWZXWeMfzK\n",
              "bbfdZv3ud7/zm2fqGM6ZM8e6/vrrLbvdbvXv398aMmSIZVmB90fLMms8W9q+S+2LlmXeWLa0jZfa\n",
              "Hy3L/DH8Skv7omWZNYaX+j6eOHHCysnJsRITE63vfOc71nvvvefr9/VttCzL+tOf/mTdeOON1pAh\n",
              "Q6wJEyZYZ86cCXqt/HYSAAAwEqeTAACAkQgxAADASIQYAABgJEIMAGPceuut+uCDD664/wcffKB3\n",
              "3nkneAUBCCtCDICwCfbTOy+HEAN0LoQYAEFns9n0q1/9SpmZmUpOTtZrr73mt+ypp55Sdna25s+f\n",
              "r+rqak2aNElpaWlKTU3Viy++6Gu7fft2ZWRkKDU1VQ899JBf6Lnrrrv05ptv+l5PmTJFv//97yVJ\n",
              "tbW1ys3NVWpqqtLT0zVz5kyVl5erqKhIr732mjIyMrR48eJmdb/++usaNmyYMjMzlZ6errfeeiv4\n",
              "Hw6AoAnuo/MA4P+z2Wzas2ePDh06pFtvvVUjRoxQfHy8JMlut2vXrl2SpKlTp+rGG29USUmJqqur\n",
              "dcsttyg9PV1ZWVmaOnWqVq1apXvuuUf/+7//6wspl/PYY4/pmmuu0d69e9WlSxfV1NSoX79+mjt3\n",
              "rs6cOaP//M//bLHf6NGj9aMf/Ug2m00VFRUaPny4Kisr5XQ6g/CJAAg2QgyAkMjNzZUkJSQkaOTI\n",
              "kdq6dasvxHz9keylpaX6+OOPJV18Mu+kSZNUWlqqbt26yeFw6J577pEkfe9731NCQkKr3nvjxo3a\n",
              "sWOHunS5eLC5X79+rep3+PBh/cM//IOOHj0qh8OhL7/8UocPH77k01cBhA+nkwC0C5vN5vs7Kiqq\n",
              "Ve0utczhcPj98m9DQ8O3rFCaNm2acnNz9emnn6q8vFxRUVFBWS+A0CDEAAiJVatWSbr4w29lZWW6\n",
              "4447Wmx3zz336KWXXpIk1dTUqKSkRDk5OUpJSZHH49H7778v6eIRm4MHD/r6JSYmaseOHZIuHkHZ\n",
              "tm2bb9n48eO1dOlSNTU1+dYrST179lRtbW3Amk+fPq0bbrhBkrR69WqdPn36irYdQPvgdBKAkPB6\n",
              "vcrMzFR9fb2effZZ36mkb3r22Wf1j//4j0pLS5NlWXryySc1bNgwSRd/TG/evHnyer3Kzs5Wenq6\n",
              "r98vfvELTZ06VWlpabrpppt8fSTpmWee0c9+9jOlpaUpIiJC2dnZeumll/TDH/5Qr776qjIyMjRp\n",
              "0iQtXLjQr5Zly5ZpypQp6tWrl7773e8a88vJwNWK304CEHQ2m02nT5++5K8xA8C3xekkAABgJE4n\n",
              "AQg6DvACaA8ciQEAAEYixAAAACMRYgAAgJEIMQAAwEiEGAAAYCRCDAAAMBIhBgAAGIkQAwAAjPT/\n",
              "AGkZFXNXsF4HAAAAAElFTkSuQmCC\n",
              "\">\n",
              "      </div>\n",
              "      <script type=\"text/javascript\">\n",
              "        (() => {\n",
              "          const chartElement = document.getElementById(\"chart-d5bac1cc-de92-4cbc-a410-c6b5c3192f31\");\n",
              "          async function getCodeForChartHandler(event) {\n",
              "            const chartCodeResponse =  await google.colab.kernel.invokeFunction(\n",
              "                'getCodeForChart', [\"chart-d5bac1cc-de92-4cbc-a410-c6b5c3192f31\"], {});\n",
              "            const responseJson = chartCodeResponse.data['application/json'];\n",
              "            await google.colab.notebook.addCell(responseJson.code, 'code');\n",
              "          }\n",
              "          chartElement.onclick = getCodeForChartHandler;\n",
              "        })();\n",
              "      </script>\n",
              "      <style>\n",
              "        .colab-quickchart-chart-with-code  {\n",
              "            display: block;\n",
              "            float: left;\n",
              "            border: 1px solid transparent;\n",
              "        }\n",
              "\n",
              "        .colab-quickchart-chart-with-code:hover {\n",
              "            cursor: pointer;\n",
              "            border: 1px solid #aaa;\n",
              "        }\n",
              "      </style>"
            ]
          },
          "metadata": {}
        },
        {
          "output_type": "display_data",
          "data": {
            "text/plain": [
              "from matplotlib import pyplot as plt\n",
              "data.plot(kind='scatter', x='product b', y='product c', s=32, alpha=.8)\n",
              "plt.gca().spines[['top', 'right',]].set_visible(False)"
            ],
            "text/html": [
              "      <div class=\"colab-quickchart-chart-with-code\" id=\"chart-fdaf2dd5-21f2-470d-963b-8d9933c5a063\">\n",
              "        <img style=\"width: 180px;\" src=\"data:image/png;base64,iVBORw0KGgoAAAANSUhEUgAAAicAAAGkCAYAAADqnIU2AAAAOnRFWHRTb2Z0d2FyZQBNYXRwbG90\n",
              "bGliIHZlcnNpb24zLjEwLjAsIGh0dHBzOi8vbWF0cGxvdGxpYi5vcmcvlHJYcgAAAAlwSFlzAAAP\n",
              "YQAAD2EBqD+naQAAI1NJREFUeJzt3XtwVPX9//HXZjdsgHBRIMAQkogkoCYEAuE6ghZRtCoUrKiN\n",
              "iEChtmgp2iJV6lfGQqdVqErLxWqsRikoqdeKioLgIBAUSmWkEiAXFEhACCSSJbv5/P7g5w4xFxKa\n",
              "7PmEfT5mdobdPWfzPpyQPNk9Z9dljDECAACwRITTAwAAAJyNOAEAAFYhTgAAgFWIEwAAYBXiBAAA\n",
              "WIU4AQAAViFOAACAVYgTAABglWYZJ08++aTTIwAAgCbSLOMkPz/f6REAAEATaZZxAgAALlzECQAA\n",
              "sApxAgAArEKcAAAAqxAnAADAKsQJAACwCnECAACsQpwAAACrECcAAMAqxAkAALAKcQI4qLwioCOl\n",
              "PpVXBJweBQCs4XF6ACAcFZ/0KWtzntZ8flinKgJqGenW9cldlDEkXh2jvU6PBwCOatJnTu677z4l\n",
              "JCTI5XJpx44dwdv37NmjoUOHKikpSenp6dq1a1dTjgFYpfikT/eu2K6XthSozOeXJ8KlMp9fWVvy\n",
              "NePl7TpS6nN6RABwVJPGyS233KKPP/5Y8fHxVW6fPn26pk2bpi+//FKzZ8/WpEmTmnIMwCpZm/OU\n",
              "W3RSnaK9uqh1C7X2enRR6xbqFO1VbtFJZX3Cp24DCG9NGifDhw9XbGxslduKioq0bds2ZWRkSJLG\n",
              "jx+vwsJC5ebm1vgYPp9PJ06cqHIJBHh9Hs1TeUVAaz4/rCiPWx531X9+HneEvB633tl1iGNQAIS1\n",
              "kB8QW1hYqK5du8rjOXO4i8vlUlxcnAoKCmpcfsGCBWrXrl2Vy9atW0M5MtBoSn1+naoIqIWn5n96\n",
              "Xk+ETp0OqNTnD/FkAGAP68/WmTNnjkpKSqpcBg4c6PRYwHmJ9nrUMtKt0/7KGu/3+SvVsoVb0V6O\n",
              "VQcQvkIeJ927d9fBgwfl95/5n6ExRgUFBYqLi6txea/Xq7Zt21a5uN3uUI4MNJqoSLdGJ3dWuT8g\n",
              "f6BqoPgDlfL5A7r+ii6KiuR7HED4CnmcxMTEKC0tTVlZWZKk1atXKzY2Vj179gz1KIAj7hySoJ4x\n",
              "bVRc6tM3ZadV5vPrm7LTKi71KTGmjTKGxJ/7QQDgAtakcTJ9+nTFxsbqwIEDuu6664IBsmzZMi1b\n",
              "tkxJSUn6wx/+oMzMzKYcA7BKx2ivFt/RTxmD4hUd5ZG/0ig6yqOMQfF6+o5+vM8JgLDnMsYYp4do\n",
              "qFmzZmnhwoVOjwH8z8orzhz8Gu318FIOAPx/HHUHOCgq0k2UAMD3WH+2DgAACC/ECQAAsApxAgAA\n",
              "rEKcAAAAqxAnAADAKsQJAACwCnECAACsQpwAAACrECcAAMAqxAkAALAKcQIAAKxCnAAAAKsQJwAA\n",
              "wCrECQAAsApxAgAArEKcAAAAqxAnAADAKsQJAACwCnECAACsQpwAAACrECcAAMAqxAkAALAKcQIA\n",
              "AILKKwI6UupTeUXAsRk8jn1lAABgjeKTPmVtztOazw/rVEVALSPduj65izKGxKtjtDeks/DMCQAA\n",
              "Ya74pE/3rtiul7YUqMznlyfCpTKfX1lb8jXj5e06UuoL6TzECQAAYS5rc55yi06qU7RXF7VuodZe\n",
              "jy5q3UKdor3KLTqprE/yQzoPcQIAQBgrrwhozeeHFeVxy+OumgUed4S8Hrfe2XUopMegECcAAISx\n",
              "Up9fpyoCauGpOQm8ngidOh1Qqc8fspmIEwAAwli016OWkW6d9lfWeL/PX6mWLdyK9obuHBriBACA\n",
              "MBYV6dbo5M4q9wfkD1QNFH+gUj5/QNdf0UVRke6QzcSpxAAAhLk7hyRoy/5jyi06Ka/HLa8nQj7/\n",
              "mTBJjGmjjCHxIZ2HZ04AAAhzHaO9WnxHP2UMild0lEf+SqPoKI8yBsXr6Tv6hfx9TnjmBAAAqGO0\n",
              "VzNHJelnV12qUp9f0V5PSF/KORtxAgAAgqIi3Y5FyXd4WQcAAFiFOAEAAFYhTgAAgFWIEwAAYBXi\n",
              "BAAAWIU4AQAAViFOAACAVYgTAABgFeIEAABYhTgBAABWIU4AAIBViBMAAGAV4gQAAFiFOAEAAFYh\n",
              "TgAAgFWIEwAAYBXiBAAAWIU4AQAAViFOAACAVYgTAABgFeIEAABYhTgBAABWIU4AAIBVHIuTf/3r\n",
              "X0pLS1Pfvn2VnJysv//9706NAgAALOJx4osaY5SRkaH169erT58+ysvLU+/evTVu3Di1adPGiZEA\n",
              "AIAlHIkTSXK5XDp+/Lgk6cSJE+rQoYO8Xm+15Xw+n3w+X5XbAoFAKEYEAAAOcCROXC6XVq5cqXHj\n",
              "xql169Y6duyYsrOz1aJFi2rLLliwQI8++miV2wYPHhyqUQEAQIg5csyJ3+/XY489puzsbOXn5+uD\n",
              "Dz7QnXfeqSNHjlRbds6cOSopKalyGThwoANTAwCAUHAkTnbs2KGvv/5aw4cPlySlp6crNjZW27dv\n",
              "r7as1+tV27Ztq1zcbneoRwYAACHiSJx0795dBw8e1BdffCFJys3N1d69e9WrVy8nxgEAABZx5JiT\n",
              "zp07a/ny5br11lsVERGhyspKLV68WHFxcU6MAwAALOLY2Tq33367br/9dqe+PAAAsBTvEAsAAKxC\n",
              "nAAAAKsQJwAAwCrECQAAsApxAgAArEKcAAAAqxAnAADAKsQJAACwCnECAACsQpwAAACrECcAAMAq\n",
              "xAkAALAKcQIAAKxCnAAAAKsQJwAAwCrECQAAsApxAgAArEKcAAAAqxAnAADAKsQJAACwCnECAACs\n",
              "QpwAAACrECcAAMAqxAkAALAKcQIAAKxCnAAAAKsQJwAAwCrECQAAsApxAgAArEKcAAAAqxAnAADA\n",
              "KsQJAACwCnECAACsQpwAAACrECcAAMAqxAkAALAKcQIAAKxCnAAAAKsQJwAAwCrECQAAsApxAgAA\n",
              "rEKcAAAAqxAnAADAKsQJAACwCnECAACsQpwAAACrECcAAMAqxAkAALAKcQIAAKxCnAAAAKsQJwAA\n",
              "wCrECQAAsApxAgAArEKcAAAAqxAnAADAKsQJAACwCnFylvKKgI6U+lReEXB6FAAAwpbH6QFsUHzS\n",
              "p6zNeVrz+WGdqgioZaRb1yd3UcaQeHWM9jo9HgAAYcWxZ058Pp9mzJihxMREpaSkKCMjw5E5ik/6\n",
              "dO+K7XppS4HKfH55Ilwq8/mVtSVfM17eriOlPkfmAgAgXDn2zMmDDz4ol8ulL7/8Ui6XS4cOHXJk\n",
              "jqzNecotOqlO0V553GdarbVX8gcqlVt0Ulmf5GvmqCRHZgMAIBw5EidlZWV69tlndeDAAblcLklS\n",
              "ly5dalzW5/PJ56v67EUg0DjHhJRXBLTm88OK8riDYfIdjztCXo9b7+w6pJ9ddamiIt2N8jUBAEDd\n",
              "HHlZZ+/evbr44os1f/58DRgwQFdeeaU++OCDGpddsGCB2rVrV+WydevWRpmj1OfXqYqAWnhq/mvw\n",
              "eiJ06nRApT5/o3w9AABwbo7Eid/vV35+vi6//HJt27ZNTz31lCZMmKDDhw9XW3bOnDkqKSmpchk4\n",
              "cGCjzBHt9ahlpFun/ZU13u/zV6plC7eivRw3DABAqDgSJ3FxcYqIiNBPfvITSVK/fv10ySWX6D//\n",
              "+U+1Zb1er9q2bVvl4nY3zkssUZFujU7urHJ/QP5A1UDxByrl8wd0/RVdeEkHAIAQciROOnbsqJEj\n",
              "R+rdd9+VJO3fv1/79+/XZZddFvJZ7hySoJ4xbVRc6tM3ZadV5vPrm7LTKi71KTGmjTKGxId8JgAA\n",
              "wpljr1csXbpUU6ZM0ezZsxUREaFly5apW7duIZ+jY7RXi+/op6xP8vXOrkM6dTqg6CiPfnxFLO9z\n",
              "AgCAA1zGGOP0EA01a9YsLVy4sNEft7zizMGv0V4PL+UAAOAQjvQ8S1SkmygBAMBhfLYOAACwCnEC\n",
              "AACsQpwAAACrNChOpk6dqqNHjwavHzlyRNOnT2/0oQAAQPhqUJx8+umn6tChQ/B6x44dlZOT0+hD\n",
              "AQCA8NWgOPH7q37GjDFGp0+fbtSBAABAeGtQnAwePFgzZsxQfn6+8vLydO+992rw4MFNNRsAAAhD\n",
              "DYqTJ554Qt9++63S09M1aNAg+Xw+LVq0qKlmAwAAYahBb8LWtm1bPffcc001CwAAAKcSAwAAuxAn\n",
              "AADAKsQJAACwSoPi5LHHHqvXbQAAAOerQXGSnZ1dr9sAAADOV73O1nn33Xe1Zs0affXVV5o1a1bw\n",
              "9pKSkiYbDAAAhKd6xUlUVJTat2+viIgItWvXLnh79+7dNXfu3CYbDgAAhJ96xcmIESM0YsQIjR07\n",
              "VqmpqU09EwAACGMNOubk6aef5lOJAQBAk+JTiQEAgFX4VGIAAGAVPpUYAABYpcGfSlxWVsanEgMA\n",
              "gCbT4E8lzszMbKpZAAAAGhYnL7zwQo23T5w4sVGGAQAAaFCcvPnmm8E/l5eX6+OPP9bgwYOJEwAA\n",
              "0GgaFCevvPJKlev79+/XQw891KgDAQCA8NagA2K/75JLLtGuXbsaaxYAAICGPXPyxhtvBP8cCAS0\n",
              "ZcsWeb3eRh8KAACErwbFydmnDXs8HvXs2VMrV65s9KEAAED4alCcrFu3rqnmAAAAkFTPONmwYUOd\n",
              "9w8fPrxRhgEAAKhXnNx///2SzhxnsmPHDvXo0UMul0t79+5V37599dlnnzXpkAAAIHzU62ydnJwc\n",
              "5eTkqG/fvnr33XeVm5urPXv26L333lNaWlpTzwgAAMJIg04l3rZtm0aNGhW8fs011ygnJ6fRhwIA\n",
              "AOGrQXHidrurHBT70UcfKSLif3qrFAAAgCoadLbOX/7yF912222KjIyUMUaBQIBTiQEAQKNqUJwM\n",
              "HTpUe/fu1e7duyVJvXv3VmRkZJMMBgAAwlOD4kSStm/frrVr10qSfD6fBgwY0OhDAQCA8NWgA0aW\n",
              "L1+uW265RUVFRSouLtb48eP1t7/9ralmAwAAYahBz5wsXrxYn376qTp16iRJ+u1vf6uRI0dq6tSp\n",
              "TTIcAAAIPw0+1ea7MPn+nwEAABpDg+IkMTFRDz30kAoKClRQUKC5c+cqMTGxqWYDAABhqEFxsnTp\n",
              "Uu3du1dpaWnq37+/cnNztWTJkqaaDQAAhKF6H3MSCAT0+OOP6x//+EdTzgMAAMJcvZ85+f67wwIA\n",
              "ADSFBr2sc8MNN+j3v/+9vv76a504cSJ4AQAAaCwuY4yp78I1fY6Oy+VSIBBo1KHOZdasWVq4cGFI\n",
              "vyYAAAiNBr3PSWVlZVPNAQAAIOk83r6+oKBAGzZskMvl0vDhw9W9e/emmAsAAISpBh1z8vLLL6tf\n",
              "v35avXq1Xn31VaWlpXH2DgAAaFQNeuZk3rx52rZtmy655BJJUl5enkaPHq3bbrutSYYDAADhp0HP\n",
              "nLRq1SoYJpKUkJCgVq1aNfpQAAAgfDUoTn74wx/q//7v/3TgwAEVFhZq3rx5uummmzilGAAANJr/\n",
              "+VTi4AOF8JRiTiUGAODCxanEAADAKg16WQcAAKCpEScAAMAqjsdJZmamXC6XXnvtNadHAQAAFnA0\n",
              "TvLy8vTMM89o8ODBTo4BAAAs4licVFZWaurUqXr66afl9XqdGgMAAFimwZ+t01gWLlyoYcOGqX//\n",
              "/nUu5/P55PP5qtwW6k9BBgAAoePIMyeff/65Vq9erYcffvicyy5YsEDt2rWrctm6dWsIpgQAAE5w\n",
              "JE42btyovLw8JSYmKiEhQZs3b9a0adO0ZMmSasvOmTNHJSUlVS4DBw50YGoAABAKjrysc8899+ie\n",
              "e+4JXr/qqqs0c+ZMjR07ttqyXq+32jEpbre7qUcEAAAOcfxUYgAAgLM5dkDs2davX+/0CAAAwBI8\n",
              "cwIAAKxCnAAAAKsQJwAAwCrECQAAsApxAgAArEKcAAAAqxAnAADAKsQJAACwCnECAACsQpwAAACr\n",
              "ECcAAMAqxAkAALAKcQIAAKxCnAAAAKsQJwAAwCrECQAAsApxAgAArEKcAAAAqxAnAADAKsQJAACw\n",
              "CnECAACsQpwAAACrECcAAMAqxAkAALAKcQIAAKxCnAAAAKsQJwAAwCrECQAAsApxAgAArEKcAAAA\n",
              "qxAnAADAKsQJAACwCnECAACsQpwAAACrECcAAMAqxAkAALAKcQIAAKxCnAAAAKsQJwAAwCrECQAA\n",
              "sApxAgAArEKcAAAAqxAnAADAKsQJAACwCnECAACsQpwAAACrECcAAMAqxAkAALAKcQIAAKxCnAAA\n",
              "AKsQJwAAwCrECQAAsApxAgAArEKcAAAAqxAnAADAKsQJAACwCnECAACsQpwAAACrECcAAMAqjsRJ\n",
              "eXm5xo4dq6SkJKWmpmrUqFHKzc11YhQAAGAZx545mTZtmv773//q3//+t8aMGaOpU6c6NQoAALCI\n",
              "I3ESFRWlG264QS6XS5I0ePBg5eXl1bisz+fTiRMnqlwCgUAIpwUAAKFkxTEnTz75pMaMGVPjfQsW\n",
              "LFC7du2qXLZu3RriCQEAQKg4Hifz589Xbm6uFixYUOP9c+bMUUlJSZXLwIEDQzwlAAAIFY+TX/zx\n",
              "xx9Xdna21q5dq1atWtW4jNfrldfrrXKb2+0OxXgAAMABjsXJwoULtWLFCq1du1bt27d3agwAAGAZ\n",
              "R+LkwIEDuv/++9WjRw9dffXVks48Q7JlyxYnxgEAABZxJE5iY2NljHHiSwMAAMs5fkAsAADA2YgT\n",
              "AABgFeIEAABYhTgBAABWIU4AAIBViBMAAGAV4gQAAFiFOAEAAFYhTgAAgFWIEwAAYBXiBAAAWIU4\n",
              "AQAAViFOAACAVYgTAABgFeIEAABYhTgBAABWIU4AAIBViBMAAGAV4gQAAFiFOAEAAFYhTgAAgFWI\n",
              "EwAAYBXiBAAAWIU4AQAAViFOAACAVYgTAABgFeIEAABYhTgBAABWIU4AAIBViBMAAGAV4gQAAFiF\n",
              "OAEAAFYhTgAAgFWIEwAAYBXiBAAAWIU4AQAAViFOAACAVYgTAABgFeIEAABYhTgBAABWIU4AAIBV\n",
              "iBMAAGAV4gQAAFiFOAEAAFYhTgAAgFWIEwAAYBXiBAAAWIU4AQAAViFOAACAVYgTAABgFeIEAABY\n",
              "hTgBAABWIU4AAIBViBMAAGAV4gQAAFiFOAEAAFYhTs5SXhHQkVKfyisCTo8CAEDY8jg9gA2KT/qU\n",
              "tTlPaz4/rFMVAbWMdOv65C7KGBKvjtFep8cDACCsOPbMyZ49ezR06FAlJSUpPT1du3btcmSO4pM+\n",
              "3btiu17aUqAyn1+eCJfKfH5lbcnXjJe360ipz5G5AAAIV47FyfTp0zVt2jR9+eWXmj17tiZNmuTI\n",
              "HFmb85RbdFKdor26qHULtfZ6dFHrFuoU7VVu0UllfZLvyFwAAIQrR+KkqKhI27ZtU0ZGhiRp/Pjx\n",
              "KiwsVG5ubrVlfT6fTpw4UeUSCDTOMSHlFQGt+fywojxuedxV/yo87gh5PW69s+sQx6AAABBCjsRJ\n",
              "YWGhunbtKo/nzCEvLpdLcXFxKigoqLbsggUL1K5duyqXrVu3NsocpT6/TlUE1MJT81+D1xOhU6cD\n",
              "KvX5G+XrAQCAc7P+bJ05c+aopKSkymXgwIGN8tjRXo9aRrp12l9Z4/0+f6VatnAr2stxwwAAhIoj\n",
              "cdK9e3cdPHhQfv+ZZySMMSooKFBcXFy1Zb1er9q2bVvl4na7G2WOqEi3Rid3Vrk/IH+gaqD4A5Xy\n",
              "+QO6/oouiopsnK8HAADOzZE4iYmJUVpamrKysiRJq1evVmxsrHr27BnyWe4ckqCeMW1UXOrTN2Wn\n",
              "Vebz65uy0you9Skxpo0yhsSHfCYAAMKZY69XLFu2TJMmTdL8+fPVtm1bZWZmOjJHx2ivFt/RT1mf\n",
              "5OudXYd06nRA0VEe/fiKWN7nBAAAB7iMMcbpIRpq1qxZWrhwYaM/bnnFmYNfo70eXsoBAMAhHOl5\n",
              "lqhIN1ECAIDDrD9bBwAAhBfiBAAAWIU4AQAAViFOAACAVYgTAABgFeIEAABYhTgBAABWIU4AAIBV\n",
              "iBMAAGAV4gQAAFilWX62zrhx45SQkNDojxsIBLR161YNHDhQbveF9zb2bF/zd6FvI9vX/F3o23ih\n",
              "b5/UtNsYHx+vX/7yl+dcrlnGSVM5ceKE2rVrp5KSErVt29bpcRod29f8XejbyPY1fxf6Nl7o2yfZ\n",
              "sY28rAMAAKxCnAAAAKsQJwAAwCrEyVm8Xq8eeeQReb1ep0dpEmxf83ehbyPb1/xd6Nt4oW+fZMc2\n",
              "ckAsAACwCs+cAAAAqxAnAADAKsQJAACwSljEyX333aeEhAS5XC7t2LEjePuePXs0dOhQJSUlKT09\n",
              "Xbt27ar1MZ599lklJibq0ksv1U9/+lNVVFSEYPL6qWn7ysvLNXbsWCUlJSk1NVWjRo1Sbm5ujevn\n",
              "5eXJ7Xarb9++wcvevXtDuAV1q23/JSQkqFevXsGZV65cWetj2Lz/pJq38ejRo1X2SVJSkjwej775\n",
              "5ptq69u+D+v6fiwqKtLo0aOVmJio5ORkbdiwodbHeeutt9S7d28lJiZq3LhxOnHiRKg2oU51bd/d\n",
              "d98dvH3YsGHKycmp9XFcLpdSUlKC+3Djxo2h2oQ61bV9V111lS655JLgzIsWLar1cWzdf1Ld2zho\n",
              "0KDg9iUnJ8vlcmnnzp01Po6t+1CSrr32WvXp00d9+/bVlVdeqe3bt0uy9HehCQMfffSRKSwsNPHx\n",
              "8Wb79u3B26+++mqTmZlpjDHmlVdeMQMGDKhx/X379pmuXbuagwcPmsrKSnPTTTeZxYsXh2Dy+qlp\n",
              "+06dOmXefvttU1lZaYwx5umnnzYjRoyocf39+/ebdu3ahWbY81Db/vv+9drYvv+MqX0bz/anP/3J\n",
              "3HjjjTXeZ/s+rOv78e677zaPPPKIMcaYrVu3mm7dupnTp09Xe4yTJ0+amJgY88UXXxhjjPnFL35h\n",
              "HnjggZDMfy51bd/rr79uKioqjDHGvPnmmyY+Pr7Wx5Fkjh071sTTNlxd2zdixAjzz3/+85yPYfP+\n",
              "M6b+PzNfeeUVk5ycXOvj2LoPjTFV5srOzjZ9+vQxxtj5uzAs4uQ7Z//gP3z4sGnTpk3wh0ZlZaXp\n",
              "3Lmz2bNnT7X1/vjHP5rp06cHr7/99ttm2LBhIZm5Ier6xZaTk1PrD0Xbf7F953zjpLnsP2Pq3qbe\n",
              "vXvX+kuguezD75z9/di6dWtz8ODB4H3p6enm/fffr7bOqlWrzHXXXRe8vmvXLtOtW7cmn/V81Pbv\n",
              "rbi42Hg8nuDPne+z+Rfb2c7evvrGSXPaf8bUvg9Hjx5tFi1aVOt6zWUfZmZmmtTUVGt/F4bFyzo1\n",
              "KSwsVNeuXeXxeCSdeSouLi5OBQUF1ZYtKChQfHx88HpCQkKNy9nsySef1JgxY2q9v6ysTOnp6UpL\n",
              "S9O8efMUCARCON35mzhxolJSUjRlyhQVFxfXuMyFsP82bdqkY8eO6cYbb6x1mea0D7/7fjx69Kgq\n",
              "KirUpUuX4H217Z+a9uPBgwfl9/tDMnND1Pbv7cknn9QNN9wQ/LlTk5EjRyo1NVWzZs1SWVlZU455\n",
              "3r6/fQ8++KBSUlI0YcIE7du3r8Z1mtP+k2reh4WFhfroo4+UkZFR57o278OJEyeqe/fumjt3rl58\n",
              "8UVrfxeGbZyEk/nz5ys3N1cLFiyo8f6uXbvqq6++Uk5OjtauXauNGzfqiSeeCPGUDbdhwwbt3LlT\n",
              "n332mTp27Ki77rrL6ZGazLPPPquJEyfW+kutOe3Dc30/Nne1bV9WVpZWrVql5cuX17pufn6+Pv30\n",
              "U23atEnFxcX69a9/3dTjNtj3t+/FF1/U7t27tXPnTl155ZV1BnRzUds+fP7553XjjTeqY8eOta5r\n",
              "+z584YUXVFhYqMcee0yzZ892epxahW2cdO/evUq1G2NUUFCguLi4asvGxcUpPz8/eD0vL6/G5Wz0\n",
              "+OOPKzs7W++8845atWpV4zJer1cxMTGSpIsvvliTJ0+26iCu2ny3DyIjIzVz5sxaZ27O+0+SSktL\n",
              "tWrVKk2ePLnWZZrLPvz+92OHDh3k8Xh06NCh4DK17Z+a9uPZ/+OzQW3/3lauXKlHH31U77//vjp3\n",
              "7lzr+t9td+vWrfXzn//cun1Y0/Z1795d0pn/cc+YMUP79u3T0aNHq63bHPafVPs+NMYoMzNTU6ZM\n",
              "qXN92/fhd+666y6tW7dOsbGxVv4uDNs4iYmJUVpamrKysiRJq1evVmxsrHr27Flt2fHjx+uNN97Q\n",
              "oUOHZIzR0qVLddttt4V65AZbuHChVqxYoffff1/t27evdbmioqLgEdc+n0/Z2dnq169fiKY8P2Vl\n",
              "ZTp+/Hjw+ooVK2qdubnuv++sXLlSqamp6t27d63LNId9WNv3449//GMtXbpUkpSTk6OvvvpKI0aM\n",
              "qLb+6NGj9dlnn2n37t2SpL/+9a9W7cfatm/VqlV6+OGHtXbt2jp/kB87dkzffvutJKmyslIrV660\n",
              "ah/WtH1+v1+HDx8OLrN69Wp17txZHTp0qLa+7ftPqvtn5ocffii/369Ro0bVur7N+/D48eP6+uuv\n",
              "g9dfe+01dejQwd7fhU1yJItlpk2bZrp162bcbreJiYkxl156qTHGmN27d5vBgwebxMRE079/f7Nz\n",
              "587gOlOmTDGvv/568Pry5ctNjx49TI8ePczkyZNrPJvAKTVtX2FhoZFkevToYVJTU01qaqoZOHBg\n",
              "cJ25c+eaJUuWGGOMWb16tbniiitMnz59zOWXX25mzJhhysvLndqcamravr1795q+ffualJQUk5yc\n",
              "bG6++Wazf//+4DrNaf8ZU/v3qDHGDBkyxDz33HPV1mlO+7Cu78dDhw6ZUaNGmZ49e5rLL7/cfPjh\n",
              "h8H1zt5GY86c+dKrVy9z6aWXmjFjxpjjx4+HfFtqUtf2eTweExsbG7w9NTXVHDlyxBhjzJIlS8zc\n",
              "uXONMcZs2rTJpKSkBPdhRkaGOXr0qGPbdLbatq+0tNT079/fJCcnmz59+pgf/OAHZseOHcH1msv+\n",
              "M6bufWiMMbfffrv53e9+V2295rIP8/LyTHp6enBfjRw5MnjwvY2/C/lsHQAAYJWwfVkHAADYiTgB\n",
              "AABWIU4AAIBViBMAjhowYIDWr19/3uuvX79ea9asqfX+SZMm6c9//vN5Pz6A0CNOADSqUL/j57ni\n",
              "BEDzQ5wAqBeXy6WHH35Y/fr1U1JSkl566aUq9z3yyCNKT0/XnDlzVFRUpHHjxiklJUXJyclatmxZ\n",
              "cNlNmzYFP9317rvvrhIzV111lV577bXg9VtuuUXPP/+8JKmkpERTp05VcnKyUlNTNXnyZO3YsUNL\n",
              "ly7VSy+9pL59+2revHk1zr5z587gp67eddddOnXqVOP+5QBoVHa9NR8Aq7lcLm3fvl379u3TgAED\n",
              "NGzYMCUkJEiS3G63cnJyJEkTJkxQr169lJ2draKiIvXv31+pqalKS0vThAkTlJmZqWuuuUbvvfde\n",
              "MD7OZebMmWrZsqV27typiIgIFRcXq1OnTvrZz36m48eP1/nSzZYtW7R582a1atVKY8eO1aJFi/Tb\n",
              "3/72f/zbANBUeOYEQL1NnTpVktSjRw8NHz5cGzZsCN539tvrr127VtOnT5d05t2Yx40bp7Vr12r3\n",
              "7t3yeDy65pprJEnXXnutevToUa+v/dZbb+mBBx5QRMSZH1udOnWq99y33nqr2rRpI7fbrSlTpmjt\n",
              "2rX1XhdA6BEnAM6by+UK/jk6Orpey9V1n8fjqfJpyuXl5f/jhA2fB4DziBMA9ZaZmSnpzAd+bdy4\n",
              "UVdeeWWNy11zzTV65plnJEnFxcXKzs7WqFGj1Lt3b/n9fq1bt07SmWdY9u7dG1yvZ8+e2rJliyRp\n",
              "//79+vjjj4P33XzzzXr88cdVWVkZfFxJatu2rUpKSuqc+9VXX1VpaakCgUDwJSUA9iJOANRbIBBQ\n",
              "v379dO211+qpp54KHm/yfU899ZS++OILpaSk6Oqrr9ZDDz2kQYMGqUWLFlq5cqV+9atfKSUlRS+/\n",
              "/LJSU1OD6/3mN7/RunXrlJKSojlz5mjQoEHB+xYtWiSfz6eUlBT17ds3eMzIj370I+3YsaPOA2LT\n",
              "09N13XXX6bLLLlP79u01c+bMRvs7AdD4+GwdAPXicrl07NixOj/hGgAaA8+cAAAAq3AqMYB64UlW\n",
              "AKHCMycAAMAqxAkAALAKcQIAAKxCnAAAAKsQJwAAwCrECQAAsApxAgAArEKcAAAAq/w/ZYuRBiS0\n",
              "ovgAAAAASUVORK5CYII=\n",
              "\">\n",
              "      </div>\n",
              "      <script type=\"text/javascript\">\n",
              "        (() => {\n",
              "          const chartElement = document.getElementById(\"chart-fdaf2dd5-21f2-470d-963b-8d9933c5a063\");\n",
              "          async function getCodeForChartHandler(event) {\n",
              "            const chartCodeResponse =  await google.colab.kernel.invokeFunction(\n",
              "                'getCodeForChart', [\"chart-fdaf2dd5-21f2-470d-963b-8d9933c5a063\"], {});\n",
              "            const responseJson = chartCodeResponse.data['application/json'];\n",
              "            await google.colab.notebook.addCell(responseJson.code, 'code');\n",
              "          }\n",
              "          chartElement.onclick = getCodeForChartHandler;\n",
              "        })();\n",
              "      </script>\n",
              "      <style>\n",
              "        .colab-quickchart-chart-with-code  {\n",
              "            display: block;\n",
              "            float: left;\n",
              "            border: 1px solid transparent;\n",
              "        }\n",
              "\n",
              "        .colab-quickchart-chart-with-code:hover {\n",
              "            cursor: pointer;\n",
              "            border: 1px solid #aaa;\n",
              "        }\n",
              "      </style>"
            ]
          },
          "metadata": {}
        },
        {
          "output_type": "display_data",
          "data": {
            "text/plain": [
              "<google.colab._quickchart_helpers.SectionTitle at 0x7cb1de3e5810>"
            ],
            "text/html": [
              "<h4 class=\"colab-quickchart-section-title\">Values</h4>\n",
              "<style>\n",
              "  .colab-quickchart-section-title {\n",
              "      clear: both;\n",
              "  }\n",
              "</style>"
            ]
          },
          "metadata": {}
        },
        {
          "output_type": "display_data",
          "data": {
            "text/plain": [
              "from matplotlib import pyplot as plt\n",
              "data['product a'].plot(kind='line', figsize=(8, 4), title='product a')\n",
              "plt.gca().spines[['top', 'right']].set_visible(False)"
            ],
            "text/html": [
              "      <div class=\"colab-quickchart-chart-with-code\" id=\"chart-3f2ca4e4-c8cf-43ba-aec6-2f5076d9e69b\">\n",
              "        <img style=\"width: 180px;\" src=\"data:image/png;base64,iVBORw0KGgoAAAANSUhEUgAAAqIAAAFuCAYAAABaw3qhAAAAOnRFWHRTb2Z0d2FyZQBNYXRwbG90\n",
              "bGliIHZlcnNpb24zLjEwLjAsIGh0dHBzOi8vbWF0cGxvdGxpYi5vcmcvlHJYcgAAAAlwSFlzAAAP\n",
              "YQAAD2EBqD+naQAAVpZJREFUeJzt3XdclXX/x/HXYYsCigNQBFSGqQwXmnvPUnOUdztHmqV1qw0z\n",
              "K21YOUptqGVWd2XmyMy01HLgSi1xy1ARRQUnIMq+fn/gzS9utVIPXIz38/G4Ho/gXNd13ueE+ub6\n",
              "nHO+FsMwDEREREREipiN2QFEREREpGxSERURERERU6iIioiIiIgpVERFRERExBQqoiIiIiJiChVR\n",
              "ERERETGFiqiIiIiImEJFVERERERMoSIqIiIiIqZQERURKWLe3t589tlnZscQETGdiqiISAm2fv16\n",
              "LBYL2dnZZkcREblpKqIiIrcgJyeH3Nxcs2OIiJRoKqIiIkC7du146qmn6Nu3Ly4uLvj7+/PFF1/k\n",
              "3/7fK4/ffPMNgYGBODs7k5SUREJCAvfeey8eHh54eHhw3333cfLkyfzjLl26xODBg6lcuTI1atRg\n",
              "xowZBe73elc0P/vsM7y9vfO/zs7OZvr06dSrVw8XFxe8vb15++23iY+Pp3v37gBUrFiRChUq8Oab\n",
              "b1738S1atIjGjRtTqVIlqlSpQq9evTh69KhVnjsRkVulIioictW8efN47LHHuHDhAjNnzmTIkCFs\n",
              "3ry5wD4LFy5k69atpKSkULVqVe666y5sbW2Jjo4mKioKwzDo1asXOTk5AIwePZpdu3axe/duoqOj\n",
              "iYyM5PTp0zeV69VXX+XDDz/ks88+Izk5mT179tCmTRt8fHxYtWoVABcvXuTSpUu8+OKL1z2Hi4sL\n",
              "n376KWfPnuXQoUMYhsH9999/C8+SiIj12JkdQESkuOjRowd33313/n/fc889fPrpp7Rs2TJ/n7fe\n",
              "eovKlSsDsHXrVnbv3s2vv/6Km5sbAB999BFVq1Zlx44dhIeH88UXX7Bo0aL8K5zvvfcen3/++T/O\n",
              "ZBgGM2bMYP78+YSHhwPg7u7OnXfeeVOPrVu3bvn/XaVKFSZNmkSjRo1ITU3FxcXlps4lImItuiIq\n",
              "InJVrVq1rvn6+PHjN9zn+PHjuLu7U6lSpfzvVa5cmUqVKhEfH8+ZM2fIyMgocIybmxvu7u7/ONPZ\n",
              "s2e5dOkSQUFBN/twCtiwYQMdO3bEy8sLV1dX2rZtC0BSUtJtnVdE5HaoiIqIXBUXF3fN139+rSaA\n",
              "jc3//7VZs2ZNLly4wIULF/K/d/78eS5cuICPjw9Vq1bF0dGxwHmTk5ML7P/fq5FpaWn53/vza0yr\n",
              "VKlChQoViI6Ovm7mP+e5kczMTO666y66detGdHQ0KSkpbNiwAci74ioiYhYVURGRq1auXMmPP/5I\n",
              "Tk4OP/30E9999x2PPfbYDfcPDw+nQYMGPPXUU6SkpJCcnMyTTz5JWFgYTZs2xcbGhgcffJBXX32V\n",
              "hIQE0tLSGDNmDBaLJf8cgYGBuLi4MGfOHHJzc4mMjGTu3Ln5t1ssFkaOHMm4cePYuXMnhmFw/vx5\n",
              "tm7dCoCnpycAUVFRN8yZmZnJlStXqFSpEi4uLpw8eZKXXnrpdp8uEZHbpiIqInLVoEGDmDdvHhUr\n",
              "VuTJJ59k9uzZtG7d+ob729rasmLFCjIyMvD39ycgIIDs7GyWL1+Ora0tAO+++y7BwcEEBwcTGBhI\n",
              "cHBwfnmEvCuin3/+OXPnzsXV1ZVx48bx+OOPF7ifSZMmMWTIEB544AFcXFwICQkhIiICyCuyI0eO\n",
              "pH379lSsWJG33nrrmpwVKlTgk08+4fXXX6dChQp0796dAQMGWOMpExG5LRZDcxkREdq1a0erVq14\n",
              "/fXXzY4iIlJm6IqoiIiIiJhCRVRERERETKHRvIiIiIiYQldERURERMQUKqIiIiIiYgoVUREREREx\n",
              "hYqoiIiIiJiixBXRGTNmmB1BRERERKygxBXRY8eOmR1BRERERKygxBVRERERESkdVERFRERExBQq\n",
              "oiIiIiJiChVRERERETGFiqiIiIiImEJFVERERERMoSIqIiIiIqZQERURERERU9xUEU1PT6dPnz4E\n",
              "BgYSGhpK586diY2NBSApKYlu3boREBBAgwYN2Lhx4w3Ps2LFCurWrUtAQAB9+/YlJSXl9h6FiIiI\n",
              "iJQ4N31F9PHHHycqKordu3fTu3dvhgwZAsALL7xA8+bNiYmJYf78+dx///1kZWVdc/ylS5cYPHgw\n",
              "y5YtIyYmhurVq/Paa6/d/iMRERERkRLlpoqok5MTPXr0wGKxANC8eXPi4uIA+Pbbbxk+fDgATZs2\n",
              "pXr16mzYsOGac6xatYqGDRtSt25dAEaMGMGCBQtu5zGIiIiISAlkdzsHz5gxg969e3Pu3DmysrLw\n",
              "9PTMv83Pz4/4+PhrjomPj8fX17fAfqdOnSI7Oxs7u4JxMjIyyMjIKPC9nJyc24ksIteRk2uwfHcC\n",
              "P+07zYh2/oTWrGh2JBERKQNuuYi++eabxMbG8ssvv3DlyhVrZso3efJkJk6cWOB7zZs3L5T7EimL\n",
              "DMPg5/2nmbY6mpikSwDsPZHMz/9ug4uTvcnpRESktLuld81PnTqVpUuXsmrVKpydnalcuTJ2dnac\n",
              "Pn06f5+4uDh8fHyuOdbHx4djx44V2M/Ly+uaq6EA48aNIzk5ucAWHh5+K5FF5E8Mw2Bj9Bl6f7CZ\n",
              "4V/+QUzSJdzK2VPNxZGTyem88eNBsyOKiEgZcNNFdPr06SxYsIA1a9ZQsWLF/O8PGDCA2bNnA7Bj\n",
              "xw4SEhJo27btNcd369aNP/74g0OHDgHw4YcfMnDgwOvel6OjI66urgU2W1vbm40sIn+yI+48983d\n",
              "xsOfbmfPiWScHWwZ2cGfjc+1Z9a/GgLwzY7jrI9KMjmpiIiUdjc1mj9x4gRjxoyhdu3atG/fHsgr\n",
              "i7/99htvv/02Dz30EAEBATg4OPDll19ib5832nv55ZepXr06w4cPx8XFhU8++YQ+ffqQnZ1NgwYN\n",
              "+Pzzz63/yESkgH0JyUxdHcX6qDMAONjZ8FBzX55oV4cqFRwBaFa7Mo+19GP+5jheWLKXn//dBrdy\n",
              "GtGLiEjhsBiGYZgd4maMHj2a6dOnmx1DpMSITUpl+ppoVu7Ne+mMrY2Fe5vUZFRHf7zcyl2z/5XM\n",
              "HLrP2EjcucsMaOzNlAGhRR1ZRETKiNt617yIFF/Hz1/mvbUxfLfrBLkGWCzQO7Q6z3QKxK9K+Rse\n",
              "V87BlqkDQhkwZyuLfj9B92BPOtT1KMLkIiJSVqiIipQySSnpvL8ulgXb48nKyRt4dKnnwZguQQR5\n",
              "uvyjczTxc2dwy1p8sukoLyzZy5p/u+PmrBG9iIhYl4qoSClxIS2T2RsP8/mWONKzcgFoHVCFMV2C\n",
              "CLuFzwUd2zWIXw8lceRsGhN/2M/0+8KsG1hERMo8FVGREi41PYtPN8XxScQRUjOyAWjsW4mxXYK4\n",
              "s07lWz6vk70tU+8Npf9HW1i6K4HuwV50rqcRvYiIWI+KqEgJlZ6Vw3+2HuPD9bFcuJwFQD0vV8Z2\n",
              "DaR9ULX8pXhvRyOfSgxtU5s5G47w4nd7aeJbiUrlHW77vCIiIqAiKlLiZGbn8u3O48z6NYbElLwl\n",
              "cGtXLc/ozoH0aOCFjc3tF9A/+3enQH45mERs0iVe/WE/MwY2tOr5RUSk7FIRFSkhcnINvo9M4N21\n",
              "0Rw/n7esbo2K5Xi6UwB9G9bAzvaWFkr7W072ee+i7/vhZr6PPEn3Bl50a+BZKPclIiJli4qoSDF3\n",
              "vfXgq1RwZGQHfwaG18TRrvBXGwurWZHhbevw4frDvLRsL+G13HHXiF5ERG6TiqhIMWUYBhtjzjL1\n",
              "5yj2JiQD4FbOnuFt6/BIC1+cHYr2j+/TnQJYezCR6MRLvPz9Pt6/v1GR3r+IiJQ+KqIixdD2o+eZ\n",
              "+nMU2+POA1DewZbBrWoxuHVt05bcdLSzZdqAMPp8uJkVe07RvcEpeoZ4mZJFRERKBxVRkWLkeuvB\n",
              "P3x1PfjKV9eDN1Owtxsj2tVh1q+xTPh+H81qu+evUy8iInKzVERFioH/XQ/ezsbCvU1rMrLD9deD\n",
              "N9PIDgGsOZDIodOpTFi2jw8faGSVj4oSEZGyR0VUxETXWw++T1gNnukUgG/lG68HbyYHOxumDgil\n",
              "zwebWbXvNCv2nOLu0OpmxxIRkRJIRVTEBIkp6bz/ayzf7Pj/9eC71vdgdOd/vh68mRrUcOOpDv68\n",
              "tzYmf0RfzcXJ7FgiIlLCqIiKFKELaZnM3nCYz7bEkZH9/+vBj+0SROgtrAdvpifb+7N6fyIHTqUw\n",
              "/rt9zH2osUb0IiJyU1RERYpAanoW8zYd5ZOIo1y6uh58E99KjO0aRPPat74evJnsbW2Ydm8ovd7f\n",
              "xJoDiXwfeZI+DWuYHUtEREoQFVGRQpSelcMXW+P4aP3hAuvBP9s1iHZBVUv8FcQ7vFwZ1SGAaWui\n",
              "eWX5flrUqUw1V43oRUTkn1ERFSkEmdm5LNx5nFm/xJCU+v/rwY/pHET3Bp5WXw/eTMPb1WH1gUT2\n",
              "JiTz4nd7+fjhJiW+YIuISNFQERWxopxcg2W7Enjvl4LrwT/TKYB7CnE9eDPZ2+a9i/7uWZtYezCJ\n",
              "pX8k0K+xt9mxRESkBFARFbECwzD4ad9ppq2JJvbqevBVXfLWg7+vadGsB2+mIE8Xnu4UwJSfo3j1\n",
              "h/209K+Cp5tG9CIi8tdUREVug2EYbIg+w7TV0QXWg3+iXR0eudOPcg6lu4D+2bA2tVm9/zS7TyTz\n",
              "wtI9zH+0qUb0IiLyl1RERW7RddeDb12bIa1r4epkznrwZrK7OqLvOWsT66POsOj3E9zbpKbZsURE\n",
              "pBhTERW5SXtP5K0HvyG6eK4Hb6YADxfGdA5k8qpDvPbDAVr5V6F6xeK1RKmIiBQfKqIi/1BMYt56\n",
              "8Kv2/f968Pc1rcnIDgF6PeSfDGldm5/2n2ZX/EWeX7KHLwaFa0QvIiLXpSIq8jeOn7/Mu2ujWbYr\n",
              "IX89+HvCavB0MV4P3ky2NhamDgilx4wIImLO8s2O4/wr3MfsWCIiUgypiIrcQGJKOrN+jWHhjuP5\n",
              "68F3q+/J6C6BBHoU//XgzVSnagWe7RrE6z8e5I0fD9I6oArelZzNjiUiIsXMTX2o4ahRo/Dz88Ni\n",
              "sRAZGQnAuXPnCAsLy98CAwOxs7Pj/Pnz1xwfFxeHra1tgf0PHz5slQciYi3n0zJ5c+VB2ryzji+3\n",
              "xZOVY9A6oArfP9mS2Q81Vgn9hx5rWYsmvpW4lJHN80v2YBiG2ZFERKSYuakrov379+e5556jVatW\n",
              "+d+rXLlyfikFmDp1Khs2bMDd3f2653BxcSmwv0hxkZqexScRR5m3qfSsB28mWxsLUwaE0n3GRjbH\n",
              "nuOr3+J5sLmv2bFERKQYuaki2qZNm7/dZ968eUyePPmWA4kUtSuZV9eD33CYi1fXg69f3ZWxXYNo\n",
              "F1jy14M3U60q5Xmua10mrTjAmysP0jawKjXdNaIXEZE8Vn2N6JYtW7hw4QJ33XXXDfdJS0ujadOm\n",
              "5OTk0KdPH8aPH4+t7fU/9DsjI4OMjIwC38vJybFmZCnDMrNzWbgjnlm/xuavB1+nannGdAmiW/3S\n",
              "tR68mR5t4cdP+06zPe48zy7ezddDmuu5FRER4CZfI/p35s2bx8MPP4yd3fX7rZeXFwkJCezYsYO1\n",
              "a9cSERHBtGnTbni+yZMn4+bmVmDbvn27NSNLGZSTa7D49xN0mLaeCd/vJyk1gxoVyzF1QCg/P9OG\n",
              "HsFeKkpWZGNjYcqAEMrZ27LtyHm+/O2Y2ZFERKSYsFoRvXTpEt9++y2DBg264T6Ojo5Uq1YNAHd3\n",
              "dwYNGkRERMQN9x83bhzJyckFtvDwcGtFljImN9dg5d5TdH1vI2MX7ebEhStUdXFkUu/6/Dq2Lf0b\n",
              "e2Nna9XfzeQq38rlGdejLgCTVx7i2Lk0kxOJiEhxYLXR/MKFCwkNDaVu3bo33CcpKYlKlSphb29P\n",
              "RkYGS5cupWHDhjfc39HREUfHgivV3GiML3IjhmGwPvoM01ZHsS8hBYCKzvYMb1v21oM304PNfFm5\n",
              "9xTbjpzn2UV7+OZxjehFRMq6m7r8M2zYMLy9vTlx4gRdu3bF398//7Z58+YxePDga455+eWXmT17\n",
              "NgCbNm2iYcOGhIaG0qhRIzw9PRk/fvxtPgSRG/vtyDnunbOVx+bvYF9CCuUdbBnVMYCNz7VneNs6\n",
              "KqFFyMbGwpT+oTg72LI97jyfbYkzO5KIiJjMYpSwD/cbPXo006dPNzuGFHN7TyQzZXUUG6+uB+9o\n",
              "Z8MjLfwY3rYO7uUdTE5Xtn257RgvLduHk70Nq55uQ60qWp1KRKSs0spKUqrEJKYybXU0P+3XevDF\n",
              "1QPNfPhp32k2xZ7l2UW7WTjsTmw1ohcRKZNURKVUiD93mffWRvNdZALGn9aDf6ZTID6V9bmVxYnF\n",
              "YuGtfsF0ey+CnccuMH/zUYa0rm12LBERMYGKqJRop5P/fz347FytB19SeFdyZnzPOxi3dC9Tfo6i\n",
              "XVA1/KtVMDuWiIgUMRVRKZHOp2Xy0fpYvth6jIzsXADaBFZlbJdAQrwrmhtO/pGBTWuycu8pImLO\n",
              "8uzi3Swe3kIjehGRMkZFVEqUlKvrwX/6p/Xgm/pVYmyXIJppPfgSxWKx8Ha/ELq+u5Fd8Rf5JOII\n",
              "w9rWMTuWiIgUIRVRKRGuZObw+dY4Zv/PevDPdg2irdaDL7GqVyzHhLvr8dziPUxbE02HutUI0Esq\n",
              "RETKDBVRKdYys3P55up68Ge0HnypNKCxN6v2nmJd1BnGLtrNkidaaIUrEZEyQkVUiqXsnFy+25XA\n",
              "jF9iOHHhCgDelcrxTKdA7mlYQ68lLEUsFguT+4bQ+d0N7D6RzJyNR3iyvf/fHygiIiWeiqgUK7m5\n",
              "Bj/tP8201VEcPpO3Hnk1F0dGdvDnvqY+ONjpSllp5OnmxKt312fMot3MWBtDpzs8CPLUiF5EpLRT\n",
              "EZVi4b/rwU/9OYr9J/9/Pfgn2tbhYa0HXyb0bVSDVftOsfZgEmMX7WbpiBbYa0QvIlKqqYiK6X47\n",
              "co4pP0ex89gFACo42jG4VS0Gt66Fq5O9yemkqFgsFt68J5gdcRvZm5DM7PWHGdkxwOxYIiJSiFRE\n",
              "xTR7Tlxkys9RRMScBbQevEA1Vycm9qrPMwsjmflrDB3v8KBedVezY4mISCFREZUiF52YyrTVUfy8\n",
              "PxHIWw9+YHjeevAerloPvqzrHVadlXtPsfpAImMX7eb7p1pqRC8iUkqpiEqROXYujffWxrDs6nrw\n",
              "Nhbo07AGz3TUevDy/ywWC2/cE8yOuPMcOJXCB+tieaZToNmxRESkEKiISqG73nrw3Rt4MrpzoD68\n",
              "XK6rqosjk3o3YOSCXbz/ayyd7vCgQQ03s2OJiIiVqYhKobneevBtA6sytksQwd4qFfLX7grxYuXe\n",
              "U6zad5qxi3az/KlW+vguEZFSRkVUrC4lPYtPNh5h3qajpGXmAHnrwT/btS7htdxNTiclhcVi4bU+\n",
              "Dfjt6HkOnU5l1q8xjOkSZHYsERGxIhVRsZormTl8tiVvPfjkK3nrwTeo4crYLloPXm5NlQqOvNa7\n",
              "AU9+/Qcfrj9Ml3qeupouIlKKqIjKbbveevD+1SowpnMg3Rp4qoDKbekZ4sWqfV6s2HOKMYsi+WFk\n",
              "KxzttMCBiEhpoCIqt+y/68G/tzaGhIt568HXdC/HMx0D6aP14MWKJvVuwLYj54hOvMSMtTE8162u\n",
              "2ZFERMQKVETlpuXmGqzad5ppa6I48uf14DsGcF+TmnpDiVide3kHXu8TzPAvf2f2hsN0qe9JWM2K\n",
              "ZscSEZHbpCIq/5hhGKyPOsOUn6M4cOr/14Mf0a4ODzXXevBSuLo18KR3WHW+jzzJmG8j+XFUa5zs\n",
              "9TMnIlKSqYjKP7Lt6nrwv/9pPfghrWsxuFUtXLQevBSRV++uz5bD5zh8Jo1310YzrvsdZkcSEZHb\n",
              "oCIqf2n38YtMXV1wPfhHr64HX0nrwUsRq1TegTfvCWboFzv5eOMRutTzpLFvJbNjiYjILVIRleu6\n",
              "3nrw/wr34akO/loPXkzVuZ4HfRvWYOmuBJ5dtJuVT2tELyJSUqmISgHXWw/+nobePNMpgJruWg9e\n",
              "iodX7q7PptizHDmbxtSfo3jprnpmRxIRkVtwU29vHjVqFH5+flgsFiIjI/O/7+fnR1BQEGFhYYSF\n",
              "hbFw4cIbnmPevHkEBARQp04dhg4dSlZW1i2HF+s5lXyFF7/bS8dpG/huV14J7RHsyep/t2HavaEq\n",
              "oVKsuDnb81a/YADmbT7KzrjzJicSEZFbcVNFtH///mzatAlfX99rblu4cCGRkZFERkZy3333Xff4\n",
              "o0ePMmHCBCIiIoiNjSUxMZG5c+feWnKxinOXMnh9xQHaTlnP17/Fk51r0C6oKitGtuLDBxrjX83F\n",
              "7Igi19WhrgcDGntjGDB20W6uXF1OVkRESo6bKqJt2rTB29v7lu9s8eLF9OrVC0/PvNV2hg8fzoIF\n",
              "C275fHLrUtKzmL46ijbvrOOTTUfJzM4l3M+dRcPv5LPHwmlQQ8soSvH30l318HR1Iu7cZd75+ZDZ\n",
              "cURE5CZZ7TWiDz/8MIZhEB4ezltvvUXVqlWv2Sc+Pr7A1VQ/Pz/i4+NveM6MjAwyMjIKfC8nR1c9\n",
              "bsflzGw+33KswHrwwTXcGNs1iDYBVbQcp5QobuXyRvSPzt/B/M1xdK3vSfPalc2OJSIi/5BVlsDZ\n",
              "uHEje/bs4Y8//qBKlSo88sgj1jgtkydPxs3NrcC2fft2q5y7rMnIzuHzLXG0eWc9b/90iOQrWfhX\n",
              "q8DsBxux/KmWtA2sqhIqJVK7oGoMbFoTgOcW7+FyZrbJiURE5J+yShH18fEBwN7enmeeeYaIiIgb\n",
              "7nfs2LH8r+Pi4vKPvZ5x48aRnJxcYAsPD7dG5DIjOyeXb3cep8PUDbyyfD9nL2VQ070c0+8N5edn\n",
              "2tCtgZcKqJR443veQXU3J+LPX+btVRrRi4iUFLddRNPS0rh48WL+1wsWLKBhw4bX3bdfv34sX76c\n",
              "06dPYxgGs2fPZuDAgTc8t6OjI66urgU2W1t9XuA/kZtrsGLPSbq8t5HnFu8h4eIVPFwdeb1PA34Z\n",
              "3Y6+jbyxtVEBldLBxcmed/qHAvD51mNsOXzW5EQiIvJP3FQRHTZsGN7e3pw4cYKuXbvi7+9PYmIi\n",
              "7du3JyQkhODgYDZs2MAXX3yRf8yQIUNYvnw5ALVr12bixIm0bNkSf39/qlatyrBhw6z7iMo4wzD4\n",
              "9VAid83axFNf7+LImTQqOdszvscdbHi2PQ8298XBzioXwkWKlVYBVbi/Wd6E5bnFe7iUoRG9iEhx\n",
              "ZzEMwzA7xM0YPXo006dPNztGsbT18Dmmri64HvzQ1rUZ1MpP68FLmXApI5uu724k4eIVHmjmwxv3\n",
              "BJsdSURE/oJWVioF/nc9eCd7Gx5p4cfwNloPXsqWCo52TOkfwv2f/MZXv8XTvYEXrQKqmB1LRERu\n",
              "QEW0BIs6nbce/OoDeevB29teXQ++vT/VtB68lFEt/Kvw8J2+fLH1GM8v2cNPz7TWREBEpJhSES2B\n",
              "4s6m8d7aaL7ffTJ/Pfi+jbx5uqPWgxcBeL5bXdZFJXH8/BXeXHmQyX1DzI4kIiLXoSJagpxKvsLM\n",
              "X2JZtPM42bl5L+3tEezJ6M6BWopT5E/KO9oxpX8oA+duY8H243Rr4EXbwGsX2RAREXOpiJYA5y5l\n",
              "8OH6w/xn2zEys3MBaBdUlbFdgrQUp8gNNK9dmUdb+PHZljheWLKHn//dBleN6EVEihUV0WIs+UoW\n",
              "n0QcYd6mo1zOzFvaNLyWO892DaKpn7vJ6USKv+e6BbE+Kom4c5d5fcWB/M8aFRGR4kFFtBi6nJnN\n",
              "Z1vimLPhSIH14J/tGkRrrQcv8o85O9gxZUAo987Zyrc7T9C9gRft61YzO5aIiFylIlqMZGTnsOC3\n",
              "eN5fd5izlzIACKhWgTFdguha30MFVOQWNPVzZ1DLWszbdJQXlu5h9TNtcXPWiF5EpDhQES0GsnNy\n",
              "WfpHAjN+iSHh4hUAfNydeaZTAL3DamgpTpHbNLZLEOsOJXHkbBoTV+xn+r1hZkcSERFURE2Vm2vw\n",
              "495TvLsmmiNn0wDwcHVkZIcA7m1SU0txilhJOQdbpgwIZcDsLSz9I4EeDbzoVM/D7FgiImWeiqgJ\n",
              "8taDT2Lq6mgOnkoBoJKzPU+29+fB5r442duanFCk9GnsW4mhrWszZ+MRxn23lyZ+lajorJXHRETM\n",
              "pCJaxLYePseUnw/xR/xFAFwc7RjapjaDWtWigqP+d4gUpn93DmTtwUQOn0nj1eX7eW9gQ7MjiYiU\n",
              "aWo+RSTy+EWm/hzFplitBy9iFid7W6YOCKXfR1tYFnmS7sFedK3vaXYsEZEyS0W0kB06ncK01dGs\n",
              "0XrwIsVCQ59KDGtbh4/WH2b8d3tp6ueOu34ZFBExhYpoIYk7m8a7a6NZrvXgRYqdZzoF8MvBRKIT\n",
              "L/HK8v3M+pdG9CIiZlARtbKTF68w69cYvt15gpyr68H3DPbi350D8a9WweR0IgLgaJc3or/nwy38\n",
              "sPsk3Rt40iPYy+xYIiJljoqolZy9lMGH6w7z5W//vx58+6CqjNF68CLFUoh3RZ5oW4f318Xy0rJ9\n",
              "hNdyp0oFR7NjiYiUKSqityn5ShYfbzzCp5sLrgf/XNcgmmg9eJFibWRHf9YeTOTQ6VRe/n4fHz7Q\n",
              "2OxIIiJlioroLbqcmc38zXHM2XCYlPRsAEK83RjbRevBi5QU/x3R9/lgMyv3nmbFnpPcFVLd7Fgi\n",
              "ImWGiuhNysjO4evf4vngT+vBB3pUYHRnrQcvUhI1qOHGk+39mfFLDBOW7aNZrcpUddGIXkSkKKiI\n",
              "/kM3Wg/+350D6BWq9eBFSrIn2/uz+kAiB0+l8NKyvcx+sLF+qRQRKQIqon/jeuvBe7o6MbKjP/c2\n",
              "qYm9rdaDFynpHOxsmDYglF7vb+Ln/Yks332S3mE1zI4lIlLqqYj+hU0xZ3lj5cH89eDdyzswol0d\n",
              "rQcvUgrVq+7KqI4BTF8Tzcvf7+fO2pW16ISISCHT5by/cPRcGgdPpeDiaMfozoFsfK49Q1rXVgkV\n",
              "KaWeaFeHBjVcSb6SxYvf7cUwDLMjiYiUaroi+hfua1KT5MuZPNjcl4rOWgJQpLSzt7Vh6oBQ7p61\n",
              "ibUHk/huVwJ9G3mbHUtEpNTSFdG/4GBnw1MdAlRCRcqQup6uPNMpEIBXl+/ndHK6yYlEREqvmyqi\n",
              "o0aNws/PD4vFQmRkJADp6en06dOHwMBAQkND6dy5M7Gxsdc9Pi4uDltbW8LCwvK3w4cP3/aDEBGx\n",
              "pmFtahPi7UZKejbjlu7RiF5EpJDcVBHt378/mzZtwtfXt8D3H3/8caKioti9eze9e/dmyJAhNzyH\n",
              "i4sLkZGR+VudOnVuLbmISCGxs817F72DrQ3ros6w+PcTZkcSESmVbqqItmnTBm/vgq+XcnJyokeP\n",
              "Hvmfude8eXPi4uKsFlBExAwBHi6M7pI3op/0wwFOJV8xOZGISOlj9deIzpgxg969e9/w9rS0NJo2\n",
              "bUqjRo2YNGkSOTk5N9w3IyODlJSUAttf7S8iYk1DW9cmrGZFUjOyeX6J3kUvImJtVi2ib775JrGx\n",
              "sUyePPm6t3t5eZGQkMCOHTtYu3YtERERTJs27Ybnmzx5Mm5ubgW27du3WzOyiMgN2dpYmDogFAc7\n",
              "GzZGn2HhjuNmRxIRKVWsVkSnTp3K0qVLWbVqFc7Oztfdx9HRkWrVqgHg7u7OoEGDiIiIuOE5x40b\n",
              "R3JycoEtPDzcWpFFRP6Wf7UKPNslCIDXfzyYv8SviIjcPqsU0enTp7NgwQLWrFlDxYoVb7hfUlIS\n",
              "WVlZQN7YfenSpTRs2PCG+zs6OuLq6lpgs7XVh8mLSNEa1KoWjX0rcSkjm+cX6130IiLWclNFdNiw\n",
              "YXh7e3PixAm6du2Kv78/J06cYMyYMVy8eJH27dsTFhZGs2bN8o95+eWXmT17NgCbNm2iYcOGhIaG\n",
              "0qhRIzw9PRk/frx1H5GIiJXZ2liY0j8ERzsbNsWe5evt8WZHEhEpFSxGCfvVfvTo0UyfPt3sGCJS\n",
              "Bs3bdJTXVhzA2cGWn59pQ033678MSURE/hmtrCQi8g891sKPcD93Lmfm8NziPeTmlqjf40VEih0V\n",
              "URGRf8jGxsI7/UMoZ2/L1iPn+Oq3Y2ZHEhEp0VRERURugl+V8rzQvS4Ab648RPy5yyYnEhEpuVRE\n",
              "RURu0kPNfWle250rWTmMXbxbI3oRkVukIioicpNsbCy80y8UZwdbth89z+db48yOJCJSIqmIiojc\n",
              "Ap/KzozrcQcAb/90iLizaSYnEhEpeVRERURu0QPhPrT0r0x6Vi5jF+0mRyN6EZGboiIqInKLbGws\n",
              "vN0vhPIOtuw8doH5m4+aHUlEpERRERURuQ3elZwZ37MeAFN+juLwmUsmJxIRKTlUREVEbtO/wmvS\n",
              "OqAKGdm5PKsRvYjIP6YiKiJymyyWvBG9i6Mdf8RfZN6mI2ZHEhEpEVRERUSsoHrFcky4K29EP3V1\n",
              "NLFJqSYnEhEp/lRERUSsZEATb9oFVSUzO5cxi/aQnZNrdiQRkWJNRVRExEosFguT+wbj4mTH7uMX\n",
              "mRuhEb2IyF9RERURsSIvt3K8cnd9AN5bE0N0okb0IiI3oiIqImJl/RrVoGPdamTm5DLm291kaUQv\n",
              "InJdKqIiIlZmsVh4s28wrk527E1IZs6Gw2ZHEhEpllRERUQKgYerExN7543oZ/wSw8FTKSYnEhEp\n",
              "flRERUQKSZ+wGnSu50FWjsHYRRrRi4j8LxVREZFCYrFYeOOeBlR0tmf/yRQ+XKcRvYjIn6mIiogU\n",
              "omouTkzslTein/VrDPtPJpucSESk+FARFREpZL1Cq9OtvifZuQZjvt1NZrZG9CIioCIqIlLoLBYL\n",
              "r9/TAPfyDhw6ncr7v8aYHUlEpFhQERURKQJVKjjyWu8GAHyw/jD7EjSiFxFRERURKSI9Q7zoGeJF\n",
              "ztURfUZ2jtmRRERMpSIqIlKEJvWqT+XyDkQlpjLzF43oRaRsu6kiOmrUKPz8/LBYLERGRuZ/PyYm\n",
              "hhYtWhAYGEjTpk3Zv3//Dc8xb948AgICqFOnDkOHDiUrK+uWw4uIlDSVKzjyep+8Ef1H6w+z+/hF\n",
              "cwOJiJjopopo//792bRpE76+vgW+P2zYMB5//HGio6N5/vnnefTRR697/NGjR5kwYQIRERHExsaS\n",
              "mJjI3Llzbzm8iEhJ1D3Yi16h1ck1YMyi3aRnaUQvImXTTRXRNm3a4O3tXeB7SUlJ7Ny5kwcffBCA\n",
              "fv36cfz4cWJjY685fvHixfTq1QtPT08sFgvDhw9nwYIFtxFfRKRkmtirPlUqOBKbdIn31mpELyKF\n",
              "q7j+wnvbrxE9fvw4Xl5e2NnZAXkfU+Lj40N8fPw1+8bHxxe4murn53fd/f4rIyODlJSUAltOTvF8\n",
              "IkVEbkal8g68eU/eiH7uxsP8EX/B5EQiUhoZhsG8TUdpN2U9iSnpZse5RrF+s9LkyZNxc3MrsG3f\n",
              "vt3sWCIiVtGlvif3NKxBrgFjNaIXESu7eDmTx//zO6+tOMDplHQW7jhudqRr3HYRrVmzJqdOnSI7\n",
              "OxvIa97x8fH4+Phcs6+Pjw/Hjh3L/zouLu66+/3XuHHjSE5OLrCFh4ffbmQRkWLjlbvrUc3FkSNn\n",
              "0pi2OsrsOCJSSvwRf4GeMzex5kAiDrY2TOxVn5Ed/M2OdY3bLqLVqlWjUaNGfPnllwAsWbIEb29v\n",
              "/P2vfbD9+vVj+fLlnD59GsMwmD17NgMHDrzhuR0dHXF1dS2w2dra3m5kEZFio6KzA5P7BgPwyaaj\n",
              "/H7svMmJRKQky801mLPhMPfO3krCxSv4VnZm6YgWPNIi71OPipubKqLDhg3D29ubEydO0LVr1/yy\n",
              "OWfOHObMmUNgYCBvvfUW8+fPzz9myJAhLF++HIDatWszceJEWrZsib+/P1WrVmXYsGFWfDgiIiVP\n",
              "xzs86N/YG8OAsYv2cCVTI3oRuXnn0zIZ8sVOJq86RHauwV0hXqwY2YoGNdzMjnZDFsMwDLND3IzR\n",
              "o0czffp0s2OIiFhV8pUsur67kdMp6QxqWYuX765ndiQRKUG2Hz3PqAW7OJ2SjoOdDa/cXY/7w32K\n",
              "5VXQPyvWb1YSESkr3MrZM7lf3oh+/pajbD+qEb2I/L3cXIMP1sXyr4+3cTolndpVyrNsREseaOZb\n",
              "7EsoqIiKiBQb7YOqcV+TmhgGPLt4N5czs82OJCLF2NlLGTwyfztTfo4iJ9fgnoY1+GFkK+pVdzU7\n",
              "2j+mIioiUoyMv+sOqrs5cezcZd75Se+iF5Hr23r4HD1mRBARcxYnexve6RfC9HtDKe9oZ3a0m6Ii\n",
              "KiJSjLg62fNWvxAAPtsSx9bD50xOJCLFSU6uwXtro3ngk20kpWbgX60Cy59qxb1Na5aIUfz/UhEV\n",
              "ESlm2gRW5V/heZ+x/Ozi3aRlaEQvIpCUms5D837jvbUx5BowoLE3y59qSaCHi9nRbpmKqIhIMTS+\n",
              "5x3UqFiOExeuMHnVQbPjiIjJNsWcpceMCLYcPoezgy3T7w1lyoBQnB1K1ij+f6mIiogUQxUc7Xin\n",
              "f96I/stt8WyOPWtyIhExQ3ZOLlN/juKhT3/j7KVM6nq6sPypVvRt5G12NKtQERURKaZa+lfhoea+\n",
              "ADy3eA+p6VkmJxKRonQ6OZ37P/mN99fFYhjwr3Aflj3ZEv9qFcyOZjUqoiIixdgL3etS070cCRev\n",
              "8ObKQ2bHEZEisj4qiR4zI9h+9DzlHWyZ+a+GTO4bjJN96VrqXEVURKQYK+9oxzv9QgFYsD2ejdFn\n",
              "TE4kIoUpKyeXt1Yd4tH5Oziflkk9L1dWjGpNr9DqZkcrFCqiIiLF3J11KvNoCz8AXliyhxSN6EVK\n",
              "pYSLVxg4dxuzNxwG4OE7fVk6ogW1qpQ3OVnhUREVESkBnusWhG9lZ04mp/PGCr2LXqS0WXsgkR4z\n",
              "Ivj92AVcHO348IFGTOrdoNSN4v+XiqiISAng7GDHlP6hWCywcOdx1kUlmR1JRKwgMzuX11ccYMgX\n",
              "O0m+kkWItxs/jmpNj2Avs6MVCRVREZESIryWO4+1qAXkjeiTL2tEL1KSHT9/mQFztvLJpqMADGpZ\n",
              "i0XD78SnsrPJyYqOiqiISAnybNcgalUpT2JKBpNWHDA7jojcop/2naLHzAh2H7+Iq5Mdcx9qzMt3\n",
              "18PRrnSP4v+XiqiISAlSzsGWqQNCsFhgyR8n+OVgotmRROQmZGTn8Mr3+xj+5R+kpmfT0KciK59u\n",
              "TZf6nmZHM4WKqIhICdPY150hrfJG9OOW7uXi5UyTE4nIPxF3No1+H23h863HABjWpjbfDrsT70pl\n",
              "ZxT/v1RERURKoDFdgqhdtTxJqRlM/EEjepHibsWek9w1axP7ElKo5GzPp482YVyPO7C3LdtVrGw/\n",
              "ehGREsrJ3papA0KxscB3uxJYvf+02ZFE5DrSs3IY/91envp6F5cysmnqV4mVT7emQ10Ps6MVCyqi\n",
              "IiIlVCOfSjzepg4AL363jwtpGtGLFCeHz1yizweb+eq3eABGtKvDgqHN8XIrZ3Ky4kNFVESkBHum\n",
              "UwAB1Spw9lIGryzfb3YcEblq2a4E7p61iUOnU6lc3oHPB4XzXLe62JXxUfz/0rMhIlKC/XdEb2tj\n",
              "Yfnuk6zae8rsSCJl2pXMHJ5fvIdnFkZyOTOH5rXdWfl0a9oGVjU7WrGkIioiUsKF1qzI8La1AXhp\n",
              "2T7OXcowOZFI2RSTmErvDzaxcOdxLBYY1TGAr4Y0x8PVyexoxZaKqIhIKTCqYwBBHi6cS8vk5e81\n",
              "ohcpaot2HqfX+5uJTrxElQqOfDW4GaM7B2JrYzE7WrGmIioiUgo42tky7d68Ef2Pe0+xYs9JsyOJ\n",
              "lAlpGdmM/jaSZxfv4UpWDq38q7Dq6da08K9idrQSQUVURKSUaFDDjSfb5b2LfsKyfZxJ1YhepDAd\n",
              "Op1Cr/c3sfSPBGwsMLZLIJ8PCqeqi6PZ0UoMqxXRc+fOERYWlr8FBgZiZ2fH+fPnC+wXFxeHra1t\n",
              "gX0PHz5srRgiImXaUx0CqOvpwoXLWby0bC+GYZgdSaTUMQyDBdvj6f3+Zg6fScPD1ZEFQ5vzVIcA\n",
              "jeJvkp21TlS5cmUiIyPzv546dSobNmzA3d39mn1dXFwK7CsiItbhYGfDtHtD6f3+Zn7en8jy3Sfp\n",
              "HVbD7FgipcaljGxeXLqX5bvzXv7SNrAq0+8NpXIFXQW9FYU2mp83bx6DBw8urNOLiMgN1K/uxsgO\n",
              "AQC8snw/SanpJicSKR32JSRz18wIlu8+ia2Nhee71WX+o01VQm9DoRTRLVu2cOHCBe66667r3p6W\n",
              "lkbTpk1p1KgRkyZNIicn57r7ZWRkkJKSUmC70b4iIvL/RrSvQ/3qrly8nMX47/ZpRC9yGwzD4D9b\n",
              "4+j70Rbizl2mupsT3w5rzhPt6mCjUfxtKZQiOm/ePB5++GHs7K6d/Ht5eZGQkMCOHTtYu3YtERER\n",
              "TJs27brnmTx5Mm5ubgW27du3F0ZkEZFSxd42b0Rvb2thzYFElkUmmB1JpERKSc/iya//YML3+8nM\n",
              "zqXTHdX4cVRrGvte+9JDuXkWw8q/Jl+6dAkvLy927NhB3bp1/3b/BQsW8PXXX/PDDz9cc1tGRgYZ\n",
              "GQXf9TlhwgRmzJhhtbwiIqXZ+7/GMHV1NK5OdqwZ3VYfrC1yE/acuMiTX//B8fNXsLOx8EL3ugxu\n",
              "VQuLRVdBrcXqV0QXLlxIaGjoDUtoUlISWVlZQF7RXLp0KQ0bNrzuvo6Ojri6uhbYbG1trR1ZRKTU\n",
              "Gt62DsE13EhJz2bcUr2LXuSfMAyDTzcdpd9HWzh+/go1KpZj0fA7GdK6tkqolVm9iF7vTUovv/wy\n",
              "s2fPBmDTpk00bNiQ0NBQGjVqhKenJ+PHj7d2DBERAeyujugdbG349VASS/7QiF7kryRfzmLYf35n\n",
              "0ooDZOUYdK3vwcpRrWnoU8nsaKWS1UfzhW306NFMnz7d7BgiIiXKh+tjeeenKFyc7Fj97zZ4uZUz\n",
              "O5JIsfNH/AVGfr2LhItXcLC1YXzPO3j4Tl9dBS1EWllJRKQMeLx1bUJrViQ1PZsXlmhEL/JnubkG\n",
              "czce5t7ZW0m4eAXfys4seaIFj7TwUwktZCqiIiJlgJ2tDdMGhOBgZ8OG6DN8u/O42ZFEioULaZkM\n",
              "+WInb648RHauQc8QL34Y2Ypgbzezo5UJKqIiImWEfzUXxnYJBOD1FQdJuHjF5EQi5toRd54eMyP4\n",
              "9VASDnY2vN6nAe//qyGuTvZmRyszVERFRMqQwa1q08inIqkZ2bywZI9G9FIm5eYafLAuloFzt3Eq\n",
              "OZ3aVcqzbERLHmyu14MWNRVREZEyxNbGwtQBoTja2RARc5YF2zWil7Ll7KUMHv1sB1N+jiIn16BP\n",
              "WHWWj2xFvequZkcrk1RERUTKmNpVK/Bs1yAA3vjxAMfPXzY5kUjR2HbkHD1mRLAx+gxO9ja83S+Y\n",
              "d+8Lo4LjtStBStFQERURKYMea1mLpn6VSMvM4fkle8jN1YheSq+cXIMZa2O4/+NtJKVm4F+tAt8/\n",
              "2Yr7mvpoFG8yFVERkTLI1sbClP6hONnbsOXwOb7aHm92JJFCkZSazkPzfuPdtdHkGtC/sTfLn2pJ\n",
              "kKeL2dEEFVERkTLLr0p5nu+Wtxzz5JUHiT+nEb2ULptiztJjxia2HD5HOXtbpg0IZeqAUJwdNIov\n",
              "LlRERUTKsEfu9CO8ljuXM3N4dvFujeilVMjOyWXa6ige+vQ3zl7KIMjDhR9GtqJfY2+zo8n/UBEV\n",
              "ESnDbGwsTO0firODLb8dPc8XW+PMjiRyW04np3P/J78x69dYDAP+FV6T759qiX+1CmZHk+tQERUR\n",
              "KeN8KjszrnveiP7tn6KIO5tmciKRW7M+KokeMyPYfvQ85R1smTEwjMl9Q3CytzU7mtyAiqiIiPBA\n",
              "M19a1KnMlSyN6KXkycrJ5e2fDvHo/B2cT8uknpcrP4xsRe+wGmZHk7+hIioiItjYWHi7XwjlHWzZ\n",
              "EXeB+VvizI4k8o+cvHiFgXO38dH6wwA81NyXpSNaULuqRvElgYqoiIgAUNPdmRd73gHAOz8d4siZ\n",
              "SyYnEvlrvxxMpMfMCH4/dgEXRzs+uL8Rr/VpoFF8CaIiKiIi+e4P96GVfxUysnMZu2g3ORrRSzGU\n",
              "mZ3L6ysOMPjznVy8nEVwDTdWjGpFzxAvs6PJTVIRFRGRfBaLhbf7h1DB0Y4/4i/y6aajZkcSKeD4\n",
              "+cvcO2crn1z92XyspR+Ln7gT38rlTU4mt0JFVERECqhRsRwvXR3RT1kdRWySRvRSPPy07zQ9Z0YQ\n",
              "efwirk52zHmoMa/cXR9HO43iSyoVURERucZ9TWvSJrAqmdm5jFm0m+ycXLMjSRmWkZ3Dq8v3M/zL\n",
              "30lJzyasZkVWPt2arvU9zY4mt0lFVERErmGxWHi7XzAuTnbsPn6RjyM0ohdzHDuXRv+PtvLZ1U9y\n",
              "eLxNbRYNvxPvSs7mBhOrUBEVEZHr8nIrx8t31QPg3TXRxCSmmpxIypof95zirpmb2JuQTEVnez59\n",
              "tAkv9rgDe1vVl9JC/ydFROSG+jf2pkPdamTmaEQvRSc9K4eXlu3lya//IDUjmya+lVg5qjUd6nqY\n",
              "HU2sTEVURERuyGKx8OY9wbg62bHnRDJzNh4xO5KUckfOXOKeD7fw5bZ4AEa0q8M3jzenesVyJieT\n",
              "wqAiKiIif8nTzYlXe9UH4L210Rw6nWJyIimtvo9M4O5Zmzh4KoXK5R34fFA4z3Wri51G8aWW/s+K\n",
              "iMjfuqdhDTrd4UFWjsGYb3eTpRG9WNGVzBxeWLKHp7+JJC0zh2a13Fn5dGvaBlY1O5oUMhVRERH5\n",
              "WxaLhTf7NqCisz37T6bkr+stcrtik1Lp88FmvtlxHIsFRnUM4KshzfBwdTI7mhQBqxZRPz8/goKC\n",
              "CAsLIywsjIULF153v3nz5hEQEECdOnUYOnQoWVlZ1owhIiKFoJqLExOvjuhn/hLD/pPJJieSkm7x\n",
              "7ye4e9ZmohJTqVLBkS8HN2N050CN4ssQq/+fXrhwIZGRkURGRnLfffddc/vRo0eZMGECERERxMbG\n",
              "kpiYyNy5c60dQ0RECkGv0Op0re9Bdq7B2EV7yMzWiF5u3uXMbEZ/G8nYRbu5kpVDS//KrHy6FS39\n",
              "q5gdTYpYkf/KsXjxYnr16oWnpycWi4Xhw4ezYMGCoo4hIiK3wGKx8HqfYCo523PwVArvr4s1O5KU\n",
              "MIdOp3D3rE0s/SMBGwuM6RzIF4OaUc1Fo/iyyOpF9OGHHyY4OJjBgwdz5syZa26Pj4/H19c3/2s/\n",
              "Pz/i4+Ove66MjAxSUlIKbDk5OdaOLCIiN6GqiyOv9WkAwIfrYtmXoBG9/D3DMPhmezy939/M4TNp\n",
              "eLg68vXQ5ozsGICtjcXseGISqxbRjRs3smfPHv744w+qVKnCI488clvnmzx5Mm5ubgW27du3Wymt\n",
              "iIjcqrtCqtMj2PPqiH43Gdm6SCA3dikjm2cWRvLC0r1kZOfSNrAqK0e1pnntymZHE5NZtYj6+PgA\n",
              "YG9vzzPPPENERMR19zl27Fj+13FxcfnH/a9x48aRnJxcYAsPD7dmZBERuUWv9W5A5fIOHDqdyqxf\n",
              "NKKX69t/Mpm7Z23i+8iT2NpYeL5bXeY/2pTKFRzNjibFgNWKaFpaGhcvXsz/esGCBTRs2PCa/fr1\n",
              "68fy5cs5ffo0hmEwe/ZsBg4ceN1zOjo64urqWmCztbW1VmQREbkNlSs48vrVEf1HGw6z+/hFcwNJ\n",
              "sWIYBv/Zdox7PtzC0bNpeLk5sfDx5jzRrg42GsXLVVYroomJibRv356QkBCCg4PZsGEDX3zxBQBD\n",
              "hgxh+fLlANSuXZuJEyfSsmVL/P39qVq1KsOGDbNWDBERKULdg724O7Q6OVdH9OlZGtELpKRn8dTX\n",
              "u5iwbB+Z2bl0rFuNlaNa08TP3exoUsxYDMMwzA5xM0aPHs306dPNjiEiIlddSMuk87sbOXspgyfa\n",
              "1eH5bnXNjiQm2nPiIk99vYv485exs7HwQve6DG5VC4tFV0HlWvrEWBERuS2Vyjvwxj15I/o5Gw6z\n",
              "K/6CyYnEDIZhMH/zUfp9tIX485epUbEci4bfyZDWtVVC5YZUREVE5LZ1re9Jn7Dq5BpoRF8GJV/O\n",
              "YviXvzPxhwNk5Rh0qefBylGtaehTyexoUsypiIqIiFW82qs+VV0cOXwmjelros2OI0VkV/wFesyM\n",
              "4Of9iTjY2vDq3fWY81Bj3JztzY4mJYCKqIiIWEVFZwcm3xMMwMcRR/j92HmTE0lhMgyDjzceYcDs\n",
              "rSRcvIKPuzNLnmjBoy31elD551RERUTEajrV86BvoxoYBoxdtIcrmRrRl0YX0jIZ8vlO3lh5kOxc\n",
              "g57BXqwY1Ypgbzezo0kJoyIqIiJW9cpd9fFwdeTo2TSmro4yO45Y2c648/SYGcEvh5JwsLPh9T4N\n",
              "eP/+hrg6aRQvN09FVERErMrN2Z63+oYA8Onmo2w/qhF9aZCba/Dh+ljum7uNU8np1KpSnu9GtODB\n",
              "5r4axcstUxEVERGra1+3Gvc28cYw4LnFu7mcmW12JLkN5y5l8NhnO3jnpyhycg16h1Xnh5GtqF9d\n",
              "o3i5PSqiIiJSKF66qx5ebk7EnbvMOz9pRF9SbTtyjh4zI9gQfQZHOxve7hfMe/eFUcHRzuxoUgqo\n",
              "iIqISKFwdbLnrX55I/rPtsSx7cg5kxPJzcjJNZj5Swz3f7yNxJQM/KtVYPlTrbivqY9G8WI1KqIi\n",
              "IlJo2gZW5V/hNQF4dvFu0jI0oi8JklLTefjT35i+JppcA/o18mb5Uy0J8nQxO5qUMiqiIiJSqF7s\n",
              "cQc1Kpbj+PkrvLXqkNlx5G9sjj1Ljxmb2Bx7jnL2tkwdEMq0e0NxdtAoXqxPRVRERAqVi5M9b18d\n",
              "0f9n2zG2xJ41OZFcT06uwfQ10Tw47zfOXsogyMOFH0a2pH9jb7OjSSmmIioiIoWuVUAVHmjmA8Cz\n",
              "i/dwSSP6YiUxJZ37P97GzF9iMAwY2LQmy55siX81jeKlcKmIiohIkRjX4w68K5Uj4eIV3lx50Ow4\n",
              "ctWG6DN0nxHBb0fPU97BlhkDw3irXwjlHGzNjiZlgIqoiIgUiQqOdrzTP29E//Vv8UTEnDE5UdmW\n",
              "nZPL2z8d4pFPt3M+LZM7vFz5YWQreofVMDualCEqoiIiUmRa1KnCI3f6AvD84j2kpmeZnKhsOnnx\n",
              "CgPnbuOj9YcBeLC5D9+NaEHtqhVMTiZljYqoiIgUqee718XH3ZmTyem88aNG9EXt10OJ9JgZwc5j\n",
              "F3BxtOP9+xvyep9gnOw1ipeipyIqIiJFytnBjilXR/Tf7DjO+qgkkxOVDVk5ubzx4wEGfbaTi5ez\n",
              "CK7hxopRrbgrpLrZ0aQMUxEVEZEi16x2ZR5r6QfAC0v2knxFI/rCdPz8ZQbM3srHEUcBeLSFH4uf\n",
              "uBPfyuVNTiZlnYqoiIiY4rmudfGr7MzplHReW3HA7Dil1s/7T9NzZgSRxy/i6mTHnIca82qv+jja\n",
              "aRQv5lMRFRERU5RzyFu1x2KBxb+f4NdDiWZHKlUysnOY+MN+hv3nd1LSswmrWZEfR7Wma31Ps6OJ\n",
              "5FMRFRER0zTxc2dwy1rA1RH9ZY3orSH+3GX6f7SV+ZvjABjauhbfDruTmu7O5gYT+R8qoiIiYqqx\n",
              "XYOoXaU8SakZTPxhv9lxSryVe0/Rc2YEexOSqehsz7xHmjC+Zz0c7PRPvhQ/+qkUERFTOdnbMvXe\n",
              "UGwssHRXAmsOaER/K9Kzcnhp2V5GfPUHqRnZNPGtxMpRrel4h4fZ0URuSEVURERM18inEkPb1Abg\n",
              "xe/2ciEt0+REJcvRs2n0/XALX26LB+CJdnVY8HhzqlcsZ3Iykb9mtSKanp5Onz59CAwMJDQ0lM6d\n",
              "OxMbG3vNfnFxcdja2hIWFpa/HT582FoxRESkhPp3p0D8q1XgTGoGr2pE/499H5nAXTMjOHAqBffy\n",
              "Dnz2WFOe71YXe1tda5Liz6o/pY8//jhRUVHs3r2b3r17M2TIkOvu5+LiQmRkZP5Wp04da8YQEZES\n",
              "yMk+7130Nhb4PvIkP+07ZXakYi09K4cXluzh6W8iScvMoVktd1Y93Zp2QdXMjibyj1mtiDo5OdGj\n",
              "Rw8sFgsAzZs3Jy4uzlqnFxGRMiCsZkWGt827ODH+u32cu5RhcqLiKTYpld7vb+abHcexWGBUB3++\n",
              "GtIMD1cns6OJ3JRCu24/Y8YMevfufd3b0tLSaNq0KY0aNWLSpEnk5ORcd7+MjAxSUlIKbDfaV0RE\n",
              "SoenOwUQ6FGBc2mZvLxcI/r/teT3E9w9azNRialUqeDIfwY1Y3SXIOw0ipcSqFB+at98801iY2OZ\n",
              "PHnyNbd5eXmRkJDAjh07WLt2LREREUybNu2655k8eTJubm4Ftu3btxdGZBERKSYc7WyZNiAMWxsL\n",
              "P+45xY97NKIHuJyZzdhFuxmzaDdXsnJo6V+ZlU+3olVAFbOjidwyqxfRqVOnsnTpUlatWoWz87Uf\n",
              "nOvo6Ei1anmvX3F3d2fQoEFERERc91zjxo0jOTm5wBYeHm7tyCIiUswEe7sxol3eiH7C9/s4W8ZH\n",
              "9FGnU+n1/mYW/34CGwuM7hzIF4OaUc1Fo3gp2axaRKdPn86CBQtYs2YNFStWvO4+SUlJZGXlrZyR\n",
              "kZHB0qVLadiw4XX3dXR0xNXVtcBma6u1cUVEyoKRHQKo6+nC+bRMJizbh2EYZkcqcoZhsHBHPL0/\n",
              "2ERs0iWquTjy9dDmjOoYgK2Nxex4IrfNakX0xIkTjBkzhosXL9K+fXvCwsJo1qwZAC+//DKzZ88G\n",
              "YNOmTTRs2JDQ0FAaNWqEp6cn48ePt1YMEREpJRzsbJg6IBQ7Gwur9p3mhzI2or+Ukc2/F0by/JK9\n",
              "pGfl0iawKiufbk3z2pXNjiZiNRajhP2KOXr0aKZPn252DBERKSLvrY3mvbUxVHS2Z/W/25SJcfSB\n",
              "kyk89fUfHDmbhq2NhTFdAhnepg42ugoqpYzeYiciIsXak+39qeflysXLWYz/rnSP6A3D4Mttx+jz\n",
              "4WaOnE3Dy82Jbx5vzoh2/iqhUiqpiIqISLFmb5s3ore3tbDmQCLfR540O1KhSEnP4qkFu3hp2T4y\n",
              "s3PpWLcaK0e1pqmfu9nRRAqNiqiIiBR79aq7MqpDAACvLN9PYkq6yYmsa++JZO6etYkf95zCzsbC\n",
              "+B538MkjTahU3sHsaCKFSkVURERKhOHt6hBcw43kK1m8uHRvqRjRG4bBZ5uP0u+jLRw7d5kaFcvx\n",
              "7fA7Gdqmdv5KhSKlmYqoiIiUCP8d0TvY2vDLoSSW/pFgdqTbknw5i+Ff/s6rPxwgMyeXLvU8WDmq\n",
              "NY18KpkdTaTIqIiKiEiJEeTpwtOd8kb0r/6wn9PJJXNEH3n8Ij1nRfDz/kTsbS28cnc95jzUGDdn\n",
              "e7OjiRQpFVERESlRhrWpTai3G6np2bywdE+JGtEbhsEnEUfo/9EWTly4go+7M0ueaMFjLWtpFC9l\n",
              "koqoiIiUKHb/HdHb2bA+6gyLdp4wO9I/cvFyJkO/2MnrPx4kO9egR7AnK0a1IsS7otnRREyjIioi\n",
              "IiVOgIcLYzoHAvDaigOcvHjF5ER/7fdj5+kxI4K1B5NwsLPhtT4N+OD+Rrg6aRQvZZuKqIiIlEhD\n",
              "WtemoU9FUjOyeX5J8RzR5+YafLT+MPfO2cbJ5HRqVSnPdyNa8FBzX43iRVARFRGREsrWxsLUAaE4\n",
              "2tkQEXOWb3YcNztSAecuZfDYZzt4+6dD5OQa9Aqtzg8jW1G/upvZ0USKDRVREREpsepUrcCzXYMA\n",
              "eH3FAU5cuGxyojy/HTlHj5kRbIg+g6OdDW/1DWbGwDAqONqZHU2kWFERFRGREu2xlrVo4luJtMwc\n",
              "00f0ObkGs36J4V8fbyMxJYM6Vcvz/VMtGRjuo1G8yHWoiIqISIlma2NhyoBQnOxt2Bx7jq9+izcl\n",
              "x5nUDB75dDvT1kSTa0C/Rt78MLIVdT1dTckjUhKoiIqISIlXq0p5nutaF4A3Vx7k+PmiHdFviT1L\n",
              "9xkRbIo9Szl7W6YOCGXavaE4O2gUL/JXVERFRKRUeLSFH+F+7lzOzOHZxbvJzS38EX1OrsH0NdE8\n",
              "MO83zl7KINCjAsufakn/xt6Fft8ipYGKqIiIlAo2NhamDAihnL0t246c5z/bjhXq/SWmpPPAJ9uY\n",
              "+UsMhgEDm9bk+ydbEeDhUqj3K1KaqIiKiEip4Vu5PON65I3o31p1iGPn0grlfjZGn6HHjAi2HTlP\n",
              "eQdbZgwM461+IZRzsC2U+xMprVRERUSkVHmwmS/Na7tzJSuHZxftseqIPjsnl3d+OsTDn27nXFom\n",
              "d3i58sPIVvQOq2G1+xApS1RERUSkVLGxsTClfyjODrZsjzvPZ1virHLeU8lX+NfH2/hw/WEAHmjm\n",
              "w3cjWlC7agWrnF+kLFIRFRGRUqemuzMv9rgDgHd+PsSRM5du63y/Hkqkx4wIdsRdoIKjHe/f35A3\n",
              "7gnGyV6jeJHboSIqIiKl0gPNfGjlX4X0rFyeXbyHnFsY0Wfl5PLmyoMM+mwnFy5nEVzDjR9HteKu\n",
              "kOqFkFik7FERFRGRUslisfBWv2AqONrx+7ELzN989KaOP3HhMvfO2crcjUeAvI+HWvzEnfhWLl8Y\n",
              "cUXKJBVREREptbwrOTO+Z96IfsrPUcQm/bMR/er9p+kxI4Jd8RdxdbJj9oONebVXfRztNIoXsSYV\n",
              "URERKdUGNq1J64AqZGTnMnbR7r8c0Wdm5zLxh/08/p/fSUnPJrRmRX4c1ZpuDTyLMLFI2aEiKiIi\n",
              "pZrFYuHtfiG4ONoRefwiH0ccue5+8ecu03/2FuZvjgNgaOtaLBp2JzXdnYswrUjZYtUiGhMTQ4sW\n",
              "LQgMDKRp06bs37//uvvNmzePgIAA6tSpw9ChQ8nKyrJmDBERkQKqVyzHhLvrATB9TTQxiakFbl+5\n",
              "9xQ9Z0aw50QyFZ3t+eThJozvWQ8HO12vESlMVv0TNmzYMB5//HGio6N5/vnnefTRR6/Z5+jRo0yY\n",
              "MIGIiAhiY2NJTExk7ty51owhIiJyjQGNvWkfVJXMqyP67Jxc0rNymLBsHyO++oPUjGwa+1bix1Gt\n",
              "6VTPw+y4ImWC1YpoUlISO3fu5MEHHwSgX79+HD9+nNjY2AL7LV68mF69euHp6YnFYmH48OEsWLDA\n",
              "WjFERESuy2KxMLlvCC5Oduw+kczrPx6k30db8tekH962Dt883pwaFcuZnFSk7LBaET1+/DheXl7Y\n",
              "2dkBeX/gfXx8iI+PL7BffHw8vr6++V/7+flds89/ZWRkkJKSUmDLycmxVmQRESljPN2cePXu+gB8\n",
              "tiWO/SdTcC/vwGePNeWF7nWxt9UoXqQoFes/cZMnT8bNza3Atn37drNjiYhICda3UQ06Xx29h9dy\n",
              "Z+Wo1rQLqmZyKpGyyWpFtGbNmpw6dYrs7GwADMMgPj4eHx+fAvv5+Phw7Nix/K/j4uKu2ee/xo0b\n",
              "R3JycoEtPDzcWpFFRKQMslgsfPhAI5aOaMHXQ5rh6eZkdiSRMstqRbRatWo0atSIL7/8EoAlS5bg\n",
              "7e2Nv79/gf369evH8uXLOX36NIZhMHv2bAYOHHjdczo6OuLq6lpgs7XVhwmLiMjtsbe1oZFPJew0\n",
              "ihcxlVX/BM6ZM4c5c+YQGBjIW2+9xfz58wEYMmQIy5cvB6B27dpMnDiRli1b4u/vT9WqVRk2bJg1\n",
              "Y4iIiIhICWAxDOPGS0wUQ6NHj2b69OlmxxARERGR26SZhIiIiIiYQkVUREREREyhIioiIiIiplAR\n",
              "FRERERFTqIiKiIiIiClUREVERETEFCqiIiIiImIKFVERERERMYWKqIiIiIiYosStrNS3b1/8/PyK\n",
              "7P5ycnLYvn074eHhWue+COl5N4ee96Kn59wcet7NoefdHGY8776+vjz99NN/u1+JK6JFLSUlBTc3\n",
              "N5KTk3F1dTU7Tpmh590cet6Lnp5zc+h5N4eed3MU5+ddo3kRERERMYWKqIiIiIiYQkVUREREREyh\n",
              "Ivo3HB0deeWVV3B0dDQ7Spmi590cet6Lnp5zc+h5N4eed3MU5+ddb1YSEREREVPoiqiIiIiImEJF\n",
              "VERERERMoSIqIlYTExPDl19+aXYMERG5CSdOnGDu3LmY8WrNMlFE/fz8iIyMBCA9PZ3evXszYMAA\n",
              "Bg0axLp16/72+Hbt2rFs2bLCDSlyG/z8/AgKCiIsLIx69erxwQcfFHmG9PR0hg0bRnh4eJHft5Qe\n",
              "EydOZMiQIflfb9q0CYvFwvr16/O/N3z4cCZMmGBCOpGidaP+kpmZ+Y/PsX79esLCwm54+/Hjxxk1\n",
              "ahTdu3fHYrHcZuKbZ1fk92ii1NRUevXqRUBAALNnz8bGpkz0cCkjFi5cSFhYGMeOHSMkJITWrVsT\n",
              "EhJSZPe/b98+Jk+eTGBgYJHdp5Q+7du3Z9CgQflfr1u3jmbNmrF+/XratWuX/73Zs2f/o/NlZ2dj\n",
              "Z1em/qmTUuiv+svt/ozXrFmTpUuXWiPmLSkzTezcuXN06NCBZs2aMXfuXGxsbApc6UxNTWXo0KGE\n",
              "h4cTEhLC448/ft3fOJKTkxkyZAgNGjQgNDQ0/y/MrKwsXnjhBcLDwwkLC+Pee+/lwoULRfkQRYC8\n",
              "9X2DgoI4dOgQffv2JTg4mAYNGjBnzhwAIiMjCQsLy99cXV2ZOHEiABaLhTfffJPw8HBq1arF/Pnz\n",
              "8887duxYmjZtSlhYGG3atCEqKir/NovFwurVqxk5cuQ1x4ncjObNm3Py5ElOnDgB5F3Nefnll/Ov\n",
              "iJ46dYr4+Hi2bt2a//PYtGlTtm7dmn8OPz8/nn/+ecLDw3nkkUeIiYmhZcuWhIaGEhwczEsvvQRA\n",
              "r1698v8c+Pn5UatWLQC+/vprmjVrRsOGDQkNDeWHH34AIDo6Ov8XLcMw8PDw4MUXXwRg48aNdOjQ\n",
              "4S+PF7kVN+ovo0aN4s4776RLly5kZ2fTtWtXmjRpQv369bn//vtJS0u75lwpKSl06dKFSZMmAfCf\n",
              "//yHkJAQQkJC6NmzJwkJCQC0aNGCLVu2APDcc89Ro0aN/HPUrl2b+Ph46z1Aowzw9fU1KleubLzw\n",
              "wgsFvt+2bVvju+++MwzDMIYOHWp8/vnnhmEYRm5urjF48GDjnXfeuWa/Rx991HjiiSeMnJwcwzAM\n",
              "IykpyTAMw3jjjTeMSZMm5Z970qRJxogRIwrzYYnk8/X1NXbt2mUYhmHs2bPHcHFxMfr27Zv/M5+Y\n",
              "mGh4e3sbW7duLXDcr7/+atSpU8c4ceKEYRiGARhTp041DMMwDh48aFSoUMHIysoyDOP/f9YNwzAW\n",
              "LFhgdO3aNf/rvzpO5GZ17NjR+OKLL4z09HSjVq1ahmEYRp06dYwrV64YX331ldG+ffsCP49bt241\n",
              "goKC8r/29fU1Bg8ebOTm5hqGYRijRo0y3nzzzfzbz507V+D+UlNTjUaNGuX/G3D27Nn8Y48ePWp4\n",
              "eHgY6enphmEYho+Pj3Hs2DEjMjLSaN68uREeHm4YhmG89NJLxhtvvPG3x4vcjL/qL127djUyMzMN\n",
              "w8jrLWfPns3/7+HDhxuTJ082DMMw1q1bZ4SGhhrx8fEFfs737t1reHh45P/9//rrrxvdunUzDMMw\n",
              "JkyYYEycONEwDMNo3LixER4ebuzfv9+IjY01AgICrPoYy8y8omfPnixevJgRI0ZQs2bNa25ftmwZ\n",
              "W7duZfr06QBcuXIFW1vba/ZbsWIFv/32W/5l8apVq+Yfn5yczJIlSwDIzMzEz8+vkB6NyLXuu+8+\n",
              "ypUrh7OzM59++inDhg1j2rRpAFSrVo2+ffuydu1amjdvDuSN0h977DFWrFhR4LfdBx54AIC6deti\n",
              "Z2fH6dOn8fb2Zs2aNcyaNYvU1FRyc3M5f/58gfu/0XEiN6t9+/asX78eX1/f/NccN2/enK1bt7J+\n",
              "/Xrat2/Prl27eOONNzh37hx2dnZERUVx5coVypUrB8Cjjz6a/3q3Nm3a8Oyzz3Lp0iXatm1Lp06d\n",
              "8u8rOzubAQMGcM899/Dwww8DcPToUR544AFOnDiBnZ0d58+f5+jRo9StW5eOHTuydu1aLly4wEMP\n",
              "PcTcuXO5ePEia9eu5b333vvb40Vu1o36y4MPPoi9vT2Qd4X+3Xff5ccffyQ7O5vk5GRatGiRv29i\n",
              "YiJt2rThk08+oWPHjkDeS1y6deuW//f/iBEjmDRpEjk5OXTq1ImXXnqJESNGYGdnx4ABA1i7di2O\n",
              "jo75x1tLmSmi//73vwkNDaVdu3asW7cOHx+fArcbhsGSJUtu+fVthmEwa9YsunTpYo24Ijftv68R\n",
              "/a9hw4YVuP3PL0I/efIkffr0Yf78+TRo0KDAfk5OTvn/bWtrS3Z2NvHx8Tz11FPs2LGDOnXqsGfP\n",
              "Htq0afO3x4ncivbt2zNv3jx8fHzyXxfatm1b1q1bx7p16/jkk0/o2bMn69ato2nTpqSkpODm5kZG\n",
              "RkZ+Ea1QoUL++fr160eLFi1Ys2YN77//Pu+99x4rV64E8t745O3tnT+uBxg4cCBvvfUW/fv3B8Dd\n",
              "3Z309HQAOnXqxIoVK7hw4QIzZswgJiaG7777jpiYGJo0afK3x4vcrBv1lz//jH/99df8+uuvbNiw\n",
              "AVdXV2bOnMmvv/6af3vFihXx9/dnxYoVdOjQ4bpvSvrz9+6880727dvH999/T4cOHejUqRMTJkzA\n",
              "0dGR++67z6qPr8y8RhRg9OjRjBw5knbt2nHs2LECt/Xp04e33347/x/PCxcuEBsbe805evXqxdSp\n",
              "U8nNzQXgzJkz+ce/++67XL58GYDLly+zf//+wnw4In+pU6dOfPzxx0Dez+nSpUvp3Lkzqamp9OzZ\n",
              "k4kTJ9K+fft/dK7k5GTs7e3x8vLCMAzef//9wowuZVzTpk1JSkriq6++KlBEv/nmG06dOkVYWBiZ\n",
              "mZn5/yDPmjXrL88XExODh4cHDz/8MO+88w7btm0DYNKkSZw8eZKPPvqowP4XLlzIf73ol19+WeD1\n",
              "/h07duSXX34hLi6OwMBAOnXqxMSJE2nVqlX+FO2vjhe5FX/VXyDvZ65KlSq4urqSmprKZ599VuB2\n",
              "R0dHli5dysmTJxk6dCi5ubm0b9+en376iZMnTwIwe/ZsOnbsiK2tLfb29jRv3pzXXnuNTp06ERIS\n",
              "woEDB1i/fn3+a6GtpUwVUYBnnnmGZ555hrZt23L06NH877/77ruUK1eOsLAwQkJC6NixI3Fxcdcc\n",
              "/+6775KRkUFwcDBhYWH5L1R//vnnadq0Kc2aNSMkJITmzZvnf+SCiBlmzpzJwYMHCQ4Opn379owf\n",
              "P55mzZqxdOlSDh06xJQpU/LfqPF370AODg5m4MCB1K9fn6ZNm14zURCxJnt7e1q1akVqamr+ODsw\n",
              "MJDU1FRatWqFm5sbr7/+OuHh4TRu3BgHB4e/PN/ixYsJDg6mYcOG3Hffffk/76+88gqHDx+mSZMm\n",
              "hIWF0aNHDwBmzJhB//79adiwIbt27Srw8+7h4YGHhwd33nknkFeQT548WWBc+VfHi9yqG/UXgIcf\n",
              "fpjLly8TFBRE9+7dad269TXH29vb8/XXX5OTk8MDDzxA3bp1mTJlCt26dSMkJISIiIj8ixeQdzEj\n",
              "KSmJli1bYrFYCA8Px8fHB3d3d6s+Lq01LyIiIiKmKHNXREVERESkeFARFRERERFTqIiKiIiIiClU\n",
              "REVERETEFCqiIiIiImIKFVERERERMYWKqIiIiIiYQkVUREREREyhIioiIiIiplARFRERERFTqIiK\n",
              "iIiIiCn+D+BAuQld1njXAAAAAElFTkSuQmCC\n",
              "\">\n",
              "      </div>\n",
              "      <script type=\"text/javascript\">\n",
              "        (() => {\n",
              "          const chartElement = document.getElementById(\"chart-3f2ca4e4-c8cf-43ba-aec6-2f5076d9e69b\");\n",
              "          async function getCodeForChartHandler(event) {\n",
              "            const chartCodeResponse =  await google.colab.kernel.invokeFunction(\n",
              "                'getCodeForChart', [\"chart-3f2ca4e4-c8cf-43ba-aec6-2f5076d9e69b\"], {});\n",
              "            const responseJson = chartCodeResponse.data['application/json'];\n",
              "            await google.colab.notebook.addCell(responseJson.code, 'code');\n",
              "          }\n",
              "          chartElement.onclick = getCodeForChartHandler;\n",
              "        })();\n",
              "      </script>\n",
              "      <style>\n",
              "        .colab-quickchart-chart-with-code  {\n",
              "            display: block;\n",
              "            float: left;\n",
              "            border: 1px solid transparent;\n",
              "        }\n",
              "\n",
              "        .colab-quickchart-chart-with-code:hover {\n",
              "            cursor: pointer;\n",
              "            border: 1px solid #aaa;\n",
              "        }\n",
              "      </style>"
            ]
          },
          "metadata": {}
        },
        {
          "output_type": "display_data",
          "data": {
            "text/plain": [
              "from matplotlib import pyplot as plt\n",
              "data['product b'].plot(kind='line', figsize=(8, 4), title='product b')\n",
              "plt.gca().spines[['top', 'right']].set_visible(False)"
            ],
            "text/html": [
              "      <div class=\"colab-quickchart-chart-with-code\" id=\"chart-257f69b9-fbf7-42c6-b407-db5579b23606\">\n",
              "        <img style=\"width: 180px;\" src=\"data:image/png;base64,iVBORw0KGgoAAAANSUhEUgAAAqIAAAFuCAYAAABaw3qhAAAAOnRFWHRTb2Z0d2FyZQBNYXRwbG90\n",
              "bGliIHZlcnNpb24zLjEwLjAsIGh0dHBzOi8vbWF0cGxvdGxpYi5vcmcvlHJYcgAAAAlwSFlzAAAP\n",
              "YQAAD2EBqD+naQAAWbRJREFUeJzt3Xt8zgX/x/HXtbPNDpjzzDCHsAOxDTmMRBJyiFIih/XT8Xao\n",
              "VCoqJCmdboekkuQQ3VLqpuZUmLA5hQ3bzNnsZOx4fX9/TKvdDjVm3x3ez8fjejzuXbu+3+t97V68\n",
              "XZ/ruj4WwzAMRERERESKmY3ZAURERESkfFIRFRERERFTqIiKiIiIiClUREVERETEFCqiIiIiImIK\n",
              "FVERERERMYWKqIiIiIiYQkVUREREREyhIioiIiIiplARFREpZl5eXnz66afFep9Dhw7loYceKtb7\n",
              "FBH5OyqiIiKl2Pr167FYLOTk5JgdRUSk0FRERURuQG5uLlar1ewYIiKlmoqoiAjQqVMnnnjiCfr2\n",
              "7Yurqyu+vr58/vnn+d//45nHr776ikaNGuHs7MyZM2c4fvw4999/P9WrV6d69eoMHDiQEydO5B93\n",
              "4cIFhg8fTpUqVahduzazZs0qcL9Xe0bz008/xcvLK//rnJwcZs6cSdOmTXF1dcXLy4s333yT+Ph4\n",
              "7r77bgA8PDyoWLEiU6ZMueZjzMrKYsSIEXh4eODt7c306dNv+ucmInIzVERFRC6bP38+w4YNIykp\n",
              "iffee48RI0bwyy+/FLjNkiVL2LJlC6mpqVStWpWePXtia2vLoUOHOHjwIIZh0KtXL3JzcwEYM2YM\n",
              "u3btIioqikOHDhEZGcmpU6cKlevVV1/lo48+4tNPPyUlJYXdu3fToUMHvL29WbNmDQDJyclcuHCB\n",
              "F1544ZrnWblyJa1bt+bs2bMsXbqUadOmsWjRokL+lEREio6KqIjIZT169ODee+/Fzs6OHj16cN99\n",
              "9/HJJ58UuM20adOoUqUKjo6OREREEBUVxUcffYS7uzseHh78+9//ZufOnWzfvh2r1crnn3/OpEmT\n",
              "8PLywsXFhXfffbdQI33DMJg1axbTpk0jKCgIGxsbKleuTJs2bQr9+Pz9/QkLC8Pe3p6QkBBGjhx5\n",
              "xeMTESlOKqIiIpfVq1fviq+PHTt2zdscO3aMypUrU6lSpfzrqlSpQqVKlYiPj+fs2bNkZmYWOMbd\n",
              "3Z3KlSv/40znzp3jwoULNG7cuLAP5wr/5PGJiBQnFVERkctiY2Ov+Pqvr9UEsLH584/NOnXqkJSU\n",
              "RFJSUv5158+fJykpCW9vb6pWrYqjo2OB86akpBS4vaurKwDp6en51/31Naaenp5UrFiRQ4cOXTXz\n",
              "X/MUxeMTESlOKqIiIpd9//33fPfdd+Tm5vLDDz+wcuVKhg0bds3bBwUF0bx5c5544glSU1NJSUnh\n",
              "8ccfJzAwkNatW2NjY8NDDz3Eq6++yvHjx0lPT2fs2LFYLJb8czRq1AhXV1fmzJmD1WolMjKSuXPn\n",
              "5n/fYrHw5JNPMmHCBH777TcMw+D8+fNs2bIFgBo1agBw8ODBv318UVFRfPzxx+Tk5BAREcG8efOu\n",
              "+/hERG41FVERkcseffRR5s+fj4eHB48//jizZ8+mffv217y9ra0tq1evJjMzE19fXxo2bEhOTg6r\n",
              "Vq3C1tYWgHfeeQc/Pz/8/Pxo1KgRfn5++eUR8p4R/eyzz5g7dy5ubm5MmDCBUaNGFbifyZMnM2LE\n",
              "CAYPHoyrqyv+/v5s2rQJyCuyTz75JKGhoXh4eDBt2rRr5r3vvvvYunUrnp6e9OvXj3HjxulD7kXE\n",
              "VBbDMAyzQ4iImK1Tp07ccccdvP7662ZHEREpN/SMqIiIiIiYQkVUREREREyh0byIiIiImELPiIqI\n",
              "iIiIKVRERURERMQUKqIiIiIiYgoVURERERExRaksorNmzTI7goiIiIjcpFJZROPi4syOICIiIiI3\n",
              "qVQWUREREREp/VRERURERMQUKqIiIiIiYgoVURERERExhYqoiIiIiJhCRVRERERETKEiKiIiIiKm\n",
              "UBEVEREREVMUuojedddd+Pv7ExgYSPv27dm1axcA0dHRtG3blkaNGtG6dWv27dt3zXPMnz+fhg0b\n",
              "0qBBA0aOHEl2dvaNPwIRERERKZUKXUSXLl3K7t27iYyMZMyYMQwdOhSAsLAwRo0axaFDh3juuefy\n",
              "r/9fR48eZeLEiWzatImYmBhOnz7N3Llzb+YxiIiIiEgpVOgi6uHhkf+/U1JSsFgsnDlzht9++42H\n",
              "HnoIgH79+nHs2DFiYmKuOH758uX06tWLGjVqYLFYeOyxx1i8ePGNPwIRERERKZXsbuSgIUOGEB4e\n",
              "DsD333/PsWPHqFmzJnZ2eaezWCx4e3sTHx+Pr69vgWPj4+OpW7du/tc+Pj7Ex8df874yMzPJzMws\n",
              "cF1ubu6NxBaR6ziZcom3fjjIXc2q0715TbPjiIhIOXBDb1b6/PPPOXbsGK+//jrPPfdcUWcqYOrU\n",
              "qbi7uxe4RERE3NL7FClvrFaDMUuiWLHrOP+3aCeLI679j0MREZGiclPvmn/kkUcIDw/Hy8uLkydP\n",
              "kpOTA4BhGMTHx+Pt7X3FMd7e3sTFxeV/HRsbe9Xb/WHChAmkpKQUuAQFBd1MbBH5H19si2PLkUQs\n",
              "FjAMmLBiD5/9Gmt2LBERKeMKVUSTk5M5ceJE/tfffPMNVapUoVq1arRs2ZIvvvgCgK+//hovL68r\n",
              "xvKQ9/rRVatWcerUKQzDYPbs2QwaNOia9+no6Iibm1uBi62tbWFii8h1xCWmM/X7AwC80rMpI9vX\n",
              "y/vfq/Yxb+MRM6OJiEgZV6jXiKakpDBgwAAuXbqEjY0NVatWZfXq1VgsFubMmcPQoUOZMmUKbm5u\n",
              "LFiwIP+4ESNG0KtXL3r16kX9+vWZNGkS7dq1A6BTp06EhYUV7aMSkX/EajUYv3w3l7JzCalfmSFt\n",
              "fLBYwNHOlg/CY3jj+9/JzMnlic4NzY4qIiJlkMUwDMPsEIU1ZswYZs6caXYMkVJvwS9HmfTtfpwd\n",
              "bPnxmQ7Uqeyc/733f4rm7bWHAHiysy9jujbCYrGYFVVERMogbVYSKaeOnkvnzR/yRvIv9LitQAkF\n",
              "eLJLQybc3QSA93+OYeqaA5TCf7eKiEgJpiIqUg7lWg3GL4siI9vKHb6eDA6++hsGwzo24NV7mwIw\n",
              "d+MRXl21D6tVZVRERIqGiqhIObTgl6P8FpdERUc7pvXzu+7IfWi7eky5zw+LBT7bEseL3+xRGRUR\n",
              "kSKhIipSzhw+e4G3fjwIwIv33IZXJee/OQIeDPbmrf4B2FhgccQxxi2LIifXequjiohIGaciKlKO\n",
              "5FoNxi2LIjPHSvuGngxqXecfH9v/di9mDWqBrY2FFbuO88ySSLJVRkVE5CaoiIqUIx9vOsKu+GRc\n",
              "He14s59/od8Ff29ALT58sCX2thZW7z7J44t2kpmjlbsiInJjVERFyomYM2n5H8c0sWdTanlUuKHz\n",
              "dG9egzkP346DnQ3/3X+axxbuICNbZVRERApPRVSkHMjJtTJ22W6ycqx0alyVAa28bup8nZtUZ/4j\n",
              "rXCytyH84FlGfPYbF7NyiiitiIiUFyqiIuXA3E1HiDqWjKuTHdP6Fn4kfzXtG1bl02FBuDjYsjnm\n",
              "HEMXbOdCpsqoiIj8cyqiImXcwVNpvLs2GoBX721GDXenIjt3SP0qfD48GFdHOyKOnufh+dtIuZRd\n",
              "ZOcXEZGyTUVUpAzLzrUyblkUWblWujSpRt+WtYv8Pm6vW4lFI4Nxr2DPrvhkHvp4G0npWUV+PyIi\n",
              "UvaoiIqUYbPXH2bP8RTcK9gzpe/1P7j+Zvh7ebB4ZAiVXRzYczyFB+Zt5dyFzFtyXyIiUnaoiIqU\n",
              "Ub+fTOW9n/NG8pN6NaO6W9GN5K+maS03lowKoaqrIwdOpTFo7lbOpGbc0vsUEZHSTUVUpAzKzrUy\n",
              "dmkU2bkGdzWtTu/AWsVyvw2ru7I0rA013Z2IOXOB++ds4UTypWK5bxERKX1UREXKoA/DY9h/MpVK\n",
              "zva8cd+tG8lfTT1PF5aGtcGrUgViEy9y/5wtHDt/sdjuX0RESg8VUZEyZt+JFD74OQaASb2bU9XV\n",
              "sdgz1KnszNKwNvhUcSYh6RL3z9nC0XPpxZ5DRERKNhVRkTIkKydvJJ9jNbi7eQ3u9a9pWpZaHhVY\n",
              "GtYG32oVOZmSwf1zthB9Os20PCIiUvKoiIqUIR/8HM2BU2lUdnHgtT7Ni3UkfzXV3Jz4alQITWq4\n",
              "cjYtk0Fzt7L/RKqpmUREpORQERUpI/YkpPDh+sMAvNa7OZ4Vi38kfzWeFR1ZPDKE5rXdSEzP4oF5\n",
              "W9mdkGx2LBERKQFUREXKgMycXMYuiyTXanCPf03uMXEkfzWVXBxYNCKEFt4epFzKZvC8beyISzI7\n",
              "loiImExFVKQMmLUumkOnL+BZ0YHXejc3O85VuVewZ+HwYIJ8KpOWmcOQ+dvYdiTR7FgiImIiFVGR\n",
              "Ui7qWDKzN+SN5F/v40dlFweTE11bRUc7Pn20Ne18q5CelcsjCyLYHH3O7FgiImISFVGRUiwjO5ex\n",
              "y6KwGtA7sBbdm9cwO9LfcnawY/4jrenUuCoZ2VYe/Ww74QfOmB1LRERMoCIqUoq9s+4QMWcuUNXV\n",
              "kVfvbWZ2nH/Myd6WOQ/fTtem1cnKsTJq4W/8uO+U2bFERKSYqYiKlFI745OYt/EIAFPu86NSCR7J\n",
              "X42jnS0fDW7JPf41yc41GL1oJ99GnTA7loiIFCMVUZFSKCM7l3GXR/J9W9Sma9PqZke6Ifa2Nswa\n",
              "GEjfFrXJtRo8/dUuvt6RYHYsEREpJoUqohkZGfTp04dGjRoREBBA165diYnJWyUYHBxMYGAggYGB\n",
              "NG+e90Hau3fvvup5LBYLfn5++bfftGnTzT8SkXLk7f8e5MjZdKq5OvJKKRrJX42drQ1vDQhgUOs6\n",
              "WA0YtzyKxRHxZscSEZFiYFfYA0aNGsXdd9+NxWLhgw8+YMSIEaxfv55t27bl32b58uVMmjQJf3//\n",
              "a55n06ZNeHh43FBokfLst9jzfLz5KADT+vnh7mxvcqKbZ2tjYcp9fjjY2fD5ljgmrNhDVo6VR9r6\n",
              "mB1NRERuoUI9I+rk5ESPHj3y1waGhIQQGxt7xe3mz5/P8OHDiySgiPzpUlbeSN4woP/tXnRuUjpH\n",
              "8ldjY2NhUq9mjGxfD4BXVu1j7sbDJqcSEZFbqdDPiP7VrFmz6N27d4Hrjh07xoYNG1i4cOF1j+3S\n",
              "pQs5OTl06dKF1157DRcXl6veLjMzk8zMzALX5ebm3kxskVJr+o8HiE28SA03Jyb2bGp2nCJnsVh4\n",
              "ocdtONrZ8kF4DFO+P0BmtpUnuzQ0O5qIiNwCN/xmpSlTphATE8PUqVMLXP/pp5/Ss2dPPD09r3ls\n",
              "XFwcO3bs4Ndff+Xs2bOMHz/+mredOnUq7u7uBS4RERE3Gluk1Np2JJFPf40FLo/kK5T+kfzVWCwW\n",
              "xnVrzNiujQB4e+0hZvx4EMMwTE4mIiJF7YaK6IwZM1ixYgVr1qzB2dk5/3rDMFiwYMHfjuW9vb0B\n",
              "cHFxYfTo0dd9s9KECRNISUkpcAkKCrqR2CKl1sWsHMYv341hwKDWdejUuJrZkW65J7s05IUeTQD4\n",
              "IDyGqWsOqIyKiJQxhR7Nz5w5k8WLF7Nu3bor3mz0888/k5OTQ9euXa95fFJSEo6Ojjg7O2O1Wlmy\n",
              "ZAktWrS45u0dHR1xdHQscJ2trW1hY4uUam+uOUD8+YvUcnfixXtuMztOsRnVoQGOdraXXy96hMzs\n",
              "XF65txk2Nhazo4mISBEo1DOiCQkJjB07luTkZEJDQwkMDCQ4ODj/+/Pnz2fYsGHY2BQ87ezZs3n5\n",
              "5ZcBOHDgACEhIQQEBODn50diYiLvvvvuzT8SkTLq18Pn+GxLHABv9vfH1alsjuSv5ZG2Pky5zw+L\n",
              "BT7bEscLK/dgteqZURGRssBilMJZ15gxY5g5c6bZMURuufTMHLq9u5GEpEs8GOzNlPv8zI5kmq93\n",
              "JDB++Z8f4j+9vz92ttrJISJSmulPcZESbOqa30lIukRtjwq80KP8jOSvpt/tXswa1AJbGwsrdh3n\n",
              "mSWRZOdazY4lIiI3QUVUpITaHH2OL7bmbRh6q78/FR1v6tPWyoR7A2rx4YMtsbe1sHr3SR5ftJPM\n",
              "HH2cm4hIaaUiKlICpWVk89zXeStyHw6pS1vfa38cWnnTvXkN5jx8Ow52Nvx3/2nCFu4gI1tlVESk\n",
              "NFIRFSmBpnz/O8eTL1GncgWev7uJ2XFKnM5NqvPJI61xsrdh/cGzjPjsNy5m5ZgdS0RECklFVKSE\n",
              "2XjoLIsjjgHwVv8AXDSSv6o7Gnry2bAgXBxs2RxzjqELtnMhU2VURKQ0UREVKUFS/zKSH9rWh5D6\n",
              "VUxOVLIF16/C58ODcXW0I+LoeR6ev42US9lmxxIRkX9IRVSkBHl99X5OpmTgU8WZZ7s3NjtOqXB7\n",
              "3UosGhmMewV7dsUnM/jjrSSlZ5kdS0RE/gEVUZESIvzAGZb+loDFAm8NCMDZQSP5f8rfy4PFI0Oo\n",
              "4uLA3uOpPDBvK+cuZJodS0RE/oaKqEgJkHIxm+dX5I3kH21Xj9Y+lU1OVPo0reXGV6NCqOrqyIFT\n",
              "aQyau5XTqRlmxxIRketQERUpASav3s/p1Ezqe7ow7i6N5G9Uw+quLA1rQ013J2LOXGDgnC2cSL5k\n",
              "diwREbkGFVERk63bf5qvdyZgc3kkX8HB1uxIpVo9TxeWhrXBq1IFYhMvcv+cLRw7f9HsWCIichUq\n",
              "oiImSr6YxYSVewAY0b4+t9etZHKisqFOZWeWhrXBp4ozCUmXuH/OFo6eSzc7loiI/A8VURETvbpq\n",
              "H2fTMmlQ1YUxXRuZHadMqeVRgaVhbfCtVpGTKRncP2cL0afTzI4lIiJ/oSIqYpIf953im8gT2Fhg\n",
              "xoAAnOw1ki9q1dyc+GpUCE1quHI2LZOBc7ey/0Sq2bFEROQyFVERE5xPz+LFyyP5sI4NaOGtkfyt\n",
              "4lnRkcUjQ/Cr7c759CwemLeV3QnJZscSERFUREVM8cqqfZy7kEWj6hV55s6GZscp8yq5OPDFiGBa\n",
              "eHuQcimbwfO2sSMuyexYIiLlnoqoSDFbs+ck30adwNbGwowBATjaaSRfHNwr2LNweDBBPpVJy8xh\n",
              "yPxtbDuSaHYsEZFyTUVUpBglXsjkpW/2AvB/HRvg7+VhbqBypqKjHZ8+2po7fD1Jz8rlkQURbI4+\n",
              "Z3YsEZFyS0VUpBi9/J99JKZn0aSGK0928TU7Trnk7GDHx4+0IrRxVTKyrTz62XbCD5wxO5aISLmk\n",
              "IipSTFbvPsF3e05ip5G86ZzsbZn98O3c1bQ6WTlWRi38jR/3nTI7lohIuaMiKlIMzqZlMvHySH50\n",
              "qC/Na7ubnEgc7Wz5cHBL7vGvSXauwehFO/k26oTZsUREyhUVUZFbzDAMXvpmD0kXs7mtphtPhGok\n",
              "X1LY29owa2AgfVvUJtdq8PRXu/h6R4LZsUREyg0VUZFbbFXUCX7cdxo7GwtvDwjAwU7/2ZUkdrY2\n",
              "zBgQwKDWdbAaMG55FIsj4s2OJSJSLuhvRJFb6ExqBi//Zx8AT3VpSNNabiYnkquxsbEw5T4/HmlT\n",
              "F8OACSv28NmvsWbHEhEp81RERW4RwzB4YeUeUi5l07y2G//XqYHZkeQ6bGwsvNqrGSPb1wPylg7M\n",
              "3XjY5FQiImWbiqjILbJy13HW/X4Ge9u8d8nb2+o/t5LOYrHwQo/beLJz3ut4p3x/gPd/ijY5lYhI\n",
              "2VWovxkzMjLo06cPjRo1IiAggK5duxITEwNAp06dqFevHoGBgQQGBvLOO+9c8zyrV6+mSZMmNGzY\n",
              "kL59+5Kamnpzj0KkhDmdmsGrq/JG8s/c2YgmNTSSLy0sFgtj72rM2K6NAHh77SFm/HgQwzBMTiYi\n",
              "UvYU+imaUaNGcfDgQaKioujduzcjRozI/94777xDZGQkkZGR/Otf/7rq8RcuXGD48OF88803REdH\n",
              "U6tWLV577bUbfwQiJYxhGExYsYfUjBz8vdwJ61Df7EhyA57s0pAXejQB4IPwGKZ8/7vKqIhIEStU\n",
              "EXVycqJHjx5YLBYAQkJCiI2NLdQdrlmzhhYtWtCkSd4f8KNHj2bx4sWFOodISbZ8RwI/HziDg60N\n",
              "bw8IwE4j+VJrVIcGTOrVDIB5m47yyqp9WK0qoyIiReWm/oacNWsWvXv3zv/6+eefx8/Pj4EDB3Lk\n",
              "yJGrHhMfH0/dunXzv/bx8eHkyZPk5ORc9faZmZmkpqYWuOTm5t5MbJFb5mTKJSZ/ux+Af3VtRMPq\n",
              "riYnkpv1SFsfpvb1w2KBz7fE8cLKPSqjIiJF5IaL6JQpU4iJiWHq1KkALFy4kAMHDrB7927at29P\n",
              "z549iyTg1KlTcXd3L3CJiIgoknOLFCXDMHju6z2kZeYQWMcj/93XUvo9EOTNjP4B2Fjgq+3HGLcs\n",
              "ipxcq9mxRERKvRsqojNmzGDFihWsWbMGZ2dnAOrUqQPkvdD/iSee4MiRIyQmJl5xrLe3N3Fxcflf\n",
              "x8bGUrNmTezs7K56XxMmTCAlJaXAJSgo6EZii9xSS387xsZDZ3Gwy/uAdI3ky5Z+t3sxa1ALbG0s\n",
              "rNh1nKeXRJKtMioiclMK/TflzJkzWbx4MWvXrsXDwwOAnJwcTp8+nX+br7/+murVq1OlSpUrju/e\n",
              "vTs7d+7kwIEDAHz00UcMGjTomvfn6OiIm5tbgYutrW1hY4vcUseTL/Ha6t8BGH9XY3yrVTQ5kdwK\n",
              "9wbU4sMHW2Jva+G73ScZvWgnmTl6qZCIyI26+tOQ15CQkMDYsWOpX78+oaGhQF5R/Pnnn7nnnnvI\n",
              "zMzExsYGT09PVq1alX/cyy+/TK1atXjsscdwdXXl448/pk+fPuTk5NC8eXM+++yzon1UIsXIMAye\n",
              "W76bC5k53F63Eo/eoZF8Wda9eQ3mPtyKsC92sHb/acIW7mD2Q7fjZK9/IIuIFJbFKIWfRzJmzBhm\n",
              "zpxpdgwRABZti+PFlXtxtLNhzdPtqV9Vz4aWB5ujzzHi8+1kZFtp51uFeUNa4exQqH/bi4iUe3oR\n",
              "m8hNOHb+IlO+yxvJP9u9iUpoOXJHQ08+GxaEi4Mtv8QkMvST7VzIvPqnf4iIyNWpiIrcIKvV4Lmv\n",
              "d5OelUuQT2WGtfUxO5IUs+D6Vfh8eDCujnZExJ7n4fnbSLmUbXYsEZFSQ0VU5AYt2hbHr4cTqWBv\n",
              "y/T+/tjYWMyOJCa4vW4lvhwZgnsFe3bFJzP4460kpWeZHUtEpFRQERW5AfGJF5nyfd4nPzzXvTE+\n",
              "ni4mJxIz+Xm5s3hkCFVcHNh7PJUH5m3l3IVMs2OJiJR4KqIihWS1GoxbHsWl7FyC61VmSBsfsyNJ\n",
              "CdC0lhtfjQqhqqsjB06lMXDOFk6nZpgdS0SkRFMRFSmkz7fEEnH0PM4OtrzVP0AjecnXsLorS8Pa\n",
              "UNPdicNn0xk4Zwsnki+ZHUtEpMRSERUphNhz6Uz7IW8kP6HHbXhXcTY5kZQ09TxdWBrWBq9KFYhN\n",
              "vMj9c7Zw7PxFs2OJiJRIKqIi/1Cu1WDcsqj8z40cHORtdiQpoepUdmZpWBt8qjiTkHSJ++ds4cjZ\n",
              "C2bHEhEpcVRERf6hBb8c5be4JFwcbHmzn94lL9dXy6MCS8Pa4FutIidTMhg4dyvRp9PMjiUiUqKo\n",
              "iIr8A0fOXuCtHw8C8OI9TfGqpJG8/L1qbk58NSqEJjVcOZuWycC5W9l/ItXsWCIiJYaKqMjf+GMk\n",
              "n5ljpX1DTx4IqmN2JClFPCs6snhkCH613TmfnsUD87ayOyHZ7FgiIiWCiqjI35i/+Qg745NxdbTj\n",
              "zX7+WCwayUvhVHJx4IsRwbTw9iDlUjaD521jR1yS2bFEREynIipyHTFn0pjx30MAvNTzNmp5VDA5\n",
              "kZRW7hXsWTg8mKB6lUnLzOHh+dvYeiTR7FgiIqZSERW5hpxcK2OX7SYrx0rHRlW5v5VG8nJzKjra\n",
              "8dmwIO7w9eRiVi5DF0SwOfqc2bFEREyjIipyDfM2HSXqWDKuTnZM6+enkbwUiQoOtnz8SCtCG1cl\n",
              "I9vKo59t5+cDp82OJSJiChVRkas4dDqNd9bmjeRfubcZNd01kpei42Rvy+yHb+euptXJyrEStnAH\n",
              "P+w9ZXYsEZFipyIq8j+yc62MXRpFVq6VLk2q0a9lbbMjSRnkaGfLh4Nb0tO/Jtm5Bo9/uZNvo06Y\n",
              "HUtEpFipiIr8jzkbDrPneApuTnZM6auRvNw69rY2zBrUgr4ta5NrNXj6q118vSPB7FgiIsVGRVTk\n",
              "Lw6cSmXWT9EATOrdjOpuTiYnkrLO1sbCjP4BDGpdB6sB45ZH8eW2eLNjiYgUCxVRkcv+GMln5xp0\n",
              "bVqdPoEayUvxsLGxMOU+Px5pUxfDgBdW7uHTX46aHUtE5JZTERW57KPww+w7kYqHsz1v3NdcI3kp\n",
              "VjY2Fl7t1YxRHeoD8Oq3+5m78bDJqUREbi0VURFg34kU3v/58ki+VzOquWokL8XPYrEw4e4mPNnZ\n",
              "F4Ap3x/g/csvFRERKYtURKXcy8rJG8nnWA26N6tBr4BaZkeScsxisTD2rsaM7doIgLfXHmLGjwcx\n",
              "DMPkZCIiRU9FVMq9D8JjOHAqjcouDryukbyUEE92aciLPW4D8n5Hp3z/u8qoiJQ5KqJSru09nsKH\n",
              "4TEAvNa7OZ4VHU1OJPKnkR3qM7l3MyBv09crq/ZhtaqMikjZoSIq5VZmTi5jl0aRazW4x78m9/jX\n",
              "NDuSyBWGtPFhal8/LBb4fEscL6zcozIqImVGoYpoRkYGffr0oVGjRgQEBNC1a1diYvKeTRo2bFj+\n",
              "9e3atWP79u3XPI/FYsHPz4/AwEACAwPZtGnTzT0KkRvw3k/RHDydRhUXByb3amZ2HJFreiDImxn9\n",
              "A7CxwFfbjzFuWRQ5uVazY4mI3DS7wh4watQo7r77biwWCx988AEjRoxg/fr13HfffcybNw87OztW\n",
              "r17NgAEDiI2NveZ5Nm3ahIeHx01EF7lxUceSmb3hCACv92lOFY3kpYTrd7sXDnY2PLMkkhW7jpOZ\n",
              "a+XdgYHY22qwJSKlV6H+BHNycqJHjx75b+YICQnJL5u9evXCzs4u//rjx4+Tk5NTtGlFikBGdi7j\n",
              "luWN5HsF1OJuP43kpXS4N6AWHw1uib2the92n2T0op1k5uSaHUtE5Ibd1D+lZ82aRe/eva96fY8e\n",
              "PfKL6dV06dKFgIAAxowZQ3p6+jVvl5mZSWpqaoFLbq7+4JUb9+66aKLPXMCzoiOTNJKXUqZbsxrM\n",
              "fbgVDnY2rN1/mrCFO8jI1p+JIlI63XARnTJlCjExMUydOrXA9V988QVLly5l7ty51zw2Li6OHTt2\n",
              "8Ouvv3L27FnGjx9/zdtOnToVd3f3ApeIiIgbjS3l3M74pPxtNVPua04lFweTE4kUXmiTanzySGuc\n",
              "7G1Yf/Aswz/bzsUsTaBEpPS5oSI6Y8YMVqxYwZo1a3B2ds6/fsmSJUyaNIm1a9dSvXr1ax7v7e0N\n",
              "gIuLC6NHj77um5UmTJhASkpKgUtQUNCNxJZy7o+RvNWA+1rU5q5mNcyOJHLD7mjoyWfDgnBxsOWX\n",
              "mESGfrKdC5kqoyJSuhS6iM6cOZPFixezdu3aAm82Wrp0KS+99BLr1q3LL5pXk5SUxMWLFwGwWq0s\n",
              "WbKEFi1aXPP2jo6OuLm5FbjY2toWNrYIM9ce4sjZdKq5OvLKvU3NjiNy04LrV2HhiGBcneyIiD3P\n",
              "w/O3kXIp2+xYIiL/WKGKaEJCAmPHjiU5OZnQ0FACAwMJDg4GYPDgwWRkZNC7d+/8j2VKTEwEYPbs\n",
              "2bz88ssAHDhwgJCQEAICAvDz8yMxMZF33323aB+VyP/YEXeeeZvy3iU/ta8fHs4ayUvZ0NK7El+O\n",
              "CMG9gj274pMZ/PFWktKzzI4lIvKPWIxSuDNuzJgxzJw50+wYUkpcysqlx3ubOHounf63ezFjQIDZ\n",
              "kUSK3O8nU3no420kpmfRpIYrX4wI1qYwESnx9AF0Uua99eNBjp5Lp4abExN7aiQvZdNtNd1YEhZC\n",
              "NVdHDpxKY+CcLZxOzTA7lojIdamISpkWcfQ8C349CsDUfn64V7A3OZHIreNbzZUlYW2o6e7E4bPp\n",
              "DJyzhRPJl8yOJSJyTSqiUmZdzMph/PIoDAMGtqpDaONqZkcSueXqebqwNKwNXpUqEJt4kfvnbOHY\n",
              "+YtmxxIRuSoVUSmzpv9wkLjEi9Ryd+LFnreZHUek2NSp7MzSsDbU83QhIekS98/ZwpGzF8yOJSJy\n",
              "BRVRKZO2HE7k019jAZjWzx83J43kpXyp5VGBJaNC8K1WkZMpGQycu5Xo02lmxxIRKUBFVMqc9My8\n",
              "kTzAA0HedGhU1eREIuao5ubEV6NCaFLDlbNpmQycu5X9J1LNjiUikk9FVMqcaWsOkJB0idoeFXjx\n",
              "Ho3kpXzzrOjI4pEh+NV253x6Fg/M28ruhGSzY4mIACqiUsb8EnOOhVvjAJje35+KjnYmJxIxXyUX\n",
              "B74YEUxLbw9SLmUzeN42dsQlmR1LRERFVMqOtIxsnl2+G4CHQ+rSztfT5EQiJYd7BXs+Hx5MUL3K\n",
              "pGXm8PD8bWw9kmh2LBEp51REpcyY8v0Bjidfok7lCjx/dxOz44iUOBUd7fhsWBB3+HpyMSuXoQsi\n",
              "2BR91uxYIlKOqYhKmbDx0FkWR8QDML1fAC4ayYtcVQUHWz5+pBWhjauSkW1l+Ge/8fOB02bHEpFy\n",
              "SkVUSr3UjGye/zpvJD+0rQ9tGlQxOZFIyeZkb8uch1vRrVl1snKshC3cwQ97T5kdS0TKIRVRKfXe\n",
              "WP07J1IyqFvFmWe7NzY7jkip4GBnwwcPtqSnf02ycw0e/3In30adMDuWiJQzKqJSqoUfPMOS345h\n",
              "scBb/QNwdtBIXuSfsre1YdagFvRtWZtcq8HTX+1i+Y4Es2OJSDmiIiqlVsqlP0fyw9rWI6heZZMT\n",
              "iZQ+tjYWZvQP4IGgOlgNGL88ii+3xZsdS0TKCRVRKbVeW72f06mZ1PN0YXw3jeRFbpSNjYUp9/kx\n",
              "tK0PhgEvrNzDp78cNTuWiJQDKqJSKv30+2mW70jAYoEZA/yp4GBrdiSRUs1isfDKvU0Z1aE+AK9+\n",
              "u5+5Gw+bnEpEyjoVUSl1ki9mMWHFHgBGtq/P7XU1khcpChaLhQl3N+HJzr5A3mfzvv9TtMmpRKQs\n",
              "UxGVUmfSt/s5k5ZJ/aoujOnayOw4ImWKxWJh7F2NGXdX3n9bb689xIwfD2IYhsnJRKQsUhGVUuW/\n",
              "+06xctdxbCwwY0AATvYayYvcCk90bsiLPW4D4IPwGKZ8/7vKqIgUORVRKTWS0rN4YeVeAEZ1aEBL\n",
              "70omJxIp20Z2qM/k3s0AmLfpKK+s2ofVqjIqIkVHRVRKjVdW7ePchUwaVqvIM3c2NDuOSLkwpI0P\n",
              "U/v6YbHA51vieGHlHnJVRkWkiKiISqmwZs9JVkWdyPvMQ43kRYrVA0HevD0gABsLfLX9GOOXRZGT\n",
              "azU7loiUASqiUuIlXsjkpW/yRvKPdaxPQB0PcwOJlEN9W3rx3gMtsLWxsGLXcZ5eEkm2yqiI3CQV\n",
              "USnxXl61j8T0LBpXd+WpLhrJi5ilp38tPhrcEntbC9/tPsnoRTvJzMk1O5aIlGIqolKird59gu92\n",
              "n8TWxsLb9wfgaKeRvIiZujWrwdyHW+FgZ8Pa/acJW7iDjGyVURG5MYUqohkZGfTp04dGjRoREBBA\n",
              "165diYmJAeDMmTN0796dhg0b0rx5czZu3HjN86xevZomTZrQsGFD+vbtS2pq6s09CimTzqZlMvHy\n",
              "SP7xTg1oXtvd5EQiAhDapBoLhrbGyd6G9QfPMvyz7VzMyjE7loiUQoV+RnTUqFEcPHiQqKgoevfu\n",
              "zYgRIwB4/vnnCQkJITo6mgULFvDggw+SnZ19xfEXLlxg+PDhfPPNN0RHR1OrVi1ee+21m38kUqYY\n",
              "hsHEb/aSdDGbJjVceaKzRvIiJUk7X08+GxaEi4Mtv8QkMvST7VzIVBkVkcIpVBF1cnKiR48eWCwW\n",
              "AEJCQoiNjQVg6dKlPPbYYwC0bt2aWrVqsWHDhivOsWbNGlq0aEGTJk0AGD16NIsXL76ZxyBl0Le7\n",
              "T/LDvlPYXR7JO9jpVSQiJU1w/SosHBGMq5MdEbHneXj+NlIuXfkEhIjItdzU3+6zZs2id+/eJCYm\n",
              "kp2dTY0aNfK/5+PjQ3x8/BXHxMfHU7du3QK3O3nyJDk5V/+XdGZmJqmpqQUuubl6PVJZdiYtg5f/\n",
              "kzeSf7JzQ5rV0khepKRq6V2JL0eE4OFsz674ZAZ/vJWk9CyzY4lIKXHDRXTKlCnExMQwderUosxz\n",
              "halTp+Lu7l7gEhERcUvvU8xjGAYvrtxL8sVsmtVyY3RoA7Mjicjf8PNyZ/HIEKq4OLD3eCoPzNvK\n",
              "uQuZZscSkVLghorojBkzWLFiBWvWrMHZ2ZkqVapgZ2fHqVOn8m8TGxuLt7f3Fcd6e3sTFxdX4HY1\n",
              "a9bEzs7uqvc1YcIEUlJSClyCgoJuJLaUAt9EHmft/tPY2+aN5O1tNZIXKQ1uq+nGkrAQqrk6cuBU\n",
              "GgPnbOF0aobZsUSkhCv03/IzZ85k8eLFrF27Fg8Pj/zrBwwYwOzZswHYvn07x48fp2PHjlcc3717\n",
              "d3bu3MmBAwcA+Oijjxg0aNA178/R0RE3N7cCF1tbfYRPWXQ6NYNX/rMPgKe7NKRJDTeTE4lIYfhW\n",
              "c2VJWBtqujtx+Gw698/ZwvHkS2bHEpESrFBFNCEhgbFjx5KcnExoaCiBgYEEBwcD8Oabb/Lrr7/S\n",
              "sGFDhg4dyhdffIG9vT0AL7/8cn5JdXV15eOPP6ZPnz74+vqSkJDAxIkTi/hhSWljGAYvrNhDakYO\n",
              "frXdeayjRvIipVE9TxeWhrWhTuUKxCVeZOCcLRw7f9HsWCJSQlkMwzDMDlFYY8aMYebMmWbHkCK0\n",
              "fEcC45ZF4WBrw+qn7qBRdVezI4nITTiRfInBH2/j6Ll0aro7sWhEMPWrVjQ7loiUMHoBnpjuZMol\n",
              "Jn2bN5J/pmtDlVCRMqCWRwWWjArBt1pFTqZkMHDuVqJPp5kdS0RKGBVRMZVhGDz/9R7SMnIIqOPB\n",
              "qPb1zY4kIkWkmpsTX40KoUkNV86mZTJw7lb2n9AmPRH5k4qomGrZbwlsOHQWBzsb3h7gj53eJS9S\n",
              "pnhWdOSrUSH41XbnfHoWD8zbyu6EZLNjiUgJob/1xTTHky/x2ur9AIy7qxG+1TSSFymLPJwdWDQy\n",
              "mJbeHqRcymbwvG3siEsyO5aIlAAqomKKvJH8btIyc2jp7cHwOzSSFynL3Jzs+Xx4MEH1KpOWmcPD\n",
              "87ex9Uii2bFExGQqomKKxRHH2BR9Dkc7G2YMCMDWxmJ2JBG5xSo62vHZsCDu8PXkYlYuQxdEsCn6\n",
              "rNmxRMREKqJS7I6dv8gb3+WN5Md3a6yPdBEpRyo42PLxI60IbVyVjGwrwz/7jZ8PnDY7loiYREVU\n",
              "ipXVavDc17tJz8qltU8lhrWrZ3YkESlmTva2zHm4Fd2aVScrx0rYwh38sPfU3x8oImWOiqgUq0UR\n",
              "8fx6OBEnexve6q+RvEh55WBnwwcPtqSnf02ycw0e/3Inq6JOmB1LRIqZiqgUm/jEi0z9/ncAnuve\n",
              "BB9PF5MTiYiZ7G1tmDWoBX1b1ibXavDMV7tYviPB7FgiUoxURKVYWK0G45dHcTErl6B6lXmkjY/Z\n",
              "kUSkBLC1sTCjfwAPBNXBasD45VF8uS3e7FgiUkxURKVYLNwax7aj53F2sGVG/wBsNJIXkctsbCxM\n",
              "uc+PoW19MAx4YeUePv3lqNmxRKQYqIjKLRd7Lp1paw4AMOHuJnhXcTY5kYiUNBaLhVfubUpYh7zP\n",
              "FH712/3M2XDY5FQicqupiMot9cdI/lJ2Lm0bVGFwcF2zI4lICWWxWHj+7iY81dkXgKlrDvDeT9Em\n",
              "pxKRW0lFVG6pBb/Gsj02CRcHW97s56+RvIhcl8ViYcxdjRl3VyMAZq49xIwfD2IYhsnJRORWUBGV\n",
              "W+bI2QtM/yFvJP/CPbdRp7JG8iLyzzzRuSEv9rgNgA/CY3jju99VRkXKIBVRuSVyrQbjl+8mM8fK\n",
              "Hb6ePBjkbXYkESllRnaoz+TezQD4ePNRXv7PPqxWlVGRskRFVG6JTzYfZUdcEhUd7Xizvz8Wi0by\n",
              "IlJ4Q9r4MK2vHxZL3qdvvLByD7kqoyJlhoqoFLmYMxd4678HAXjpntuo7VHB5EQiUpoNCvLm7QEB\n",
              "2Fjgq+3HGL8sipxcq9mxRKQIqIhKkcq1GoxbFkVWjpUOjaoysHUdsyOJSBnQt6UX7z3QAlsbCyt2\n",
              "HefpryLJVhkVKfVURKVIzdt0hMhjybg62fFmPz+N5EWkyPT0r8VHg1tib2vhuz0nGb1oJ5k5uWbH\n",
              "EpGboCIqRSb6dBoz/3sIgJd7NqWmu0byIlK0ujWrwdwhrXCws2Ht/tOELdxBRrbKqEhppSIqRSIn\n",
              "18rYZVFk5Vrp3KQa/W/3MjuSiJRRoY2rsWBoa5zsbVh/8CzDP9vOxawcs2OJyA1QEZUiMWfjEXYn\n",
              "pODmZMfUvhrJi8it1c7Xk8+GBeHiYMsvMYkM/WQ7aRnZZscSkUJSEZWbduBUKu+uyxvJv9qrGdXd\n",
              "nExOJCLlQXD9KiwcEYyrkx0Rsed5eH4EKZdURkVKExVRuSnZuVbGLYsiO9fgztuqc1+L2mZHEpFy\n",
              "pKV3Jb4cEYKHsz2Rx5IZ/PFWktKzzI4lIv9QoYroU089hY+PDxaLhcjISAASExMJDAzMvzRq1Ag7\n",
              "OzvOnz9/xfGxsbHY2toWuP3hw4eL5IGIOf69/jB7j6fi4WzPlL7NNZIXkWLn5+XO4pEhVHFxYO/x\n",
              "VB6Yt5WzaZlmxxKRf6BQRbR///5s3ryZunXr5l9XpUoVIiMj8y+jRo3i7rvvpnLlylc9h6ura4Hb\n",
              "N2jQ4OYegZhm34kU3vspGoBJvZpRzVUjeRExx2013VgSFkI1V0cOnEpj0NwtnE7NMDuWiPyNQhXR\n",
              "Dh064OV1/XdDz58/n+HDh99UKCn5snKsjFu2mxyrQbdm1ekVUMvsSCJSzvlWc2VpWBtquTtx+Gw6\n",
              "98/ZwvHkS2bHEpHrKNLXiP76668kJSXRs2fPa94mPT2d1q1b07JlSyZPnkxu7vU//y0zM5PU1NQC\n",
              "l787Rm69D8Nj+P1kKpWc7Xm9j94lLyIlg4+nC0vC2lCncgXiEi8ycM4Wjp2/aHYsEbmGIi2i8+fP\n",
              "Z8iQIdjZ2V31+zVr1uT48eNs376ddevWsWnTJt5+++3rnnPq1Km4u7sXuERERBRlbCmkvcdT+DA8\n",
              "BoDX+jSnqqujyYlERP5Up7IzS0a1oZ6nCwlJlxgwewtHzl4wO5aIXEWRFdELFy6wdOlSHn300Wve\n",
              "xtHRkWrVqgFQuXJlHn30UTZt2nTd806YMIGUlJQCl6CgoKKKLYWUmZPLuGVR5FgN7vGrSU9/jeRF\n",
              "pOSp5VGBJaNCaFitIqdSM7h/zlYOnU4zO5aI/I8iK6JLliwhICCAJk2aXPM2Z86cITs77zPeMjMz\n",
              "WbFiBS1atLjueR0dHXFzcytwsbW1LarYUkjv/xTDgVNpVHFxYHLvZmbHERG5pmpuTnw1KoTbarpx\n",
              "7kImg+ZuZf+JVLNjichfFKqIhoWF4eXlRUJCAt26dcPX1zf/e9d6k9LLL7/M7NmzAdi8eTMtWrQg\n",
              "ICCAli1bUqNGDV588cWbfAhSXHYnJPPvDXkft/V6n+ZUqaiRvIiUbFUqOrJ4ZDB+td05n57FA/O2\n",
              "sjsh2exYInKZxTAMw+wQhTVmzBhmzpxpdoxyJTMnl57vbSb6zAXuDajF+w9c/5lsEZGSJDUjm6Gf\n",
              "RLAzPhlXRzs+fbQ1t9e9+scMikjx0WYl+UfeXRdN9JkLeFZ0ZHIvjeRFpHRxc7Ln8+HBBNWrTFpm\n",
              "Dg/Pj2DrkUSzY4mUeyqi8rd2xScx5/JI/o37mlPJxcHkRCIihVfR0Y7PhgXRvqEnF7NyGboggkXb\n",
              "4sjOtZodTaTcUhGV68rIznuXvNWAPoG16NashtmRRERuWAUHW+YNaUVo46pkZFt5ceVeus7cwH8i\n",
              "j2O1lrpXqomUeiqicl3vrD3E4bPpVHV15FWN5EWkDHCyt2XukFZM7NmUKi4OxCZe5OmvIunx3ib+\n",
              "u+8UpfCtEyKlloqoXNOOuPPM3XQEgKn3+eHhrJG8iJQN9rY2DL+jHhufDWV8t8a4Otlx4FQaoxbu\n",
              "oM9Hv7I5+pwKqUgxUBGVq7qUlcu4ZbsxDOjX0os7m1Y3O5KISJFzcbTj8VBfNj/bmdGdGlDB3pao\n",
              "Y8k8NH8bD87bxo64JLMjipRpKqJyVTP+e5Cj59Kp7ubIy/c2NTuOiMgt5e5sz7Pdm7Dx2VCGtvXB\n",
              "wdaGLUcS6ffvXxn+6XZ9EL7ILaIiKleIOHqeT345CsC0vv64V7A3OZGISPH44/Xw4eM7MbBVHWxt\n",
              "LPx04Aw93tvEE1/u5LB21osUKRVRKeBiVg7PLo/CMOD+Vl6ENqlmdiQRkWJX26MCb/b3Z+2/OnBv\n",
              "QC0AVu8+SdeZG3h2eRQJSRdNTihSNqiISgHTfzhIbOJFaro78VJPjeRFpHyrX7Ui7z/Qgu+fas+d\n",
              "t1XDasDS3xLoPGMDr67ax5m0DLMjipRqKqKSb+uRRD79NRaAaf38cXPSSF5EBKBpLTc+fqQ1K0a3\n",
              "pW2DKmTlWvn011g6Tl/Pmz8cIPliltkRRUolFVEBID0zh/HLowB4IKgOHRtVNTmRiEjJ09K7El+O\n",
              "DGHRiGAC63hwKTuXf68/TPvp4bz/UzQXMnPMjihSqqiICgBv/nCAY+cvUdujAi/0uM3sOCIiJVo7\n",
              "X09Wjm7Lx0Na0aSGK2kZOby99hAdp4fz8aYjZGTnmh1RpFRQERV+jTnH51viAHiznz+uGsmLiPwt\n",
              "i8XCnU2r8/1T7XnvgRb4VHEmMT2L17/7ndAZ6/lyW7z22Iv8DRXRcu5CZg7jl+8G4KEQb+5o6Gly\n",
              "IhGR0sXGxkKvgFqsHdORaX39qOXuxMmUDF5YuYc7Z27gm13HydUee5GrUhEt56Z8/zvHky/hVakC\n",
              "E+7WSF5E5EbZ29owKMibn8d14uWeTfGs6EBc4kWeWRJJj1mb+FF77EWuoCJajm2KPsuX2+IBmN7f\n",
              "HxdHO5MTiYiUfk72tjx6Rz02jM/bY+/mZMfB02mEXd5jvyn6rAqpyGUqouVUWkY2z10eyT/Spi5t\n",
              "G2gkLyJSlP7YY7/p2c48HtoAZ4e8PfYPz4/ggXlb2RF33uyIIqZTES2n3vjud06kZOBd2Znn7m5i\n",
              "dhwRkTLL3dme8d2asGF8KMPa5e2x33rkPP3+vYVHP93OvhMpZkcUMY2KaDm0/uAZvtp+DIC3+vvj\n",
              "7KCRvIjIrVbV1ZFX7s3bYz+odd4e+58PnOGe9zbzuPbYSzmlIlrOpFzK5vmv9wAwrJ0PwfWrmJxI\n",
              "RKR8qe1RgWn9/Fk3piO9Lu+x/+7yHvvxy7THXsoXFdFy5vXV+zmVmoFPFWee7aaRvIiIWep5uvDe\n",
              "Ay1Y83R77rytOlYDlu1IIHTGel75z17tsZdyQUW0HPn5wGmW7UjAYoEZAwKo4GBrdiQRkXLvtppu\n",
              "fPxIK1aMbks73ypk5xp8tiWODtPDmbZGe+ylbFMRLSdSLv45kh9xRz1a+VQ2OZGIiPxVS+9KLBoR\n",
              "wpcjgmnh7UFGtpXZGw7T/s1w3tMeeymjVETLiUnf7uNMWib1q7ow9q7GZscREZFraOvryYr/+8se\n",
              "+8wcZq49RAftsZcySEW0HFi7/zQrdh3H5vJI3sleI3kRkZLsf/fY1/N04fzlPfad3lrPom1x2mMv\n",
              "ZUKhiuhTTz2Fj48PFouFyMjI/Ot9fHxo3LgxgYGBBAYGsmTJkmueY/78+TRs2JAGDRowcuRIsrOz\n",
              "bzi8/L2k9CxeWJk3kh/ZoT4tvSuZnEhERP6p/D32/+rAm/3y9tifSs3gxZV7tcdeyoRCFdH+/fuz\n",
              "efNm6tate8X3lixZQmRkJJGRkQwcOPCqxx89epSJEyeyadMmYmJiOH36NHPnzr2x5PKPvPrtPs6m\n",
              "ZeJbrSL/urOR2XFEROQG2NnaMLC1N+HjO/HKvQX32N89ayM/7NUeeymdClVEO3TogJeX1w3f2fLl\n",
              "y+nVqxc1atTAYrHw2GOPsXjx4hs+n1zfD3tP8p/IExrJi4iUEY52tgxrV4+Nz/65x/7Q6Qs89sUO\n",
              "+nz4CxsPaY+9lC5F9hrRIUOG4Ofnx/Dhwzl79uxVbxMfH1/g2VQfHx/i4+Ove97MzExSU1MLXHJz\n",
              "9ULtv3M+PYuXvtkLwGMdGxBYx8PcQCIiUmScHS7vsX+uM0+E+ubtsU9IYcgnEQyau5XfYrXHXkqH\n",
              "IimiGzduZPfu3ezcuRNPT08eeeSRojgtAFOnTsXd3b3AJSIiosjOX1a9/J+9nLuQRaPqFXn6zoZm\n",
              "xxERkVvAvYI947o1ZuOzoTzarh4OtjZsO3qe/rO3MGxBBHuPa4+9lGxFUkS9vb0BsLe355lnnmHT\n",
              "pk3XvF1cXFz+17GxsfnHXsuECRNISUkpcAkKCiqK2GXWd7tPsnr3SWxtLLw9IBBHO43kRUTKMs+K\n",
              "jrx8b1PWj+/EA0F5e+zDD56l5/ubeXzRTmLOaI+9lEw3XUTT09NJTk7O/3rx4sW0aNHiqrft168f\n",
              "q1at4tSpvBdVz549m0GDBl33/I6Ojri5uRW42NqqWF3LuQuZTPxP3kj+8U4N8PNyNzmRiIgUl1oe\n",
              "FZjaN2+Pfe/AWlgs8N2ek9z1zgbGLYvi2HntsZeSpVBFNCwsDC8vLxISEujWrRu+vr6cPn2a0NBQ\n",
              "/P398fPzY8OGDXz++ef5x4wYMYJVq1YBUL9+fSZNmkS7du3w9fWlatWqhIWFFe0jKscMw2DiN3s5\n",
              "n55FkxquPNFZI3kRkfKonqcLswa14Pun/txjv3xHAp3fXs/L/9nLmVTtsZeSwWKUwrfXjRkzhpkz\n",
              "Z5odo8RZFXWCpxbvws7GwjePt6N5bT0bKiIisCs+ibf/e4jNMecAcLK3YWjbejzWsT4ezg4mp5Py\n",
              "TJuVyogzaRm8fHkk/0RnX5VQERHJ18K7El+MCObLkcG01B57KUFURMsAwzB4ceVeki9m07SmG4+H\n",
              "+podSURESqC2DTz5+v/aMv+RVtxW00177MV0KqJlwH8iT7B2/2nsbS28fX8A9rb6v1VERK7OYrHQ\n",
              "5bbqfPfkHbz/P3vsO74Vrj32UqzUWEq5M6kZvLJqHwBPdW7IbTXdTE4kIiKlgY2NhXsv77Gf3s+f\n",
              "Wu5OnE7N5MWVe+ny9gZW7EzQHnu55VRESzHDMHhh5R5SLmXjV9udxzo1MDuSiIiUMna2Ntzfug7h\n",
              "4zvx6uU99vHnLzJmaRTd39Uee7m1VERLsRU7j7Pu9zM42NowY4BG8iIicuMc7WwZenmP/bPd8/bY\n",
              "R5/J22PfW3vs5RZRcymlTqVk8Oq3eSP5Z7o2pHENV5MTiYhIWeDsYMfoTnl77J/snLfHfvflPfYD\n",
              "525lu/bYSxFSES2FDMPg+RW7ScvIIaCOB6Pa1zc7koiIlDHuFewZe1feHvvhd9TDwc6GiKPnGTB7\n",
              "C0O1x16KiIpoKbTstwTWHzyLg50NM/r7Y6eRvIiI3CKeFR2Z2LMp68f9ucd+/eU99qMX7SDmTJrZ\n",
              "EaUUU4MpZU4kX+K11fsBGNu1EQ2rayQvIiK33h977H/6yx777/ec4q53NmqPvdwwFdFSxDAMnvt6\n",
              "N2mZObTw9mCERvIiIlLMfC7vsV/zdHvuaqo99nJzVERLka+2H2NT9Dkc7fLeJW9rYzE7koiIlFNN\n",
              "argxd0grvnm8HXf4epKda/D5ljg6vBXO1DW/k5SeZXZEKQVUREuJhKSLvH55JD++W2MaVK1ociIR\n",
              "EREIrONxxR77ORuO0GF6OLPWRZOWkW12RCnBVERLgT9G8ulZubSqW4lh7eqZHUlERKSAP/bYfzL0\n",
              "zz3276zL22M/b6P22MvVqYiWAou2xfNLTCJO9ja8pZG8iIiUUBaLhc5N8vbYf/BgC+p7upB0MZs3\n",
              "vs/bY//F1jiycrTHXv6kIlrCHTt/kSnf/w7Ac92bUM/TxeREIiIi12djY6Gnfy3++68OTO/vT22P\n",
              "CpxOzeSlb/bSZeZ67bGXfCqiJZjVajB+eRQXs3IJqleZR9r4mB1JRETkH7OzteH+VnX4eVxHJvVq\n",
              "hmdFR46dv/SXPfYntTa0nFMRLcEWbo1j65HzVLC35a3+/thoJC8iIqWQo50tj7T1YeOznXi2e2Pc\n",
              "K9hf3mO/k14f/MIG7bEvt1RES6i4xHSmrTkAwIQeTahbRSN5EREp3f7YY7/x2dD8PfZ7jqfwyCcR\n",
              "DJyzlYij2mNf3qiIlkBWq8H4Zbu5lJ1Lm/pVeCi4rtmRREREisxV99jHnuf+OdpjX96oiJZAn/4a\n",
              "S0TseZwdbJmukbyIiJRRf+yx3zC+Ew8EeWOnPfbljopoCXP0XDrTf8wbyb/Q4zbqVHY2OZGIiMit\n",
              "VdO9AlP7+rFuTEf6/M8e+7FLtce+LFMRLUFyrQbjl0WRkW3lDl9PBgd7mx1JRESk2Ph4uvDuoBb8\n",
              "8HSH/D32X+/M22M/8Zu9nNYe+zJHRbQEWfDLUX6LS6Kiox3T+vlhsWgkLyIi5U/jGq75e+zbN8zb\n",
              "Y79waxwdpocz9XvtsS9LVERLiJgzF3jrx4MAvHTPbXhV0kheRETKt8A6HiwcHszikSHcXrcSmTlW\n",
              "5mw8Qvvp4by77pD22JcBKqIlQK7VYNyyKDJzrHRoVJWBreuYHUlERKTEaNOgCssfa8OCoa1pWtON\n",
              "C5k5vLsumg7Tw5m78bD22JdihSqiTz31FD4+PlgsFiIjIwHIyMigT58+NGrUiICAALp27UpMTMxV\n",
              "j4+NjcXW1pbAwMD8y+HDh2/6QZR28zYdIfJYMq6Odkzrq5G8iIjI/7JYLIQ2qcbqP/bYV83bYz/l\n",
              "+wN0mB7OQu2xL5UKVUT79+/P5s2bqVu34Odajho1ioMHDxIVFUXv3r0ZMWLENc/h6upKZGRk/qVB\n",
              "gwY3lryMiD6dxsy1hwCYeG9TanlUMDmRiIhIyZW/x/6ZP/fYn0nLZOLlPfZf79Ae+9KkUEW0Q4cO\n",
              "eHl5FbjOycmJHj165D+LFxISQmxsbJEFLMtycq2MWxZFVo6V0MZVGXC7198fJCIiItfcYz92WRTd\n",
              "3t3Imj3aY18aFPlrRGfNmkXv3r2v+f309HRat25Ny5YtmTx5Mrm5139dR2ZmJqmpqQUuf3dMaTFn\n",
              "4xGiElJwdbJjal9/jeRFREQK6a977J/r3gT3CvbEnLnA/y3K22O//uAZFdISrEiL6JQpU4iJiWHq\n",
              "1KlX/X7NmjU5fvw427dvZ926dWzatIm33377uuecOnUq7u7uBS4RERFFGdsUB0+l8e66vJH8q/c2\n",
              "o4a7k8mJRERESi9nBzv+r1MDNj0XylOdfXG5vMd+6ILt2mNfghVZEZ0xYwYrVqxgzZo1ODtf/aOH\n",
              "HB0dqVatGgCVK1fm0UcfZdOmTdc974QJE0hJSSlwCQoKKqrYpsi+PJLPzjW487Zq9G1Z2+xIIiIi\n",
              "ZYKbkz1jLu+xH/E/e+wf+SSCPQnaY1+SFEkRnTlzJosXL2bt2rV4eHhc83ZnzpwhOzvvM78yMzNZ\n",
              "sWIFLVq0uO65HR0dcXNzK3CxtbUtitimmb3+MHuOp+BewZ4p9+ld8iIiIkWtSkVHXrq8x/7B4Lw9\n",
              "9hsOneXeDzbzf1/sIPq09tiXBIUqomFhYXh5eZGQkEC3bt3w9fUlISGBsWPHkpycTGhoKIGBgQQH\n",
              "B+cf8/LLLzN79mwANm/eTIsWLQgICKBly5bUqFGDF198sWgfUQm3/0Qq7/0cDcDk3s2o5qaRvIiI\n",
              "yK1S070CU+7z46exHbmvRW0sFliz9xTd3t3ImKWR2mNvMotRCl/BO2bMGGbOnGl2jELLyrHS58Nf\n",
              "2H8ylbuaVmfOw7fr2VAREZFidPBUGjPXHuTHfacBsLe1MLB1HZ7s3JDqenKo2GmzUjH6MDyG/SdT\n",
              "qeRszxsayYuIiBS7xjVcmfNwK/7zlz32X2yNp8P0cKZ8/zvntce+WKmIFpO9x1P4MDxv49Tk3s2p\n",
              "6upociIREZHyK+DyHvuvRoXQ6vIe+7kbj9BhejjvrNUe++KiIloMsnLy3iWfYzXo4VeDnv41zY4k\n",
              "IiIiQEj9Kiy7vMe+Wa28Pfazfoqm/fRw5mw4zKWssvHZ5SWVimgxeP/naA6cSqOyiwOTezfXSF5E\n",
              "RKQE+WOP/bdP3MGHD7akQVUXki9mM3XNATq+Fc7CLbHaY3+LqIjeYrsTkvlo/WEAXuvdHM+KGsmL\n",
              "iIiURDY2Fu7xr8mPz3Tgrb/usf/PPjq/vZ7l2mNf5FREb6HMnFzGLYsi12rQ078m92gkLyIiUuLZ\n",
              "2dow4PIe+8m9m1HV1ZGEpEuMu7zH/vs9J7GqkBYJFdFbaNa6aA6dvoBnxbyRvIiIiJQejna2DGnj\n",
              "w8bxoTx/95977Ecv2kmvDzcTrj32N01F9BaJPJbM7A15I/nX+/hR2cXB5EQiIiJyIyo42PJYx8t7\n",
              "7Ls0xMXBlr3HUxm2YDv3z9nCtiOJZkcstVREb4GM7FzGLo3EakDvwFp0b17D7EgiIiJyk9yc7BnT\n",
              "tREbnw1lZPt6ONrZsD02iYFztzJEe+xviIroLfDO2kMcPptOVVdHXr23mdlxREREpAhVqejIi/c0\n",
              "ZcP4UAZf3mO/8fIe+8cWao99YaiIFrEdcUnM23QEgCn3+VFJI3kREZEyqYa7E29c3mPf9/Ie+x/2\n",
              "neKudzcyZkkk8YnaY/93VESLUEZ2LuOXRWE1oG/L2nRtWt3sSCIiInKL1a3iwsyBgfz4TAe6N6uB\n",
              "YcCKXcfp/PZ6Xly5h1MpGWZHLLFURIvQjB8PcuRcOtXdHHmlp0byIiIi5Umj6q7Mfvh2Vj3Rjg6N\n",
              "qpJjNVi0LZ6Ob4Xzxnf7tcf+KlREi8j22PPM/+UoAFP7+uHubG9yIhERETGDv5cHnz8axJJRIbT2\n",
              "ydtjP2/TUdq/+TMz1x4iVXvs86mIFoFLWXkjecOAAbd70bmJRvIiIiLlXXD9KiwNa8OCYXl77NOz\n",
              "cnnvp2g6TA9ntvbYAyqiRWL6jweITbxITXcnXurZ1Ow4IiIiUkJYLBZCG+ftsf9o8J977KetOUCH\n",
              "t8L5vJzvsVcRvUlbjySy4JdYAKb188e9gkbyIiIiUpCNjYUefnl77GcMCMCrUgXOpmXy8uU99st+\n",
              "O0ZObvkrpCqiNyE9M4dnl+8GYFDrOnRsVNXkRCIiIlKS2dna0P92L34e24nX/rLHfvzy3XR7dyPf\n",
              "7S5fe+xVRG/Cmz8cIP78RWq5O/HiPbeZHUdERERKCQc7Gx6+vMd+wt1N8HC25/DZdB7/cif3flB+\n",
              "9tiriN6gXw+f4/MtcQBM7x+Aq5NG8iIiIlI4FRxsCevYgI3PhvL05T32+07k7bEfMLvs77FXEb0B\n",
              "F/4ykh8c7M0dDT1NTiQiIiKlmZuTPf/q2ohNz3VmVIf6ONrZ8Ftc3h77h+dvY3dCstkRbwkV0Rsw\n",
              "9fvfSUi6RG2PCkzooZG8iIiIFI3KLg680OM2NowP5aGQvD32m6LP0euDXwhb+BuHytgeexXRQtoc\n",
              "fY5F2+IBeKu/PxUd7UxOJCIiImVNDXcnXu/jx89jO9G3Zd4e+x/3nabbuxv515JI4hLTzY5YJFRE\n",
              "CyEtI5vnvs4byQ9pU5e2vhrJi4iIyK3jXcWZmfcX3GO/ctdxury9oUzssVcRLYQp3//O8eRLeFd2\n",
              "5rnuTcyOIyIiIuVEWd1jryL6D204dJbFEccAmN7fHxeN5EVERKSYXXeP/X8Plro99oUqok899RQ+\n",
              "Pj5YLBYiIyPzr4+OjqZt27Y0atSI1q1bs2/fvmueY/78+TRs2JAGDRowcuRIsrNL/g8s5VI2z11+\n",
              "l/zQtj6E1K9iciIREREpz/7YY//psNY0r315j/3PMbR/M5x/ry89e+wLVUT79+/P5s2bqVu3boHr\n",
              "w8LCGDVqFIcOHeK5555j6NChVz3+6NGjTJw4kU2bNhETE8Pp06eZO3fuDYcvLq+v3s+p1Ax8qjjz\n",
              "bPfGZscRERERwWKx0OnyHvt/D26Jb7WKpFzK5s0fSs8e+0IV0Q4dOuDl5VXgujNnzvDbb7/x0EMP\n",
              "AdCvXz+OHTtGTEzMFccvX76cXr16UaNGDSwWC4899hiLFy++ifi3XviBMyzbkYDFAm8NCMDZQSN5\n",
              "ERERKTksFgt3X95j//b/7LEPnVGy99jf9GtEjx07Rs2aNbGzyytoFosFb29v4uPjr7htfHx8gWdT\n",
              "fXx8rnq7v8rMzCQ1NbXAJTe3eJ5uTrmYzfMr8kbyw9vVo7VP5WK5XxEREZHCsrWx0O8ve+yruTpy\n",
              "PDlvj/1d725k7f7TZke8Qol/s9LUqVNxd3cvcImIiCiW+/4m8jinUzOp7+nCuG4ayYuIiEjJ98ce\n",
              "+w1/2WN/5Gx6ifww/JueM9epU4eTJ0+Sk5ODnZ0dhmEQHx+Pt7f3Fbf19vbm8OHD+V/HxsZe9XZ/\n",
              "NWHCBMaMGVPguokTJ95s7H9kSJu6VHJxoLZHBZzsbYvlPkVERESKwh977B8M9ubzLXEMa+djdqQr\n",
              "3PQzotWqVaNly5Z88cUXAHz99dd4eXnh6+t7xW379evHqlWrOHXqFIZhMHv2bAYNGnTd8zs6OuLm\n",
              "5lbgYmtbPKXQYrHQK6AWt9etVCz3JyIiIlLUXJ3seTzUt0S+z6VQRTQsLAwvLy8SEhLo1q1bftmc\n",
              "M2cOc+bMoVGjRkybNo0FCxbkHzNixAhWrVoFQP369Zk0aRLt2rXD19eXqlWrEhYWVoQPR0RERERK\n",
              "C4thGIbZIQprzJgxzJw50+wYIiIiInITSvyblURERESkbFIRFRERERFTqIiKiIiIiClUREVERETE\n",
              "FCqiIiIiImIKFVERERERMYWKqIiIiIiYQkVUREREREyhIioiIiIipiiVm5X69u2Lj49PsdxXbm4u\n",
              "ERERBAUFFduOe9HP3Sz6uZtDP3dz6Ode/PQzN4dZP/e6devy9NNPX/c2pbKIFqfU1FTc3d1JSUnB\n",
              "zc3N7Djlhn7u5tDP3Rz6uZtDP/fip5+5OUryz12jeRERERExhYqoiIiIiJhCRVRERERETKEi+jcc\n",
              "HR155ZVXcHR0NDtKuaKfuzn0czeHfu7m0M+9+Olnbo6S/HPXm5VERERExBR6RlRERERETKEiKiIi\n",
              "IiKmUBEVkSITHR3NF198YXYMEREphISEBObOnYsZr9YsF0XUx8eHyMhIADIyMujduzcDBgzg0Ucf\n",
              "JTw8/G+P79SpE998882tDSlyE3x8fGjcuDGBgYE0bdqUDz/8sNgzZGRkEBYWRlBQULHft5QdkyZN\n",
              "YsSIEflfb968GYvFwvr16/Ove+yxx5g4caIJ6USK17X6S1ZW1j8+x/r16wkMDLzm948dO8ZTTz3F\n",
              "3XffjcViucnEhWdX7PdoorS0NHr16kXDhg2ZPXs2NjbloodLObFkyRICAwOJi4vD39+f9u3b4+/v\n",
              "X2z3v3fvXqZOnUqjRo2K7T6l7AkNDeXRRx/N/zo8PJzg4GDWr19Pp06d8q+bPXv2PzpfTk4Odnbl\n",
              "6q86KYOu119u9ne8Tp06rFixoihi3pBy08QSExPp3LkzwcHBzJ07FxsbmwLPdKalpTFy5EiCgoLw\n",
              "9/dn1KhRV/0XR0pKCiNGjKB58+YEBATk/4GZnZ3N888/T1BQEIGBgdx///0kJSUV50MUAfJ2+zZu\n",
              "3JgDBw7Qt29f/Pz8aN68OXPmzAEgMjKSwMDA/IubmxuTJk0CwGKxMGXKFIKCgqhXrx4LFizIP++4\n",
              "ceNo3bo1gYGBdOjQgYMHD+Z/z2Kx8N///pcnn3zyiuNECiMkJIQTJ06QkJAA5D2b8/LLL+c/I3ry\n",
              "5Eni4+PZsmVL/u9j69at2bJlS/45fHx8eO655wgKCuKRRx4hOjqadu3aERAQgJ+fHy+99BIAvXr1\n",
              "yv/vwMfHh3r16gHw5ZdfEhwcTIsWLQgICODbb78F4NChQ/n/0DIMg+rVq/PCCy8AsHHjRjp37nzd\n",
              "40VuxLX6y1NPPUWbNm246667yMnJoVu3brRq1YpmzZrx4IMPkp6efsW5UlNTueuuu5g8eTIACxcu\n",
              "xN/fH39/f+655x6OHz8OQNu2bfn1118BePbZZ6ldu3b+OerXr098fHzRPUCjHKhbt65RpUoV4/nn\n",
              "ny9wfceOHY2VK1cahmEYI0eOND777DPDMAzDarUaw4cPN6ZPn37F7YYOHWr83//9n5Gbm2sYhmGc\n",
              "OXPGMAzDeOONN4zJkyfnn3vy5MnG6NGjb+XDEslXt25dY9euXYZhGMbu3bsNV1dXo2/fvvm/86dP\n",
              "nza8vLyMLVu2FDju559/Nho0aGAkJCQYhmEYgDFjxgzDMAzj999/NypWrGhkZ2cbhvHn77phGMbi\n",
              "xYuNbt265X99veNECqtLly7G559/bmRkZBj16tUzDMMwGjRoYFy6dMlYtGiRERoaWuD3ccuWLUbj\n",
              "xo3zv65bt64xfPhww2q1GoZhGE899ZQxZcqU/O8nJiYWuL+0tDSjZcuW+X8HnDt3Lv/Yo0ePGtWr\n",
              "VzcyMjIMwzAMb29vIy4uzoiMjDRCQkKMoKAgwzAM46WXXjLeeOONvz1epDCu11+6detmZGVlGYaR\n",
              "11vOnTuX/78fe+wxY+rUqYZhGEZ4eLgREBBgxMfHF/g937Nnj1G9evX8P/9ff/11o3v37oZhGMbE\n",
              "iRONSZMmGYZhGLfffrsRFBRk7Nu3z4iJiTEaNmxYpI+x3Mwr7rnnHpYvX87o0aOpU6fOFd//5ptv\n",
              "2LJlCzNnzgTg0qVL2NraXnG71atXs23btvynxatWrZp/fEpKCl9//TUAWVlZ+Pj43KJHI3KlgQMH\n",
              "UqFCBZydnfnkk08ICwvj7bffBqBatWr07duXdevWERISAuSN0ocNG8bq1asL/Gt38ODBADRp0gQ7\n",
              "OztOnTqFl5cXa9eu5f333yctLQ2r1cr58+cL3P+1jhMprNDQUNavX0/dunXzX3McEhLCli1bWL9+\n",
              "PaGhoezatYs33niDxMRE7OzsOHjwIJcuXaJChQoADB06NP/1bh06dGD8+PFcuHCBjh07cuedd+bf\n",
              "V05ODgMGDOC+++5jyJAhABw9epTBgweTkJCAnZ0d58+f5+jRozRp0oQuXbqwbt06kpKSePjhh5k7\n",
              "dy7JycmsW7eOd99992+PFymsa/WXhx56CHt7eyDvGfp33nmH7777jpycHFJSUmjbtm3+bU+fPk2H\n",
              "Dh34+OOP6dKlC5D3Epfu3bvn//k/evRoJk+eTG5uLnfeeScvvfQSo0ePxs7OjgEDBrBu3TocHR3z\n",
              "jy8q5aaI/utf/yIgIIBOnToRHh6Ot7d3ge8bhsHXX399w69vMwyD999/n7vuuqso4ooU2h+vEf1D\n",
              "WFhYge//9UXoJ06coE+fPixYsIDmzZsXuJ2Tk1P+/7a1tSUnJ4f4+HieeOIJtm/fToMGDdi9ezcd\n",
              "OnT42+NEbkRoaCjz58/H29s7/3WhHTt2JDw8nPDwcD7++GPuuecewsPDad26Nampqbi7u5OZmZlf\n",
              "RCtWrJh/vn79+tG2bVvWrl3LBx98wLvvvsv3338P5L3xycvLK39cDzBo0CCmTZtG//79AahcuTIZ\n",
              "GRkA3HnnnaxevZqkpCRmzZpFdHQ0K1euJDo6mlatWv3t8SKFda3+8tff8S+//JKff/6ZDRs24Obm\n",
              "xnvvvcfPP/+c/30PDw98fX1ZvXo1nTt3vuqbkv56XZs2bdi7dy//+c9/6Ny5M3feeScTJ07E0dGR\n",
              "gQMHFunjKzevEQUYM2YMTz75JJ06dSIuLq7A9/r06cObb76Z/5dnUlISMTExV5yjV69ezJgxA6vV\n",
              "CsDZs2fzj3/nnXe4ePEiABcvXmTfvn238uGIXNedd97JvHnzgLzf0xUrVtC1a1fS0tK45557mDRp\n",
              "EqGhof/oXCkpKdjb21OzZk0Mw+CDDz64ldGlnGvdujVnzpxh0aJFBYroV199xcmTJwkMDCQrKyv/\n",
              "L+T333//uueLjo6mevXqDBkyhOnTp7N161YAJk+ezIkTJ/j3v/9d4PZJSUn5rxf94osvCrzev0uX\n",
              "Lvz000/ExsbSqFEj7rzzTiZNmsQdd9yRP0W73vEiN+J6/QXyfuc8PT1xc3MjLS2NTz/9tMD3HR0d\n",
              "WbFiBSdOnGDkyJFYrVZCQ0P54YcfOHHiBACzZ8+mS5cu2NraYm9vT0hICK+99hp33nkn/v7+7N+/\n",
              "n/Xr1+e/FrqolKsiCvDMM8/wzDPP0LFjR44ePZp//TvvvEOFChUIDAzE39+fLl26EBsbe8Xx77zz\n",
              "DpmZmfj5+REYGJj/QvXnnnuO1q1bExwcjL+/PyEhIfkfuSBihvfee4/ff/8dPz8/QkNDefHFFwkO\n",
              "DmbFihUcOHCAt956K/+NGn/3DmQ/Pz8GDRpEs2bNaN269RUTBZGiZG9vzx133EFaWlr+OLtRo0ak\n",
              "paVxxx134O7uzuuvv05QUBC33347Dg4O1z3f8uXL8fPzo0WLFgwcODD/9/2VV17h8OHDtGrVisDA\n",
              "QHr06AHArFmz6N+/Py1atGDXrl0Fft+rV69O9erVadOmDZBXkE+cOFFgXHm940Vu1LX6C8CQIUO4\n",
              "ePEijRs35u6776Z9+/ZXHG9vb8+XX35Jbm4ugwcPpkmTJrz11lt0794df39/Nm3alP/kBeQ9mXHm\n",
              "zBnatWuHxWIhKCgIb29vKleuXKSPS7vmRURERMQU5e4ZUREREREpGVRERURERMQUKqIiIiIiYgoV\n",
              "URERERExhYqoiIiIiJhCRVRERERETKEiKiIiIiKmUBEVEREREVOoiIqIiIiIKVRERURERMQUKqIi\n",
              "IiIiYor/B4ulcSZL1kL7AAAAAElFTkSuQmCC\n",
              "\">\n",
              "      </div>\n",
              "      <script type=\"text/javascript\">\n",
              "        (() => {\n",
              "          const chartElement = document.getElementById(\"chart-257f69b9-fbf7-42c6-b407-db5579b23606\");\n",
              "          async function getCodeForChartHandler(event) {\n",
              "            const chartCodeResponse =  await google.colab.kernel.invokeFunction(\n",
              "                'getCodeForChart', [\"chart-257f69b9-fbf7-42c6-b407-db5579b23606\"], {});\n",
              "            const responseJson = chartCodeResponse.data['application/json'];\n",
              "            await google.colab.notebook.addCell(responseJson.code, 'code');\n",
              "          }\n",
              "          chartElement.onclick = getCodeForChartHandler;\n",
              "        })();\n",
              "      </script>\n",
              "      <style>\n",
              "        .colab-quickchart-chart-with-code  {\n",
              "            display: block;\n",
              "            float: left;\n",
              "            border: 1px solid transparent;\n",
              "        }\n",
              "\n",
              "        .colab-quickchart-chart-with-code:hover {\n",
              "            cursor: pointer;\n",
              "            border: 1px solid #aaa;\n",
              "        }\n",
              "      </style>"
            ]
          },
          "metadata": {}
        },
        {
          "output_type": "display_data",
          "data": {
            "text/plain": [
              "from matplotlib import pyplot as plt\n",
              "data['product c'].plot(kind='line', figsize=(8, 4), title='product c')\n",
              "plt.gca().spines[['top', 'right']].set_visible(False)"
            ],
            "text/html": [
              "      <div class=\"colab-quickchart-chart-with-code\" id=\"chart-54d01b16-c2ea-4e55-aca1-a7c4f43ee64a\">\n",
              "        <img style=\"width: 180px;\" src=\"data:image/png;base64,iVBORw0KGgoAAAANSUhEUgAAApcAAAFuCAYAAADUGTPdAAAAOnRFWHRTb2Z0d2FyZQBNYXRwbG90\n",
              "bGliIHZlcnNpb24zLjEwLjAsIGh0dHBzOi8vbWF0cGxvdGxpYi5vcmcvlHJYcgAAAAlwSFlzAAAP\n",
              "YQAAD2EBqD+naQAARD9JREFUeJzt3Xd0VAXexvFn0nsghVDS6SVFgRBKEAQFLIAI6toWBey6rthw\n",
              "ZRVUULGh7qoIioquSrEhWFDQgBRRCL2EdBIIKSQhIf2+fwRH8lKkTHJTvp9z5pzlZu6dJ7Nj8uT+\n",
              "brEYhmEIAAAAsAE7swMAAACg6aBcAgAAwGYolwAAALAZyiUAAABshnIJAAAAm6FcAgAAwGYolwAA\n",
              "ALAZyiUAAABshnIJAAAAm6FcAoCNBAYGav78+WbHAABTUS4BoAFatWqVLBaLKisrzY4CAGeFcgkA\n",
              "x6mqqlJ1dbXZMQCg0aJcAmjSBg0apHvuuUdjxoyRp6enOnTooPfff9/69T/2EH788cfq1KmT3Nzc\n",
              "lJ2drf379+uaa65RQECAAgICdO211yozM9O63pEjRzRhwgT5+vqqXbt2mj17dq3XPdmex/nz5ysw\n",
              "MND678rKSr300kvq1q2bPD09FRgYqOeee05paWkaMWKEJKlFixby8PDQjBkzTvr9nWobAGAWyiWA\n",
              "Jm/evHm65ZZblJ+fr1dffVUTJ07UmjVraj3nk08+0dq1a1VYWCh/f39dccUVsre31549e7R7924Z\n",
              "hqGRI0eqqqpKkvTAAw9o06ZNSkhI0J49e7R582YdOHDgrHI9+eST+u9//6v58+eroKBAW7Zs0cCB\n",
              "AxUcHKzly5dLkg4fPqwjR47oscceO6ttAIBZKJcAmrzLLrtMV155pRwcHHTZZZfpqquu0jvvvFPr\n",
              "Oc8++6x8fX3l7OysDRs2KCEhQf/973/l7e2tFi1a6I033tDvv/+uX3/9VdXV1Xr//fc1bdo0BQYG\n",
              "yt3dXa+88spZjdMNw9Ds2bP17LPPKiYmRnZ2dvLx8VHfvn3rdRsAYGuUSwBNXlhY2An/Tk9PP+Vz\n",
              "0tPT5ePjo5YtW1qX+fr6qmXLlkpLS9OhQ4dUVlZWax1vb2/5+PiccaacnBwdOXJEnTt3Pttvx6bb\n",
              "AABbo1wCaPJSUlJO+Pfxxz5Kkp3dnz8Og4KClJ+fr/z8fOuyvLw85efnKzg4WP7+/nJ2dq613YKC\n",
              "glrP9/T0lCQVFxdblx1/zKafn588PDy0Z8+ek2Y+Ps+p/NU2AMAMlEsATd6yZcv09ddfq6qqSt98\n",
              "840+++wz3XLLLad8fkxMjHr06KF77rlHhYWFKigo0N13363o6Gj17t1bdnZ2uvHGG/Xkk09q//79\n",
              "Ki4u1uTJk2WxWKzb6NSpkzw9PfXWW2+purpamzdv1pw5c6xft1gsuvfeezVlyhRt3LhRhmEoLy9P\n",
              "a9eulSS1bt1akrR79+5T5vyrbQCAGSiXAJq8W2+9VfPmzVOLFi109913680331RcXNwpn29vb6+l\n",
              "S5eqrKxMHTp0UMeOHVVZWakvv/xS9vb2kqSXX35ZERERioiIUKdOnRQREWEthFLNnsv33ntPc+bM\n",
              "kZeXl6ZMmaLbbrut1utMnz5dEydO1A033CBPT09FRkYqPj5eUk05vffeezV48GC1aNFCzz777Emz\n",
              "nm4bAGAGi2EYhtkhAKCuDBo0SAMGDNDTTz9tdhQAaBbYcwkAAACboVwCAADAZhiLAwAAwGbYcwkA\n",
              "AACboVwCAADAZiiXAAAAsBnKJQAAAGymwZTL2bNnmx0BAAAA56nBlMvU1FSzIwAAAOA8NZhyCQAA\n",
              "gMaPcgkAAACboVwCAADAZiiXAAAAsBnKJQAAAGyGcgkAAACboVwCAADAZiiXAAAAsJmzKpf33Xef\n",
              "QkNDZbFYtHnzZuvyvXv3ql+/furUqZN69+6t7du32zonAAAAGoGzKpdjx47V6tWrFRISUmv57bff\n",
              "rttuu0179uzRI488ovHjx9syIwAAABqJsyqXAwcOVGBgYK1l2dnZ2rhxo2688UZJ0tVXX6309HQl\n",
              "JibaLiUAAAAaBYfz3UB6erratGkjB4eaTVksFgUHBystLU0dOnQ46TplZWUqKyurtayqqup8owAA\n",
              "mpGyyiql55Uo6VCxknNqHpkFpbopNkSXdAswOx7QbJ13uTwXM2fO1LRp02oti42NNSMKAKABq642\n",
              "lFVYquRDxUrOOaKkYyUy6VCxMvJLVG2cuM7vqfn65v44BbZ0q//AAM6/XAYFBSkrK0uVlZVycHCQ\n",
              "YRhKS0tTcHDwKdeZMmWKHnjggVrLpk6der5RAACNVH5xubU4JuccsRbIlNxilVZUn3I9dyd7hfm7\n",
              "K8zPQ2F+7vppd7YSMgr0yOItWjChjywWSz1+FwAkG5TLVq1a6cILL9SCBQs0fvx4LV68WIGBgacc\n",
              "iUuSs7OznJ2day2zt7c/3ygAgAbsaHmVUnL/HGEnHfqzSOaXVJxyPQc7i4J93RTu564wvz+LZHt/\n",
              "d/l7OtcqkKOj2+qyV+O1JjFXH65P042xIafcLoC6YTEM4yRDhZO7/fbb9fXXX+vAgQPy9fWVp6en\n",
              "EhMTtXv3bo0fP165ubny8vLSu+++q4iIiLMK8sADD+ill146628AANBwVFZVa//hozV7IY87FjI5\n",
              "p1j7Dx897bptvF2OlceaR/ixPZJBLV3lYH/m55++szpZ05fukJuTvb69f6CCfBiPA/XprMplXaJc\n",
              "AkDjYBiGDh0pq1Ue/xhpp+YWq6Lq1L9WvFwcFO7v8edeSP8/y6Sbk21OA6iuNnTdnHXakJKnvuG+\n",
              "+nBiH9nZMR4H6ospJ/QAABq+I2WVSj5UrKRjo2vr41CxisoqT7mek4Odwnxrl8dwP3eF+3uopZtj\n",
              "nR8HaWdn0axxkRr+SrzWJuVqwfpU3dw3tE5fE8CfKJcA0IyVV1YrLa/khBNpknOKlV1Udsr1LBYp\n",
              "sKWrwvyO2wt5bJTdxttV9ibvKQzxddejI7roiS+3a+ayXbqok79CfN1NzQQ0F5RLAGjiqqsNHSgs\n",
              "/XN8fdyJNOn5R1V1suv5HOPn4XTccZB/nkgT5OMmF8eGfSLmTbEhWr4tS+uS8vTQoi36eFIs43Gg\n",
              "HlAuAaCJKCip0L6cIyccC5mSU6yjFae+UYWbk/2fex6to+yaIunt6liP34Ft2dlZNGtslIa98rM2\n",
              "JOfpvbUpuqV/mNmxgCaPcgkAjUhpxbHL+RwqPu66kDWPvOLyU67nYGdRsI/bn3shjx0L2d7fQ63+\n",
              "3+V8mpIgHzc9dllXPf75Nj33zS4N6txKYX6Mx4G6RLkEgAamqtrQ/vyjJ5xIk3SoWJkFR3W6a3y0\n",
              "9nKxlsdw63GQHgps6SrHs7icT1NyQ59gLd+WpTWJuXpoYYI+ub2v6ceEAk0Z5RIATGAYhnKLy60X\n",
              "Ej/+upCpuSUqrzr1XWk8///lfI6dSBPq6y53Z36s/38Wi0XPXR2pYS//rI2p+Xp3TbImxoWbHQto\n",
              "svgpBAB1qLis8qQn0iTlFKuo9PSX8wn1dbOeSBNuvai4u3zcnZrsGLuuBLZ00+NXdNOUJVs169vd\n",
              "Gtylldr7e5gdC2iSKJcAcJ4qqqqVnldivYRP0nGX9TlYePrL+bRr4frniTR+7go7tkeybQvzL+fT\n",
              "1FzXO0jLtmYpfm+OHlyYoEV39OM9BuoA5RIAzoBhGDpYWKakQ0dOOJEmLa/ktJfz8XV3qnUizR8X\n",
              "FA9uBJfzaUqOH49vSjusufFJuv2i9mbHApocyiUAHKfgaIWSDh2pfVvDY3skT3c5H1dH+5OeSBPm\n",
              "6y5vt8Z7OZ+mpm0LV029opseXrxFL36/Rxd3aaWOAZ5mxwKaFMolgGantKJKaXklf+6FPO66kLmn\n",
              "uZyP/f+/nM+x4yDD/TwU4NV0L+fT1IzrFahl27K0avchPbgwQYvv7CeHZnomPVAXKJcAmqSqakOZ\n",
              "h48eu4TPkeOOhSzW/sOnv5xPgJdzrRNp/iiRQT5uzfZyPk2JxWLRs2MidcnLPykho0Bz4pN016AO\n",
              "ZscCmgzKJYBGyzAM5RWXW68BefyJNCm5JSqvPM3lfJwdrGdfh/l5WMfZoX7u8uByPk1ea28XPXll\n",
              "d01emKBXvt+rIV0C1Lk143HAFvgJCqDBKymvtBbI2sdCHlHh6S7nY2+nkD8u52M9FtJD4f7u8uVy\n",
              "Ps3emAvbadnWLP2wK1sPLkzQkrv6sWcasAHKJYAGoaKqWhn5R2suKH6o9ok0BwpLT7mexSK19XY9\n",
              "bi/kn7c15HI+OB2LxaIZYyJ06cs/a+v+Ar25ap/uHdLR7FhAo0e5BFBvDMNQdlHZn9eDPO6s7LS8\n",
              "ElWe5nI+Psdfzsfvz8v5hPhyOR+cuwAvF00b2V33f7JZr/64V0O7BahrGy+zYwGNGuUSgM0VHK1Q\n",
              "Ss6fBfL460KWlJ/6cj4ujna1TqIJO+6uNC3cnOrxO0BzMiq6rZZtzdJ3Ow5q8qcJ+uKe/ozHgfNA\n",
              "uQRwTsoqq5SWW6Ik67GQf+6FzDly+sv5BLV0rXUiTftjx0QGeLrIjjE26pnFYtEzV0Xo15Q87cgq\n",
              "1H9WJur+oZ3MjgU0WpRLAKdUXW0os+DonyfRHHdG9v78ozrNFFutPJ1r7Xn840SaoJZucnJgrxAa\n",
              "Fn9PZ00b1UP3/W+TXv8xUUO7BqhHO2+zYwGNEuUSaOYMw1B+ScVJT6RJyS1W2Wku5+NR63I+f55I\n",
              "w+V80BhdGdlGy7dmafm2A3pwYYK+vGcAfwgB54Cf/kAzUVJeqZSckpNeVLzgaMUp13O0tyjE98+T\n",
              "aKy3NfRzl58Hl/NB02GxWPTU6B5an5ynXQeK9PqPe/XApZ3NjgU0OpRLoImqrjb0055DWrAuVTuy\n",
              "CpVVcOrL+UhSuxauJ72tYdsWLtwaD82Gn4eznhrVQ3d/9Lv+s2qfLunWWhGBjMeBs0G5BJqY0ooq\n",
              "Lfl9v+atTtK+Q8W1vtbSzbHW8Y/hx06kCfFxl6sTl/MBJOnyyDZatq2Nvt6SpckLN+urewfI2YH/\n",
              "PoAzRbkEmoicI2V6f22qFqxLVV5xzdnans4O+lufYA3r3lrhfu5q6c7lfIAz8dSoHlqflKs9B49o\n",
              "9oq9enh4F7MjAY0G5RJo5PYeLNLc+GR9tnm/9V7a7Vq46tYBYbq2dxAn1gDnwMfdSU+PjtAdC37T\n",
              "mz/t07DurRUV1MLsWECjwG8doBEyDEOrE3M0Nz5ZP+05ZF0eHdRCk+LCNax7AMdJAudpeI/WGhXd\n",
              "Vl9sztTkhQlaeu8A7gYFnAHKJdCIlFVW6cvNmZq3Olm7DhRJkuws0rDurTUxLlw9Q1qanBBoWp68\n",
              "srvWJOYqMfuIXl6xR1NGdDU7EtDgUS6BRiC/uFwfrk/Ve2tTdaioTJLk5mSva3oF6db+YQr2dTM5\n",
              "IdA0tXR30oyreui2D37T2z8naVj31rowmD/igNOhXAINWHJOseatTtKi3zJUWlFzPGVrLxeN7x+q\n",
              "v8UEy9vV0eSEQNN3affWGnNBOy3ZtF8PLkzQsvviGI8Dp0G5BBoYwzC0ITlPb8cn64ddB2Ucu8Vi\n",
              "97ZemhQXrssj28iR4ymBevXEld21OjFHSYeK9eJ3u/Wvy7uZHQlosCiXQANRUVWtZVuzNDc+WVv3\n",
              "F1iXD+3aShMGhCs23Ie74QAm8XZz1LNXR+jW+Rs1d3WyhnVvrV6hPmbHAhokyiVgsoKjFfrk1zTN\n",
              "X5OizGN30XF2sNPYnoG6dUCY2vt7mJwQgCRd3CVAY3sGatFvGXpwYYKW/2MgNx8AToJyCZgkPa9E\n",
              "76xJ1qe/pqu4vEpSza3n/t43RDfEhsiHC54DDc7UK7pp9d4cpeSW6Plvd+mJK7ubHQlocCiXQD37\n",
              "PS1fc+OT9M22A6o+djxl5wBPTYgL06jottxmDmjAvF1rxuPj3/1V839J0fDurdUn3NfsWECDQrkE\n",
              "6kFVtaHvth/Q2/FJ+j3tsHX5wE7+mjggTHEd/TieEmgkBnVupet6B+njX9P10KIt+ub+OLk58esU\n",
              "+AP/NQB16EhZpRZuTNc7a5KVnndUkuRkb6fRF7TVhAHh6tza0+SEAM7Fvy7vqp/3HFJaXomeW75L\n",
              "00b1MDsS0GBQLoE6kFVwVPN/SdFH69NUVFopSWrp5qibYkN0U99Q+Xs6m5wQwPnwdHHUc2MjddO8\n",
              "DXpvbaqG9Witfu39zI4FNAiUS8CGtu0v0NvxSfp6S5Yqjx1QGe7vrgkDwjTmgkDOLAWakLiO/rq+\n",
              "T7A+Wp+mhxdt0bf3D5S7M79WAf4rAM5TdbWhH3dl6+34JK1PzrMu7xvuq4lxYRrcuZXs7DieEmiK\n",
              "Hrusq37afUgZ+Uc1c/lOPT06wuxIgOkol8A5OlpepcW/Z+id1clKyimWJDnYWXRlVFtNGBCmHu28\n",
              "TU4IoK55ODto1thIXT93vRasS9Pw7m00oCPjcTRvlEvgLGUXleqDtalasC5V+SUVkiQvFwdd3ydE\n",
              "f+8XojberiYnBFCf+nXw002xIfpgXaoeWVxz9rini6PZsQDTUC6BM7TrQKHmxSfri82ZKq+qliQF\n",
              "+7jp1v6hGtcriGOtgGbs0RFdtGpPttLzjmrGsp2aOSbS7EiAafhtCJyGYRj6eW+O5sYnKX5vjnV5\n",
              "r5CWmhgXpku6tZY9x1MCzZ67s4NmjY3SdXPW6X8b0jWiRxsN7ORvdizAFJRL4CRKK6r05eZMzV2d\n",
              "pD0Hj0iS7CzSiIg2mjggTBcEtzQ5IYCGJjbcV+P7hWr+Lyl6ZPEWffvPgfJiPI5miHIJHCf3SJk+\n",
              "XJ+m99emKOdIuaSaA/av7R2k8f1CFeTjZnJCAA3Zw8M7a+XubKXmlujppTv0/NgosyMB9Y5yCUhK\n",
              "zD6ieauTteT3DJVV1hxP2dbbRbf0D9O1MUHsfQBwRtycasbj185Zq083ZmhEjzYa3KWV2bGAemVn\n",
              "y40tW7ZMF154oaKjo9WjRw+99957ttw8YFOGYeiXfTmaMP9XDX3pJ/1vQ5rKKqsVGeitV/92gX56\n",
              "eLAmDQynWAI4KzFhPrq1f5gk6dElW1Rw7KoSQHNhsz2XhmHoxhtv1KpVqxQZGamUlBR16dJFY8aM\n",
              "kacn909Gw1FeWa2vt2ZqbnyytmcWSpIsFumSrgGaGBeu3qEtZbFwkg6Ac/fgpZ21cle2knKKNX3p\n",
              "Dr14DeNxNB82HYtbLBYdPnxYklRYWChfX185O3MPZTQMBSUV+mhDmt77JUUHCkslSa6O9hrXK1C3\n",
              "9A9TmJ+7yQkBNBWuTvaaNS5SY99cq8W/Z2hEj9Ya2i3A7FhAvbBZubRYLPrkk080ZswYubu7Kz8/\n",
              "X0uWLJGTk9MJzy0rK1NZWVmtZVVVVbaKAtSSmlusd9ek6NON6Sopr/mctfJ01t/7heqGPsFq4Xbi\n",
              "ZxQAzlfPEB9NigvXnJ+TNOWzreoV2pKfN2gWLIZhGLbYUGVlpYYOHarp06dr4MCB+vXXXzVy5Eht\n",
              "3bpVfn61b4X15JNPatq0abWWxcbGau3atbaIAsgwDP2Wmq+345P03Y6D+uNT3qW1pybFhevKqLZy\n",
              "crDpIccAcILSiipd/mq89h0q1ujotnrlugvMjgTUOZuVy40bN+r666/Xnj17rMt69+6tGTNm6JJL\n",
              "Lqn13JPtuZw6dapmz55tiyhoxiqrqvXN9gOaG5+szemHrcsHdfbXpLhw9Wvvy/GUAOrVprR8Xf3G\n",
              "L6o2pLdu6qlh3VubHQmoUzYbiwcFBSkrK0s7d+5U165dlZiYqH379qlz584nPNfZ2fmEYzHt7e1t\n",
              "FQXNUFFphT75NV3vrknR/sNHJUlODna6+sJ2urV/mDoGcFIZAHNcENxSt1/UXm+s2qd/fbZVvUN9\n",
              "5OPOeBxNl83KZUBAgObMmaNrrrlGdnZ2qq6u1uuvv67g4GBbvQRwgv2Hj2r+mmR9vCFdRWWVkiRf\n",
              "dyfd1DdEN8aGyM+DE8oAmO/+oR21YsdB7c0+oie+3K7X/sZ4HE2Xzcbi5+uBBx7QSy+9ZHYMNBIJ\n",
              "6Yc1d3Wylm3NUlV1zUe4QysPTRwQptEXtJOLI3vCATQsCemHNeaNX1RVbeiNGy7UiIg2ZkcC6gR3\n",
              "6EGjUVVtaMXOg5obn6RfU/Kty/t38NXEuHBd1NFfdnYcTwmgYYoKaqE7L2qv11cm6vHPtykmzEe+\n",
              "TFfQBFEu0eCVlFdq0W8Zemd1slJySyRJjvYWXRnVVhMHhKtbWy+TEwLAmbl3SAet2HlQuw4U6d9f\n",
              "bNd/brjQ7EiAzVEu0WAdLCzVe7+k6MP1aSo4WnP7NG9XR90YG6yb+4YqwMvF5IQAcHacHez1wrgo\n",
              "jfrPGn29NUsjtmTqisi2ZscCbIpyiQZnR2ah5q5O0lcJmaqoqjmeMtTXTRMGhOnqnoFyc+JjC6Dx\n",
              "6tHOW3cP7qBXf9irqZ9vU58wX/l7Mh5H08FvaTQI1dWGftpzSHNXJ2lNYq51eUyojybGhWlI1wDZ\n",
              "czwlgCbinsEd9P2Og9qZVajHP9+qN2/syTV40WRQLmGq0ooqfbZpv+atTlZi9hFJkr2dRZdFtNHE\n",
              "AWGKCmphbkAAqANODnZ6cVyURr6+Wt9uP6gvEzI1Krqd2bEAm6BcwhQ5R8r0wdpULViXqtzickmS\n",
              "p7ODrosJ0vj+YWrXwtXkhABQt7q19dJ9Qzrqpe/36N9fbFffcF+14lhyNAGUS9SrvQeLNG91spZs\n",
              "2q/yympJUrsWrrqlf6iu7R0kTxdHkxMCQP25c1B7fbfjgLbtL9Rjn23V2zf3YjyORo9yiTpnGIbW\n",
              "JOZq7uokrdp9yLo8OqiFJsWFa1j3ADnY25mYEADM4WhvpxfGRenK11Zrxc5sfbZpv8ZcGGh2LOC8\n",
              "UC5RZ8orq/VlQqbmxidp14EiSZLFIg3r1lqTBobpwuCW/IUOoNnr0tpL9w/tpFnf7taTX25X/w5+\n",
              "XGoNjRrlEjZ3uKRcH65P03u/pCi7qEyS5OZkr2t6BemW/qEK8XU3OSEANCy3DwzXt9sPaEtGgaYs\n",
              "2ap5f2c8jsaLcgmbSc4p1jurk7XotwwdraiSJAV4OWt8vzBdHxMsbzeOpwSAk3Gwrzl7/PJXV+vH\n",
              "Xdla9FuGxvUKMjsWcE4olzgvhmFoQ3Ke5q5O1oqdB2XUXPNc3dp4adLAMF0e0VZODhxPCQB/pWOA\n",
              "p/55SSc9980uTf9qhwZ09FMbb66cgcaHcolzUlFVrWVbszRvdbK2ZBRYlw/p0koT48IVG+7DSAcA\n",
              "ztKkuDB9u/2ANqcf1qOLt2r+Lb35WYpGh3KJs1JYWqGPN6Rp/poUZRaUSpKcHex0dc9ATRgQpvb+\n",
              "HiYnBIDGy+HY2eOXvRqvn/Yc0qcb03Vt72CzYwFnhXKJM5KeV6J316Tok1/TVFxeczyln4eTbu4b\n",
              "qhtjQ+Tj7mRyQgBoGjq08tBDl3bWM8t26qmlOzWgoz83lkCjQrnEaW1Ky9fc+GQt35al6mPHU3YK\n",
              "8NDEAeEaGd1WLo725gYEgCbo1gFh+mb7Af2Wmq9HFm3RBxNiGI+j0aBc4gRV1Ya+33FAb8cn67fU\n",
              "fOvyuI5+mhgXroEd/fghBwB1yN7OolljIzVidrxWJ+boow1puqFPiNmxgDNCuYRVcVmlPt2YrnfW\n",
              "JCs976gkycneTqOi22pCXJi6tPYyOSEANB/h/h56eHgXPbV0h2Z8vVMDO/oryMfN7FjAX6JcQlkF\n",
              "RzX/lxR9tD5NRaWVkqSWbo66MTZEN/UNUStP7hQBAGa4pV+ovt12QBtS8vTI4i1aMKGP7OyYHKFh\n",
              "o1w2Y9v2F2hufJKWbslS5bEDKsP93HXrgDBdfWGgXJ04nhIAzGRnZ9HzYyM1fPbP+mVfrj5cn6qb\n",
              "+oaaHQs4LcplM1NdbWjl7my9HZ+kdUl51uWx4T6aOCBcF3dpxV/FANCAhPq569HhXfTkVzs0Y9ku\n",
              "XdSplYJ9GY+j4aJcNhNHy6u0ZFOG5q1OVtKhYkmSg51FV0S20cS4cPVo521yQgDAqdzcN1TLtx3Q\n",
              "+uQ8PbQoQf+bFMuOADRYlMsmLruoVB+sTdWCdanKL6mQJHm6OOj6PsEa3y+UW4sBQCNgZ2fRrLFR\n",
              "Gj77Z61PztP7a1M0vn+Y2bGAk6JcNlG7DxRpbnySvticqfKqaklSkI+rbu0fpmt6Bcndmf/rAaAx\n",
              "CfZ105QRXTT1i+169ptdGtS5lUL93M2OBZyAhtGEGIah+L05ejs+SfF7c6zLe4a01MQBYbq0e2vZ\n",
              "M0YBgEbrhj4hWr7tgH7Zl6sHFybok9v78nMdDQ7lsgkoq6zSF5szNS8+WbsPFkmS7CzSiB5tNCEu\n",
              "TBcGtzQ5IQDAFuzsLHru6kgNf+VnbUzN17trkjUxLtzsWEAtlMtGLK+4XB+uS9V7a1OVc6RMkuTu\n",
              "ZK9rewfrlv6hXGwXAJqgIB83/evybnrss62a9e1uXdyllcL9PcyOBVhRLhuhfYeOaN7qZC3+LUNl\n",
              "lTXHU7bxdtEt/UN1XUywvFwcTU4IAKhLf4sJ0vJtWYrfm6MHFyZo4R39GI+jwaBcNhKGYWhdUp7m\n",
              "xifph13Z1uUR7bw1MS5Ml0W0kaO9nYkJAQD1xWKx6NmrIzXs5Z/1e9phzVudpNsGtjc7FiCJctng\n",
              "VVRV6+stWZq7Oknb9hdKkiwWaWjXAE0cEKaYMB9ZLPy1CgDNTbsWrpp6RVc9snirXvhujy7u0kod\n",
              "WnmaHQugXDZUBSUV+t+vaZq/JkUHCkslSS6OdhrXM0i39A/l+BoAgK7pFaRlWw/opz2HNHnhFi2+\n",
              "o68cmGLBZJTLBiYtt0TvrEnWpxvTVVJeJUny93TW+H6huj4mWC3dnUxOCABoKGrG4xG69OWflZB+\n",
              "WG/HJ+vOQYzHYS7KZQPxW2qe3v45Wd/tOKBqo2ZZl9aemhgXriuj2sjZwd7cgACABqmNt6v+fUU3\n",
              "PbRoi17+fo+GdG2lTgGMx2EeyqWJKquq9e32g5q7Okmb0g5blw/q7K+JA8LVv4Mvx1MCAP7S2J6B\n",
              "Wr7tgH7cla0HFyZoyZ39GI/DNJRLExSVVujTjRl6d02yMvKPSpKcHOw05oJ2unVAGH9xAgDOisVi\n",
              "0cwxEbrkpZ+0JaNAb/2cpLsHdzA7FpopymU92n/4qOavSdbHG9JVVFYpSfJxd9JNsSG6MTZE/p7O\n",
              "JicEADRWAV4umjaqu/75SYJeWVEzHu/S2svsWGiGKJf1YEvGYc2NT9bXW7NUdeyAyvb+7poYF66r\n",
              "LmgnF0eOpwQAnL/R0e20bOsBfb/joCZ/mqDP7+7PNZBR7yiXdaSq2tAPOw9qbnyyNqTkWZf3a++r\n",
              "SXHhuqiTv+y4mwIAwIYsFoueuaqHfk3J0/bMQv135T79Y2hHs2OhmaFc2lhJeaUW/5aheauTlZJb\n",
              "IklytLfoyqi2mjAgTN3bepucEADQlLXydNG0kd31j48367Uf92pot1b87kG9olzayMHCUr2/NkUf\n",
              "rk/T4ZIKSZK3q6Nu6BOsm/uGqrW3i8kJAQDNxciotlq+9YC+2X5ADy7coi/u7i8nB8bjqB+Uy/O0\n",
              "I7NQc1cn6auETFVU1RxPGeLrpgkDwjS2Z6DcnHiLAQD1y2Kx6OmremhDSp52ZhXq9ZWJeuCSTmbH\n",
              "QjNB8zkH1dWGftp7SPPik7U6Mce6PCbURxPiwjS0a4DsOZ4SAGAiPw9nTR/VXfd8tEn/WZmoS7sF\n",
              "qEc7xuOoe5TLs1BaUaXPN+3X3NXJSsw+Ikmyt7NoRI/WmhgXruigFuYGBADgOFdE1ozHv96apcmf\n",
              "JujLe/tzxzfUOcrlGcg5UqYF61L1wdpU5RaXS5I8nB30t5gg/b1fqAJbupmcEACAk5s+qrvWJeVq\n",
              "98EivfZDoh4c1tnsSGjiKJenkZhdpHmrk7X49/0qr6yWJLVr4apb+ofq2t5B8nRxNDkhAACn5+vh\n",
              "rKdH99CdH/6uN37ap0u6BSiKSRvqEOXy/zEMQ7/sy9Xc+CSt3H3IujwqqIUmxYVpePfW3K8VANCo\n",
              "jIhoo5FRbfVlQqYeXJigr+4dwA08UGdsWi7Lyso0efJkffvtt3JxcVFUVJQWLFhgy5eoM+WV1foq\n",
              "IVNzVydrZ1ahJMlikYZ1a62JcWHqGdJSFgsn6QAAGqdpI7vrl3252pt9RK+s2KtHR3QxOxKaKJuW\n",
              "y0cffVQWi0V79uyRxWLRgQMHbLn5OnG4pFwfrk/Te7+kKLuoTJLk6miva3oF6tYBYQrxdTc5IQAA\n",
              "56+lu5NmXNVDt33wm+b8vE+Xdg/QhcEtzY6FJshm5bK4uFjz5s1TRkaGdQ9f69atbbV5m0vJKdY7\n",
              "a5K1cGOGjlZUSZICvJw1vl+Yro8Jlrcbx1MCAJqWS7u31lUXtNNnm/broYUJ+vq+OMbjsDmblct9\n",
              "+/bJx8dHM2bM0IoVK+Tq6qonn3xSQ4YMOeG5ZWVlKisrq7WsqqrKVlFOKzH7iJ7/Zpe+33lQRs01\n",
              "z9WtjZcmDQzT5RFtuYMBAKBJe+LKblqTmKN9h4r10vd79NhlXc2OhCbGZk2qsrJSqamp6tatmzZu\n",
              "3KhXX31V1157rQ4ePHjCc2fOnClvb+9ajw0bNtgqymnZWWQtlhd3aaWPJvXR1/cN0FUXBFIsAQBN\n",
              "Xgs3J80cEyFJejs+Sb+l5pmcCE2NxTD+2H93fnJychQQEKDy8nLZ29fsYu/du7dmzpypoUOH1nru\n",
              "yfZcTp06VbNnz7ZFlL/0wdoU9W3vpw6tPOrl9QAAaGgmf5qgxb9nKMzPXcvui5OrE+Nx2IbNdtX5\n",
              "+flpyJAh+vbbbyVJycnJSk5OVteuJ+5ud3Z2lpeXV63HH4W0PtzUN5RiCQBo1v59ZTcFeDkrOadY\n",
              "L3y32+w4aEJsOgd+8803NWvWLEVERGj06NF666231K5dO1u+BAAAsAFvV0c9e3WkJOmdNcnakMx4\n",
              "HLZh00sRhYeHa+XKlbbcJAAAqCODO7fSNb0C9enGDD20KEHL/xEnNyfur4LzwxksAAA0Y49f0U1t\n",
              "vF2Umlui579hPI7zR7kEAKAZ83Jx1HPHxuPzf0nRuqRckxOhsaNcAgDQzA3s5K+/xQRLkh5alKDi\n",
              "skqTE6Exo1wCAAD96/KuatfCVel5R/Xs8l1mx0EjRrkEAADycHbQ82NrxuMfrEvVmsQckxOhsaJc\n",
              "AgAASVL/Dn66MbZmPP7woi06wngc54ByCQAArKaM6KrAlq7af/ioZizbaXYcNEKUSwAAYOXu7KBZ\n",
              "Y6MkSR+tT9PPew6ZnAiNDeUSAADU0re9r/7eN0SS9OjiLSosrTA5ERoTyiUAADjBIyO6KNjHTZkF\n",
              "pXpmKeNxnDnKJQAAOIGbk4NeGBcli0X6ZGO6Vu3ONjsSGgnKJQAAOKmYMB/d0i9MkvTo4q0qOMp4\n",
              "HH+NcgkAAE7poWGdFebnrgOFpXpq6Q6z46ARoFwCAIBTcnWy16yxkbJYpEW/ZeiHnQfNjoQGjnIJ\n",
              "AABOq1eojyYOqBmPT1myVQUljMdxapRLAADwlyZf2lnh/u7KLirTtK+2mx0HDRjlEgAA/CUXR3u9\n",
              "MC5KdhZpyab9+m77AbMjoYGiXAIAgDNyYXBLTRoYLkl67LNtyi8uNzkRGiLKJQAAOGP/HNpJHVp5\n",
              "KOdImZ74kvE4TkS5BAAAZ8zF0V4vjouSvZ1FXyZk6pttWWZHQgNDuQQAAGclKqiF7rioZjz+r8+2\n",
              "KfdImcmJ0JBQLgEAwFm7b0hHdQ7wVG5xuf7NeBzHoVwCAICz5uxQc/a4vZ1FX2/J0tItmWZHQgNB\n",
              "uQQAAOckItBbdw9qL0n69xfblcN4HKJcAgCA83DPxR3VpbWn8orLNfXzbTIMw+xIMBnlEgAAnDMn\n",
              "Bzu9eE2UHOwsWr7tgL7awtnjzR3lEgAAnJfubb11z8UdJEn//mKbsotKTU4EM1EuAQDAebt7cAd1\n",
              "a+OlwyUV+tdnjMebM8olAAA4b472NeNxR3uLvt9xUF9s5uzx5opyCQAAbKJrGy/9Y0hHSdITX27X\n",
              "wULG480R5RIAANjMHRe1V0Q7bxUcrdBjS7YyHm+GKJcAAMBmHOzt9MK4KDnZ2+mHXdla/Pt+syOh\n",
              "nlEuAQCATXVu7an7L6kZj0/7arsOFDAeb04olwAAwOZuiwtXVFALFZVW6tElWxiPNyOUSwAAYHMO\n",
              "9nZ6cVyknBzstGr3IS3cmGF2JNQTyiUAAKgTHVp5avIlnSRJTy3dof2Hj5qcCPWBcgkAAOrMxLhw\n",
              "XRDcQkVllXp0MePx5oByCQAA6oy9nUUvjIuSs4Od4vfm6ONf082OhDpGuQQAAHWqvb+HHhrWWZL0\n",
              "9NIdysgvMTkR6hLlEgAA1Llb+oepV0hLFZdX6eFFW1RdzXi8qaJcAgCAOmdvZ9GscVFycbTTL/ty\n",
              "9eGGNLMjoY5QLgEAQL0I83PXI8O7SJJmLtup9DzG400R5RIAANSbv/cNVUyYj0rKq/TQogTG400Q\n",
              "5RIAANQbOzuLXhgbJTcne61LytMH61LNjgQbo1wCAIB6FezrpkdH1IzHn12+Syk5xSYngi1RLgEA\n",
              "QL27sU+I+ob76mgFZ483NZRLAABQ7+zsLHp+bKTcney1ISVP839JMTsSbMTm5fLdd9+VxWLR559/\n",
              "butNAwCAJiTIx02PXd5VkvT8t7uUdOiIyYlgCzYtlykpKXr77bcVGxtry80CAIAm6vqYYA3o4KfS\n",
              "imo9tGiLqhiPN3o2K5fV1dWaOHGiXnvtNTk7O9tqswAAoAmzWCx69uoIeTg76LfUfL2zOtnsSDhP\n",
              "NiuXL730kvr376+ePXv+5XPLyspUWFhY61FVVWWrKAAAoBEJbOmmx4+Nx1/4brcSsxmPN2Y2KZfb\n",
              "tm3T4sWL9fjjj5/R82fOnClvb+9ajw0bNtgiCgAAaISu7R2kgZ38VVZZrQcXJjAeb8RsUi7j4+OV\n",
              "kpKijh07KjQ0VOvWrdNtt92mN95446TPnzJligoKCmo9YmJibBEFAAA0QhaLRc9dHSFPZwdtTj+s\n",
              "t+OTzI6Ec2STcnnnnXcqKytLKSkpSklJUWxsrObMmaM777zzpM93dnaWl5dXrYe9vb0togAAgEaq\n",
              "jberpl7ZTZL00nd7tPdgkcmJcC64ziUAAGgwxvUM1ODO/iqvqtbkhQmqrKo2OxLOUp2Uy1WrVmn0\n",
              "6NF1sWkAANCEWSwWzRwTKS8XB23JKNBbPzMeb2zYcwkAABqU1t4uenJkd0nSKyv2aNeBQpMT4WxQ\n",
              "LgEAQINz1QXtNLRrK1VUGXpwYYIqGI83GpRLAADQ4FgsFs24KkLero7atr9Qb6zaZ3YknCHKJQAA\n",
              "aJBaeblo+qia8fhrP+7VjkzG440B5RIAADRYI6Paalj3AOt4vLyS8XhDR7kEAAANlsVi0dOjI9TS\n",
              "zVE7sgr1n5WJZkfCX6BcAgCABs3f01nTR/WQJP1nZaK27S8wORFOh3IJAAAavCsi2+iyiNaqrGY8\n",
              "3tBRLgEAQINnsVj01Kge8nV30q4DRXrtx71mR8IpUC4BAECj4OvhrKdH14zH/7tqn7ZkHDY3EE6K\n",
              "cgkAABqNERFtdEVkG1VVG5r8aYLKKqvMjoT/h3IJAAAalemjesjPw0l7s4/olRWMxxsayiUAAGhU\n",
              "fNyd9PToCEnSWz/t0+b0w+YGQi2USwAA0OgM79Fao6PbqtqQJn+6WaUVjMcbCsolAABolJ4c2V3+\n",
              "ns7ad6hYL3+/x+w4OIZyCQAAGqUWbk6acVXNeHxOfJJ+S803OREkyiUAAGjELukWoDEXtpNhSA8t\n",
              "TGA83gBQLgEAQKP2xBXdFeDlrKScYr3w7W6z4zR7lEsAANCoebs56tkxkZKkeWuS9WtKnsmJmjfK\n",
              "JQAAaPQGd2mlcT0DrePxkvJKsyM1W5RLAADQJDx+RTe18XZRSm6Jnv+G8bhZKJcAAKBJ8HZ11LNX\n",
              "14zH5/+SonVJuSYnap4olwAAoMm4qJO//hYTJEl6eNEWFZcxHq9vlEsAANCkPHZZV7Vr4aq0vBI9\n",
              "980us+M0O5RLAADQpHi6OOq5Y+Px99em6pfEHJMTNS+USwAA0OQM6OinG/oES5IeXrxFRxiP1xvK\n",
              "JQAAaJKmXNZVgS1dlZF/VDOX7TQ7TrNBuQQAAE2Sh7ODnh9bMx7/cH2a4vceMjlR80C5BAAATVa/\n",
              "9n66uW+IJOmRRVtUVFphcqKmj3IJAACatEeGd1Gwj5syC0r1zNeMx+sa5RIAADRp7s4OmnVsPP7x\n",
              "r+n6aQ/j8bpEuQQAAE1en3Bf3dI/VFLNeLzgKOPxukK5BAAAzcLDw7oo1NdNBwpL9fTSHWbHabIo\n",
              "lwAAoFlwdbLXrHFRslikhb9l6MddB82O1CRRLgEAQLPRO9RHE/qHSZKmLNmqghLG47ZGuQQAAM3K\n",
              "g8M6K9zPXQcLyzRt6Xaz4zQ5lEsAANCsuDjWjMftLNKS3/fr+x2Mx22JcgkAAJqdniEtNSkuXJL0\n",
              "2Gdbdbik3ORETQflEgAANEv/vKST2vu761BRmZ78kvG4rVAuAQBAs+TiaK8Xr4mWnUX6fHOmvtl2\n",
              "wOxITQLlEgAANFvRQS10x0XtJUmPf75VecWMx88X5RIAADRr/xjaUZ0CPJRzpFz//mKb2XEaPcol\n",
              "AABo1pwd7PXCuCjZ21m0dEuWlm3NMjtSo0a5BAAAzV5kYAvdNeiP8fg25RwpMzlR40W5BAAAkHTv\n",
              "xR3VpbWn8orLNfXzbTIMw+xIjRLlEgAAQJKTg51eGBclBzuLlm87oKVbGI+fC8olAADAMT3aeevu\n",
              "wR0kSf/+YpsOFTEeP1s2K5elpaUaPXq0OnXqpKioKF1yySVKTEy01eYBAADqxd2DO6hbGy/ll1To\n",
              "8c+3Mh4/Szbdc3nbbbdp9+7dSkhI0KhRozRx4kRbbh4AAKDO/TEed7S36NvtB/VlQqbZkRoVm5VL\n",
              "FxcXXXbZZbJYLJKk2NhYpaSk2GrzAAAA9aZbWy/de3FHSdK/v9iu7MJSkxM1HnV2zOXs2bM1atSo\n",
              "k36trKxMhYWFtR5VVVV1FQUAAOCs3TmovXq081LB0Qo99hnj8TNVJ+VyxowZSkxM1MyZM0/69Zkz\n",
              "Z8rb27vWY8OGDXURBQAA4Jw42tvpxXHRcrS3aMXObC35fb/ZkRoFm5fLF154QUuWLNHy5cvl5uZ2\n",
              "0udMmTJFBQUFtR4xMTG2jgIAAHBeOrf21P1DO0mSpn21XQcKGI//FZuWy5deekn/+9//9P3336tF\n",
              "ixanfJ6zs7O8vLxqPezt7W0ZBQAAwCZuHxiuqEBvFZZWasqSLYzH/4LNymVGRoYmT56sw4cPa/Dg\n",
              "wYqOjlafPn1stXkAAABTONjXnD3uZG+nlbsPaeFvGWZHatAcbLWhwMBAmjwAAGiSOgZ46oFLO+nZ\n",
              "5bv01Fc7NKCDn9q2cDU7VoPEHXoAAADOwKS4cF0Q3EJFZZV6dAlnj58K5RIAAOAM2NtZ9MK4KDk7\n",
              "2OnnPYf0ya/pZkdqkCiXAAAAZ6i9v4cevLSzJOnpr3cqI7/E5EQND+USAADgLNw6IEw9Q1rqSFml\n",
              "HlnM2eP/H+USAADgLNjbWTRrbKRcHO20JjFXH65PMztSg0K5BAAAOEvh/h56eFgXSdKMZTuVnsd4\n",
              "/A+USwAAgHMwvl+oYkJ9VFJepYcXbVF1NeNxiXIJAABwTuzsLJo1LlKujvZam5SrBetTzY7UIFAu\n",
              "AQAAzlGIr7seHVEzHp+5bJdSc4tNTmQ+yiUAAMB5uCk2RLHhPjpaUaWHGI9TLgEAAM6HnZ1Fs8ZG\n",
              "yc3JXhuS8/Te2hSzI5mKcgkAAHCegnzcNOWyrpKk577ZpeSc5jsep1wCAADYwA0xwerfwVelFdV6\n",
              "aGGCqprpeJxyCQAAYAN2dhY9d3Wk3J3stTE1X++uSTY7kikolwAAADYS2NJNj1/RTZI069vd2nfo\n",
              "iMmJ6h/lEgAAwIau6x2kuI5+Kqus1oPNcDxOuQQAALAhi6VmPO7p7KBNaYc1Nz7J7Ej1inIJAABg\n",
              "Y21buGrqsfH4i9/vUWJ2kcmJ6g/lEgAAoA6M6xWoQZ39VV5ZrckLt6iyqtrsSPWCcgkAAFAHLBaL\n",
              "nh0TKU8XByWkH9acZjIep1wCAADUkdbeLnriyu6SpFe+36vdB5r+eJxyCQAAUIeuvrCdhnRppfKq\n",
              "mrPHK5r4eJxyCQAAUIcsFotmjImQt6ujtu4v0Fs/7TM7Up2iXAIAANSxAC8XTRtZMx6f/cNe7cwq\n",
              "NDlR3aFcAgAA1INR0W11SbcAVVQZmvxp0x2PUy4BAADqgcVi0TNX9VALN0ftyCrUf1Ymmh2pTlAu\n",
              "AQAA6kkrTxdNH9VDkvT6j4nanllgciLbo1wCAADUoysj22hEj9aqrK4Zj5dXNq3xOOUSAACgHlks\n",
              "Fj01uod83J2060CRXv9xr9mRbIpyCQAAUM/8PJz11LHx+H9W7dPWjKYzHqdcAgAAmODyyDa6PLKN\n",
              "qqoNTV64WWWVVWZHsgnKJQAAgEmeGtVDfh5O2nPwiF79oWmMxymXAAAAJvFxd9LToyMkSW+s2qeE\n",
              "9MPmBrIByiUAAICJhvdorZFRbVVtSJMXJqi0onGPxymXAAAAJps2srv8PJyVmH1EL6/YY3ac80K5\n",
              "BAAAMFlLdyfNuKrm7PG3f07S72n5Jic6d5RLAACABuDS7q015oJ2qjakBxvxeJxyCQAA0EA8cWV3\n",
              "tfJ0VtKhYr343W6z45wTyiUAAEAD4e3mqGevrjl7fO7qZG1MyTM50dmjXAIAADQgF3cJ0NiegTKO\n",
              "jcePljeu8TjlEgAAoIGZekU3tfZyUUpuiWZ927jG45RLAACABsbb9c/x+Lu/JGt9Uq7Jic4c5RIA\n",
              "AKABGtS5la7tFSTDkB5atEUl5ZVmRzojlEsAAIAG6l9XdFVbbxel5ZXoueW7zI5zRiiXAAAADZSX\n",
              "i6OeGxspSXpvbarW7mv443HKJQAAQAMW19Ff1/cJliQ9tChBxWUNezxOuQQAAGjgHrusq9q1cFVG\n",
              "/lHNXL7T7DinZdNyuXfvXvXr10+dOnVS7969tX37dltuHgAAoFnycHbQ88fG4wvWpWn13hyTE52a\n",
              "Tcvl7bffrttuu0179uzRI488ovHjx9ty8wAAAM1W/w5+uik2RJL0yOItKiqtMDnRydmsXGZnZ2vj\n",
              "xo268cYbJUlXX3210tPTlZiYaKuXAAAAaNYeHdFFQT6u2n/4qGYsa5hnj9usXKanp6tNmzZycHCQ\n",
              "JFksFgUHBystLe2E55aVlamwsLDWo6qqcd3aCAAAoL65Ozto1tgoSdL/NqTp5z2HTE50IlNO6Jk5\n",
              "c6a8vb1rPTZs2GBGFAAAgEYlNtxX4/uFSpLe+nmfuWFOwmblMigoSFlZWaqsrDk93jAMpaWlKTg4\n",
              "+ITnTpkyRQUFBbUeMTExtooCAADQpD08vLMeuKST5t7c2+woJ7BZuWzVqpUuvPBCLViwQJK0ePFi\n",
              "BQYGqkOHDic819nZWV5eXrUe9vb2tooCAADQpLk5Oei+IR3l6tTw+pODLTf21ltvafz48ZoxY4a8\n",
              "vLz07rvv2nLzAAAAaOBsWi47d+6stWvX2nKTAAAAaES4Qw8AAABshnIJAAAAm6FcAgAAwGYolwAA\n",
              "ALAZyiUAAABshnIJAAAAm6FcAgAAwGYolwAAALAZyiUAAABsxmIYhmF2CEkaM2aMQkND6+W1qqqq\n",
              "tGHDBsXExHBP83rE+24O3ndz8L6bg/fdHLzv5jDjfQ8JCdE//vGP0z6nwZTL+lRYWChvb28VFBTI\n",
              "y8vL7DjNBu+7OXjfzcH7bg7ed3Pwvpujob7vjMUBAABgM5RLAAAA2AzlEgAAADbTLMuls7Oznnji\n",
              "CTk7O5sdpVnhfTcH77s5eN/NwftuDt53czTU971ZntADAACAutEs91wCAACgblAuAQAAYDOUSwCn\n",
              "tXfvXi1YsMDsGACAs5CRkaE5c+bIjKMfG225DA0N1ebNmyVJpaWlGjVqlMaNG6dbb71VK1eu/Mv1\n",
              "Bw0apM8//7xuQwLnITQ0VJ07d1Z0dLS6deum//znP/WeobS0VLfffrtiYmLq/bXRdEybNk0TJ060\n",
              "/nv16tWyWCxatWqVddkdd9yhqVOnmpAOqF+n6i/l5eVnvI1Vq1YpOjr6lF9PT0/XfffdpxEjRshi\n",
              "sZxn4rPnUO+vaGNFRUUaOXKkOnbsqDfffFN2do22LwMn+OSTTxQdHa3U1FRFRkYqLi5OkZGR9fb6\n",
              "27Zt08yZM9WpU6d6e000PYMHD9att95q/ffKlSvVp08frVq1SoMGDbIue/PNN89oe5WVlXJwaPS/\n",
              "vtDMna6/nO9nPCgoSEuWLLFFzHPSqJtYbm6uLr74YvXp00dz5syRnZ1drT2SRUVFmjRpkmJiYhQZ\n",
              "GanbbrvtpH8ZFBQUaOLEierRo4eioqKsPwQrKir06KOPKiYmRtHR0brmmmuUn59fn98iIKnmXq6d\n",
              "O3fWrl27NGbMGEVERKhHjx566623JEmbN29WdHS09eHl5aVp06ZJkiwWi2bMmKGYmBiFhYXp3Xff\n",
              "tW73wQcfVO/evRUdHa2BAwdq9+7d1q9ZLBZ99913uvfee09YDzgbsbGxyszMVEZGhqSavS7//ve/\n",
              "rXsus7KylJaWprVr11o/j71799batWut2wgNDdUjjzyimJgY/f3vf9fevXvVv39/RUVFKSIiQo8/\n",
              "/rgkaeTIkdb/DkJDQxUWFiZJ+uijj9SnTx9dcMEFioqK0ldffSVJ2rNnj/WPJ8MwFBAQoMcee0yS\n",
              "9PPPP+viiy8+7frAuThVf7nvvvvUt29fXXrppaqsrNSwYcPUq1cvde/eXddff72Ki4tP2FZhYaEu\n",
              "vfRSTZ8+XZL0wQcfKDIyUpGRkbr88su1f/9+SVK/fv30yy+/SJIefvhhtWvXzrqN8PBwpaWl2e4b\n",
              "NBqpkJAQw9fX13j00UdrLb/ooouMzz77zDAMw5g0aZLx3nvvGYZhGNXV1caECROM559//oTnjR8/\n",
              "3rjzzjuNqqoqwzAMIzs72zAMw3jmmWeM6dOnW7c9ffp046677qrLbwuwCgkJMTZt2mQYhmFs2bLF\n",
              "8PT0NMaMGWP9zB88eNAIDAw01q5dW2u9H3/80Wjfvr2RkZFhGIZhSDJeeOEFwzAMY+fOnYaHh4dR\n",
              "UVFhGMafn3XDMIz//e9/xrBhw6z/Pt16wNkaMmSI8f777xulpaVGWFiYYRiG0b59e+Po0aPGhx9+\n",
              "aAwePLjW53Ht2rVG586drf8OCQkxJkyYYFRXVxuGYRj33XefMWPGDOvXc3Nza71eUVGRceGFF1p/\n",
              "B+Tk5FjXTU5ONgICAozS0lLDMAwjODjYSE1NNTZv3mzExsYaMTExhmEYxuOPP24888wzf7k+cDZO\n",
              "11+GDRtmlJeXG4ZR01tycnKs//uOO+4wZs6caRiGYaxcudKIiooy0tLSan3Ot27dagQEBFh//j/9\n",
              "9NPG8OHDDcMwjKlTpxrTpk0zDMMwevbsacTExBjbt283EhMTjY4dO9r0e2zUc4XLL79cixYt0l13\n",
              "3aWgoKATvv75559r7dq1eumllyRJR48elb29/QnPW7p0qdavX2/dJe3v729dv6CgQIsXL5YklZeX\n",
              "KzQ0tI6+G+BE1157rVxdXeXm5qZ33nlHt99+u1588UVJUqtWrTRmzBitWLFCsbGxkmrG2LfccouW\n",
              "Ll1a66/SG264QZLUpUsXOTg46MCBAwoMDNT333+v1157TUVFRaqurlZeXl6t1z/VesDZGjx4sFat\n",
              "WqWQkBDrMbyxsbFau3atVq1apcGDB2vTpk165plnlJubKwcHB+3evVtHjx6Vq6urJGn8+PHW48cG\n",
              "Dhyohx56SEeOHNFFF12koUOHWl+rsrJS48aN01VXXaWbb75ZkpScnKwbbrhBGRkZcnBwUF5enpKT\n",
              "k9WlSxcNGTJEK1asUH5+vm666SbNmTNHhw8f1ooVK/TKK6/85frA2TpVf7nxxhvl6OgoqWZP+ssv\n",
              "v6yvv/5alZWVKigoUL9+/azPPXjwoAYOHKi5c+dqyJAhkmoOLxk+fLj15/9dd92l6dOnq6qqSkOH\n",
              "DtXjjz+uu+66Sw4ODho3bpxWrFghZ2dn6/q20qjL5T//+U9FRUVp0KBBWrlypYKDg2t93TAMLV68\n",
              "+JyPFzMMQ6+99pouvfRSW8QFztofx1z+4fbbb6/19eMP1M7MzNTo0aP17rvvqkePHrWe5+LiYv3f\n",
              "9vb2qqysVFpamu655x79+uuvat++vbZs2aKBAwf+5XrAuRg8eLDmzZun4OBg63GWF110kVauXKmV\n",
              "K1dq7ty5uvzyy7Vy5Ur17t1bhYWF8vb2VllZmbVcenh4WLd39dVXq1+/fvr+++/1+uuv65VXXtGy\n",
              "Zcsk1ZwcFBgYaB2VS9J1112nZ599VmPHjpUk+fj4qLS0VJI0dOhQLV26VPn5+Zo9e7b27t2rzz77\n",
              "THv37lWvXr3+cn3gbJ2qvxz/Gf/oo4/0448/6qeffpKXl5deffVV/fjjj9avt2jRQh06dNDSpUt1\n",
              "8cUXn/TEneOX9e3bV9u2bdMXX3yhiy++WEOHDtXUqVPl7Oysa6+91qbfX6M+5lKSHnjgAd17770a\n",
              "NGiQUlNTa31t9OjReu6556y/EPPz85WYmHjCNkaOHKkXXnhB1dXVkqRDhw5Z13/55ZdVUlIiSSop\n",
              "KdH27dvr8tsBTmvo0KF6++23JdV8TpcsWaJLLrlERUVFuvzyyzVt2jQNHjz4jLZVUFAgR0dHtWnT\n",
              "RoZh6PXXX6/L6GjmevfurezsbH344Ye1yuXHH3+srKwsRUdHq7y83PpL9rXXXjvt9vbu3auAgADd\n",
              "fPPNev7557Vu3TpJ0vTp05WZmak33nij1vPz8/Otx18uWLCg1vHzQ4YM0Q8//KCUlBR16tRJQ4cO\n",
              "1bRp0zRgwADrtOt06wPn4nT9Rar5zPn5+cnLy0tFRUWaP39+ra87OztryZIlyszM1KRJk1RdXa3B\n",
              "gwfrm2++UWZmpiTpzTff1JAhQ2Rvby9HR0fFxsbqqaee0tChQxUZGakdO3Zo1apV1mOLbaXRl0tJ\n",
              "uv/++3X//ffroosuUnJysnX5yy+/LFdXV0VHRysyMlJDhgxRSkrKCeu//PLLKisrU0REhKKjo60H\n",
              "cz/yyCPq3bu3+vTpo8jISMXGxlovHwCY4dVXX9XOnTsVERGhwYMH61//+pf69OmjJUuWaNeuXZo1\n",
              "a5b1ZIa/OvM2IiJC1113nbp3767evXufsOcfsCVHR0cNGDBARUVF1lFyp06dVFRUpAEDBsjb21tP\n",
              "P/20YmJi1LNnTzk5OZ12e4sWLVJERIQuuOACXXvttdbP+xNPPKF9+/apV69eio6O1mWXXSZJmj17\n",
              "tsaOHasLLrhAmzZtqvV5DwgIUEBAgPr27SuppvRmZmbWGhWebn3gXJ2qv0jSzTffrJKSEnXu3Fkj\n",
              "RoxQXFzcCes7Ojrqo48+UlVVlW644QZ16dJFs2bN0vDhwxUZGan4+HjrDgmpZgdFdna2+vfvL4vF\n",
              "opiYGAUHB8vHx8em3xf3FgcAAIDNNIk9lwAAAGgYKJcAAACwGcolAAAAbIZyCQAAAJuhXAIAAMBm\n",
              "KJcAAACwGcolAAAAbIZyCQAAAJuhXAIAAMBmKJcAAACwGcolAAAAbOb/ALCT5sIaIefkAAAAAElF\n",
              "TkSuQmCC\n",
              "\">\n",
              "      </div>\n",
              "      <script type=\"text/javascript\">\n",
              "        (() => {\n",
              "          const chartElement = document.getElementById(\"chart-54d01b16-c2ea-4e55-aca1-a7c4f43ee64a\");\n",
              "          async function getCodeForChartHandler(event) {\n",
              "            const chartCodeResponse =  await google.colab.kernel.invokeFunction(\n",
              "                'getCodeForChart', [\"chart-54d01b16-c2ea-4e55-aca1-a7c4f43ee64a\"], {});\n",
              "            const responseJson = chartCodeResponse.data['application/json'];\n",
              "            await google.colab.notebook.addCell(responseJson.code, 'code');\n",
              "          }\n",
              "          chartElement.onclick = getCodeForChartHandler;\n",
              "        })();\n",
              "      </script>\n",
              "      <style>\n",
              "        .colab-quickchart-chart-with-code  {\n",
              "            display: block;\n",
              "            float: left;\n",
              "            border: 1px solid transparent;\n",
              "        }\n",
              "\n",
              "        .colab-quickchart-chart-with-code:hover {\n",
              "            cursor: pointer;\n",
              "            border: 1px solid #aaa;\n",
              "        }\n",
              "      </style>"
            ]
          },
          "metadata": {}
        }
      ]
    },
    {
      "cell_type": "code",
      "source": [
        "from matplotlib import pyplot as plt\n",
        "data['product a'].plot(kind='hist', bins=20, title='product a')\n",
        "plt.gca().spines[['top', 'right',]].set_visible(False)"
      ],
      "metadata": {
        "colab": {
          "base_uri": "https://localhost:8080/",
          "height": 452
        },
        "id": "Dcu9b9Q-5y9Y",
        "outputId": "d95d7719-eb83-4c77-8629-d8d0e0834320"
      },
      "execution_count": 127,
      "outputs": [
        {
          "output_type": "display_data",
          "data": {
            "text/plain": [
              "<Figure size 640x480 with 1 Axes>"
            ],
            "image/png": "[encoded data removed]"
          },
          "metadata": {}
        }
      ]
    },
    {
      "cell_type": "code",
      "source": [
        "data.loc[\"Warszawa\"]>10"
      ],
      "metadata": {
        "colab": {
          "base_uri": "https://localhost:8080/",
          "height": 178
        },
        "id": "0Zo3rlEX55jQ",
        "outputId": "00ae8897-b5b6-4363-daf7-c63778c3c489"
      },
      "execution_count": 128,
      "outputs": [
        {
          "output_type": "execute_result",
          "data": {
            "text/plain": [
              "product a    False\n",
              "product b     True\n",
              "product c    False\n",
              "Name: Warszawa, dtype: bool"
            ],
            "text/html": [
              "<div>\n",
              "<style scoped>\n",
              "    .dataframe tbody tr th:only-of-type {\n",
              "        vertical-align: middle;\n",
              "    }\n",
              "\n",
              "    .dataframe tbody tr th {\n",
              "        vertical-align: top;\n",
              "    }\n",
              "\n",
              "    .dataframe thead th {\n",
              "        text-align: right;\n",
              "    }\n",
              "</style>\n",
              "<table border=\"1\" class=\"dataframe\">\n",
              "  <thead>\n",
              "    <tr style=\"text-align: right;\">\n",
              "      <th></th>\n",
              "      <th>Warszawa</th>\n",
              "    </tr>\n",
              "  </thead>\n",
              "  <tbody>\n",
              "    <tr>\n",
              "      <th>product a</th>\n",
              "      <td>False</td>\n",
              "    </tr>\n",
              "    <tr>\n",
              "      <th>product b</th>\n",
              "      <td>True</td>\n",
              "    </tr>\n",
              "    <tr>\n",
              "      <th>product c</th>\n",
              "      <td>False</td>\n",
              "    </tr>\n",
              "  </tbody>\n",
              "</table>\n",
              "</div><br><label><b>dtype:</b> bool</label>"
            ]
          },
          "metadata": {},
          "execution_count": 128
        }
      ]
    },
    {
      "cell_type": "code",
      "source": [
        "df = pd.read_csv('/content/AAPL_stock_price_example.csv')"
      ],
      "metadata": {
        "id": "5Y1Shrhh6JH4"
      },
      "execution_count": 129,
      "outputs": []
    },
    {
      "cell_type": "code",
      "source": [
        "df"
      ],
      "metadata": {
        "colab": {
          "base_uri": "https://localhost:8080/",
          "height": 423
        },
        "id": "JqUkpQ9K6OwI",
        "outputId": "18b72e2e-c4f6-4112-f84d-d3b7a3e6640b"
      },
      "execution_count": 130,
      "outputs": [
        {
          "output_type": "execute_result",
          "data": {
            "text/plain": [
              "           Date       Close\n",
              "0    2019-01-02  157.919998\n",
              "1    2019-01-03  142.190002\n",
              "2    2019-01-04  148.259995\n",
              "3    2019-01-07  147.929993\n",
              "4    2019-01-08  150.750000\n",
              "..          ...         ...\n",
              "224  2019-11-20  263.190002\n",
              "225  2019-11-21  262.010010\n",
              "226  2019-11-22  261.779999\n",
              "227  2019-11-25  266.369995\n",
              "228  2019-11-26  264.290009\n",
              "\n",
              "[229 rows x 2 columns]"
            ],
            "text/html": [
              "\n",
              "  <div id=\"df-f4b38aee-7df7-4860-9f08-b1ebe6baf371\" class=\"colab-df-container\">\n",
              "    <div>\n",
              "<style scoped>\n",
              "    .dataframe tbody tr th:only-of-type {\n",
              "        vertical-align: middle;\n",
              "    }\n",
              "\n",
              "    .dataframe tbody tr th {\n",
              "        vertical-align: top;\n",
              "    }\n",
              "\n",
              "    .dataframe thead th {\n",
              "        text-align: right;\n",
              "    }\n",
              "</style>\n",
              "<table border=\"1\" class=\"dataframe\">\n",
              "  <thead>\n",
              "    <tr style=\"text-align: right;\">\n",
              "      <th></th>\n",
              "      <th>Date</th>\n",
              "      <th>Close</th>\n",
              "    </tr>\n",
              "  </thead>\n",
              "  <tbody>\n",
              "    <tr>\n",
              "      <th>0</th>\n",
              "      <td>2019-01-02</td>\n",
              "      <td>157.919998</td>\n",
              "    </tr>\n",
              "    <tr>\n",
              "      <th>1</th>\n",
              "      <td>2019-01-03</td>\n",
              "      <td>142.190002</td>\n",
              "    </tr>\n",
              "    <tr>\n",
              "      <th>2</th>\n",
              "      <td>2019-01-04</td>\n",
              "      <td>148.259995</td>\n",
              "    </tr>\n",
              "    <tr>\n",
              "      <th>3</th>\n",
              "      <td>2019-01-07</td>\n",
              "      <td>147.929993</td>\n",
              "    </tr>\n",
              "    <tr>\n",
              "      <th>4</th>\n",
              "      <td>2019-01-08</td>\n",
              "      <td>150.750000</td>\n",
              "    </tr>\n",
              "    <tr>\n",
              "      <th>...</th>\n",
              "      <td>...</td>\n",
              "      <td>...</td>\n",
              "    </tr>\n",
              "    <tr>\n",
              "      <th>224</th>\n",
              "      <td>2019-11-20</td>\n",
              "      <td>263.190002</td>\n",
              "    </tr>\n",
              "    <tr>\n",
              "      <th>225</th>\n",
              "      <td>2019-11-21</td>\n",
              "      <td>262.010010</td>\n",
              "    </tr>\n",
              "    <tr>\n",
              "      <th>226</th>\n",
              "      <td>2019-11-22</td>\n",
              "      <td>261.779999</td>\n",
              "    </tr>\n",
              "    <tr>\n",
              "      <th>227</th>\n",
              "      <td>2019-11-25</td>\n",
              "      <td>266.369995</td>\n",
              "    </tr>\n",
              "    <tr>\n",
              "      <th>228</th>\n",
              "      <td>2019-11-26</td>\n",
              "      <td>264.290009</td>\n",
              "    </tr>\n",
              "  </tbody>\n",
              "</table>\n",
              "<p>229 rows × 2 columns</p>\n",
              "</div>\n",
              "    <div class=\"colab-df-buttons\">\n",
              "\n",
              "  <div class=\"colab-df-container\">\n",
              "    <button class=\"colab-df-convert\" onclick=\"convertToInteractive('df-f4b38aee-7df7-4860-9f08-b1ebe6baf371')\"\n",
              "            title=\"Convert this dataframe to an interactive table.\"\n",
              "            style=\"display:none;\">\n",
              "\n",
              "  <svg xmlns=\"http://www.w3.org/2000/svg\" height=\"24px\" viewBox=\"0 -960 960 960\">\n",
              "    <path d=\"M120-120v-720h720v720H120Zm60-500h600v-160H180v160Zm220 220h160v-160H400v160Zm0 220h160v-160H400v160ZM180-400h160v-160H180v160Zm440 0h160v-160H620v160ZM180-180h160v-160H180v160Zm440 0h160v-160H620v160Z\"/>\n",
              "  </svg>\n",
              "    </button>\n",
              "\n",
              "  <style>\n",
              "    .colab-df-container {\n",
              "      display:flex;\n",
              "      gap: 12px;\n",
              "    }\n",
              "\n",
              "    .colab-df-convert {\n",
              "      background-color: #E8F0FE;\n",
              "      border: none;\n",
              "      border-radius: 50%;\n",
              "      cursor: pointer;\n",
              "      display: none;\n",
              "      fill: #1967D2;\n",
              "      height: 32px;\n",
              "      padding: 0 0 0 0;\n",
              "      width: 32px;\n",
              "    }\n",
              "\n",
              "    .colab-df-convert:hover {\n",
              "      background-color: #E2EBFA;\n",
              "      box-shadow: 0px 1px 2px rgba(60, 64, 67, 0.3), 0px 1px 3px 1px rgba(60, 64, 67, 0.15);\n",
              "      fill: #174EA6;\n",
              "    }\n",
              "\n",
              "    .colab-df-buttons div {\n",
              "      margin-bottom: 4px;\n",
              "    }\n",
              "\n",
              "    [theme=dark] .colab-df-convert {\n",
              "      background-color: #3B4455;\n",
              "      fill: #D2E3FC;\n",
              "    }\n",
              "\n",
              "    [theme=dark] .colab-df-convert:hover {\n",
              "      background-color: #434B5C;\n",
              "      box-shadow: 0px 1px 3px 1px rgba(0, 0, 0, 0.15);\n",
              "      filter: drop-shadow(0px 1px 2px rgba(0, 0, 0, 0.3));\n",
              "      fill: #FFFFFF;\n",
              "    }\n",
              "  </style>\n",
              "\n",
              "    <script>\n",
              "      const buttonEl =\n",
              "        document.querySelector('#df-f4b38aee-7df7-4860-9f08-b1ebe6baf371 button.colab-df-convert');\n",
              "      buttonEl.style.display =\n",
              "        google.colab.kernel.accessAllowed ? 'block' : 'none';\n",
              "\n",
              "      async function convertToInteractive(key) {\n",
              "        const element = document.querySelector('#df-f4b38aee-7df7-4860-9f08-b1ebe6baf371');\n",
              "        const dataTable =\n",
              "          await google.colab.kernel.invokeFunction('convertToInteractive',\n",
              "                                                    [key], {});\n",
              "        if (!dataTable) return;\n",
              "\n",
              "        const docLinkHtml = 'Like what you see? Visit the ' +\n",
              "          '<a target=\"_blank\" href=https://colab.research.google.com/notebooks/data_table.ipynb>data table notebook</a>'\n",
              "          + ' to learn more about interactive tables.';\n",
              "        element.innerHTML = '';\n",
              "        dataTable['output_type'] = 'display_data';\n",
              "        await google.colab.output.renderOutput(dataTable, element);\n",
              "        const docLink = document.createElement('div');\n",
              "        docLink.innerHTML = docLinkHtml;\n",
              "        element.appendChild(docLink);\n",
              "      }\n",
              "    </script>\n",
              "  </div>\n",
              "\n",
              "\n",
              "    <div id=\"df-b45f5a26-211c-494a-b423-5a1a822e00bc\">\n",
              "      <button class=\"colab-df-quickchart\" onclick=\"quickchart('df-b45f5a26-211c-494a-b423-5a1a822e00bc')\"\n",
              "                title=\"Suggest charts\"\n",
              "                style=\"display:none;\">\n",
              "\n",
              "<svg xmlns=\"http://www.w3.org/2000/svg\" height=\"24px\"viewBox=\"0 0 24 24\"\n",
              "     width=\"24px\">\n",
              "    <g>\n",
              "        <path d=\"M19 3H5c-1.1 0-2 .9-2 2v14c0 1.1.9 2 2 2h14c1.1 0 2-.9 2-2V5c0-1.1-.9-2-2-2zM9 17H7v-7h2v7zm4 0h-2V7h2v10zm4 0h-2v-4h2v4z\"/>\n",
              "    </g>\n",
              "</svg>\n",
              "      </button>\n",
              "\n",
              "<style>\n",
              "  .colab-df-quickchart {\n",
              "      --bg-color: #E8F0FE;\n",
              "      --fill-color: #1967D2;\n",
              "      --hover-bg-color: #E2EBFA;\n",
              "      --hover-fill-color: #174EA6;\n",
              "      --disabled-fill-color: #AAA;\n",
              "      --disabled-bg-color: #DDD;\n",
              "  }\n",
              "\n",
              "  [theme=dark] .colab-df-quickchart {\n",
              "      --bg-color: #3B4455;\n",
              "      --fill-color: #D2E3FC;\n",
              "      --hover-bg-color: #434B5C;\n",
              "      --hover-fill-color: #FFFFFF;\n",
              "      --disabled-bg-color: #3B4455;\n",
              "      --disabled-fill-color: #666;\n",
              "  }\n",
              "\n",
              "  .colab-df-quickchart {\n",
              "    background-color: var(--bg-color);\n",
              "    border: none;\n",
              "    border-radius: 50%;\n",
              "    cursor: pointer;\n",
              "    display: none;\n",
              "    fill: var(--fill-color);\n",
              "    height: 32px;\n",
              "    padding: 0;\n",
              "    width: 32px;\n",
              "  }\n",
              "\n",
              "  .colab-df-quickchart:hover {\n",
              "    background-color: var(--hover-bg-color);\n",
              "    box-shadow: 0 1px 2px rgba(60, 64, 67, 0.3), 0 1px 3px 1px rgba(60, 64, 67, 0.15);\n",
              "    fill: var(--button-hover-fill-color);\n",
              "  }\n",
              "\n",
              "  .colab-df-quickchart-complete:disabled,\n",
              "  .colab-df-quickchart-complete:disabled:hover {\n",
              "    background-color: var(--disabled-bg-color);\n",
              "    fill: var(--disabled-fill-color);\n",
              "    box-shadow: none;\n",
              "  }\n",
              "\n",
              "  .colab-df-spinner {\n",
              "    border: 2px solid var(--fill-color);\n",
              "    border-color: transparent;\n",
              "    border-bottom-color: var(--fill-color);\n",
              "    animation:\n",
              "      spin 1s steps(1) infinite;\n",
              "  }\n",
              "\n",
              "  @keyframes spin {\n",
              "    0% {\n",
              "      border-color: transparent;\n",
              "      border-bottom-color: var(--fill-color);\n",
              "      border-left-color: var(--fill-color);\n",
              "    }\n",
              "    20% {\n",
              "      border-color: transparent;\n",
              "      border-left-color: var(--fill-color);\n",
              "      border-top-color: var(--fill-color);\n",
              "    }\n",
              "    30% {\n",
              "      border-color: transparent;\n",
              "      border-left-color: var(--fill-color);\n",
              "      border-top-color: var(--fill-color);\n",
              "      border-right-color: var(--fill-color);\n",
              "    }\n",
              "    40% {\n",
              "      border-color: transparent;\n",
              "      border-right-color: var(--fill-color);\n",
              "      border-top-color: var(--fill-color);\n",
              "    }\n",
              "    60% {\n",
              "      border-color: transparent;\n",
              "      border-right-color: var(--fill-color);\n",
              "    }\n",
              "    80% {\n",
              "      border-color: transparent;\n",
              "      border-right-color: var(--fill-color);\n",
              "      border-bottom-color: var(--fill-color);\n",
              "    }\n",
              "    90% {\n",
              "      border-color: transparent;\n",
              "      border-bottom-color: var(--fill-color);\n",
              "    }\n",
              "  }\n",
              "</style>\n",
              "\n",
              "      <script>\n",
              "        async function quickchart(key) {\n",
              "          const quickchartButtonEl =\n",
              "            document.querySelector('#' + key + ' button');\n",
              "          quickchartButtonEl.disabled = true;  // To prevent multiple clicks.\n",
              "          quickchartButtonEl.classList.add('colab-df-spinner');\n",
              "          try {\n",
              "            const charts = await google.colab.kernel.invokeFunction(\n",
              "                'suggestCharts', [key], {});\n",
              "          } catch (error) {\n",
              "            console.error('Error during call to suggestCharts:', error);\n",
              "          }\n",
              "          quickchartButtonEl.classList.remove('colab-df-spinner');\n",
              "          quickchartButtonEl.classList.add('colab-df-quickchart-complete');\n",
              "        }\n",
              "        (() => {\n",
              "          let quickchartButtonEl =\n",
              "            document.querySelector('#df-b45f5a26-211c-494a-b423-5a1a822e00bc button');\n",
              "          quickchartButtonEl.style.display =\n",
              "            google.colab.kernel.accessAllowed ? 'block' : 'none';\n",
              "        })();\n",
              "      </script>\n",
              "    </div>\n",
              "\n",
              "  <div id=\"id_a760219a-8fa8-4e5e-bb68-15b0a2350a9b\">\n",
              "    <style>\n",
              "      .colab-df-generate {\n",
              "        background-color: #E8F0FE;\n",
              "        border: none;\n",
              "        border-radius: 50%;\n",
              "        cursor: pointer;\n",
              "        display: none;\n",
              "        fill: #1967D2;\n",
              "        height: 32px;\n",
              "        padding: 0 0 0 0;\n",
              "        width: 32px;\n",
              "      }\n",
              "\n",
              "      .colab-df-generate:hover {\n",
              "        background-color: #E2EBFA;\n",
              "        box-shadow: 0px 1px 2px rgba(60, 64, 67, 0.3), 0px 1px 3px 1px rgba(60, 64, 67, 0.15);\n",
              "        fill: #174EA6;\n",
              "      }\n",
              "\n",
              "      [theme=dark] .colab-df-generate {\n",
              "        background-color: #3B4455;\n",
              "        fill: #D2E3FC;\n",
              "      }\n",
              "\n",
              "      [theme=dark] .colab-df-generate:hover {\n",
              "        background-color: #434B5C;\n",
              "        box-shadow: 0px 1px 3px 1px rgba(0, 0, 0, 0.15);\n",
              "        filter: drop-shadow(0px 1px 2px rgba(0, 0, 0, 0.3));\n",
              "        fill: #FFFFFF;\n",
              "      }\n",
              "    </style>\n",
              "    <button class=\"colab-df-generate\" onclick=\"generateWithVariable('df')\"\n",
              "            title=\"Generate code using this dataframe.\"\n",
              "            style=\"display:none;\">\n",
              "\n",
              "  <svg xmlns=\"http://www.w3.org/2000/svg\" height=\"24px\"viewBox=\"0 0 24 24\"\n",
              "       width=\"24px\">\n",
              "    <path d=\"M7,19H8.4L18.45,9,17,7.55,7,17.6ZM5,21V16.75L18.45,3.32a2,2,0,0,1,2.83,0l1.4,1.43a1.91,1.91,0,0,1,.58,1.4,1.91,1.91,0,0,1-.58,1.4L9.25,21ZM18.45,9,17,7.55Zm-12,3A5.31,5.31,0,0,0,4.9,8.1,5.31,5.31,0,0,0,1,6.5,5.31,5.31,0,0,0,4.9,4.9,5.31,5.31,0,0,0,6.5,1,5.31,5.31,0,0,0,8.1,4.9,5.31,5.31,0,0,0,12,6.5,5.46,5.46,0,0,0,6.5,12Z\"/>\n",
              "  </svg>\n",
              "    </button>\n",
              "    <script>\n",
              "      (() => {\n",
              "      const buttonEl =\n",
              "        document.querySelector('#id_a760219a-8fa8-4e5e-bb68-15b0a2350a9b button.colab-df-generate');\n",
              "      buttonEl.style.display =\n",
              "        google.colab.kernel.accessAllowed ? 'block' : 'none';\n",
              "\n",
              "      buttonEl.onclick = () => {\n",
              "        google.colab.notebook.generateWithVariable('df');\n",
              "      }\n",
              "      })();\n",
              "    </script>\n",
              "  </div>\n",
              "\n",
              "    </div>\n",
              "  </div>\n"
            ],
            "application/vnd.google.colaboratory.intrinsic+json": {
              "type": "dataframe",
              "variable_name": "df",
              "summary": "{\n  \"name\": \"df\",\n  \"rows\": 229,\n  \"fields\": [\n    {\n      \"column\": \"Date\",\n      \"properties\": {\n        \"dtype\": \"object\",\n        \"num_unique_values\": 229,\n        \"samples\": [\n          \"2019-11-08\",\n          \"2019-04-08\",\n          \"2019-01-15\"\n        ],\n        \"semantic_type\": \"\",\n        \"description\": \"\"\n      }\n    },\n    {\n      \"column\": \"Close\",\n      \"properties\": {\n        \"dtype\": \"number\",\n        \"std\": 28.24696132445522,\n        \"min\": 142.190002,\n        \"max\": 267.100006,\n        \"num_unique_values\": 228,\n        \"samples\": [\n          260.140015,\n          200.100006,\n          153.070007\n        ],\n        \"semantic_type\": \"\",\n        \"description\": \"\"\n      }\n    }\n  ]\n}"
            }
          },
          "metadata": {},
          "execution_count": 130
        }
      ]
    },
    {
      "cell_type": "code",
      "source": [
        "df.describe()"
      ],
      "metadata": {
        "colab": {
          "base_uri": "https://localhost:8080/",
          "height": 300
        },
        "id": "kB1SyYpZ6iJo",
        "outputId": "de50c3a6-ba96-438e-f2e3-fc20f9f6479e"
      },
      "execution_count": 131,
      "outputs": [
        {
          "output_type": "execute_result",
          "data": {
            "text/plain": [
              "            Close\n",
              "count  229.000000\n",
              "mean   201.477598\n",
              "std     28.246961\n",
              "min    142.190002\n",
              "25%    182.539993\n",
              "50%    200.720001\n",
              "75%    213.279999\n",
              "max    267.100006"
            ],
            "text/html": [
              "\n",
              "  <div id=\"df-ea489251-5987-4fef-9b07-cf759b62ed17\" class=\"colab-df-container\">\n",
              "    <div>\n",
              "<style scoped>\n",
              "    .dataframe tbody tr th:only-of-type {\n",
              "        vertical-align: middle;\n",
              "    }\n",
              "\n",
              "    .dataframe tbody tr th {\n",
              "        vertical-align: top;\n",
              "    }\n",
              "\n",
              "    .dataframe thead th {\n",
              "        text-align: right;\n",
              "    }\n",
              "</style>\n",
              "<table border=\"1\" class=\"dataframe\">\n",
              "  <thead>\n",
              "    <tr style=\"text-align: right;\">\n",
              "      <th></th>\n",
              "      <th>Close</th>\n",
              "    </tr>\n",
              "  </thead>\n",
              "  <tbody>\n",
              "    <tr>\n",
              "      <th>count</th>\n",
              "      <td>229.000000</td>\n",
              "    </tr>\n",
              "    <tr>\n",
              "      <th>mean</th>\n",
              "      <td>201.477598</td>\n",
              "    </tr>\n",
              "    <tr>\n",
              "      <th>std</th>\n",
              "      <td>28.246961</td>\n",
              "    </tr>\n",
              "    <tr>\n",
              "      <th>min</th>\n",
              "      <td>142.190002</td>\n",
              "    </tr>\n",
              "    <tr>\n",
              "      <th>25%</th>\n",
              "      <td>182.539993</td>\n",
              "    </tr>\n",
              "    <tr>\n",
              "      <th>50%</th>\n",
              "      <td>200.720001</td>\n",
              "    </tr>\n",
              "    <tr>\n",
              "      <th>75%</th>\n",
              "      <td>213.279999</td>\n",
              "    </tr>\n",
              "    <tr>\n",
              "      <th>max</th>\n",
              "      <td>267.100006</td>\n",
              "    </tr>\n",
              "  </tbody>\n",
              "</table>\n",
              "</div>\n",
              "    <div class=\"colab-df-buttons\">\n",
              "\n",
              "  <div class=\"colab-df-container\">\n",
              "    <button class=\"colab-df-convert\" onclick=\"convertToInteractive('df-ea489251-5987-4fef-9b07-cf759b62ed17')\"\n",
              "            title=\"Convert this dataframe to an interactive table.\"\n",
              "            style=\"display:none;\">\n",
              "\n",
              "  <svg xmlns=\"http://www.w3.org/2000/svg\" height=\"24px\" viewBox=\"0 -960 960 960\">\n",
              "    <path d=\"M120-120v-720h720v720H120Zm60-500h600v-160H180v160Zm220 220h160v-160H400v160Zm0 220h160v-160H400v160ZM180-400h160v-160H180v160Zm440 0h160v-160H620v160ZM180-180h160v-160H180v160Zm440 0h160v-160H620v160Z\"/>\n",
              "  </svg>\n",
              "    </button>\n",
              "\n",
              "  <style>\n",
              "    .colab-df-container {\n",
              "      display:flex;\n",
              "      gap: 12px;\n",
              "    }\n",
              "\n",
              "    .colab-df-convert {\n",
              "      background-color: #E8F0FE;\n",
              "      border: none;\n",
              "      border-radius: 50%;\n",
              "      cursor: pointer;\n",
              "      display: none;\n",
              "      fill: #1967D2;\n",
              "      height: 32px;\n",
              "      padding: 0 0 0 0;\n",
              "      width: 32px;\n",
              "    }\n",
              "\n",
              "    .colab-df-convert:hover {\n",
              "      background-color: #E2EBFA;\n",
              "      box-shadow: 0px 1px 2px rgba(60, 64, 67, 0.3), 0px 1px 3px 1px rgba(60, 64, 67, 0.15);\n",
              "      fill: #174EA6;\n",
              "    }\n",
              "\n",
              "    .colab-df-buttons div {\n",
              "      margin-bottom: 4px;\n",
              "    }\n",
              "\n",
              "    [theme=dark] .colab-df-convert {\n",
              "      background-color: #3B4455;\n",
              "      fill: #D2E3FC;\n",
              "    }\n",
              "\n",
              "    [theme=dark] .colab-df-convert:hover {\n",
              "      background-color: #434B5C;\n",
              "      box-shadow: 0px 1px 3px 1px rgba(0, 0, 0, 0.15);\n",
              "      filter: drop-shadow(0px 1px 2px rgba(0, 0, 0, 0.3));\n",
              "      fill: #FFFFFF;\n",
              "    }\n",
              "  </style>\n",
              "\n",
              "    <script>\n",
              "      const buttonEl =\n",
              "        document.querySelector('#df-ea489251-5987-4fef-9b07-cf759b62ed17 button.colab-df-convert');\n",
              "      buttonEl.style.display =\n",
              "        google.colab.kernel.accessAllowed ? 'block' : 'none';\n",
              "\n",
              "      async function convertToInteractive(key) {\n",
              "        const element = document.querySelector('#df-ea489251-5987-4fef-9b07-cf759b62ed17');\n",
              "        const dataTable =\n",
              "          await google.colab.kernel.invokeFunction('convertToInteractive',\n",
              "                                                    [key], {});\n",
              "        if (!dataTable) return;\n",
              "\n",
              "        const docLinkHtml = 'Like what you see? Visit the ' +\n",
              "          '<a target=\"_blank\" href=https://colab.research.google.com/notebooks/data_table.ipynb>data table notebook</a>'\n",
              "          + ' to learn more about interactive tables.';\n",
              "        element.innerHTML = '';\n",
              "        dataTable['output_type'] = 'display_data';\n",
              "        await google.colab.output.renderOutput(dataTable, element);\n",
              "        const docLink = document.createElement('div');\n",
              "        docLink.innerHTML = docLinkHtml;\n",
              "        element.appendChild(docLink);\n",
              "      }\n",
              "    </script>\n",
              "  </div>\n",
              "\n",
              "\n",
              "    <div id=\"df-a88197be-f2af-4955-843b-bbe7f2e21104\">\n",
              "      <button class=\"colab-df-quickchart\" onclick=\"quickchart('df-a88197be-f2af-4955-843b-bbe7f2e21104')\"\n",
              "                title=\"Suggest charts\"\n",
              "                style=\"display:none;\">\n",
              "\n",
              "<svg xmlns=\"http://www.w3.org/2000/svg\" height=\"24px\"viewBox=\"0 0 24 24\"\n",
              "     width=\"24px\">\n",
              "    <g>\n",
              "        <path d=\"M19 3H5c-1.1 0-2 .9-2 2v14c0 1.1.9 2 2 2h14c1.1 0 2-.9 2-2V5c0-1.1-.9-2-2-2zM9 17H7v-7h2v7zm4 0h-2V7h2v10zm4 0h-2v-4h2v4z\"/>\n",
              "    </g>\n",
              "</svg>\n",
              "      </button>\n",
              "\n",
              "<style>\n",
              "  .colab-df-quickchart {\n",
              "      --bg-color: #E8F0FE;\n",
              "      --fill-color: #1967D2;\n",
              "      --hover-bg-color: #E2EBFA;\n",
              "      --hover-fill-color: #174EA6;\n",
              "      --disabled-fill-color: #AAA;\n",
              "      --disabled-bg-color: #DDD;\n",
              "  }\n",
              "\n",
              "  [theme=dark] .colab-df-quickchart {\n",
              "      --bg-color: #3B4455;\n",
              "      --fill-color: #D2E3FC;\n",
              "      --hover-bg-color: #434B5C;\n",
              "      --hover-fill-color: #FFFFFF;\n",
              "      --disabled-bg-color: #3B4455;\n",
              "      --disabled-fill-color: #666;\n",
              "  }\n",
              "\n",
              "  .colab-df-quickchart {\n",
              "    background-color: var(--bg-color);\n",
              "    border: none;\n",
              "    border-radius: 50%;\n",
              "    cursor: pointer;\n",
              "    display: none;\n",
              "    fill: var(--fill-color);\n",
              "    height: 32px;\n",
              "    padding: 0;\n",
              "    width: 32px;\n",
              "  }\n",
              "\n",
              "  .colab-df-quickchart:hover {\n",
              "    background-color: var(--hover-bg-color);\n",
              "    box-shadow: 0 1px 2px rgba(60, 64, 67, 0.3), 0 1px 3px 1px rgba(60, 64, 67, 0.15);\n",
              "    fill: var(--button-hover-fill-color);\n",
              "  }\n",
              "\n",
              "  .colab-df-quickchart-complete:disabled,\n",
              "  .colab-df-quickchart-complete:disabled:hover {\n",
              "    background-color: var(--disabled-bg-color);\n",
              "    fill: var(--disabled-fill-color);\n",
              "    box-shadow: none;\n",
              "  }\n",
              "\n",
              "  .colab-df-spinner {\n",
              "    border: 2px solid var(--fill-color);\n",
              "    border-color: transparent;\n",
              "    border-bottom-color: var(--fill-color);\n",
              "    animation:\n",
              "      spin 1s steps(1) infinite;\n",
              "  }\n",
              "\n",
              "  @keyframes spin {\n",
              "    0% {\n",
              "      border-color: transparent;\n",
              "      border-bottom-color: var(--fill-color);\n",
              "      border-left-color: var(--fill-color);\n",
              "    }\n",
              "    20% {\n",
              "      border-color: transparent;\n",
              "      border-left-color: var(--fill-color);\n",
              "      border-top-color: var(--fill-color);\n",
              "    }\n",
              "    30% {\n",
              "      border-color: transparent;\n",
              "      border-left-color: var(--fill-color);\n",
              "      border-top-color: var(--fill-color);\n",
              "      border-right-color: var(--fill-color);\n",
              "    }\n",
              "    40% {\n",
              "      border-color: transparent;\n",
              "      border-right-color: var(--fill-color);\n",
              "      border-top-color: var(--fill-color);\n",
              "    }\n",
              "    60% {\n",
              "      border-color: transparent;\n",
              "      border-right-color: var(--fill-color);\n",
              "    }\n",
              "    80% {\n",
              "      border-color: transparent;\n",
              "      border-right-color: var(--fill-color);\n",
              "      border-bottom-color: var(--fill-color);\n",
              "    }\n",
              "    90% {\n",
              "      border-color: transparent;\n",
              "      border-bottom-color: var(--fill-color);\n",
              "    }\n",
              "  }\n",
              "</style>\n",
              "\n",
              "      <script>\n",
              "        async function quickchart(key) {\n",
              "          const quickchartButtonEl =\n",
              "            document.querySelector('#' + key + ' button');\n",
              "          quickchartButtonEl.disabled = true;  // To prevent multiple clicks.\n",
              "          quickchartButtonEl.classList.add('colab-df-spinner');\n",
              "          try {\n",
              "            const charts = await google.colab.kernel.invokeFunction(\n",
              "                'suggestCharts', [key], {});\n",
              "          } catch (error) {\n",
              "            console.error('Error during call to suggestCharts:', error);\n",
              "          }\n",
              "          quickchartButtonEl.classList.remove('colab-df-spinner');\n",
              "          quickchartButtonEl.classList.add('colab-df-quickchart-complete');\n",
              "        }\n",
              "        (() => {\n",
              "          let quickchartButtonEl =\n",
              "            document.querySelector('#df-a88197be-f2af-4955-843b-bbe7f2e21104 button');\n",
              "          quickchartButtonEl.style.display =\n",
              "            google.colab.kernel.accessAllowed ? 'block' : 'none';\n",
              "        })();\n",
              "      </script>\n",
              "    </div>\n",
              "\n",
              "    </div>\n",
              "  </div>\n"
            ],
            "application/vnd.google.colaboratory.intrinsic+json": {
              "type": "dataframe",
              "summary": "{\n  \"name\": \"df\",\n  \"rows\": 8,\n  \"fields\": [\n    {\n      \"column\": \"Close\",\n      \"properties\": {\n        \"dtype\": \"number\",\n        \"std\": 72.08649715863824,\n        \"min\": 28.24696132445522,\n        \"max\": 267.100006,\n        \"num_unique_values\": 8,\n        \"samples\": [\n          201.4775984323144,\n          200.720001,\n          229.0\n        ],\n        \"semantic_type\": \"\",\n        \"description\": \"\"\n      }\n    }\n  ]\n}"
            }
          },
          "metadata": {},
          "execution_count": 131
        }
      ]
    },
    {
      "cell_type": "code",
      "source": [
        "!pip install openpyxl"
      ],
      "metadata": {
        "colab": {
          "base_uri": "https://localhost:8080/"
        },
        "id": "UycK6vBj7dUv",
        "outputId": "f6ad1ba6-db3d-40f5-f961-5f2618a3afeb"
      },
      "execution_count": 132,
      "outputs": [
        {
          "output_type": "stream",
          "name": "stdout",
          "text": [
            "Requirement already satisfied: openpyxl in /usr/local/lib/python3.11/dist-packages (3.1.5)\n",
            "Requirement already satisfied: et-xmlfile in /usr/local/lib/python3.11/dist-packages (from openpyxl) (2.0.0)\n"
          ]
        }
      ]
    },
    {
      "cell_type": "code",
      "source": [
        "import openpyxl"
      ],
      "metadata": {
        "id": "g2FnIWBb7ic4"
      },
      "execution_count": 133,
      "outputs": []
    },
    {
      "cell_type": "code",
      "source": [
        "df.to_excel('test_excel.xlsx', index=False)"
      ],
      "metadata": {
        "id": "9FbUHW3D7nAY"
      },
      "execution_count": 136,
      "outputs": []
    },
    {
      "cell_type": "code",
      "source": [
        "df = pd.read_csv('/content/evolution_of_data_analysis.csv', delimiter=\"|\")\n",
        "df.head()"
      ],
      "metadata": {
        "colab": {
          "base_uri": "https://localhost:8080/",
          "height": 625
        },
        "id": "slAidzraEzyG",
        "outputId": "53b50b1c-d47a-4506-edf4-b8d1cbeb3abd"
      },
      "execution_count": 140,
      "outputs": [
        {
          "output_type": "execute_result",
          "data": {
            "text/plain": [
              "   Year Decade             Milestone Title  \\\n",
              "0  1945  1940s                       ENIAC   \n",
              "1  1945  1940s    John von Neumann / array   \n",
              "2  1956  1950s             First Hard Disk   \n",
              "3  1958  1950s                       Modem   \n",
              "4  1961  1960s  John Tukey / data analysis   \n",
              "\n",
              "                                     Milestone Event  \\\n",
              "0  First electronic general-purpose computer = ENIAC   \n",
              "1  John von Neumann creates a merge sort algorith...   \n",
              "2                  The first computer hard disk used   \n",
              "3                                 The modem invented   \n",
              "4      Statistician John Tukey defined data analysis   \n",
              "\n",
              "                                       Why Important  \\\n",
              "0   Faster decisions using a computer and mathmatics   \n",
              "1  Arrays allow mathmatics| grouping and sorting ...   \n",
              "2  Storing data for reuse = reduces time to recre...   \n",
              "3  Communication between computers| foundation of...   \n",
              "4  Defined the process and procedures of collecti...   \n",
              "\n",
              "                                           Reference  \\\n",
              "0                https://en.wikipedia.org/wiki/ENIAC   \n",
              "1     https://en.wikipedia.org/wiki/John_von_Neumann   \n",
              "2             https://fiftiesweb.com/pop/inventions/   \n",
              "3             https://fiftiesweb.com/pop/inventions/   \n",
              "4  https://projecteuclid.org/download/pdf_1/eucli...   \n",
              "\n",
              "  People Process or Technology Tag  \n",
              "0                       Technology  \n",
              "1                           People  \n",
              "2                       Technology  \n",
              "3                       Technology  \n",
              "4                           People  "
            ],
            "text/html": [
              "\n",
              "  <div id=\"df-5c654afe-9a1b-409d-b681-a429b27e53e1\" class=\"colab-df-container\">\n",
              "    <div>\n",
              "<style scoped>\n",
              "    .dataframe tbody tr th:only-of-type {\n",
              "        vertical-align: middle;\n",
              "    }\n",
              "\n",
              "    .dataframe tbody tr th {\n",
              "        vertical-align: top;\n",
              "    }\n",
              "\n",
              "    .dataframe thead th {\n",
              "        text-align: right;\n",
              "    }\n",
              "</style>\n",
              "<table border=\"1\" class=\"dataframe\">\n",
              "  <thead>\n",
              "    <tr style=\"text-align: right;\">\n",
              "      <th></th>\n",
              "      <th>Year</th>\n",
              "      <th>Decade</th>\n",
              "      <th>Milestone Title</th>\n",
              "      <th>Milestone Event</th>\n",
              "      <th>Why Important</th>\n",
              "      <th>Reference</th>\n",
              "      <th>People Process or Technology Tag</th>\n",
              "    </tr>\n",
              "  </thead>\n",
              "  <tbody>\n",
              "    <tr>\n",
              "      <th>0</th>\n",
              "      <td>1945</td>\n",
              "      <td>1940s</td>\n",
              "      <td>ENIAC</td>\n",
              "      <td>First electronic general-purpose computer = ENIAC</td>\n",
              "      <td>Faster decisions using a computer and mathmatics</td>\n",
              "      <td>https://en.wikipedia.org/wiki/ENIAC</td>\n",
              "      <td>Technology</td>\n",
              "    </tr>\n",
              "    <tr>\n",
              "      <th>1</th>\n",
              "      <td>1945</td>\n",
              "      <td>1940s</td>\n",
              "      <td>John von Neumann / array</td>\n",
              "      <td>John von Neumann creates a merge sort algorith...</td>\n",
              "      <td>Arrays allow mathmatics| grouping and sorting ...</td>\n",
              "      <td>https://en.wikipedia.org/wiki/John_von_Neumann</td>\n",
              "      <td>People</td>\n",
              "    </tr>\n",
              "    <tr>\n",
              "      <th>2</th>\n",
              "      <td>1956</td>\n",
              "      <td>1950s</td>\n",
              "      <td>First Hard Disk</td>\n",
              "      <td>The first computer hard disk used</td>\n",
              "      <td>Storing data for reuse = reduces time to recre...</td>\n",
              "      <td>https://fiftiesweb.com/pop/inventions/</td>\n",
              "      <td>Technology</td>\n",
              "    </tr>\n",
              "    <tr>\n",
              "      <th>3</th>\n",
              "      <td>1958</td>\n",
              "      <td>1950s</td>\n",
              "      <td>Modem</td>\n",
              "      <td>The modem invented</td>\n",
              "      <td>Communication between computers| foundation of...</td>\n",
              "      <td>https://fiftiesweb.com/pop/inventions/</td>\n",
              "      <td>Technology</td>\n",
              "    </tr>\n",
              "    <tr>\n",
              "      <th>4</th>\n",
              "      <td>1961</td>\n",
              "      <td>1960s</td>\n",
              "      <td>John Tukey / data analysis</td>\n",
              "      <td>Statistician John Tukey defined data analysis</td>\n",
              "      <td>Defined the process and procedures of collecti...</td>\n",
              "      <td>https://projecteuclid.org/download/pdf_1/eucli...</td>\n",
              "      <td>People</td>\n",
              "    </tr>\n",
              "  </tbody>\n",
              "</table>\n",
              "</div>\n",
              "    <div class=\"colab-df-buttons\">\n",
              "\n",
              "  <div class=\"colab-df-container\">\n",
              "    <button class=\"colab-df-convert\" onclick=\"convertToInteractive('df-5c654afe-9a1b-409d-b681-a429b27e53e1')\"\n",
              "            title=\"Convert this dataframe to an interactive table.\"\n",
              "            style=\"display:none;\">\n",
              "\n",
              "  <svg xmlns=\"http://www.w3.org/2000/svg\" height=\"24px\" viewBox=\"0 -960 960 960\">\n",
              "    <path d=\"M120-120v-720h720v720H120Zm60-500h600v-160H180v160Zm220 220h160v-160H400v160Zm0 220h160v-160H400v160ZM180-400h160v-160H180v160Zm440 0h160v-160H620v160ZM180-180h160v-160H180v160Zm440 0h160v-160H620v160Z\"/>\n",
              "  </svg>\n",
              "    </button>\n",
              "\n",
              "  <style>\n",
              "    .colab-df-container {\n",
              "      display:flex;\n",
              "      gap: 12px;\n",
              "    }\n",
              "\n",
              "    .colab-df-convert {\n",
              "      background-color: #E8F0FE;\n",
              "      border: none;\n",
              "      border-radius: 50%;\n",
              "      cursor: pointer;\n",
              "      display: none;\n",
              "      fill: #1967D2;\n",
              "      height: 32px;\n",
              "      padding: 0 0 0 0;\n",
              "      width: 32px;\n",
              "    }\n",
              "\n",
              "    .colab-df-convert:hover {\n",
              "      background-color: #E2EBFA;\n",
              "      box-shadow: 0px 1px 2px rgba(60, 64, 67, 0.3), 0px 1px 3px 1px rgba(60, 64, 67, 0.15);\n",
              "      fill: #174EA6;\n",
              "    }\n",
              "\n",
              "    .colab-df-buttons div {\n",
              "      margin-bottom: 4px;\n",
              "    }\n",
              "\n",
              "    [theme=dark] .colab-df-convert {\n",
              "      background-color: #3B4455;\n",
              "      fill: #D2E3FC;\n",
              "    }\n",
              "\n",
              "    [theme=dark] .colab-df-convert:hover {\n",
              "      background-color: #434B5C;\n",
              "      box-shadow: 0px 1px 3px 1px rgba(0, 0, 0, 0.15);\n",
              "      filter: drop-shadow(0px 1px 2px rgba(0, 0, 0, 0.3));\n",
              "      fill: #FFFFFF;\n",
              "    }\n",
              "  </style>\n",
              "\n",
              "    <script>\n",
              "      const buttonEl =\n",
              "        document.querySelector('#df-5c654afe-9a1b-409d-b681-a429b27e53e1 button.colab-df-convert');\n",
              "      buttonEl.style.display =\n",
              "        google.colab.kernel.accessAllowed ? 'block' : 'none';\n",
              "\n",
              "      async function convertToInteractive(key) {\n",
              "        const element = document.querySelector('#df-5c654afe-9a1b-409d-b681-a429b27e53e1');\n",
              "        const dataTable =\n",
              "          await google.colab.kernel.invokeFunction('convertToInteractive',\n",
              "                                                    [key], {});\n",
              "        if (!dataTable) return;\n",
              "\n",
              "        const docLinkHtml = 'Like what you see? Visit the ' +\n",
              "          '<a target=\"_blank\" href=https://colab.research.google.com/notebooks/data_table.ipynb>data table notebook</a>'\n",
              "          + ' to learn more about interactive tables.';\n",
              "        element.innerHTML = '';\n",
              "        dataTable['output_type'] = 'display_data';\n",
              "        await google.colab.output.renderOutput(dataTable, element);\n",
              "        const docLink = document.createElement('div');\n",
              "        docLink.innerHTML = docLinkHtml;\n",
              "        element.appendChild(docLink);\n",
              "      }\n",
              "    </script>\n",
              "  </div>\n",
              "\n",
              "\n",
              "    <div id=\"df-43f02be5-ee35-4686-ab44-fe8cca4ce13f\">\n",
              "      <button class=\"colab-df-quickchart\" onclick=\"quickchart('df-43f02be5-ee35-4686-ab44-fe8cca4ce13f')\"\n",
              "                title=\"Suggest charts\"\n",
              "                style=\"display:none;\">\n",
              "\n",
              "<svg xmlns=\"http://www.w3.org/2000/svg\" height=\"24px\"viewBox=\"0 0 24 24\"\n",
              "     width=\"24px\">\n",
              "    <g>\n",
              "        <path d=\"M19 3H5c-1.1 0-2 .9-2 2v14c0 1.1.9 2 2 2h14c1.1 0 2-.9 2-2V5c0-1.1-.9-2-2-2zM9 17H7v-7h2v7zm4 0h-2V7h2v10zm4 0h-2v-4h2v4z\"/>\n",
              "    </g>\n",
              "</svg>\n",
              "      </button>\n",
              "\n",
              "<style>\n",
              "  .colab-df-quickchart {\n",
              "      --bg-color: #E8F0FE;\n",
              "      --fill-color: #1967D2;\n",
              "      --hover-bg-color: #E2EBFA;\n",
              "      --hover-fill-color: #174EA6;\n",
              "      --disabled-fill-color: #AAA;\n",
              "      --disabled-bg-color: #DDD;\n",
              "  }\n",
              "\n",
              "  [theme=dark] .colab-df-quickchart {\n",
              "      --bg-color: #3B4455;\n",
              "      --fill-color: #D2E3FC;\n",
              "      --hover-bg-color: #434B5C;\n",
              "      --hover-fill-color: #FFFFFF;\n",
              "      --disabled-bg-color: #3B4455;\n",
              "      --disabled-fill-color: #666;\n",
              "  }\n",
              "\n",
              "  .colab-df-quickchart {\n",
              "    background-color: var(--bg-color);\n",
              "    border: none;\n",
              "    border-radius: 50%;\n",
              "    cursor: pointer;\n",
              "    display: none;\n",
              "    fill: var(--fill-color);\n",
              "    height: 32px;\n",
              "    padding: 0;\n",
              "    width: 32px;\n",
              "  }\n",
              "\n",
              "  .colab-df-quickchart:hover {\n",
              "    background-color: var(--hover-bg-color);\n",
              "    box-shadow: 0 1px 2px rgba(60, 64, 67, 0.3), 0 1px 3px 1px rgba(60, 64, 67, 0.15);\n",
              "    fill: var(--button-hover-fill-color);\n",
              "  }\n",
              "\n",
              "  .colab-df-quickchart-complete:disabled,\n",
              "  .colab-df-quickchart-complete:disabled:hover {\n",
              "    background-color: var(--disabled-bg-color);\n",
              "    fill: var(--disabled-fill-color);\n",
              "    box-shadow: none;\n",
              "  }\n",
              "\n",
              "  .colab-df-spinner {\n",
              "    border: 2px solid var(--fill-color);\n",
              "    border-color: transparent;\n",
              "    border-bottom-color: var(--fill-color);\n",
              "    animation:\n",
              "      spin 1s steps(1) infinite;\n",
              "  }\n",
              "\n",
              "  @keyframes spin {\n",
              "    0% {\n",
              "      border-color: transparent;\n",
              "      border-bottom-color: var(--fill-color);\n",
              "      border-left-color: var(--fill-color);\n",
              "    }\n",
              "    20% {\n",
              "      border-color: transparent;\n",
              "      border-left-color: var(--fill-color);\n",
              "      border-top-color: var(--fill-color);\n",
              "    }\n",
              "    30% {\n",
              "      border-color: transparent;\n",
              "      border-left-color: var(--fill-color);\n",
              "      border-top-color: var(--fill-color);\n",
              "      border-right-color: var(--fill-color);\n",
              "    }\n",
              "    40% {\n",
              "      border-color: transparent;\n",
              "      border-right-color: var(--fill-color);\n",
              "      border-top-color: var(--fill-color);\n",
              "    }\n",
              "    60% {\n",
              "      border-color: transparent;\n",
              "      border-right-color: var(--fill-color);\n",
              "    }\n",
              "    80% {\n",
              "      border-color: transparent;\n",
              "      border-right-color: var(--fill-color);\n",
              "      border-bottom-color: var(--fill-color);\n",
              "    }\n",
              "    90% {\n",
              "      border-color: transparent;\n",
              "      border-bottom-color: var(--fill-color);\n",
              "    }\n",
              "  }\n",
              "</style>\n",
              "\n",
              "      <script>\n",
              "        async function quickchart(key) {\n",
              "          const quickchartButtonEl =\n",
              "            document.querySelector('#' + key + ' button');\n",
              "          quickchartButtonEl.disabled = true;  // To prevent multiple clicks.\n",
              "          quickchartButtonEl.classList.add('colab-df-spinner');\n",
              "          try {\n",
              "            const charts = await google.colab.kernel.invokeFunction(\n",
              "                'suggestCharts', [key], {});\n",
              "          } catch (error) {\n",
              "            console.error('Error during call to suggestCharts:', error);\n",
              "          }\n",
              "          quickchartButtonEl.classList.remove('colab-df-spinner');\n",
              "          quickchartButtonEl.classList.add('colab-df-quickchart-complete');\n",
              "        }\n",
              "        (() => {\n",
              "          let quickchartButtonEl =\n",
              "            document.querySelector('#df-43f02be5-ee35-4686-ab44-fe8cca4ce13f button');\n",
              "          quickchartButtonEl.style.display =\n",
              "            google.colab.kernel.accessAllowed ? 'block' : 'none';\n",
              "        })();\n",
              "      </script>\n",
              "    </div>\n",
              "\n",
              "    </div>\n",
              "  </div>\n"
            ],
            "application/vnd.google.colaboratory.intrinsic+json": {
              "type": "dataframe",
              "variable_name": "df",
              "summary": "{\n  \"name\": \"df\",\n  \"rows\": 42,\n  \"fields\": [\n    {\n      \"column\": \"Year\",\n      \"properties\": {\n        \"dtype\": \"number\",\n        \"std\": 18,\n        \"min\": 1945,\n        \"max\": 2018,\n        \"num_unique_values\": 30,\n        \"samples\": [\n          2012,\n          1997,\n          2008\n        ],\n        \"semantic_type\": \"\",\n        \"description\": \"\"\n      }\n    },\n    {\n      \"column\": \"Decade\",\n      \"properties\": {\n        \"dtype\": \"category\",\n        \"num_unique_values\": 8,\n        \"samples\": [\n          \"1950s\",\n          \"1990s\",\n          \"1940s\"\n        ],\n        \"semantic_type\": \"\",\n        \"description\": \"\"\n      }\n    },\n    {\n      \"column\": \"Milestone Title\",\n      \"properties\": {\n        \"dtype\": \"string\",\n        \"num_unique_values\": 42,\n        \"samples\": [\n          \"Facebook\",\n          \"Guido van Rossum / Python \",\n          \"Edward Tufty / Data Viz concepts\"\n        ],\n        \"semantic_type\": \"\",\n        \"description\": \"\"\n      }\n    },\n    {\n      \"column\": \"Milestone Event\",\n      \"properties\": {\n        \"dtype\": \"string\",\n        \"num_unique_values\": 42,\n        \"samples\": [\n          \"facebook\",\n          \"Guido van Rossum creates the Python programming language\",\n          \"Edward Tufty writes the book \\\"The Visual Display of Quantitative Information \\\"\"\n        ],\n        \"semantic_type\": \"\",\n        \"description\": \"\"\n      }\n    },\n    {\n      \"column\": \"Why Important\",\n      \"properties\": {\n        \"dtype\": \"string\",\n        \"num_unique_values\": 42,\n        \"samples\": [\n          \"The Social Network influences people and data are communicating\",\n          \"Programming language that has versility beyond specific usage like back end processing or front end User Interface (UI)\",\n          \"Defines ways to communicate with data beyond tables and numbers\"\n        ],\n        \"semantic_type\": \"\",\n        \"description\": \"\"\n      }\n    },\n    {\n      \"column\": \"Reference\",\n      \"properties\": {\n        \"dtype\": \"string\",\n        \"num_unique_values\": 37,\n        \"samples\": [\n          \"https://en.wikipedia.org/wiki/NoSQL\",\n          \"https://archive.org/details/buildingdataware00inmo_1\",\n          \"https://www.seas.upenn.edu/~zives/03f/cis550/codd.pdf\"\n        ],\n        \"semantic_type\": \"\",\n        \"description\": \"\"\n      }\n    },\n    {\n      \"column\": \"People Process or Technology Tag\",\n      \"properties\": {\n        \"dtype\": \"category\",\n        \"num_unique_values\": 3,\n        \"samples\": [\n          \"Technology\",\n          \"People\",\n          \"Process\"\n        ],\n        \"semantic_type\": \"\",\n        \"description\": \"\"\n      }\n    }\n  ]\n}"
            }
          },
          "metadata": {},
          "execution_count": 140
        }
      ]
    },
    {
      "cell_type": "code",
      "source": [
        "df.describe()"
      ],
      "metadata": {
        "colab": {
          "base_uri": "https://localhost:8080/",
          "height": 300
        },
        "id": "2tWbKZitFBvd",
        "outputId": "3b78ee1c-c8b7-49c2-8f23-b4a9a318b5b7"
      },
      "execution_count": 139,
      "outputs": [
        {
          "output_type": "execute_result",
          "data": {
            "text/plain": [
              "              Year\n",
              "count    42.000000\n",
              "mean   1993.833333\n",
              "std      18.876901\n",
              "min    1945.000000\n",
              "25%    1987.500000\n",
              "50%    1999.000000\n",
              "75%    2006.750000\n",
              "max    2018.000000"
            ],
            "text/html": [
              "\n",
              "  <div id=\"df-db289467-c4aa-47af-9717-59f204319a75\" class=\"colab-df-container\">\n",
              "    <div>\n",
              "<style scoped>\n",
              "    .dataframe tbody tr th:only-of-type {\n",
              "        vertical-align: middle;\n",
              "    }\n",
              "\n",
              "    .dataframe tbody tr th {\n",
              "        vertical-align: top;\n",
              "    }\n",
              "\n",
              "    .dataframe thead th {\n",
              "        text-align: right;\n",
              "    }\n",
              "</style>\n",
              "<table border=\"1\" class=\"dataframe\">\n",
              "  <thead>\n",
              "    <tr style=\"text-align: right;\">\n",
              "      <th></th>\n",
              "      <th>Year</th>\n",
              "    </tr>\n",
              "  </thead>\n",
              "  <tbody>\n",
              "    <tr>\n",
              "      <th>count</th>\n",
              "      <td>42.000000</td>\n",
              "    </tr>\n",
              "    <tr>\n",
              "      <th>mean</th>\n",
              "      <td>1993.833333</td>\n",
              "    </tr>\n",
              "    <tr>\n",
              "      <th>std</th>\n",
              "      <td>18.876901</td>\n",
              "    </tr>\n",
              "    <tr>\n",
              "      <th>min</th>\n",
              "      <td>1945.000000</td>\n",
              "    </tr>\n",
              "    <tr>\n",
              "      <th>25%</th>\n",
              "      <td>1987.500000</td>\n",
              "    </tr>\n",
              "    <tr>\n",
              "      <th>50%</th>\n",
              "      <td>1999.000000</td>\n",
              "    </tr>\n",
              "    <tr>\n",
              "      <th>75%</th>\n",
              "      <td>2006.750000</td>\n",
              "    </tr>\n",
              "    <tr>\n",
              "      <th>max</th>\n",
              "      <td>2018.000000</td>\n",
              "    </tr>\n",
              "  </tbody>\n",
              "</table>\n",
              "</div>\n",
              "    <div class=\"colab-df-buttons\">\n",
              "\n",
              "  <div class=\"colab-df-container\">\n",
              "    <button class=\"colab-df-convert\" onclick=\"convertToInteractive('df-db289467-c4aa-47af-9717-59f204319a75')\"\n",
              "            title=\"Convert this dataframe to an interactive table.\"\n",
              "            style=\"display:none;\">\n",
              "\n",
              "  <svg xmlns=\"http://www.w3.org/2000/svg\" height=\"24px\" viewBox=\"0 -960 960 960\">\n",
              "    <path d=\"M120-120v-720h720v720H120Zm60-500h600v-160H180v160Zm220 220h160v-160H400v160Zm0 220h160v-160H400v160ZM180-400h160v-160H180v160Zm440 0h160v-160H620v160ZM180-180h160v-160H180v160Zm440 0h160v-160H620v160Z\"/>\n",
              "  </svg>\n",
              "    </button>\n",
              "\n",
              "  <style>\n",
              "    .colab-df-container {\n",
              "      display:flex;\n",
              "      gap: 12px;\n",
              "    }\n",
              "\n",
              "    .colab-df-convert {\n",
              "      background-color: #E8F0FE;\n",
              "      border: none;\n",
              "      border-radius: 50%;\n",
              "      cursor: pointer;\n",
              "      display: none;\n",
              "      fill: #1967D2;\n",
              "      height: 32px;\n",
              "      padding: 0 0 0 0;\n",
              "      width: 32px;\n",
              "    }\n",
              "\n",
              "    .colab-df-convert:hover {\n",
              "      background-color: #E2EBFA;\n",
              "      box-shadow: 0px 1px 2px rgba(60, 64, 67, 0.3), 0px 1px 3px 1px rgba(60, 64, 67, 0.15);\n",
              "      fill: #174EA6;\n",
              "    }\n",
              "\n",
              "    .colab-df-buttons div {\n",
              "      margin-bottom: 4px;\n",
              "    }\n",
              "\n",
              "    [theme=dark] .colab-df-convert {\n",
              "      background-color: #3B4455;\n",
              "      fill: #D2E3FC;\n",
              "    }\n",
              "\n",
              "    [theme=dark] .colab-df-convert:hover {\n",
              "      background-color: #434B5C;\n",
              "      box-shadow: 0px 1px 3px 1px rgba(0, 0, 0, 0.15);\n",
              "      filter: drop-shadow(0px 1px 2px rgba(0, 0, 0, 0.3));\n",
              "      fill: #FFFFFF;\n",
              "    }\n",
              "  </style>\n",
              "\n",
              "    <script>\n",
              "      const buttonEl =\n",
              "        document.querySelector('#df-db289467-c4aa-47af-9717-59f204319a75 button.colab-df-convert');\n",
              "      buttonEl.style.display =\n",
              "        google.colab.kernel.accessAllowed ? 'block' : 'none';\n",
              "\n",
              "      async function convertToInteractive(key) {\n",
              "        const element = document.querySelector('#df-db289467-c4aa-47af-9717-59f204319a75');\n",
              "        const dataTable =\n",
              "          await google.colab.kernel.invokeFunction('convertToInteractive',\n",
              "                                                    [key], {});\n",
              "        if (!dataTable) return;\n",
              "\n",
              "        const docLinkHtml = 'Like what you see? Visit the ' +\n",
              "          '<a target=\"_blank\" href=https://colab.research.google.com/notebooks/data_table.ipynb>data table notebook</a>'\n",
              "          + ' to learn more about interactive tables.';\n",
              "        element.innerHTML = '';\n",
              "        dataTable['output_type'] = 'display_data';\n",
              "        await google.colab.output.renderOutput(dataTable, element);\n",
              "        const docLink = document.createElement('div');\n",
              "        docLink.innerHTML = docLinkHtml;\n",
              "        element.appendChild(docLink);\n",
              "      }\n",
              "    </script>\n",
              "  </div>\n",
              "\n",
              "\n",
              "    <div id=\"df-5e198869-75c8-4520-a259-c16f6846c0b8\">\n",
              "      <button class=\"colab-df-quickchart\" onclick=\"quickchart('df-5e198869-75c8-4520-a259-c16f6846c0b8')\"\n",
              "                title=\"Suggest charts\"\n",
              "                style=\"display:none;\">\n",
              "\n",
              "<svg xmlns=\"http://www.w3.org/2000/svg\" height=\"24px\"viewBox=\"0 0 24 24\"\n",
              "     width=\"24px\">\n",
              "    <g>\n",
              "        <path d=\"M19 3H5c-1.1 0-2 .9-2 2v14c0 1.1.9 2 2 2h14c1.1 0 2-.9 2-2V5c0-1.1-.9-2-2-2zM9 17H7v-7h2v7zm4 0h-2V7h2v10zm4 0h-2v-4h2v4z\"/>\n",
              "    </g>\n",
              "</svg>\n",
              "      </button>\n",
              "\n",
              "<style>\n",
              "  .colab-df-quickchart {\n",
              "      --bg-color: #E8F0FE;\n",
              "      --fill-color: #1967D2;\n",
              "      --hover-bg-color: #E2EBFA;\n",
              "      --hover-fill-color: #174EA6;\n",
              "      --disabled-fill-color: #AAA;\n",
              "      --disabled-bg-color: #DDD;\n",
              "  }\n",
              "\n",
              "  [theme=dark] .colab-df-quickchart {\n",
              "      --bg-color: #3B4455;\n",
              "      --fill-color: #D2E3FC;\n",
              "      --hover-bg-color: #434B5C;\n",
              "      --hover-fill-color: #FFFFFF;\n",
              "      --disabled-bg-color: #3B4455;\n",
              "      --disabled-fill-color: #666;\n",
              "  }\n",
              "\n",
              "  .colab-df-quickchart {\n",
              "    background-color: var(--bg-color);\n",
              "    border: none;\n",
              "    border-radius: 50%;\n",
              "    cursor: pointer;\n",
              "    display: none;\n",
              "    fill: var(--fill-color);\n",
              "    height: 32px;\n",
              "    padding: 0;\n",
              "    width: 32px;\n",
              "  }\n",
              "\n",
              "  .colab-df-quickchart:hover {\n",
              "    background-color: var(--hover-bg-color);\n",
              "    box-shadow: 0 1px 2px rgba(60, 64, 67, 0.3), 0 1px 3px 1px rgba(60, 64, 67, 0.15);\n",
              "    fill: var(--button-hover-fill-color);\n",
              "  }\n",
              "\n",
              "  .colab-df-quickchart-complete:disabled,\n",
              "  .colab-df-quickchart-complete:disabled:hover {\n",
              "    background-color: var(--disabled-bg-color);\n",
              "    fill: var(--disabled-fill-color);\n",
              "    box-shadow: none;\n",
              "  }\n",
              "\n",
              "  .colab-df-spinner {\n",
              "    border: 2px solid var(--fill-color);\n",
              "    border-color: transparent;\n",
              "    border-bottom-color: var(--fill-color);\n",
              "    animation:\n",
              "      spin 1s steps(1) infinite;\n",
              "  }\n",
              "\n",
              "  @keyframes spin {\n",
              "    0% {\n",
              "      border-color: transparent;\n",
              "      border-bottom-color: var(--fill-color);\n",
              "      border-left-color: var(--fill-color);\n",
              "    }\n",
              "    20% {\n",
              "      border-color: transparent;\n",
              "      border-left-color: var(--fill-color);\n",
              "      border-top-color: var(--fill-color);\n",
              "    }\n",
              "    30% {\n",
              "      border-color: transparent;\n",
              "      border-left-color: var(--fill-color);\n",
              "      border-top-color: var(--fill-color);\n",
              "      border-right-color: var(--fill-color);\n",
              "    }\n",
              "    40% {\n",
              "      border-color: transparent;\n",
              "      border-right-color: var(--fill-color);\n",
              "      border-top-color: var(--fill-color);\n",
              "    }\n",
              "    60% {\n",
              "      border-color: transparent;\n",
              "      border-right-color: var(--fill-color);\n",
              "    }\n",
              "    80% {\n",
              "      border-color: transparent;\n",
              "      border-right-color: var(--fill-color);\n",
              "      border-bottom-color: var(--fill-color);\n",
              "    }\n",
              "    90% {\n",
              "      border-color: transparent;\n",
              "      border-bottom-color: var(--fill-color);\n",
              "    }\n",
              "  }\n",
              "</style>\n",
              "\n",
              "      <script>\n",
              "        async function quickchart(key) {\n",
              "          const quickchartButtonEl =\n",
              "            document.querySelector('#' + key + ' button');\n",
              "          quickchartButtonEl.disabled = true;  // To prevent multiple clicks.\n",
              "          quickchartButtonEl.classList.add('colab-df-spinner');\n",
              "          try {\n",
              "            const charts = await google.colab.kernel.invokeFunction(\n",
              "                'suggestCharts', [key], {});\n",
              "          } catch (error) {\n",
              "            console.error('Error during call to suggestCharts:', error);\n",
              "          }\n",
              "          quickchartButtonEl.classList.remove('colab-df-spinner');\n",
              "          quickchartButtonEl.classList.add('colab-df-quickchart-complete');\n",
              "        }\n",
              "        (() => {\n",
              "          let quickchartButtonEl =\n",
              "            document.querySelector('#df-5e198869-75c8-4520-a259-c16f6846c0b8 button');\n",
              "          quickchartButtonEl.style.display =\n",
              "            google.colab.kernel.accessAllowed ? 'block' : 'none';\n",
              "        })();\n",
              "      </script>\n",
              "    </div>\n",
              "\n",
              "    </div>\n",
              "  </div>\n"
            ],
            "application/vnd.google.colaboratory.intrinsic+json": {
              "type": "dataframe",
              "summary": "{\n  \"name\": \"df\",\n  \"rows\": 8,\n  \"fields\": [\n    {\n      \"column\": \"Year\",\n      \"properties\": {\n        \"dtype\": \"number\",\n        \"std\": 908.149436382255,\n        \"min\": 18.8769011856815,\n        \"max\": 2018.0,\n        \"num_unique_values\": 8,\n        \"samples\": [\n          1993.8333333333333,\n          1999.0,\n          42.0\n        ],\n        \"semantic_type\": \"\",\n        \"description\": \"\"\n      }\n    }\n  ]\n}"
            }
          },
          "metadata": {},
          "execution_count": 139
        }
      ]
    }
  ]
}